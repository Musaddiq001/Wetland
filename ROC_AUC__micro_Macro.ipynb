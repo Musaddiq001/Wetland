{
  "nbformat": 4,
  "nbformat_minor": 0,
  "metadata": {
    "colab": {
      "provenance": []
    },
    "kernelspec": {
      "name": "python3",
      "display_name": "Python 3"
    },
    "language_info": {
      "name": "python"
    }
  },
  "cells": [
    {
      "cell_type": "code",
      "source": [
        "from google.colab import drive\n",
        "drive.mount('/content/drive')"
      ],
      "metadata": {
        "colab": {
          "base_uri": "https://localhost:8080/"
        },
        "id": "-OkWG4IfBVJq",
        "outputId": "b638f878-3842-4d3f-b67e-b4adae36620f"
      },
      "execution_count": null,
      "outputs": [
        {
          "output_type": "stream",
          "name": "stdout",
          "text": [
            "Drive already mounted at /content/drive; to attempt to forcibly remount, call drive.mount(\"/content/drive\", force_remount=True).\n"
          ]
        }
      ]
    },
    {
      "cell_type": "code",
      "execution_count": null,
      "metadata": {
        "id": "Fw5d8kh9QD3G"
      },
      "outputs": [],
      "source": [
        "import numpy as np\n",
        "import matplotlib.pyplot as plt\n",
        "import pandas as pd\n",
        "import seaborn as sns\n",
        "from sklearn.metrics import classification_report\n",
        "from sklearn.metrics import accuracy_score\n",
        "from sklearn.metrics import roc_curve, roc_auc_score\n",
        "from sklearn.multiclass import OneVsRestClassifier\n",
        "from sklearn.metrics import roc_curve, auc\n",
        "from sklearn.preprocessing import label_binarize\n",
        "from sklearn.model_selection import train_test_split\n",
        "import numpy as np\n",
        "import matplotlib.pyplot as plt\n",
        "from itertools import cycle\n",
        "from sklearn import svm, datasets\n",
        "from sklearn.metrics import roc_curve, auc\n",
        "from sklearn.model_selection import train_test_split\n",
        "from sklearn.preprocessing import label_binarize\n",
        "from sklearn.multiclass import OneVsRestClassifier\n",
        "from sklearn.metrics import roc_auc_score"
      ]
    },
    {
      "cell_type": "code",
      "source": [
        "#dataset = pd.read_csv('/content/drive/MyDrive/Wetland/T500.csv')\n",
        "dataset = pd.read_csv('/content/drive/MyDrive/Wetland/Wetland Final Dataset/W3.csv')"
      ],
      "metadata": {
        "id": "PiXdbclgQMll"
      },
      "execution_count": null,
      "outputs": []
    },
    {
      "cell_type": "code",
      "source": [
        "dataset.info()"
      ],
      "metadata": {
        "colab": {
          "base_uri": "https://localhost:8080/"
        },
        "id": "wQS8QSOPP0qD",
        "outputId": "7aded99d-1094-4581-fe8d-12997c2a429b"
      },
      "execution_count": null,
      "outputs": [
        {
          "output_type": "stream",
          "name": "stdout",
          "text": [
            "<class 'pandas.core.frame.DataFrame'>\n",
            "RangeIndex: 926 entries, 0 to 925\n",
            "Data columns (total 16 columns):\n",
            " #   Column  Non-Null Count  Dtype  \n",
            "---  ------  --------------  -----  \n",
            " 0   Sl      926 non-null    int64  \n",
            " 1   VZ      926 non-null    int64  \n",
            " 2   GW      926 non-null    int64  \n",
            " 3   M       926 non-null    float64\n",
            " 4   R       926 non-null    float64\n",
            " 5   C       926 non-null    float64\n",
            " 6   B       926 non-null    float64\n",
            " 7   E       926 non-null    int64  \n",
            " 8   BA      926 non-null    float64\n",
            " 9   A       926 non-null    float64\n",
            " 10  TWI     926 non-null    float64\n",
            " 11  TPI     926 non-null    float64\n",
            " 12  CR      926 non-null    float64\n",
            " 13  AS      926 non-null    float64\n",
            " 14  SO      926 non-null    int64  \n",
            " 15  L       926 non-null    int64  \n",
            "dtypes: float64(10), int64(6)\n",
            "memory usage: 115.9 KB\n"
          ]
        }
      ]
    },
    {
      "cell_type": "code",
      "source": [
        "dataset.head(253)"
      ],
      "metadata": {
        "colab": {
          "base_uri": "https://localhost:8080/",
          "height": 424
        },
        "id": "-f-VN9HfUwlT",
        "outputId": "7683bbdc-e520-482b-908c-6ab0fd291a73"
      },
      "execution_count": null,
      "outputs": [
        {
          "output_type": "execute_result",
          "data": {
            "text/plain": [
              "       Sl  VZ  GW         M         R         C         B   E          BA  \\\n",
              "0      63   1   6  0.029163  0.000000  0.000888  0.014613   7   60.000000   \n",
              "1      72   1   6  0.024442  0.000000  0.001600  0.014356  10  108.166542   \n",
              "2      80   1   6  0.023546  0.000868  0.000888  0.015250   7   30.000000   \n",
              "3      96   1   2  0.025498  0.000614  0.004187  0.014212   6   94.868332   \n",
              "4     106   1   6  0.022431  0.001840  0.003106  0.017491   5  120.000000   \n",
              "..    ...  ..  ..       ...       ...       ...       ...  ..         ...   \n",
              "248  1472   2   2  0.032422  0.014549  0.004633  0.047540   1   84.852814   \n",
              "249  1490   2   2  0.016279  0.005555  0.000444  0.023839   2  169.705627   \n",
              "250  1498   2   2  0.012804  0.006135  0.005648  0.018993   2  201.246124   \n",
              "251  1506   2   2  0.015757  0.007008  0.013321  0.017709   2  150.000000   \n",
              "252  1511   2   3  0.019295  0.008676  0.009414  0.020959   2  152.970581   \n",
              "\n",
              "              A        TWI       TPI        CR          AS  SO  L  \n",
              "0      0.000000   7.252788  0.222222  0.111111  281.309936   2  3  \n",
              "1      0.000000   7.811803 -0.666667 -0.333333  300.963745   2  4  \n",
              "2     30.000000  10.674983 -0.666667 -0.222222  341.565064   2  4  \n",
              "3     67.082039   7.436651  0.555555  0.222222  315.000000   2  5  \n",
              "4    174.928558  12.749857  0.000000  0.000000  315.000000   2  4  \n",
              "..          ...        ...       ...       ...         ...  .. ..  \n",
              "248  189.736664  14.200773  0.000000  0.000000   -1.000000   2  6  \n",
              "249  108.166542  11.407565  0.000000  0.000000   -1.000000   2  4  \n",
              "250  182.482880  13.199325  0.000000  0.000000   -1.000000   2  4  \n",
              "251  123.693169  16.048746  0.000000  0.000000   -1.000000   2  4  \n",
              "252  150.000000  16.098913  0.000000  0.000000   -1.000000   2  4  \n",
              "\n",
              "[253 rows x 16 columns]"
            ],
            "text/html": [
              "\n",
              "  <div id=\"df-0db13ec5-bdc4-487b-b017-37cfb63d0b6e\">\n",
              "    <div class=\"colab-df-container\">\n",
              "      <div>\n",
              "<style scoped>\n",
              "    .dataframe tbody tr th:only-of-type {\n",
              "        vertical-align: middle;\n",
              "    }\n",
              "\n",
              "    .dataframe tbody tr th {\n",
              "        vertical-align: top;\n",
              "    }\n",
              "\n",
              "    .dataframe thead th {\n",
              "        text-align: right;\n",
              "    }\n",
              "</style>\n",
              "<table border=\"1\" class=\"dataframe\">\n",
              "  <thead>\n",
              "    <tr style=\"text-align: right;\">\n",
              "      <th></th>\n",
              "      <th>Sl</th>\n",
              "      <th>VZ</th>\n",
              "      <th>GW</th>\n",
              "      <th>M</th>\n",
              "      <th>R</th>\n",
              "      <th>C</th>\n",
              "      <th>B</th>\n",
              "      <th>E</th>\n",
              "      <th>BA</th>\n",
              "      <th>A</th>\n",
              "      <th>TWI</th>\n",
              "      <th>TPI</th>\n",
              "      <th>CR</th>\n",
              "      <th>AS</th>\n",
              "      <th>SO</th>\n",
              "      <th>L</th>\n",
              "    </tr>\n",
              "  </thead>\n",
              "  <tbody>\n",
              "    <tr>\n",
              "      <th>0</th>\n",
              "      <td>63</td>\n",
              "      <td>1</td>\n",
              "      <td>6</td>\n",
              "      <td>0.029163</td>\n",
              "      <td>0.000000</td>\n",
              "      <td>0.000888</td>\n",
              "      <td>0.014613</td>\n",
              "      <td>7</td>\n",
              "      <td>60.000000</td>\n",
              "      <td>0.000000</td>\n",
              "      <td>7.252788</td>\n",
              "      <td>0.222222</td>\n",
              "      <td>0.111111</td>\n",
              "      <td>281.309936</td>\n",
              "      <td>2</td>\n",
              "      <td>3</td>\n",
              "    </tr>\n",
              "    <tr>\n",
              "      <th>1</th>\n",
              "      <td>72</td>\n",
              "      <td>1</td>\n",
              "      <td>6</td>\n",
              "      <td>0.024442</td>\n",
              "      <td>0.000000</td>\n",
              "      <td>0.001600</td>\n",
              "      <td>0.014356</td>\n",
              "      <td>10</td>\n",
              "      <td>108.166542</td>\n",
              "      <td>0.000000</td>\n",
              "      <td>7.811803</td>\n",
              "      <td>-0.666667</td>\n",
              "      <td>-0.333333</td>\n",
              "      <td>300.963745</td>\n",
              "      <td>2</td>\n",
              "      <td>4</td>\n",
              "    </tr>\n",
              "    <tr>\n",
              "      <th>2</th>\n",
              "      <td>80</td>\n",
              "      <td>1</td>\n",
              "      <td>6</td>\n",
              "      <td>0.023546</td>\n",
              "      <td>0.000868</td>\n",
              "      <td>0.000888</td>\n",
              "      <td>0.015250</td>\n",
              "      <td>7</td>\n",
              "      <td>30.000000</td>\n",
              "      <td>30.000000</td>\n",
              "      <td>10.674983</td>\n",
              "      <td>-0.666667</td>\n",
              "      <td>-0.222222</td>\n",
              "      <td>341.565064</td>\n",
              "      <td>2</td>\n",
              "      <td>4</td>\n",
              "    </tr>\n",
              "    <tr>\n",
              "      <th>3</th>\n",
              "      <td>96</td>\n",
              "      <td>1</td>\n",
              "      <td>2</td>\n",
              "      <td>0.025498</td>\n",
              "      <td>0.000614</td>\n",
              "      <td>0.004187</td>\n",
              "      <td>0.014212</td>\n",
              "      <td>6</td>\n",
              "      <td>94.868332</td>\n",
              "      <td>67.082039</td>\n",
              "      <td>7.436651</td>\n",
              "      <td>0.555555</td>\n",
              "      <td>0.222222</td>\n",
              "      <td>315.000000</td>\n",
              "      <td>2</td>\n",
              "      <td>5</td>\n",
              "    </tr>\n",
              "    <tr>\n",
              "      <th>4</th>\n",
              "      <td>106</td>\n",
              "      <td>1</td>\n",
              "      <td>6</td>\n",
              "      <td>0.022431</td>\n",
              "      <td>0.001840</td>\n",
              "      <td>0.003106</td>\n",
              "      <td>0.017491</td>\n",
              "      <td>5</td>\n",
              "      <td>120.000000</td>\n",
              "      <td>174.928558</td>\n",
              "      <td>12.749857</td>\n",
              "      <td>0.000000</td>\n",
              "      <td>0.000000</td>\n",
              "      <td>315.000000</td>\n",
              "      <td>2</td>\n",
              "      <td>4</td>\n",
              "    </tr>\n",
              "    <tr>\n",
              "      <th>...</th>\n",
              "      <td>...</td>\n",
              "      <td>...</td>\n",
              "      <td>...</td>\n",
              "      <td>...</td>\n",
              "      <td>...</td>\n",
              "      <td>...</td>\n",
              "      <td>...</td>\n",
              "      <td>...</td>\n",
              "      <td>...</td>\n",
              "      <td>...</td>\n",
              "      <td>...</td>\n",
              "      <td>...</td>\n",
              "      <td>...</td>\n",
              "      <td>...</td>\n",
              "      <td>...</td>\n",
              "      <td>...</td>\n",
              "    </tr>\n",
              "    <tr>\n",
              "      <th>248</th>\n",
              "      <td>1472</td>\n",
              "      <td>2</td>\n",
              "      <td>2</td>\n",
              "      <td>0.032422</td>\n",
              "      <td>0.014549</td>\n",
              "      <td>0.004633</td>\n",
              "      <td>0.047540</td>\n",
              "      <td>1</td>\n",
              "      <td>84.852814</td>\n",
              "      <td>189.736664</td>\n",
              "      <td>14.200773</td>\n",
              "      <td>0.000000</td>\n",
              "      <td>0.000000</td>\n",
              "      <td>-1.000000</td>\n",
              "      <td>2</td>\n",
              "      <td>6</td>\n",
              "    </tr>\n",
              "    <tr>\n",
              "      <th>249</th>\n",
              "      <td>1490</td>\n",
              "      <td>2</td>\n",
              "      <td>2</td>\n",
              "      <td>0.016279</td>\n",
              "      <td>0.005555</td>\n",
              "      <td>0.000444</td>\n",
              "      <td>0.023839</td>\n",
              "      <td>2</td>\n",
              "      <td>169.705627</td>\n",
              "      <td>108.166542</td>\n",
              "      <td>11.407565</td>\n",
              "      <td>0.000000</td>\n",
              "      <td>0.000000</td>\n",
              "      <td>-1.000000</td>\n",
              "      <td>2</td>\n",
              "      <td>4</td>\n",
              "    </tr>\n",
              "    <tr>\n",
              "      <th>250</th>\n",
              "      <td>1498</td>\n",
              "      <td>2</td>\n",
              "      <td>2</td>\n",
              "      <td>0.012804</td>\n",
              "      <td>0.006135</td>\n",
              "      <td>0.005648</td>\n",
              "      <td>0.018993</td>\n",
              "      <td>2</td>\n",
              "      <td>201.246124</td>\n",
              "      <td>182.482880</td>\n",
              "      <td>13.199325</td>\n",
              "      <td>0.000000</td>\n",
              "      <td>0.000000</td>\n",
              "      <td>-1.000000</td>\n",
              "      <td>2</td>\n",
              "      <td>4</td>\n",
              "    </tr>\n",
              "    <tr>\n",
              "      <th>251</th>\n",
              "      <td>1506</td>\n",
              "      <td>2</td>\n",
              "      <td>2</td>\n",
              "      <td>0.015757</td>\n",
              "      <td>0.007008</td>\n",
              "      <td>0.013321</td>\n",
              "      <td>0.017709</td>\n",
              "      <td>2</td>\n",
              "      <td>150.000000</td>\n",
              "      <td>123.693169</td>\n",
              "      <td>16.048746</td>\n",
              "      <td>0.000000</td>\n",
              "      <td>0.000000</td>\n",
              "      <td>-1.000000</td>\n",
              "      <td>2</td>\n",
              "      <td>4</td>\n",
              "    </tr>\n",
              "    <tr>\n",
              "      <th>252</th>\n",
              "      <td>1511</td>\n",
              "      <td>2</td>\n",
              "      <td>3</td>\n",
              "      <td>0.019295</td>\n",
              "      <td>0.008676</td>\n",
              "      <td>0.009414</td>\n",
              "      <td>0.020959</td>\n",
              "      <td>2</td>\n",
              "      <td>152.970581</td>\n",
              "      <td>150.000000</td>\n",
              "      <td>16.098913</td>\n",
              "      <td>0.000000</td>\n",
              "      <td>0.000000</td>\n",
              "      <td>-1.000000</td>\n",
              "      <td>2</td>\n",
              "      <td>4</td>\n",
              "    </tr>\n",
              "  </tbody>\n",
              "</table>\n",
              "<p>253 rows × 16 columns</p>\n",
              "</div>\n",
              "      <button class=\"colab-df-convert\" onclick=\"convertToInteractive('df-0db13ec5-bdc4-487b-b017-37cfb63d0b6e')\"\n",
              "              title=\"Convert this dataframe to an interactive table.\"\n",
              "              style=\"display:none;\">\n",
              "        \n",
              "  <svg xmlns=\"http://www.w3.org/2000/svg\" height=\"24px\"viewBox=\"0 0 24 24\"\n",
              "       width=\"24px\">\n",
              "    <path d=\"M0 0h24v24H0V0z\" fill=\"none\"/>\n",
              "    <path d=\"M18.56 5.44l.94 2.06.94-2.06 2.06-.94-2.06-.94-.94-2.06-.94 2.06-2.06.94zm-11 1L8.5 8.5l.94-2.06 2.06-.94-2.06-.94L8.5 2.5l-.94 2.06-2.06.94zm10 10l.94 2.06.94-2.06 2.06-.94-2.06-.94-.94-2.06-.94 2.06-2.06.94z\"/><path d=\"M17.41 7.96l-1.37-1.37c-.4-.4-.92-.59-1.43-.59-.52 0-1.04.2-1.43.59L10.3 9.45l-7.72 7.72c-.78.78-.78 2.05 0 2.83L4 21.41c.39.39.9.59 1.41.59.51 0 1.02-.2 1.41-.59l7.78-7.78 2.81-2.81c.8-.78.8-2.07 0-2.86zM5.41 20L4 18.59l7.72-7.72 1.47 1.35L5.41 20z\"/>\n",
              "  </svg>\n",
              "      </button>\n",
              "      \n",
              "  <style>\n",
              "    .colab-df-container {\n",
              "      display:flex;\n",
              "      flex-wrap:wrap;\n",
              "      gap: 12px;\n",
              "    }\n",
              "\n",
              "    .colab-df-convert {\n",
              "      background-color: #E8F0FE;\n",
              "      border: none;\n",
              "      border-radius: 50%;\n",
              "      cursor: pointer;\n",
              "      display: none;\n",
              "      fill: #1967D2;\n",
              "      height: 32px;\n",
              "      padding: 0 0 0 0;\n",
              "      width: 32px;\n",
              "    }\n",
              "\n",
              "    .colab-df-convert:hover {\n",
              "      background-color: #E2EBFA;\n",
              "      box-shadow: 0px 1px 2px rgba(60, 64, 67, 0.3), 0px 1px 3px 1px rgba(60, 64, 67, 0.15);\n",
              "      fill: #174EA6;\n",
              "    }\n",
              "\n",
              "    [theme=dark] .colab-df-convert {\n",
              "      background-color: #3B4455;\n",
              "      fill: #D2E3FC;\n",
              "    }\n",
              "\n",
              "    [theme=dark] .colab-df-convert:hover {\n",
              "      background-color: #434B5C;\n",
              "      box-shadow: 0px 1px 3px 1px rgba(0, 0, 0, 0.15);\n",
              "      filter: drop-shadow(0px 1px 2px rgba(0, 0, 0, 0.3));\n",
              "      fill: #FFFFFF;\n",
              "    }\n",
              "  </style>\n",
              "\n",
              "      <script>\n",
              "        const buttonEl =\n",
              "          document.querySelector('#df-0db13ec5-bdc4-487b-b017-37cfb63d0b6e button.colab-df-convert');\n",
              "        buttonEl.style.display =\n",
              "          google.colab.kernel.accessAllowed ? 'block' : 'none';\n",
              "\n",
              "        async function convertToInteractive(key) {\n",
              "          const element = document.querySelector('#df-0db13ec5-bdc4-487b-b017-37cfb63d0b6e');\n",
              "          const dataTable =\n",
              "            await google.colab.kernel.invokeFunction('convertToInteractive',\n",
              "                                                     [key], {});\n",
              "          if (!dataTable) return;\n",
              "\n",
              "          const docLinkHtml = 'Like what you see? Visit the ' +\n",
              "            '<a target=\"_blank\" href=https://colab.research.google.com/notebooks/data_table.ipynb>data table notebook</a>'\n",
              "            + ' to learn more about interactive tables.';\n",
              "          element.innerHTML = '';\n",
              "          dataTable['output_type'] = 'display_data';\n",
              "          await google.colab.output.renderOutput(dataTable, element);\n",
              "          const docLink = document.createElement('div');\n",
              "          docLink.innerHTML = docLinkHtml;\n",
              "          element.appendChild(docLink);\n",
              "        }\n",
              "      </script>\n",
              "    </div>\n",
              "  </div>\n",
              "  "
            ]
          },
          "metadata": {},
          "execution_count": 50
        }
      ]
    },
    {
      "cell_type": "code",
      "source": [
        "X = dataset.iloc[:,2:]\n",
        "y = dataset.VZ"
      ],
      "metadata": {
        "id": "nWVbwd91Qbow"
      },
      "execution_count": null,
      "outputs": []
    },
    {
      "cell_type": "code",
      "source": [
        "X.info()"
      ],
      "metadata": {
        "colab": {
          "base_uri": "https://localhost:8080/"
        },
        "id": "ECFfaJYoPwYE",
        "outputId": "4e826b60-78eb-4f03-e839-a20451a2a354"
      },
      "execution_count": null,
      "outputs": [
        {
          "output_type": "stream",
          "name": "stdout",
          "text": [
            "<class 'pandas.core.frame.DataFrame'>\n",
            "RangeIndex: 926 entries, 0 to 925\n",
            "Data columns (total 14 columns):\n",
            " #   Column  Non-Null Count  Dtype  \n",
            "---  ------  --------------  -----  \n",
            " 0   GW      926 non-null    int64  \n",
            " 1   M       926 non-null    float64\n",
            " 2   R       926 non-null    float64\n",
            " 3   C       926 non-null    float64\n",
            " 4   B       926 non-null    float64\n",
            " 5   E       926 non-null    int64  \n",
            " 6   BA      926 non-null    float64\n",
            " 7   A       926 non-null    float64\n",
            " 8   TWI     926 non-null    float64\n",
            " 9   TPI     926 non-null    float64\n",
            " 10  CR      926 non-null    float64\n",
            " 11  AS      926 non-null    float64\n",
            " 12  SO      926 non-null    int64  \n",
            " 13  L       926 non-null    int64  \n",
            "dtypes: float64(10), int64(4)\n",
            "memory usage: 101.4 KB\n"
          ]
        }
      ]
    },
    {
      "cell_type": "code",
      "source": [
        "dataset['VZ'].value_counts()"
      ],
      "metadata": {
        "colab": {
          "base_uri": "https://localhost:8080/"
        },
        "id": "ptpxjhPLTj8r",
        "outputId": "3fb8a310-d6ad-4a20-b1e1-b32f53704ea9"
      },
      "execution_count": null,
      "outputs": [
        {
          "output_type": "execute_result",
          "data": {
            "text/plain": [
              "1    198\n",
              "2    189\n",
              "3    184\n",
              "5    182\n",
              "4    173\n",
              "Name: VZ, dtype: int64"
            ]
          },
          "metadata": {},
          "execution_count": 53
        }
      ]
    },
    {
      "cell_type": "code",
      "source": [
        "y = label_binarize(y, classes=[1, 2, 3, 4, 5])\n",
        "n_classes = y.shape[1]"
      ],
      "metadata": {
        "id": "GzRrxdstQiVs"
      },
      "execution_count": null,
      "outputs": []
    },
    {
      "cell_type": "code",
      "source": [
        "y"
      ],
      "metadata": {
        "colab": {
          "base_uri": "https://localhost:8080/"
        },
        "id": "wXeq2aY0_1k5",
        "outputId": "0245be7c-f31f-49ad-f847-b82eda16a19f"
      },
      "execution_count": null,
      "outputs": [
        {
          "output_type": "execute_result",
          "data": {
            "text/plain": [
              "array([[1, 0, 0, 0, 0],\n",
              "       [1, 0, 0, 0, 0],\n",
              "       [1, 0, 0, 0, 0],\n",
              "       ...,\n",
              "       [0, 0, 0, 0, 1],\n",
              "       [0, 0, 0, 0, 1],\n",
              "       [0, 0, 0, 0, 1]])"
            ]
          },
          "metadata": {},
          "execution_count": 55
        }
      ]
    },
    {
      "cell_type": "code",
      "source": [
        "X_train, X_test, y_train, y_test = train_test_split(X, y, test_size=0.2, random_state=0)"
      ],
      "metadata": {
        "id": "sdzo25r0QubT"
      },
      "execution_count": null,
      "outputs": []
    },
    {
      "cell_type": "markdown",
      "source": [
        "**SVM**"
      ],
      "metadata": {
        "id": "PvzZ8AZ5yoNv"
      }
    },
    {
      "cell_type": "code",
      "source": [
        "classifier_SVM = OneVsRestClassifier(svm.SVC(kernel=\"linear\", probability=True, random_state=0))\n",
        "y_score_SVM = classifier_SVM.fit(X_train, y_train).decision_function(X_test)"
      ],
      "metadata": {
        "id": "62pJzo7WRF2F"
      },
      "execution_count": null,
      "outputs": []
    },
    {
      "cell_type": "code",
      "source": [
        "fpr_SVM = dict()\n",
        "tpr_SVM = dict()\n",
        "roc_auc_SVM = dict()\n",
        "for i in range(n_classes):\n",
        "    fpr_SVM[i], tpr_SVM[i], _ = roc_curve(y_test[:, i], y_score_SVM[:, i])\n",
        "    roc_auc_SVM[i] = auc(fpr_SVM[i], tpr_SVM[i])\n",
        "\n",
        "# Compute micro-average ROC curve and ROC area\n",
        "fpr_SVM[\"micro\"], tpr_SVM[\"micro\"], _ = roc_curve(y_test.ravel(), y_score_SVM.ravel())\n",
        "roc_auc_SVM[\"micro\"] = auc(fpr_SVM[\"micro\"], tpr_SVM[\"micro\"])"
      ],
      "metadata": {
        "id": "hU7GkaKTSYae"
      },
      "execution_count": null,
      "outputs": []
    },
    {
      "cell_type": "code",
      "source": [
        "all_fpr_SVM = np.unique(np.concatenate([fpr_SVM[i] for i in range(n_classes)]))\n",
        "\n",
        "# Then interpolate all ROC curves at this points\n",
        "mean_tpr_SVM = np.zeros_like(all_fpr_SVM)\n",
        "for i in range(n_classes):\n",
        "    mean_tpr_SVM += np.interp(all_fpr_SVM, fpr_SVM[i], tpr_SVM[i])\n",
        "\n",
        "# Finally average it and compute AUC\n",
        "mean_tpr_SVM /= n_classes\n",
        "\n",
        "fpr_SVM[\"macro\"] = all_fpr_SVM\n",
        "tpr_SVM[\"macro\"] = mean_tpr_SVM\n",
        "roc_auc_SVM[\"macro\"] = auc(fpr_SVM[\"macro\"], tpr_SVM[\"macro\"])\n",
        "\n",
        "# Plot all ROC curves\n",
        "plt.figure()\n",
        "plt.plot(\n",
        "    fpr_SVM[\"micro\"],\n",
        "    tpr_SVM[\"micro\"],\n",
        "    label=\"micro-average ROC curve (area = {0:0.2f})\".format(roc_auc_SVM[\"micro\"]),\n",
        "    color=\"deeppink\",\n",
        "    linestyle=\"-\",\n",
        "    linewidth=4,\n",
        ")\n",
        "\n",
        "plt.plot(\n",
        "    fpr_SVM[\"macro\"],\n",
        "    tpr_SVM[\"macro\"],\n",
        "    label=\"macro-average ROC curve (area = {0:0.2f})\".format(roc_auc_SVM[\"macro\"]),\n",
        "    color=\"navy\",\n",
        "    linestyle=\"-\",\n",
        "    linewidth=4,\n",
        ")\n",
        "\n",
        "plt.plot([0, 1], [0, 1], \"k--\")\n",
        "plt.xlim([0.0, 1.0])\n",
        "plt.ylim([0.0, 1.05])\n",
        "plt.xlabel(\"False Positive Rate\")\n",
        "plt.ylabel(\"True Positive Rate\")\n",
        "plt.title(\"Some extension of Receiver operating characteristic to multiclass\")\n",
        "plt.legend(loc=\"lower right\")\n",
        "plt.show()"
      ],
      "metadata": {
        "id": "H2iryjhYS4pf",
        "colab": {
          "base_uri": "https://localhost:8080/",
          "height": 295
        },
        "outputId": "4a710c1f-f7c2-4e83-c838-d91d126a57ea"
      },
      "execution_count": null,
      "outputs": [
        {
          "output_type": "display_data",
          "data": {
            "text/plain": [
              "<Figure size 432x288 with 1 Axes>"
            ],
            "image/png": "[encoded data removed]"
          },
          "metadata": {
            "needs_background": "light"
          }
        }
      ]
    },
    {
      "cell_type": "markdown",
      "source": [
        "**Decision Tree**"
      ],
      "metadata": {
        "id": "h3ckdRdJytix"
      }
    },
    {
      "cell_type": "code",
      "source": [
        "from sklearn.tree import DecisionTreeClassifier\n",
        "classifier_DT = OneVsRestClassifier(DecisionTreeClassifier(max_depth=6, random_state=1))\n",
        "y_score_DT = classifier_DT.fit(X_train, y_train).predict_proba(X_test)"
      ],
      "metadata": {
        "id": "2RygRUUuxR2a"
      },
      "execution_count": null,
      "outputs": []
    },
    {
      "cell_type": "code",
      "source": [
        "y_score_DT"
      ],
      "metadata": {
        "colab": {
          "base_uri": "https://localhost:8080/"
        },
        "id": "EgCtmBw9Az-_",
        "outputId": "d0643ab8-03a0-4159-afd6-1ffac097ca79"
      },
      "execution_count": null,
      "outputs": [
        {
          "output_type": "execute_result",
          "data": {
            "text/plain": [
              "array([[1.        , 0.        , 0.        , 0.        , 0.        ],\n",
              "       [0.        , 1.        , 0.        , 0.        , 0.        ],\n",
              "       [0.        , 0.        , 0.        , 0.79166667, 0.        ],\n",
              "       [0.        , 0.        , 0.        , 0.        , 1.        ],\n",
              "       [0.        , 0.        , 0.        , 0.        , 1.        ],\n",
              "       [0.        , 1.        , 0.        , 0.        , 0.        ],\n",
              "       [0.        , 1.        , 0.        , 0.        , 0.        ],\n",
              "       [1.        , 0.        , 0.        , 0.        , 0.        ],\n",
              "       [0.        , 0.        , 0.3902439 , 0.        , 0.        ],\n",
              "       [1.        , 0.        , 0.        , 0.        , 0.        ],\n",
              "       [0.        , 0.        , 0.        , 0.79166667, 0.        ],\n",
              "       [0.        , 0.        , 0.        , 0.        , 1.        ],\n",
              "       [0.        , 0.61      , 0.60169492, 0.        , 0.        ],\n",
              "       [0.        , 1.        , 0.        , 0.        , 0.        ],\n",
              "       [1.        , 0.        , 0.        , 0.        , 0.        ],\n",
              "       [0.        , 0.61      , 0.3902439 , 0.        , 0.        ],\n",
              "       [0.        , 1.        , 0.        , 0.        , 0.        ],\n",
              "       [0.        , 0.61      , 0.60169492, 0.        , 0.        ],\n",
              "       [0.        , 0.        , 0.60169492, 0.        , 0.        ],\n",
              "       [0.        , 1.        , 0.        , 0.        , 0.        ],\n",
              "       [0.        , 0.        , 0.        , 0.79166667, 0.2       ],\n",
              "       [0.        , 0.3       , 0.22727273, 0.        , 0.        ],\n",
              "       [0.        , 0.        , 0.        , 1.        , 0.        ],\n",
              "       [0.        , 0.61      , 0.3902439 , 0.        , 0.        ],\n",
              "       [0.        , 0.        , 0.        , 0.79166667, 0.        ],\n",
              "       [1.        , 0.        , 0.        , 0.        , 0.        ],\n",
              "       [1.        , 0.        , 0.        , 0.        , 0.        ],\n",
              "       [0.        , 0.        , 0.83333333, 0.79166667, 0.        ],\n",
              "       [0.        , 0.        , 1.        , 0.        , 0.        ],\n",
              "       [0.        , 1.        , 0.        , 0.        , 0.        ],\n",
              "       [0.        , 0.        , 0.60169492, 0.        , 0.        ],\n",
              "       [1.        , 0.        , 0.        , 0.        , 0.        ],\n",
              "       [1.        , 0.        , 0.        , 0.        , 0.        ],\n",
              "       [0.        , 0.        , 0.3902439 , 0.79166667, 0.        ],\n",
              "       [0.        , 0.61      , 0.60169492, 0.        , 0.        ],\n",
              "       [1.        , 0.        , 0.        , 0.        , 0.        ],\n",
              "       [0.        , 0.        , 0.60169492, 0.        , 0.        ],\n",
              "       [0.        , 0.        , 0.        , 0.79166667, 0.        ],\n",
              "       [0.        , 1.        , 0.        , 0.        , 0.        ],\n",
              "       [0.        , 0.        , 0.        , 0.        , 1.        ],\n",
              "       [1.        , 0.        , 0.        , 0.        , 0.        ],\n",
              "       [0.        , 0.3       , 0.22727273, 0.        , 0.        ],\n",
              "       [1.        , 0.        , 0.        , 0.        , 0.        ],\n",
              "       [0.        , 0.        , 0.        , 0.        , 1.        ],\n",
              "       [0.        , 0.3       , 0.3902439 , 0.        , 0.        ],\n",
              "       [0.        , 0.        , 0.        , 0.79166667, 0.        ],\n",
              "       [0.        , 0.3       , 0.60169492, 0.        , 0.        ],\n",
              "       [0.        , 0.        , 0.        , 0.79166667, 0.2       ],\n",
              "       [0.        , 1.        , 0.        , 0.        , 0.        ],\n",
              "       [0.        , 0.        , 0.        , 0.        , 1.        ],\n",
              "       [0.        , 1.        , 0.        , 0.        , 0.        ],\n",
              "       [0.        , 0.61      , 0.3902439 , 0.        , 0.        ],\n",
              "       [0.        , 0.        , 0.        , 0.79166667, 0.        ],\n",
              "       [0.        , 0.        , 0.22727273, 0.        , 0.        ],\n",
              "       [1.        , 0.        , 0.        , 0.        , 0.        ],\n",
              "       [0.        , 0.        , 0.        , 0.79166667, 0.        ],\n",
              "       [0.        , 0.        , 0.        , 0.44444444, 1.        ],\n",
              "       [0.        , 0.        , 0.        , 0.79166667, 0.        ],\n",
              "       [0.        , 0.        , 0.3902439 , 0.79166667, 0.        ],\n",
              "       [0.        , 0.        , 0.3902439 , 0.79166667, 0.        ],\n",
              "       [0.        , 0.61      , 0.22727273, 0.        , 0.        ],\n",
              "       [0.        , 1.        , 0.        , 0.        , 0.        ],\n",
              "       [0.        , 0.        , 0.        , 0.79166667, 0.        ],\n",
              "       [0.        , 1.        , 0.        , 0.        , 0.        ],\n",
              "       [0.        , 0.        , 0.        , 0.        , 1.        ],\n",
              "       [0.        , 0.        , 0.        , 0.        , 1.        ],\n",
              "       [0.        , 0.3       , 0.22727273, 0.        , 0.        ],\n",
              "       [0.        , 0.3       , 0.60169492, 0.        , 0.        ],\n",
              "       [0.        , 0.        , 0.        , 0.        , 1.        ],\n",
              "       [1.        , 0.        , 0.        , 0.        , 0.        ],\n",
              "       [0.        , 0.        , 0.        , 0.        , 1.        ],\n",
              "       [0.        , 0.        , 0.        , 0.        , 1.        ],\n",
              "       [0.        , 0.        , 0.        , 0.79166667, 0.        ],\n",
              "       [0.        , 0.61      , 0.3902439 , 0.        , 0.        ],\n",
              "       [0.        , 0.        , 1.        , 0.79166667, 0.        ],\n",
              "       [1.        , 0.        , 0.        , 0.        , 0.        ],\n",
              "       [0.        , 0.        , 0.60169492, 0.        , 0.        ],\n",
              "       [0.        , 0.        , 0.3902439 , 0.44444444, 0.        ],\n",
              "       [0.        , 0.        , 0.        , 0.79166667, 1.        ],\n",
              "       [1.        , 0.        , 0.        , 0.        , 0.        ],\n",
              "       [0.        , 0.        , 0.        , 0.79166667, 0.2       ],\n",
              "       [1.        , 0.        , 0.        , 0.        , 0.        ],\n",
              "       [0.        , 0.        , 0.        , 0.44444444, 1.        ],\n",
              "       [0.        , 1.        , 0.        , 0.        , 0.        ],\n",
              "       [0.        , 1.        , 0.60169492, 0.        , 0.        ],\n",
              "       [0.        , 0.        , 0.        , 0.        , 1.        ],\n",
              "       [0.        , 1.        , 0.        , 0.        , 0.        ],\n",
              "       [1.        , 0.        , 0.        , 0.        , 0.        ],\n",
              "       [0.        , 0.        , 1.        , 0.        , 0.        ],\n",
              "       [0.        , 0.3       , 0.22727273, 0.        , 0.        ],\n",
              "       [0.        , 0.61      , 0.60169492, 0.        , 0.        ],\n",
              "       [0.        , 0.        , 0.3902439 , 0.79166667, 0.        ],\n",
              "       [1.        , 0.        , 0.        , 0.        , 0.        ],\n",
              "       [1.        , 0.        , 0.        , 0.        , 0.        ],\n",
              "       [0.        , 1.        , 0.        , 0.        , 0.        ],\n",
              "       [0.        , 1.        , 0.60169492, 0.        , 0.        ],\n",
              "       [0.        , 0.        , 0.        , 0.79166667, 0.        ],\n",
              "       [0.        , 0.        , 0.        , 0.        , 1.        ],\n",
              "       [0.        , 0.61      , 0.60169492, 0.        , 0.        ],\n",
              "       [1.        , 0.        , 0.        , 0.        , 0.        ],\n",
              "       [0.        , 0.        , 0.3902439 , 0.44444444, 0.        ],\n",
              "       [1.        , 0.        , 0.        , 0.        , 0.        ],\n",
              "       [0.        , 0.        , 0.        , 0.44444444, 1.        ],\n",
              "       [0.        , 0.61      , 0.60169492, 0.2       , 0.        ],\n",
              "       [0.        , 0.        , 0.        , 0.        , 1.        ],\n",
              "       [0.        , 0.        , 0.        , 1.        , 1.        ],\n",
              "       [0.        , 0.        , 0.        , 0.        , 1.        ],\n",
              "       [0.        , 1.        , 0.        , 0.        , 0.        ],\n",
              "       [0.        , 0.3       , 0.60169492, 0.        , 0.        ],\n",
              "       [0.        , 1.        , 0.        , 0.        , 0.        ],\n",
              "       [0.        , 0.        , 0.        , 0.79166667, 0.        ],\n",
              "       [0.        , 0.        , 0.3902439 , 0.79166667, 0.        ],\n",
              "       [0.        , 0.61      , 0.60169492, 0.2       , 0.        ],\n",
              "       [0.        , 0.3       , 0.60169492, 0.        , 0.        ],\n",
              "       [0.        , 0.        , 0.        , 1.        , 0.        ],\n",
              "       [0.        , 0.        , 0.        , 0.79166667, 0.        ],\n",
              "       [0.        , 0.61      , 0.22727273, 0.        , 0.        ],\n",
              "       [0.        , 0.3       , 0.3902439 , 0.        , 0.        ],\n",
              "       [0.        , 0.        , 0.        , 0.79166667, 0.        ],\n",
              "       [0.        , 0.        , 0.        , 0.79166667, 0.        ],\n",
              "       [0.        , 0.        , 0.        , 0.79166667, 1.        ],\n",
              "       [0.        , 0.        , 0.        , 0.79166667, 1.        ],\n",
              "       [0.        , 1.        , 0.        , 0.        , 0.        ],\n",
              "       [1.        , 0.        , 0.        , 0.        , 0.        ],\n",
              "       [0.        , 0.        , 1.        , 0.        , 0.        ],\n",
              "       [0.        , 0.        , 0.        , 0.79166667, 0.        ],\n",
              "       [1.        , 0.        , 0.        , 0.        , 0.        ],\n",
              "       [0.        , 0.        , 1.        , 0.79166667, 0.        ],\n",
              "       [0.        , 0.        , 1.        , 0.        , 0.        ],\n",
              "       [0.        , 0.        , 0.60169492, 0.        , 0.        ],\n",
              "       [0.        , 0.        , 0.3902439 , 0.79166667, 0.        ],\n",
              "       [0.        , 0.        , 0.        , 0.        , 0.        ],\n",
              "       [0.        , 1.        , 0.        , 0.        , 0.        ],\n",
              "       [0.        , 0.        , 0.        , 0.        , 1.        ],\n",
              "       [0.        , 0.        , 0.60169492, 0.79166667, 0.        ],\n",
              "       [0.        , 0.        , 0.        , 0.79166667, 0.        ],\n",
              "       [0.        , 1.        , 0.22727273, 0.        , 0.        ],\n",
              "       [1.        , 0.        , 0.        , 0.        , 0.        ],\n",
              "       [0.        , 0.        , 1.        , 0.        , 0.        ],\n",
              "       [1.        , 0.        , 0.        , 0.        , 0.        ],\n",
              "       [0.        , 0.        , 0.        , 0.44444444, 1.        ],\n",
              "       [0.        , 0.3       , 0.3902439 , 0.        , 0.        ],\n",
              "       [0.        , 0.        , 0.        , 0.79166667, 0.        ],\n",
              "       [0.        , 0.        , 0.        , 0.        , 1.        ],\n",
              "       [0.        , 0.61      , 0.60169492, 0.        , 0.        ],\n",
              "       [0.        , 1.        , 0.        , 0.        , 0.        ],\n",
              "       [0.        , 1.        , 0.        , 0.        , 0.        ],\n",
              "       [0.        , 0.        , 0.        , 0.79166667, 0.        ],\n",
              "       [0.        , 1.        , 0.        , 0.        , 0.        ],\n",
              "       [0.        , 0.        , 0.        , 0.79166667, 0.        ],\n",
              "       [0.        , 0.        , 0.        , 0.79166667, 0.        ],\n",
              "       [0.        , 0.61      , 0.3902439 , 0.        , 0.        ],\n",
              "       [0.        , 0.        , 0.        , 0.        , 1.        ],\n",
              "       [1.        , 0.        , 0.        , 0.        , 0.        ],\n",
              "       [0.        , 0.6       , 0.60169492, 0.        , 0.        ],\n",
              "       [1.        , 0.        , 0.        , 0.        , 0.        ],\n",
              "       [0.        , 0.        , 0.        , 0.        , 1.        ],\n",
              "       [0.        , 0.3       , 0.3902439 , 0.        , 0.        ],\n",
              "       [0.        , 1.        , 0.        , 0.        , 0.        ],\n",
              "       [1.        , 0.        , 0.        , 0.        , 0.        ],\n",
              "       [0.        , 0.        , 0.        , 0.        , 1.        ],\n",
              "       [0.        , 0.61      , 0.60169492, 0.        , 0.        ],\n",
              "       [0.        , 0.        , 0.        , 0.        , 1.        ],\n",
              "       [0.        , 1.        , 0.        , 0.        , 0.        ],\n",
              "       [0.        , 0.        , 0.        , 1.        , 0.        ],\n",
              "       [0.        , 0.        , 0.        , 0.79166667, 1.        ],\n",
              "       [0.        , 0.        , 0.        , 0.        , 0.        ],\n",
              "       [0.        , 0.61      , 0.60169492, 0.        , 0.        ],\n",
              "       [0.        , 0.3       , 0.60169492, 0.        , 0.        ],\n",
              "       [0.        , 0.        , 0.        , 0.79166667, 0.        ],\n",
              "       [0.        , 0.        , 0.        , 0.44444444, 0.        ],\n",
              "       [0.        , 1.        , 0.        , 0.        , 0.        ],\n",
              "       [1.        , 0.        , 0.        , 0.        , 0.        ],\n",
              "       [1.        , 0.        , 0.        , 0.        , 0.        ],\n",
              "       [1.        , 0.        , 0.        , 0.        , 0.        ],\n",
              "       [0.        , 0.        , 0.        , 0.79166667, 0.        ],\n",
              "       [0.        , 0.        , 0.        , 0.        , 1.        ],\n",
              "       [0.        , 0.        , 0.        , 0.        , 1.        ],\n",
              "       [0.        , 0.        , 0.        , 0.        , 1.        ],\n",
              "       [0.        , 0.        , 0.        , 0.        , 1.        ],\n",
              "       [0.        , 0.61      , 0.60169492, 0.        , 0.        ],\n",
              "       [0.        , 0.        , 0.        , 1.        , 1.        ],\n",
              "       [1.        , 0.        , 0.        , 0.        , 0.        ],\n",
              "       [0.        , 0.        , 1.        , 0.79166667, 0.        ],\n",
              "       [0.        , 0.        , 0.        , 1.        , 0.        ],\n",
              "       [0.        , 0.        , 0.        , 0.79166667, 0.        ]])"
            ]
          },
          "metadata": {},
          "execution_count": 61
        }
      ]
    },
    {
      "cell_type": "code",
      "source": [
        "n_classes"
      ],
      "metadata": {
        "colab": {
          "base_uri": "https://localhost:8080/"
        },
        "id": "2D5uSCQUBwgx",
        "outputId": "f912a8e6-c75a-42df-cb51-8f417d4f7dff"
      },
      "execution_count": null,
      "outputs": [
        {
          "output_type": "execute_result",
          "data": {
            "text/plain": [
              "5"
            ]
          },
          "metadata": {},
          "execution_count": 62
        }
      ]
    },
    {
      "cell_type": "code",
      "source": [
        "fpr_DT = dict()\n",
        "tpr_DT = dict()\n",
        "roc_auc_DT = dict()\n",
        "for i in range(n_classes):\n",
        "    fpr_DT[i], tpr_DT[i], threshold = roc_curve(y_test[:, i], y_score_DT[:, i])\n",
        "    roc_auc_DT[i] = auc(fpr_DT[i], tpr_DT[i])\n",
        "\n",
        "# Compute micro-average ROC curve and ROC area\n",
        "fpr_DT[\"micro\"], tpr_DT[\"micro\"], _ = roc_curve(y_test.ravel(), y_score_DT.ravel())\n",
        "roc_auc_DT[\"micro\"] = auc(fpr_DT[\"micro\"], tpr_DT[\"micro\"])"
      ],
      "metadata": {
        "id": "El9L0DhnxbXb"
      },
      "execution_count": null,
      "outputs": []
    },
    {
      "cell_type": "code",
      "source": [
        "all_fpr_DT = np.unique(np.concatenate([fpr_DT[i] for i in range(n_classes)]))\n",
        "\n",
        "# Then interpolate all ROC curves at this points\n",
        "mean_tpr_DT = np.zeros_like(all_fpr_DT)\n",
        "for i in range(n_classes):\n",
        "    mean_tpr_DT += np.interp(all_fpr_DT, fpr_DT[i], tpr_DT[i])\n",
        "\n",
        "# Finally average it and compute AUC\n",
        "mean_tpr_DT /= n_classes\n",
        "\n",
        "fpr_DT[\"macro\"] = all_fpr_DT\n",
        "tpr_DT[\"macro\"] = mean_tpr_DT\n",
        "roc_auc_DT[\"macro\"] = auc(fpr_DT[\"macro\"], tpr_DT[\"macro\"])\n",
        "\n",
        "# Plot all ROC curves\n",
        "plt.figure()\n",
        "plt.plot(\n",
        "    fpr_DT[\"micro\"],\n",
        "    tpr_DT[\"micro\"],\n",
        "    label=\"For Decision Tree : micro-average ROC curve (area = {0:0.2f})\".format(roc_auc_DT[\"micro\"]),\n",
        "    color=\"deeppink\",\n",
        "    linestyle=\"-\",\n",
        "    linewidth=4,\n",
        ")\n",
        "\n",
        "plt.plot(\n",
        "    fpr_DT[\"macro\"],\n",
        "    tpr_DT[\"macro\"],\n",
        "    label=\"For decision Tree : macro-average ROC curve (area = {0:0.2f})\".format(roc_auc_DT[\"macro\"]),\n",
        "    color=\"navy\",\n",
        "    linestyle=\"-\",\n",
        "    linewidth=4,\n",
        ")\n",
        "\n",
        "plt.plot([0, 1], [0, 1], \"k--\")\n",
        "plt.xlim([0.0, 1.0])\n",
        "plt.ylim([0.0, 1.05])\n",
        "plt.xlabel(\"False Positive Rate\")\n",
        "plt.ylabel(\"True Positive Rate\")\n",
        "plt.title(\"Some extension of Receiver operating characteristic to multiclass\")\n",
        "plt.legend(loc=\"lower right\")\n",
        "plt.show()"
      ],
      "metadata": {
        "colab": {
          "base_uri": "https://localhost:8080/",
          "height": 295
        },
        "id": "4mvT7k4nxfAo",
        "outputId": "7cf36d62-d3ec-46fd-c1ec-76b2c1e57afc"
      },
      "execution_count": null,
      "outputs": [
        {
          "output_type": "display_data",
          "data": {
            "text/plain": [
              "<Figure size 432x288 with 1 Axes>"
            ],
            "image/png": "[encoded data removed]"
          },
          "metadata": {
            "needs_background": "light"
          }
        }
      ]
    },
    {
      "cell_type": "markdown",
      "source": [
        "**Naive Bayes**"
      ],
      "metadata": {
        "id": "InnuqZci29Ua"
      }
    },
    {
      "cell_type": "code",
      "source": [
        "from sklearn.naive_bayes import GaussianNB\n",
        "classifier_NB = OneVsRestClassifier(GaussianNB())\n",
        "y_score_NB = classifier_NB.fit(X_train, y_train).predict_proba(X_test)"
      ],
      "metadata": {
        "id": "Vkjt0fhFt0Be"
      },
      "execution_count": null,
      "outputs": []
    },
    {
      "cell_type": "code",
      "source": [
        "fpr_NB = dict()\n",
        "tpr_NB = dict()\n",
        "roc_auc_NB = dict()\n",
        "for i in range(n_classes):\n",
        "    fpr_NB[i], tpr_NB[i], threshold = roc_curve(y_test[:, i], y_score_NB[:, i])\n",
        "    roc_auc_NB[i] = auc(fpr_NB[i], tpr_NB[i])\n",
        "\n",
        "# Compute micro-average ROC curve and ROC area\n",
        "fpr_NB[\"micro\"], tpr_NB[\"micro\"], _ = roc_curve(y_test.ravel(), y_score_NB.ravel())\n",
        "roc_auc_NB[\"micro\"] = auc(fpr_NB[\"micro\"], tpr_NB[\"micro\"])"
      ],
      "metadata": {
        "id": "veRGjJY5t5dF"
      },
      "execution_count": null,
      "outputs": []
    },
    {
      "cell_type": "code",
      "source": [
        "all_fpr_NB = np.unique(np.concatenate([fpr_NB[i] for i in range(n_classes)]))\n",
        "\n",
        "# Then interpolate all ROC curves at this points\n",
        "mean_tpr_NB = np.zeros_like(all_fpr_NB)\n",
        "for i in range(n_classes):\n",
        "    mean_tpr_NB += np.interp(all_fpr_NB, fpr_NB[i], tpr_NB[i])\n",
        "\n",
        "# Finally average it and compute AUC\n",
        "mean_tpr_NB /= n_classes\n",
        "\n",
        "fpr_NB[\"macro\"] = all_fpr_NB\n",
        "tpr_NB[\"macro\"] = mean_tpr_NB\n",
        "roc_auc_NB[\"macro\"] = auc(fpr_NB[\"macro\"], tpr_NB[\"macro\"])\n",
        "\n",
        "# Plot all ROC curves\n",
        "plt.figure()\n",
        "plt.plot(\n",
        "    fpr_NB[\"micro\"],\n",
        "    tpr_NB[\"micro\"],\n",
        "    label=\"micro-average ROC curve (area = {0:0.2f})\".format(roc_auc_NB[\"micro\"]),\n",
        "    color=\"deeppink\",\n",
        "    linestyle=\"-\",\n",
        "    linewidth=4,\n",
        ")\n",
        "\n",
        "plt.plot(\n",
        "    fpr_NB[\"macro\"],\n",
        "    tpr_NB[\"macro\"],\n",
        "    label=\"macro-average ROC curve (area = {0:0.2f})\".format(roc_auc_NB[\"macro\"]),\n",
        "    color=\"navy\",\n",
        "    linestyle=\"-\",\n",
        "    linewidth=4,\n",
        ")\n",
        "\n",
        "plt.plot([0, 1], [0, 1], \"k--\")\n",
        "plt.xlim([0.0, 1.0])\n",
        "plt.ylim([0.0, 1.05])\n",
        "plt.xlabel(\"False Positive Rate\")\n",
        "plt.ylabel(\"True Positive Rate\")\n",
        "plt.title(\"Some extension of Receiver operating characteristic to multiclass\")\n",
        "plt.legend(loc=\"lower right\")\n",
        "plt.show()"
      ],
      "metadata": {
        "colab": {
          "base_uri": "https://localhost:8080/",
          "height": 295
        },
        "id": "MtasO6p6t7B-",
        "outputId": "3b3bf7fa-3a91-43f6-e9af-c4542cbba60f"
      },
      "execution_count": null,
      "outputs": [
        {
          "output_type": "display_data",
          "data": {
            "text/plain": [
              "<Figure size 432x288 with 1 Axes>"
            ],
            "image/png": "[encoded data removed]"
          },
          "metadata": {
            "needs_background": "light"
          }
        }
      ]
    },
    {
      "cell_type": "markdown",
      "source": [
        "**KNN**"
      ],
      "metadata": {
        "id": "pKRk38gz6v2I"
      }
    },
    {
      "cell_type": "code",
      "source": [
        "from sklearn.neighbors import KNeighborsClassifier\n",
        "classifier_KNN = OneVsRestClassifier(KNeighborsClassifier(n_neighbors=5))\n",
        "y_score_KNN = classifier_KNN.fit(X_train, y_train).predict_proba(X_test)"
      ],
      "metadata": {
        "id": "6oVbfm2AuRtO"
      },
      "execution_count": null,
      "outputs": []
    },
    {
      "cell_type": "code",
      "source": [
        "fpr_KNN = dict()\n",
        "tpr_KNN = dict()\n",
        "roc_auc_KNN = dict()\n",
        "for i in range(n_classes):\n",
        "    fpr_KNN[i], tpr_KNN[i], threshold = roc_curve(y_test[:, i], y_score_KNN[:, i])\n",
        "    roc_auc_KNN[i] = auc(fpr_KNN[i], tpr_KNN[i])\n",
        "\n",
        "# Compute micro-average ROC curve and ROC area\n",
        "fpr_KNN[\"micro\"], tpr_KNN[\"micro\"], _ = roc_curve(y_test.ravel(), y_score_KNN.ravel())\n",
        "roc_auc_KNN[\"micro\"] = auc(fpr_KNN[\"micro\"], tpr_KNN[\"micro\"])"
      ],
      "metadata": {
        "id": "ktlXLryyubA-"
      },
      "execution_count": null,
      "outputs": []
    },
    {
      "cell_type": "code",
      "source": [
        "all_fpr_KNN = np.unique(np.concatenate([fpr_KNN[i] for i in range(n_classes)]))\n",
        "\n",
        "# Then interpolate all ROC curves at this points\n",
        "mean_tpr_KNN = np.zeros_like(all_fpr_KNN)\n",
        "for i in range(n_classes):\n",
        "    mean_tpr_KNN += np.interp(all_fpr_KNN, fpr_KNN[i], tpr_KNN[i])\n",
        "\n",
        "# Finally average it and compute AUC\n",
        "mean_tpr_KNN /= n_classes\n",
        "\n",
        "fpr_KNN[\"macro\"] = all_fpr_KNN\n",
        "tpr_KNN[\"macro\"] = mean_tpr_KNN\n",
        "roc_auc_KNN[\"macro\"] = auc(fpr_KNN[\"macro\"], tpr_KNN[\"macro\"])\n",
        "\n",
        "# Plot all ROC curves\n",
        "plt.figure()\n",
        "plt.plot(\n",
        "    fpr_KNN[\"micro\"],\n",
        "    tpr_KNN[\"micro\"],\n",
        "    label=\"micro-average ROC curve (area = {0:0.2f})\".format(roc_auc_KNN[\"micro\"]),\n",
        "    color=\"deeppink\",\n",
        "    linestyle=\"-\",\n",
        "    linewidth=4,\n",
        ")\n",
        "\n",
        "plt.plot(\n",
        "    fpr_KNN[\"macro\"],\n",
        "    tpr_KNN[\"macro\"],\n",
        "    label=\"macro-average ROC curve (area = {0:0.2f})\".format(roc_auc_KNN[\"macro\"]),\n",
        "    color=\"navy\",\n",
        "    linestyle=\"-\",\n",
        "    linewidth=4,\n",
        ")\n",
        "\n",
        "plt.plot([0, 1], [0, 1], \"k--\")\n",
        "plt.xlim([0.0, 1.0])\n",
        "plt.ylim([0.0, 1.05])\n",
        "plt.xlabel(\"False Positive Rate\")\n",
        "plt.ylabel(\"True Positive Rate\")\n",
        "plt.title(\"Some extension of Receiver operating characteristic to multiclass\")\n",
        "plt.legend(loc=\"lower right\")\n",
        "plt.show()"
      ],
      "metadata": {
        "colab": {
          "base_uri": "https://localhost:8080/",
          "height": 295
        },
        "id": "VgcyodcTudjt",
        "outputId": "889fc6a4-4ce0-495b-8d1a-d46671dab45a"
      },
      "execution_count": null,
      "outputs": [
        {
          "output_type": "display_data",
          "data": {
            "text/plain": [
              "<Figure size 432x288 with 1 Axes>"
            ],
            "image/png": "[encoded data removed]"
          },
          "metadata": {
            "needs_background": "light"
          }
        }
      ]
    },
    {
      "cell_type": "markdown",
      "source": [
        "**Artificial Neural Network**"
      ],
      "metadata": {
        "id": "y4NW6JAv-B_C"
      }
    },
    {
      "cell_type": "code",
      "source": [
        "from sklearn.neural_network import MLPClassifier\n",
        "classifier_ANN = OneVsRestClassifier(MLPClassifier(hidden_layer_sizes=(9),activation=\"relu\",max_iter=1000))\n",
        "y_score_ANN = classifier_ANN.fit(X_train, y_train).predict_proba(X_test)"
      ],
      "metadata": {
        "id": "_kKDQLkKuko9"
      },
      "execution_count": null,
      "outputs": []
    },
    {
      "cell_type": "code",
      "source": [
        "fpr_ANN = dict()\n",
        "tpr_ANN = dict()\n",
        "roc_auc_ANN = dict()\n",
        "for i in range(n_classes):\n",
        "    fpr_ANN[i], tpr_ANN[i], threshold = roc_curve(y_test[:, i], y_score_ANN[:, i])\n",
        "    roc_auc_ANN[i] = auc(fpr_ANN[i], tpr_ANN[i])\n",
        "\n",
        "# Compute micro-average ROC curve and ROC area\n",
        "fpr_ANN[\"micro\"], tpr_ANN[\"micro\"], _ = roc_curve(y_test.ravel(), y_score_ANN.ravel())\n",
        "roc_auc_ANN[\"micro\"] = auc(fpr_ANN[\"micro\"], tpr_ANN[\"micro\"])"
      ],
      "metadata": {
        "id": "Cq0sqSKiusRe"
      },
      "execution_count": null,
      "outputs": []
    },
    {
      "cell_type": "code",
      "source": [
        "all_fpr_ANN = np.unique(np.concatenate([fpr_ANN[i] for i in range(n_classes)]))\n",
        "\n",
        "# Then interpolate all ROC curves at this points\n",
        "mean_tpr_ANN = np.zeros_like(all_fpr_ANN)\n",
        "for i in range(n_classes):\n",
        "    mean_tpr_ANN += np.interp(all_fpr_ANN, fpr_ANN[i], tpr_ANN[i])\n",
        "\n",
        "# Finally average it and compute AUC\n",
        "mean_tpr_ANN /= n_classes\n",
        "\n",
        "fpr_ANN[\"macro\"] = all_fpr_ANN\n",
        "tpr_ANN[\"macro\"] = mean_tpr_ANN\n",
        "roc_auc_ANN[\"macro\"] = auc(fpr_ANN[\"macro\"], tpr_ANN[\"macro\"])\n",
        "\n",
        "# Plot all ROC curves\n",
        "plt.figure()\n",
        "plt.plot(\n",
        "    fpr_ANN[\"micro\"],\n",
        "    tpr_ANN[\"micro\"],\n",
        "    label=\"micro-average ROC curve (area = {0:0.2f})\".format(roc_auc_ANN[\"micro\"]),\n",
        "    color=\"deeppink\",\n",
        "    linestyle=\"-\",\n",
        "    linewidth=4,\n",
        ")\n",
        "\n",
        "plt.plot(\n",
        "    fpr_ANN[\"macro\"],\n",
        "    tpr_ANN[\"macro\"],\n",
        "    label=\"macro-average ROC curve (area = {0:0.2f})\".format(roc_auc_ANN[\"macro\"]),\n",
        "    color=\"navy\",\n",
        "    linestyle=\"-\",\n",
        "    linewidth=4,\n",
        ")\n",
        "\n",
        "plt.plot([0, 1], [0, 1], \"k--\")\n",
        "plt.xlim([0.0, 1.0])\n",
        "plt.ylim([0.0, 1.05])\n",
        "plt.xlabel(\"False Positive Rate\")\n",
        "plt.ylabel(\"True Positive Rate\")\n",
        "plt.title(\"Some extension of Receiver operating characteristic to multiclass\")\n",
        "plt.legend(loc=\"lower right\")\n",
        "plt.show()"
      ],
      "metadata": {
        "colab": {
          "base_uri": "https://localhost:8080/",
          "height": 295
        },
        "id": "KsGGxPS0uvA1",
        "outputId": "2990426a-068a-4daa-ebd8-e108cfb4d070"
      },
      "execution_count": null,
      "outputs": [
        {
          "output_type": "display_data",
          "data": {
            "text/plain": [
              "<Figure size 432x288 with 1 Axes>"
            ],
            "image/png": "[encoded data removed]"
          },
          "metadata": {
            "needs_background": "light"
          }
        }
      ]
    },
    {
      "cell_type": "markdown",
      "source": [
        "**Random Forest**"
      ],
      "metadata": {
        "id": "6HrMtN3D_I9f"
      }
    },
    {
      "cell_type": "code",
      "source": [
        "from sklearn.ensemble import RandomForestClassifier\n",
        "classifier_RF = OneVsRestClassifier(RandomForestClassifier(n_estimators=100))\n",
        "y_score_RF = classifier_RF.fit(X_train, y_train).predict_proba(X_test)"
      ],
      "metadata": {
        "id": "_CJOSISQuxoo"
      },
      "execution_count": null,
      "outputs": []
    },
    {
      "cell_type": "code",
      "source": [
        "fpr_RF = dict()\n",
        "tpr_RF = dict()\n",
        "roc_auc_RF = dict()\n",
        "for i in range(n_classes):\n",
        "    fpr_RF[i], tpr_RF[i], threshold = roc_curve(y_test[:, i], y_score_RF[:, i])\n",
        "    roc_auc_RF[i] = auc(fpr_RF[i], tpr_RF[i])\n",
        "\n",
        "# Compute micro-average ROC curve and ROC area\n",
        "fpr_RF[\"micro\"], tpr_RF[\"micro\"], _ = roc_curve(y_test.ravel(), y_score_RF.ravel())\n",
        "roc_auc_RF[\"micro\"] = auc(fpr_RF[\"micro\"], tpr_RF[\"micro\"])"
      ],
      "metadata": {
        "id": "Udi0gH2Fu11d"
      },
      "execution_count": null,
      "outputs": []
    },
    {
      "cell_type": "code",
      "source": [
        "all_fpr_RF = np.unique(np.concatenate([fpr_RF[i] for i in range(n_classes)]))\n",
        "\n",
        "# Then interpolate all ROC curves at this points\n",
        "mean_tpr_RF = np.zeros_like(all_fpr_RF)\n",
        "for i in range(n_classes):\n",
        "    mean_tpr_RF += np.interp(all_fpr_RF, fpr_RF[i], tpr_RF[i])\n",
        "\n",
        "# Finally average it and compute AUC\n",
        "mean_tpr_RF /= n_classes\n",
        "\n",
        "fpr_RF[\"macro\"] = all_fpr_RF\n",
        "tpr_RF[\"macro\"] = mean_tpr_RF\n",
        "roc_auc_RF[\"macro\"] = auc(fpr_RF[\"macro\"], tpr_RF[\"macro\"])\n",
        "\n",
        "# Plot all ROC curves\n",
        "plt.figure()\n",
        "plt.plot(\n",
        "    fpr_RF[\"micro\"],\n",
        "    tpr_RF[\"micro\"],\n",
        "    label=\"micro-average ROC curve (area = {0:0.2f})\".format(roc_auc_RF[\"micro\"]),\n",
        "    color=\"deeppink\",\n",
        "    linestyle=\"-\",\n",
        "    linewidth=4,\n",
        ")\n",
        "\n",
        "plt.plot(\n",
        "    fpr_RF[\"macro\"],\n",
        "    tpr_RF[\"macro\"],\n",
        "    label=\"macro-average ROC curve (area = {0:0.2f})\".format(roc_auc_RF[\"macro\"]),\n",
        "    color=\"navy\",\n",
        "    linestyle=\"-\",\n",
        "    linewidth=4,\n",
        ")\n",
        "\n",
        "plt.plot([0, 1], [0, 1], \"k--\")\n",
        "plt.xlim([0.0, 1.0])\n",
        "plt.ylim([0.0, 1.05])\n",
        "plt.xlabel(\"False Positive Rate\")\n",
        "plt.ylabel(\"True Positive Rate\")\n",
        "plt.title(\"Some extension of Receiver operating characteristic to multiclass\")\n",
        "plt.legend(loc=\"lower right\")\n",
        "plt.show()"
      ],
      "metadata": {
        "colab": {
          "base_uri": "https://localhost:8080/",
          "height": 295
        },
        "id": "aB7rVGlgu3KQ",
        "outputId": "8bfee7aa-df36-47e1-dba6-c00075a41679"
      },
      "execution_count": null,
      "outputs": [
        {
          "output_type": "display_data",
          "data": {
            "text/plain": [
              "<Figure size 432x288 with 1 Axes>"
            ],
            "image/png": "[encoded data removed]"
          },
          "metadata": {
            "needs_background": "light"
          }
        }
      ]
    },
    {
      "cell_type": "markdown",
      "source": [
        "**Gradient Boost**"
      ],
      "metadata": {
        "id": "38M_5g3QeuFd"
      }
    },
    {
      "cell_type": "code",
      "source": [
        "from sklearn.ensemble import GradientBoostingClassifier\n",
        "from sklearn.tree import DecisionTreeClassifier\n",
        "import joblib\n",
        "from  sklearn.utils import parallel_backend \n",
        "classifier_GB = OneVsRestClassifier(GradientBoostingClassifier(learning_rate=.1, n_estimators=500,max_depth=5 ))\n",
        "y_score_GB = classifier_GB.fit(X_train, y_train).predict_proba(X_test)"
      ],
      "metadata": {
        "id": "Lb9KZrNnvLv_"
      },
      "execution_count": null,
      "outputs": []
    },
    {
      "cell_type": "code",
      "source": [
        "fpr_GB = dict()\n",
        "tpr_GB = dict()\n",
        "roc_auc_GB = dict()\n",
        "for i in range(n_classes):\n",
        "    fpr_GB[i], tpr_GB[i], threshold = roc_curve(y_test[:, i], y_score_GB[:, i])\n",
        "    roc_auc_GB[i] = auc(fpr_GB[i], tpr_GB[i])\n",
        "\n",
        "# Compute micro-average ROC curve and ROC area\n",
        "fpr_GB[\"micro\"], tpr_GB[\"micro\"], _ = roc_curve(y_test.ravel(), y_score_GB.ravel())\n",
        "roc_auc_GB[\"micro\"] = auc(fpr_GB[\"micro\"], tpr_GB[\"micro\"])"
      ],
      "metadata": {
        "id": "aM3M7g_UvSP4"
      },
      "execution_count": null,
      "outputs": []
    },
    {
      "cell_type": "code",
      "source": [
        "all_fpr_GB = np.unique(np.concatenate([fpr_GB[i] for i in range(n_classes)]))\n",
        "\n",
        "# Then interpolate all ROC curves at this points\n",
        "mean_tpr_GB = np.zeros_like(all_fpr_GB)\n",
        "for i in range(n_classes):\n",
        "    mean_tpr_GB += np.interp(all_fpr_GB, fpr_GB[i], tpr_GB[i])\n",
        "\n",
        "# Finally average it and compute AUC\n",
        "mean_tpr_GB /= n_classes\n",
        "\n",
        "fpr_GB[\"macro\"] = all_fpr_GB\n",
        "tpr_GB[\"macro\"] = mean_tpr_GB\n",
        "roc_auc_GB[\"macro\"] = auc(fpr_GB[\"macro\"], tpr_GB[\"macro\"])\n",
        "\n",
        "# Plot all ROC curves\n",
        "plt.figure()\n",
        "plt.plot(\n",
        "    fpr_GB[\"micro\"],\n",
        "    tpr_GB[\"micro\"],\n",
        "    label=\"micro-average ROC curve (area = {0:0.2f})\".format(roc_auc_GB[\"micro\"]),\n",
        "    color=\"deeppink\",\n",
        "    linestyle=\"-\",\n",
        "    linewidth=4,\n",
        ")\n",
        "\n",
        "plt.plot(\n",
        "    fpr_GB[\"macro\"],\n",
        "    tpr_GB[\"macro\"],\n",
        "    label=\"macro-average ROC curve (area = {0:0.2f})\".format(roc_auc_GB[\"macro\"]),\n",
        "    color=\"navy\",\n",
        "    linestyle=\"-\",\n",
        "    linewidth=4,\n",
        ")\n",
        "\n",
        "plt.plot([0, 1], [0, 1], \"k--\")\n",
        "plt.xlim([0.0, 1.0])\n",
        "plt.ylim([0.0, 1.05])\n",
        "plt.xlabel(\"False Positive Rate\")\n",
        "plt.ylabel(\"True Positive Rate\")\n",
        "plt.title(\"Some extension of Receiver operating characteristic to multiclass\")\n",
        "plt.legend(loc=\"lower right\")\n",
        "plt.show()"
      ],
      "metadata": {
        "colab": {
          "base_uri": "https://localhost:8080/",
          "height": 295
        },
        "id": "RPNqP3YWvU0V",
        "outputId": "e678050f-166c-4a4e-826d-c900618ec988"
      },
      "execution_count": null,
      "outputs": [
        {
          "output_type": "display_data",
          "data": {
            "text/plain": [
              "<Figure size 432x288 with 1 Axes>"
            ],
            "image/png": "[encoded data removed]"
          },
          "metadata": {
            "needs_background": "light"
          }
        }
      ]
    },
    {
      "cell_type": "markdown",
      "source": [
        "**Xtreme Gradiant Boost**"
      ],
      "metadata": {
        "id": "o2vVH3j06Uo9"
      }
    },
    {
      "cell_type": "code",
      "source": [
        "import xgboost as xgb\n",
        "classifier_xgb = OneVsRestClassifier(xgb.XGBClassifier(max_depth=10, n_estimators=5000 , learning_rate=.5, n_jobs=-1))\n",
        "y_score_xgb = classifier_xgb.fit(X_train, y_train).predict_proba(X_test)"
      ],
      "metadata": {
        "id": "ppHRAhc1vsn9"
      },
      "execution_count": null,
      "outputs": []
    },
    {
      "cell_type": "code",
      "source": [
        "fpr_xgb = dict()\n",
        "tpr_xgb = dict()\n",
        "roc_auc_xgb = dict()\n",
        "for i in range(n_classes):\n",
        "    fpr_xgb[i], tpr_xgb[i], threshold = roc_curve(y_test[:, i], y_score_xgb[:, i])\n",
        "    roc_auc_xgb[i] = auc(fpr_xgb[i], tpr_xgb[i])\n",
        "\n",
        "# Compute micro-average ROC curve and ROC area\n",
        "fpr_xgb[\"micro\"], tpr_xgb[\"micro\"], _ = roc_curve(y_test.ravel(), y_score_xgb.ravel())\n",
        "roc_auc_xgb[\"micro\"] = auc(fpr_xgb[\"micro\"], tpr_xgb[\"micro\"])"
      ],
      "metadata": {
        "id": "Zsl7xaPlvyuG"
      },
      "execution_count": null,
      "outputs": []
    },
    {
      "cell_type": "code",
      "source": [
        "all_fpr_xgb = np.unique(np.concatenate([fpr_xgb[i] for i in range(n_classes)]))\n",
        "\n",
        "# Then interpolate all ROC curves at this points\n",
        "mean_tpr_xgb = np.zeros_like(all_fpr_xgb)\n",
        "for i in range(n_classes):\n",
        "    mean_tpr_xgb += np.interp(all_fpr_xgb, fpr_xgb[i], tpr_xgb[i])\n",
        "\n",
        "# Finally average it and compute AUC\n",
        "mean_tpr_xgb /= n_classes\n",
        "\n",
        "fpr_xgb[\"macro\"] = all_fpr_xgb\n",
        "tpr_xgb[\"macro\"] = mean_tpr_xgb\n",
        "roc_auc_xgb[\"macro\"] = auc(fpr_xgb[\"macro\"], tpr_xgb[\"macro\"])\n",
        "\n",
        "# Plot all ROC curves\n",
        "plt.figure()\n",
        "plt.plot(\n",
        "    fpr_xgb[\"micro\"],\n",
        "    tpr_xgb[\"micro\"],\n",
        "    label=\"micro-average ROC curve (area = {0:0.2f})\".format(roc_auc_xgb[\"micro\"]),\n",
        "    color=\"deeppink\",\n",
        "    linestyle=\"-\",\n",
        "    linewidth=4,\n",
        ")\n",
        "\n",
        "plt.plot(\n",
        "    fpr_xgb[\"macro\"],\n",
        "    tpr_xgb[\"macro\"],\n",
        "    label=\"macro-average ROC curve (area = {0:0.2f})\".format(roc_auc_xgb[\"macro\"]),\n",
        "    color=\"navy\",\n",
        "    linestyle=\"-\",\n",
        "    linewidth=4,\n",
        ")\n",
        "\n",
        "plt.plot([0, 1], [0, 1], \"k--\")\n",
        "plt.xlim([0.0, 1.0])\n",
        "plt.ylim([0.0, 1.05])\n",
        "plt.xlabel(\"False Positive Rate\")\n",
        "plt.ylabel(\"True Positive Rate\")\n",
        "plt.title(\"Some extension of Receiver operating characteristic to multiclass\")\n",
        "plt.legend(loc=\"lower right\")\n",
        "plt.show()"
      ],
      "metadata": {
        "colab": {
          "base_uri": "https://localhost:8080/",
          "height": 295
        },
        "id": "ob31nPJnv0KN",
        "outputId": "fee648fb-4e41-4cf6-a711-81cc545b56b0"
      },
      "execution_count": null,
      "outputs": [
        {
          "output_type": "display_data",
          "data": {
            "text/plain": [
              "<Figure size 432x288 with 1 Axes>"
            ],
            "image/png": "[encoded data removed]"
          },
          "metadata": {
            "needs_background": "light"
          }
        }
      ]
    },
    {
      "cell_type": "markdown",
      "source": [
        "**Stacking Random Forest**"
      ],
      "metadata": {
        "id": "DrbMvvmt75hN"
      }
    },
    {
      "cell_type": "code",
      "source": [
        "from sklearn.neural_network import MLPClassifier\n",
        "nnc = MLPClassifier(hidden_layer_sizes=(9),activation=\"relu\",max_iter=1000)\n",
        "from sklearn.ensemble import RandomForestClassifier\n",
        "from sklearn.tree import DecisionTreeClassifier\n",
        "randomf = RandomForestClassifier(n_jobs=-1)\n",
        "from sklearn.neighbors import KNeighborsClassifier\n",
        "knn = KNeighborsClassifier(n_neighbors=5)\n",
        "from sklearn.model_selection import GridSearchCV\n",
        "estimators = [('rf', randomf),('neural', nnc),\n",
        "        ('knn',knn)\n",
        "        ]\n",
        "from sklearn.ensemble import StackingClassifier\n",
        "final_estimator = {'final_estimator':[randomf,knn,nnc,None]}\n",
        "from sklearn.metrics import confusion_matrix\n",
        "from sklearn.preprocessing import LabelBinarizer\n",
        "from sklearn.model_selection import train_test_split\n",
        "newgsearchrandom =  StackingClassifier(estimators=estimators, n_jobs=-1,final_estimator=randomf)"
      ],
      "metadata": {
        "id": "R2fbIiuzwTMv"
      },
      "execution_count": null,
      "outputs": []
    },
    {
      "cell_type": "code",
      "source": [
        "from sklearn.ensemble import RandomForestClassifier\n",
        "classifier_SRF = OneVsRestClassifier(StackingClassifier(estimators=estimators, n_jobs=-1,final_estimator=randomf))\n",
        "y_score_SRF = classifier_SRF.fit(X_train, y_train).predict_proba(X_test)"
      ],
      "metadata": {
        "id": "2Q35rYH8wMV-"
      },
      "execution_count": null,
      "outputs": []
    },
    {
      "cell_type": "code",
      "source": [
        "fpr_SRF = dict()\n",
        "tpr_SRF = dict()\n",
        "roc_auc_SRF = dict()\n",
        "for i in range(n_classes):\n",
        "    fpr_SRF[i], tpr_SRF[i], threshold = roc_curve(y_test[:, i], y_score_SRF[:, i])\n",
        "    roc_auc_SRF[i] = auc(fpr_SRF[i], tpr_SRF[i])\n",
        "\n",
        "# Compute micro-average ROC curve and ROC area\n",
        "fpr_SRF[\"micro\"], tpr_SRF[\"micro\"], _ = roc_curve(y_test.ravel(), y_score_SRF.ravel())\n",
        "roc_auc_SRF[\"micro\"] = auc(fpr_SRF[\"micro\"], tpr_SRF[\"micro\"])"
      ],
      "metadata": {
        "id": "-WyB74SJwZfl"
      },
      "execution_count": null,
      "outputs": []
    },
    {
      "cell_type": "code",
      "source": [
        "all_fpr_SRF = np.unique(np.concatenate([fpr_SRF[i] for i in range(n_classes)]))\n",
        "\n",
        "# Then interpolate all ROC curves at this points\n",
        "mean_tpr_SRF = np.zeros_like(all_fpr_SRF)\n",
        "for i in range(n_classes):\n",
        "    mean_tpr_SRF += np.interp(all_fpr_SRF, fpr_SRF[i], tpr_SRF[i])\n",
        "\n",
        "# Finally average it and compute AUC\n",
        "mean_tpr_SRF /= n_classes\n",
        "\n",
        "fpr_SRF[\"macro\"] = all_fpr_SRF\n",
        "tpr_SRF[\"macro\"] = mean_tpr_SRF\n",
        "roc_auc_SRF[\"macro\"] = auc(fpr_SRF[\"macro\"], tpr_SRF[\"macro\"])\n",
        "\n",
        "# Plot all ROC curves\n",
        "plt.figure()\n",
        "plt.plot(\n",
        "    fpr_SRF[\"micro\"],\n",
        "    tpr_SRF[\"micro\"],\n",
        "    label=\"micro-average ROC curve (area = {0:0.2f})\".format(roc_auc_SRF[\"micro\"]),\n",
        "    color=\"deeppink\",\n",
        "    linestyle=\"-\",\n",
        "    linewidth=4,\n",
        ")\n",
        "\n",
        "plt.plot(\n",
        "    fpr_SRF[\"macro\"],\n",
        "    tpr_SRF[\"macro\"],\n",
        "    label=\"macro-average ROC curve (area = {0:0.2f})\".format(roc_auc_SRF[\"macro\"]),\n",
        "    color=\"navy\",\n",
        "    linestyle=\"-\",\n",
        "    linewidth=4,\n",
        ")\n",
        "\n",
        "plt.plot([0, 1], [0, 1], \"k--\")\n",
        "plt.xlim([0.0, 1.0])\n",
        "plt.ylim([0.0, 1.05])\n",
        "plt.xlabel(\"False Positive Rate\")\n",
        "plt.ylabel(\"True Positive Rate\")\n",
        "plt.title(\"Some extension of Receiver operating characteristic to multiclass\")\n",
        "plt.legend(loc=\"lower right\")\n",
        "plt.show()"
      ],
      "metadata": {
        "colab": {
          "base_uri": "https://localhost:8080/",
          "height": 295
        },
        "id": "Pq1s5ltBwbm6",
        "outputId": "c136b1db-c103-42ff-955f-93a70362632f"
      },
      "execution_count": null,
      "outputs": [
        {
          "output_type": "display_data",
          "data": {
            "text/plain": [
              "<Figure size 432x288 with 1 Axes>"
            ],
            "image/png": "[encoded data removed]"
          },
          "metadata": {
            "needs_background": "light"
          }
        }
      ]
    },
    {
      "cell_type": "markdown",
      "source": [
        "**Stacking Neural Network**"
      ],
      "metadata": {
        "id": "XlprC7AZ8fJO"
      }
    },
    {
      "cell_type": "code",
      "source": [
        "from sklearn.ensemble import RandomForestClassifier\n",
        "classifier_SNN = OneVsRestClassifier(StackingClassifier(estimators=estimators, n_jobs=-1,final_estimator=nnc))\n",
        "y_score_SNN = classifier_SNN.fit(X_train, y_train).predict_proba(X_test)"
      ],
      "metadata": {
        "id": "dD9HrgzPwu7u"
      },
      "execution_count": null,
      "outputs": []
    },
    {
      "cell_type": "code",
      "source": [
        "fpr_SNN = dict()\n",
        "tpr_SNN = dict()\n",
        "roc_auc_SNN = dict()\n",
        "for i in range(n_classes):\n",
        "    fpr_SNN[i], tpr_SNN[i], threshold = roc_curve(y_test[:, i], y_score_SNN[:, i])\n",
        "    roc_auc_SNN[i] = auc(fpr_SNN[i], tpr_SNN[i])\n",
        "\n",
        "# Compute micro-average ROC curve and ROC area\n",
        "fpr_SNN[\"micro\"], tpr_SNN[\"micro\"], _ = roc_curve(y_test.ravel(), y_score_SNN.ravel())\n",
        "roc_auc_SNN[\"micro\"] = auc(fpr_SNN[\"micro\"], tpr_SNN[\"micro\"])"
      ],
      "metadata": {
        "id": "iFJ-edWEw6Q8"
      },
      "execution_count": null,
      "outputs": []
    },
    {
      "cell_type": "code",
      "source": [
        "all_fpr_SNN = np.unique(np.concatenate([fpr_SNN[i] for i in range(n_classes)]))\n",
        "\n",
        "# Then interpolate all ROC curves at this points\n",
        "mean_tpr_SNN = np.zeros_like(all_fpr_SNN)\n",
        "for i in range(n_classes):\n",
        "    mean_tpr_SNN += np.interp(all_fpr_SNN, fpr_SNN[i], tpr_SNN[i])\n",
        "\n",
        "# Finally average it and compute AUC\n",
        "mean_tpr_SNN /= n_classes\n",
        "\n",
        "fpr_SNN[\"macro\"] = all_fpr_SNN\n",
        "tpr_SNN[\"macro\"] = mean_tpr_SNN\n",
        "roc_auc_SNN[\"macro\"] = auc(fpr_SNN[\"macro\"], tpr_SNN[\"macro\"])\n",
        "\n",
        "# Plot all ROC curves\n",
        "plt.figure()\n",
        "plt.plot(\n",
        "    fpr_SNN[\"micro\"],\n",
        "    tpr_SNN[\"micro\"],\n",
        "    label=\"micro-average ROC curve (area = {0:0.2f})\".format(roc_auc_SNN[\"micro\"]),\n",
        "    color=\"deeppink\",\n",
        "    linestyle=\"-\",\n",
        "    linewidth=4,\n",
        ")\n",
        "\n",
        "plt.plot(\n",
        "    fpr_SNN[\"macro\"],\n",
        "    tpr_SNN[\"macro\"],\n",
        "    label=\"macro-average ROC curve (area = {0:0.2f})\".format(roc_auc_SNN[\"macro\"]),\n",
        "    color=\"navy\",\n",
        "    linestyle=\"-\",\n",
        "    linewidth=4,\n",
        ")\n",
        "\n",
        "plt.plot([0, 1], [0, 1], \"k--\")\n",
        "plt.xlim([0.0, 1.0])\n",
        "plt.ylim([0.0, 1.05])\n",
        "plt.xlabel(\"False Positive Rate\")\n",
        "plt.ylabel(\"True Positive Rate\")\n",
        "plt.title(\"Some extension of Receiver operating characteristic to multiclass\")\n",
        "plt.legend(loc=\"lower right\")\n",
        "plt.show()"
      ],
      "metadata": {
        "colab": {
          "base_uri": "https://localhost:8080/",
          "height": 295
        },
        "id": "Qu5zY2rpw8H_",
        "outputId": "6725360d-52b1-40b2-e389-6c0ea4184fcb"
      },
      "execution_count": null,
      "outputs": [
        {
          "output_type": "display_data",
          "data": {
            "text/plain": [
              "<Figure size 432x288 with 1 Axes>"
            ],
            "image/png": "[encoded data removed]"
          },
          "metadata": {
            "needs_background": "light"
          }
        }
      ]
    },
    {
      "cell_type": "markdown",
      "source": [
        "**Micro All ROC**"
      ],
      "metadata": {
        "id": "Ir7V0aUQ9BGU"
      }
    },
    {
      "cell_type": "code",
      "source": [
        "#SVM\n",
        "plt.figure()\n",
        "plt.plot(\n",
        "    fpr_SVM[\"micro\"],\n",
        "    tpr_SVM[\"micro\"],\n",
        "    label=\"SVM:(area = {0:0.2f})\".format(roc_auc_SVM[\"micro\"]),\n",
        "    color=\"blue\",\n",
        "    linestyle=\"-\",\n",
        "    linewidth=1,\n",
        ")\n",
        "\n",
        "#DT\n",
        "plt.plot(\n",
        "    fpr_DT[\"micro\"],\n",
        "    tpr_DT[\"micro\"],\n",
        "    label=\"DT :(area = {0:0.2f})\".format(roc_auc_DT[\"micro\"]),\n",
        "    color=\"green\",\n",
        "    linestyle=\"-\",\n",
        "    linewidth=1,\n",
        ")\n",
        "\n",
        "#NB\n",
        "plt.plot(\n",
        "    fpr_KNN[\"micro\"],\n",
        "    tpr_KNN[\"micro\"],\n",
        "    label=\"NB :(area = {0:0.2f})\".format(roc_auc_KNN[\"micro\"]),\n",
        "    color=\"red\",\n",
        "    linestyle=\"-\",\n",
        "    linewidth=1,\n",
        ")\n",
        "\n",
        "#ANN\n",
        "plt.plot(\n",
        "    fpr_ANN[\"micro\"],\n",
        "    tpr_ANN[\"micro\"],\n",
        "    label=\"ANN :(area = {0:0.2f})\".format(roc_auc_ANN[\"micro\"]),\n",
        "    color=\"cyan\",\n",
        "    linestyle=\"-\",\n",
        "    linewidth=1,\n",
        ")\n",
        "\n",
        "#RF\n",
        "plt.plot(\n",
        "    fpr_RF[\"micro\"],\n",
        "    tpr_RF[\"micro\"],\n",
        "    label=\"RF :(area = {0:0.2f})\".format(roc_auc_RF[\"micro\"]),\n",
        "    color=\"black\",\n",
        "    linestyle=\"-\",\n",
        "    linewidth=1,\n",
        ")\n",
        "\n",
        "#GB\n",
        "plt.plot(\n",
        "    fpr_GB[\"micro\"],\n",
        "    tpr_GB[\"micro\"],\n",
        "    label=\"GB :(area = {0:0.2f})\".format(roc_auc_GB[\"micro\"]),\n",
        "    color=\"magenta\",\n",
        "    linestyle=\"-\",\n",
        "    linewidth=1,\n",
        ")\n",
        "\n",
        "#XGB\n",
        "plt.plot(\n",
        "    fpr_xgb[\"micro\"],\n",
        "    tpr_xgb[\"micro\"],\n",
        "    label=\"XGB :(area = {0:0.2f})\".format(roc_auc_xgb[\"micro\"]),\n",
        "    color=\"yellow\",\n",
        "    linestyle=\"-\",\n",
        "    linewidth=1,\n",
        ")\n",
        "\n",
        "#SRF\n",
        "plt.plot(\n",
        "    fpr_SRF[\"micro\"],\n",
        "    tpr_SRF[\"micro\"],\n",
        "    label=\"SRF :(area = {0:0.2f})\".format(roc_auc_SRF[\"micro\"]),\n",
        "    color=\"deeppink\",\n",
        "    linestyle=\"-\",\n",
        "    linewidth=1,\n",
        ")\n",
        "\n",
        "#SANN\n",
        "plt.plot(\n",
        "    fpr_SNN[\"micro\"],\n",
        "    tpr_SNN[\"micro\"],\n",
        "    label=\"SANN :(area = {0:0.2f})\".format(roc_auc_SNN[\"micro\"]),\n",
        "    color=\"deeppink\",\n",
        "    linestyle=\"-\",\n",
        "    linewidth=1,\n",
        ")\n",
        "plt.plot([0, 1], [0, 1], \"k--\")\n",
        "plt.xlim([0.0, 1.0])\n",
        "plt.ylim([0.0, 1.05])\n",
        "plt.xlabel(\"False Positive Rate\")\n",
        "plt.ylabel(\"True Positive Rate\")\n",
        "plt.title(\"Receiver operating characteristic\")\n",
        "plt.legend(loc=\"lower right\")\n",
        "plt.show()"
      ],
      "metadata": {
        "colab": {
          "base_uri": "https://localhost:8080/",
          "height": 295
        },
        "id": "TjP6tUDg9DQD",
        "outputId": "f16f4176-672a-4d1c-cb0d-3a718cab21b4"
      },
      "execution_count": null,
      "outputs": [
        {
          "output_type": "display_data",
          "data": {
            "text/plain": [
              "<Figure size 432x288 with 1 Axes>"
            ],
            "image/png": "[encoded data removed]"
          },
          "metadata": {
            "needs_background": "light"
          }
        }
      ]
    }
  ]
}
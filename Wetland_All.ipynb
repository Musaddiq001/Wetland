{
  "cells": [
    {
      "cell_type": "markdown",
      "metadata": {
        "id": "EQhi4tayKUcM"
      },
      "source": [
        "**Libraries**"
      ]
    },
    {
      "cell_type": "code",
      "execution_count": null,
      "metadata": {
        "id": "nI5C4bozJ_Gl"
      },
      "outputs": [],
      "source": [
        "import numpy as np\n",
        "import matplotlib.pyplot as plt\n",
        "import pandas as pd\n",
        "import seaborn as sns\n",
        "from sklearn.metrics import classification_report\n",
        "from sklearn.metrics import accuracy_score\n",
        "from sklearn.metrics import roc_curve, roc_auc_score\n",
        "from sklearn.multiclass import OneVsRestClassifier\n",
        "from sklearn.metrics import roc_curve, auc"
      ]
    },
    {
      "cell_type": "markdown",
      "metadata": {
        "id": "R_NlcBpVKjQy"
      },
      "source": [
        "**Dataset**"
      ]
    },
    {
      "cell_type": "code",
      "execution_count": null,
      "metadata": {
        "id": "t240-3n0Kk4J"
      },
      "outputs": [],
      "source": [
        "dataset = pd.read_csv('/content/drive/MyDrive/Wetland/T500.csv')"
      ]
    },
    {
      "cell_type": "code",
      "execution_count": null,
      "metadata": {
        "colab": {
          "base_uri": "https://localhost:8080/",
          "height": 206
        },
        "id": "74fGzKafMuI8",
        "outputId": "540c09d2-4531-411f-e9bc-fecb3ca9e87a"
      },
      "outputs": [
        {
          "output_type": "execute_result",
          "data": {
            "text/plain": [
              "   Sl  VZ           A         R    P  So  G\n",
              "0   1   1  123.693001  0.000000  0.0   1  3\n",
              "1   2   1   42.426399  0.000000  0.0   1  5\n",
              "2   3   1    0.000000  0.006859  0.0   1  4\n",
              "3   4   1  234.307007  0.007808  0.0   1  4\n",
              "4   5   1  174.929001  0.007808  0.0   1  4"
            ],
            "text/html": [
              "\n",
              "  <div id=\"df-a488ce5f-8c51-48fa-a5aa-dc369ddb52ac\">\n",
              "    <div class=\"colab-df-container\">\n",
              "      <div>\n",
              "<style scoped>\n",
              "    .dataframe tbody tr th:only-of-type {\n",
              "        vertical-align: middle;\n",
              "    }\n",
              "\n",
              "    .dataframe tbody tr th {\n",
              "        vertical-align: top;\n",
              "    }\n",
              "\n",
              "    .dataframe thead th {\n",
              "        text-align: right;\n",
              "    }\n",
              "</style>\n",
              "<table border=\"1\" class=\"dataframe\">\n",
              "  <thead>\n",
              "    <tr style=\"text-align: right;\">\n",
              "      <th></th>\n",
              "      <th>Sl</th>\n",
              "      <th>VZ</th>\n",
              "      <th>A</th>\n",
              "      <th>R</th>\n",
              "      <th>P</th>\n",
              "      <th>So</th>\n",
              "      <th>G</th>\n",
              "    </tr>\n",
              "  </thead>\n",
              "  <tbody>\n",
              "    <tr>\n",
              "      <th>0</th>\n",
              "      <td>1</td>\n",
              "      <td>1</td>\n",
              "      <td>123.693001</td>\n",
              "      <td>0.000000</td>\n",
              "      <td>0.0</td>\n",
              "      <td>1</td>\n",
              "      <td>3</td>\n",
              "    </tr>\n",
              "    <tr>\n",
              "      <th>1</th>\n",
              "      <td>2</td>\n",
              "      <td>1</td>\n",
              "      <td>42.426399</td>\n",
              "      <td>0.000000</td>\n",
              "      <td>0.0</td>\n",
              "      <td>1</td>\n",
              "      <td>5</td>\n",
              "    </tr>\n",
              "    <tr>\n",
              "      <th>2</th>\n",
              "      <td>3</td>\n",
              "      <td>1</td>\n",
              "      <td>0.000000</td>\n",
              "      <td>0.006859</td>\n",
              "      <td>0.0</td>\n",
              "      <td>1</td>\n",
              "      <td>4</td>\n",
              "    </tr>\n",
              "    <tr>\n",
              "      <th>3</th>\n",
              "      <td>4</td>\n",
              "      <td>1</td>\n",
              "      <td>234.307007</td>\n",
              "      <td>0.007808</td>\n",
              "      <td>0.0</td>\n",
              "      <td>1</td>\n",
              "      <td>4</td>\n",
              "    </tr>\n",
              "    <tr>\n",
              "      <th>4</th>\n",
              "      <td>5</td>\n",
              "      <td>1</td>\n",
              "      <td>174.929001</td>\n",
              "      <td>0.007808</td>\n",
              "      <td>0.0</td>\n",
              "      <td>1</td>\n",
              "      <td>4</td>\n",
              "    </tr>\n",
              "  </tbody>\n",
              "</table>\n",
              "</div>\n",
              "      <button class=\"colab-df-convert\" onclick=\"convertToInteractive('df-a488ce5f-8c51-48fa-a5aa-dc369ddb52ac')\"\n",
              "              title=\"Convert this dataframe to an interactive table.\"\n",
              "              style=\"display:none;\">\n",
              "        \n",
              "  <svg xmlns=\"http://www.w3.org/2000/svg\" height=\"24px\"viewBox=\"0 0 24 24\"\n",
              "       width=\"24px\">\n",
              "    <path d=\"M0 0h24v24H0V0z\" fill=\"none\"/>\n",
              "    <path d=\"M18.56 5.44l.94 2.06.94-2.06 2.06-.94-2.06-.94-.94-2.06-.94 2.06-2.06.94zm-11 1L8.5 8.5l.94-2.06 2.06-.94-2.06-.94L8.5 2.5l-.94 2.06-2.06.94zm10 10l.94 2.06.94-2.06 2.06-.94-2.06-.94-.94-2.06-.94 2.06-2.06.94z\"/><path d=\"M17.41 7.96l-1.37-1.37c-.4-.4-.92-.59-1.43-.59-.52 0-1.04.2-1.43.59L10.3 9.45l-7.72 7.72c-.78.78-.78 2.05 0 2.83L4 21.41c.39.39.9.59 1.41.59.51 0 1.02-.2 1.41-.59l7.78-7.78 2.81-2.81c.8-.78.8-2.07 0-2.86zM5.41 20L4 18.59l7.72-7.72 1.47 1.35L5.41 20z\"/>\n",
              "  </svg>\n",
              "      </button>\n",
              "      \n",
              "  <style>\n",
              "    .colab-df-container {\n",
              "      display:flex;\n",
              "      flex-wrap:wrap;\n",
              "      gap: 12px;\n",
              "    }\n",
              "\n",
              "    .colab-df-convert {\n",
              "      background-color: #E8F0FE;\n",
              "      border: none;\n",
              "      border-radius: 50%;\n",
              "      cursor: pointer;\n",
              "      display: none;\n",
              "      fill: #1967D2;\n",
              "      height: 32px;\n",
              "      padding: 0 0 0 0;\n",
              "      width: 32px;\n",
              "    }\n",
              "\n",
              "    .colab-df-convert:hover {\n",
              "      background-color: #E2EBFA;\n",
              "      box-shadow: 0px 1px 2px rgba(60, 64, 67, 0.3), 0px 1px 3px 1px rgba(60, 64, 67, 0.15);\n",
              "      fill: #174EA6;\n",
              "    }\n",
              "\n",
              "    [theme=dark] .colab-df-convert {\n",
              "      background-color: #3B4455;\n",
              "      fill: #D2E3FC;\n",
              "    }\n",
              "\n",
              "    [theme=dark] .colab-df-convert:hover {\n",
              "      background-color: #434B5C;\n",
              "      box-shadow: 0px 1px 3px 1px rgba(0, 0, 0, 0.15);\n",
              "      filter: drop-shadow(0px 1px 2px rgba(0, 0, 0, 0.3));\n",
              "      fill: #FFFFFF;\n",
              "    }\n",
              "  </style>\n",
              "\n",
              "      <script>\n",
              "        const buttonEl =\n",
              "          document.querySelector('#df-a488ce5f-8c51-48fa-a5aa-dc369ddb52ac button.colab-df-convert');\n",
              "        buttonEl.style.display =\n",
              "          google.colab.kernel.accessAllowed ? 'block' : 'none';\n",
              "\n",
              "        async function convertToInteractive(key) {\n",
              "          const element = document.querySelector('#df-a488ce5f-8c51-48fa-a5aa-dc369ddb52ac');\n",
              "          const dataTable =\n",
              "            await google.colab.kernel.invokeFunction('convertToInteractive',\n",
              "                                                     [key], {});\n",
              "          if (!dataTable) return;\n",
              "\n",
              "          const docLinkHtml = 'Like what you see? Visit the ' +\n",
              "            '<a target=\"_blank\" href=https://colab.research.google.com/notebooks/data_table.ipynb>data table notebook</a>'\n",
              "            + ' to learn more about interactive tables.';\n",
              "          element.innerHTML = '';\n",
              "          dataTable['output_type'] = 'display_data';\n",
              "          await google.colab.output.renderOutput(dataTable, element);\n",
              "          const docLink = document.createElement('div');\n",
              "          docLink.innerHTML = docLinkHtml;\n",
              "          element.appendChild(docLink);\n",
              "        }\n",
              "      </script>\n",
              "    </div>\n",
              "  </div>\n",
              "  "
            ]
          },
          "metadata": {},
          "execution_count": 3
        }
      ],
      "source": [
        "dataset.head()"
      ]
    },
    {
      "cell_type": "code",
      "execution_count": null,
      "metadata": {
        "colab": {
          "base_uri": "https://localhost:8080/",
          "height": 206
        },
        "id": "Ck9t0OhrMwKx",
        "outputId": "f48f11f0-c1da-439d-b541-39c3194858fe"
      },
      "outputs": [
        {
          "output_type": "execute_result",
          "data": {
            "text/plain": [
              "      Sl  VZ      A         R    P  So  G\n",
              "248  249   5  450.0  0.012647  0.0   3  3\n",
              "249  250   5  450.0  0.012587  0.0   3  3\n",
              "250  251   5  450.0  0.001301  0.0   1  0\n",
              "251  252   5  450.0  0.013888  0.0   3  3\n",
              "252  253   5  450.0  0.000000  0.0   3  3"
            ],
            "text/html": [
              "\n",
              "  <div id=\"df-648a6513-b654-44d2-b1af-20082ab54f4d\">\n",
              "    <div class=\"colab-df-container\">\n",
              "      <div>\n",
              "<style scoped>\n",
              "    .dataframe tbody tr th:only-of-type {\n",
              "        vertical-align: middle;\n",
              "    }\n",
              "\n",
              "    .dataframe tbody tr th {\n",
              "        vertical-align: top;\n",
              "    }\n",
              "\n",
              "    .dataframe thead th {\n",
              "        text-align: right;\n",
              "    }\n",
              "</style>\n",
              "<table border=\"1\" class=\"dataframe\">\n",
              "  <thead>\n",
              "    <tr style=\"text-align: right;\">\n",
              "      <th></th>\n",
              "      <th>Sl</th>\n",
              "      <th>VZ</th>\n",
              "      <th>A</th>\n",
              "      <th>R</th>\n",
              "      <th>P</th>\n",
              "      <th>So</th>\n",
              "      <th>G</th>\n",
              "    </tr>\n",
              "  </thead>\n",
              "  <tbody>\n",
              "    <tr>\n",
              "      <th>248</th>\n",
              "      <td>249</td>\n",
              "      <td>5</td>\n",
              "      <td>450.0</td>\n",
              "      <td>0.012647</td>\n",
              "      <td>0.0</td>\n",
              "      <td>3</td>\n",
              "      <td>3</td>\n",
              "    </tr>\n",
              "    <tr>\n",
              "      <th>249</th>\n",
              "      <td>250</td>\n",
              "      <td>5</td>\n",
              "      <td>450.0</td>\n",
              "      <td>0.012587</td>\n",
              "      <td>0.0</td>\n",
              "      <td>3</td>\n",
              "      <td>3</td>\n",
              "    </tr>\n",
              "    <tr>\n",
              "      <th>250</th>\n",
              "      <td>251</td>\n",
              "      <td>5</td>\n",
              "      <td>450.0</td>\n",
              "      <td>0.001301</td>\n",
              "      <td>0.0</td>\n",
              "      <td>1</td>\n",
              "      <td>0</td>\n",
              "    </tr>\n",
              "    <tr>\n",
              "      <th>251</th>\n",
              "      <td>252</td>\n",
              "      <td>5</td>\n",
              "      <td>450.0</td>\n",
              "      <td>0.013888</td>\n",
              "      <td>0.0</td>\n",
              "      <td>3</td>\n",
              "      <td>3</td>\n",
              "    </tr>\n",
              "    <tr>\n",
              "      <th>252</th>\n",
              "      <td>253</td>\n",
              "      <td>5</td>\n",
              "      <td>450.0</td>\n",
              "      <td>0.000000</td>\n",
              "      <td>0.0</td>\n",
              "      <td>3</td>\n",
              "      <td>3</td>\n",
              "    </tr>\n",
              "  </tbody>\n",
              "</table>\n",
              "</div>\n",
              "      <button class=\"colab-df-convert\" onclick=\"convertToInteractive('df-648a6513-b654-44d2-b1af-20082ab54f4d')\"\n",
              "              title=\"Convert this dataframe to an interactive table.\"\n",
              "              style=\"display:none;\">\n",
              "        \n",
              "  <svg xmlns=\"http://www.w3.org/2000/svg\" height=\"24px\"viewBox=\"0 0 24 24\"\n",
              "       width=\"24px\">\n",
              "    <path d=\"M0 0h24v24H0V0z\" fill=\"none\"/>\n",
              "    <path d=\"M18.56 5.44l.94 2.06.94-2.06 2.06-.94-2.06-.94-.94-2.06-.94 2.06-2.06.94zm-11 1L8.5 8.5l.94-2.06 2.06-.94-2.06-.94L8.5 2.5l-.94 2.06-2.06.94zm10 10l.94 2.06.94-2.06 2.06-.94-2.06-.94-.94-2.06-.94 2.06-2.06.94z\"/><path d=\"M17.41 7.96l-1.37-1.37c-.4-.4-.92-.59-1.43-.59-.52 0-1.04.2-1.43.59L10.3 9.45l-7.72 7.72c-.78.78-.78 2.05 0 2.83L4 21.41c.39.39.9.59 1.41.59.51 0 1.02-.2 1.41-.59l7.78-7.78 2.81-2.81c.8-.78.8-2.07 0-2.86zM5.41 20L4 18.59l7.72-7.72 1.47 1.35L5.41 20z\"/>\n",
              "  </svg>\n",
              "      </button>\n",
              "      \n",
              "  <style>\n",
              "    .colab-df-container {\n",
              "      display:flex;\n",
              "      flex-wrap:wrap;\n",
              "      gap: 12px;\n",
              "    }\n",
              "\n",
              "    .colab-df-convert {\n",
              "      background-color: #E8F0FE;\n",
              "      border: none;\n",
              "      border-radius: 50%;\n",
              "      cursor: pointer;\n",
              "      display: none;\n",
              "      fill: #1967D2;\n",
              "      height: 32px;\n",
              "      padding: 0 0 0 0;\n",
              "      width: 32px;\n",
              "    }\n",
              "\n",
              "    .colab-df-convert:hover {\n",
              "      background-color: #E2EBFA;\n",
              "      box-shadow: 0px 1px 2px rgba(60, 64, 67, 0.3), 0px 1px 3px 1px rgba(60, 64, 67, 0.15);\n",
              "      fill: #174EA6;\n",
              "    }\n",
              "\n",
              "    [theme=dark] .colab-df-convert {\n",
              "      background-color: #3B4455;\n",
              "      fill: #D2E3FC;\n",
              "    }\n",
              "\n",
              "    [theme=dark] .colab-df-convert:hover {\n",
              "      background-color: #434B5C;\n",
              "      box-shadow: 0px 1px 3px 1px rgba(0, 0, 0, 0.15);\n",
              "      filter: drop-shadow(0px 1px 2px rgba(0, 0, 0, 0.3));\n",
              "      fill: #FFFFFF;\n",
              "    }\n",
              "  </style>\n",
              "\n",
              "      <script>\n",
              "        const buttonEl =\n",
              "          document.querySelector('#df-648a6513-b654-44d2-b1af-20082ab54f4d button.colab-df-convert');\n",
              "        buttonEl.style.display =\n",
              "          google.colab.kernel.accessAllowed ? 'block' : 'none';\n",
              "\n",
              "        async function convertToInteractive(key) {\n",
              "          const element = document.querySelector('#df-648a6513-b654-44d2-b1af-20082ab54f4d');\n",
              "          const dataTable =\n",
              "            await google.colab.kernel.invokeFunction('convertToInteractive',\n",
              "                                                     [key], {});\n",
              "          if (!dataTable) return;\n",
              "\n",
              "          const docLinkHtml = 'Like what you see? Visit the ' +\n",
              "            '<a target=\"_blank\" href=https://colab.research.google.com/notebooks/data_table.ipynb>data table notebook</a>'\n",
              "            + ' to learn more about interactive tables.';\n",
              "          element.innerHTML = '';\n",
              "          dataTable['output_type'] = 'display_data';\n",
              "          await google.colab.output.renderOutput(dataTable, element);\n",
              "          const docLink = document.createElement('div');\n",
              "          docLink.innerHTML = docLinkHtml;\n",
              "          element.appendChild(docLink);\n",
              "        }\n",
              "      </script>\n",
              "    </div>\n",
              "  </div>\n",
              "  "
            ]
          },
          "metadata": {},
          "execution_count": 4
        }
      ],
      "source": [
        "dataset.tail()"
      ]
    },
    {
      "cell_type": "code",
      "execution_count": null,
      "metadata": {
        "colab": {
          "base_uri": "https://localhost:8080/"
        },
        "id": "2u4qavFUNIwB",
        "outputId": "2fd5de74-728c-4f82-c748-aa4bb34ece06"
      },
      "outputs": [
        {
          "output_type": "execute_result",
          "data": {
            "text/plain": [
              "Index(['Sl', 'VZ', 'A', 'R', 'P', 'So', 'G'], dtype='object')"
            ]
          },
          "metadata": {},
          "execution_count": 5
        }
      ],
      "source": [
        "dataset.columns"
      ]
    },
    {
      "cell_type": "code",
      "execution_count": null,
      "metadata": {
        "colab": {
          "base_uri": "https://localhost:8080/"
        },
        "id": "OAyuugKLK4zQ",
        "outputId": "d53fa475-972c-41da-ed46-8baf617a4235"
      },
      "outputs": [
        {
          "output_type": "stream",
          "name": "stdout",
          "text": [
            "<class 'pandas.core.frame.DataFrame'>\n",
            "RangeIndex: 253 entries, 0 to 252\n",
            "Data columns (total 7 columns):\n",
            " #   Column  Non-Null Count  Dtype  \n",
            "---  ------  --------------  -----  \n",
            " 0   Sl      253 non-null    int64  \n",
            " 1   VZ      253 non-null    int64  \n",
            " 2   A       253 non-null    float64\n",
            " 3   R       253 non-null    float64\n",
            " 4   P       253 non-null    float64\n",
            " 5   So      253 non-null    int64  \n",
            " 6   G       253 non-null    int64  \n",
            "dtypes: float64(3), int64(4)\n",
            "memory usage: 14.0 KB\n"
          ]
        }
      ],
      "source": [
        "dataset.info()"
      ]
    },
    {
      "cell_type": "code",
      "execution_count": null,
      "metadata": {
        "colab": {
          "base_uri": "https://localhost:8080/"
        },
        "id": "h_9gL2xeNUoQ",
        "outputId": "1caca403-585a-4465-cdb4-0e11ceb03bd9"
      },
      "outputs": [
        {
          "output_type": "execute_result",
          "data": {
            "text/plain": [
              "(253, 7)"
            ]
          },
          "metadata": {},
          "execution_count": 7
        }
      ],
      "source": [
        "dataset.shape"
      ]
    },
    {
      "cell_type": "code",
      "execution_count": null,
      "metadata": {
        "id": "F4VIYqXKNmZh"
      },
      "outputs": [],
      "source": [
        "dataset.dropna(inplace = True)"
      ]
    },
    {
      "cell_type": "code",
      "execution_count": null,
      "metadata": {
        "colab": {
          "base_uri": "https://localhost:8080/"
        },
        "id": "KtpO1QgENeAp",
        "outputId": "9e754181-3c5c-4b46-d5db-a32659837a14"
      },
      "outputs": [
        {
          "output_type": "execute_result",
          "data": {
            "text/plain": [
              "Sl    0\n",
              "VZ    0\n",
              "A     0\n",
              "R     0\n",
              "P     0\n",
              "So    0\n",
              "G     0\n",
              "dtype: int64"
            ]
          },
          "metadata": {},
          "execution_count": 9
        }
      ],
      "source": [
        "dataset.isnull().sum()"
      ]
    },
    {
      "cell_type": "code",
      "execution_count": null,
      "metadata": {
        "colab": {
          "base_uri": "https://localhost:8080/"
        },
        "id": "T91Y6lATODkx",
        "outputId": "67030460-ef96-4ae8-a397-25ca7a601165"
      },
      "outputs": [
        {
          "output_type": "execute_result",
          "data": {
            "text/plain": [
              "array([1, 2, 3, 4, 5])"
            ]
          },
          "metadata": {},
          "execution_count": 10
        }
      ],
      "source": [
        "dataset['VZ'].unique()"
      ]
    },
    {
      "cell_type": "code",
      "execution_count": null,
      "metadata": {
        "colab": {
          "base_uri": "https://localhost:8080/"
        },
        "id": "p4VprfyhLBOg",
        "outputId": "97e5ae91-5e89-4dcd-8297-d40e560ee87f"
      },
      "outputs": [
        {
          "output_type": "execute_result",
          "data": {
            "text/plain": [
              "2    51\n",
              "3    51\n",
              "4    51\n",
              "5    51\n",
              "1    49\n",
              "Name: VZ, dtype: int64"
            ]
          },
          "metadata": {},
          "execution_count": 11
        }
      ],
      "source": [
        "dataset['VZ'].value_counts()"
      ]
    },
    {
      "cell_type": "code",
      "execution_count": null,
      "metadata": {
        "colab": {
          "base_uri": "https://localhost:8080/",
          "height": 269
        },
        "id": "jAV1S-KlOPDh",
        "outputId": "8104fed7-1d76-44d8-9458-3756905c54ce"
      },
      "outputs": [
        {
          "output_type": "execute_result",
          "data": {
            "text/plain": [
              "    count        mean         std  min        25%         50%         75%  \\\n",
              "Sl  253.0  127.000000   73.179004  1.0  64.000000  127.000000  190.000000   \n",
              "VZ  253.0    3.015810    1.411316  1.0   2.000000    3.000000    4.000000   \n",
              "A   253.0  233.964372  191.803828  0.0  30.000000  250.000000  350.000000   \n",
              "R   253.0    0.009280    0.020716  0.0   0.002454    0.005656    0.008422   \n",
              "P   253.0    7.275771   19.239640  0.0   0.000000    0.000000    0.000000   \n",
              "So  253.0    2.276680    0.865183  1.0   1.000000    3.000000    3.000000   \n",
              "G   253.0    4.332016    1.630696  0.0   3.000000    4.000000    6.000000   \n",
              "\n",
              "           max  \n",
              "Sl  253.000000  \n",
              "VZ    5.000000  \n",
              "A   844.807983  \n",
              "R     0.150000  \n",
              "P    65.280197  \n",
              "So    3.000000  \n",
              "G     7.000000  "
            ],
            "text/html": [
              "\n",
              "  <div id=\"df-3b6b0dd3-d1e2-4d45-b4a6-bf2b85f7aac2\">\n",
              "    <div class=\"colab-df-container\">\n",
              "      <div>\n",
              "<style scoped>\n",
              "    .dataframe tbody tr th:only-of-type {\n",
              "        vertical-align: middle;\n",
              "    }\n",
              "\n",
              "    .dataframe tbody tr th {\n",
              "        vertical-align: top;\n",
              "    }\n",
              "\n",
              "    .dataframe thead th {\n",
              "        text-align: right;\n",
              "    }\n",
              "</style>\n",
              "<table border=\"1\" class=\"dataframe\">\n",
              "  <thead>\n",
              "    <tr style=\"text-align: right;\">\n",
              "      <th></th>\n",
              "      <th>count</th>\n",
              "      <th>mean</th>\n",
              "      <th>std</th>\n",
              "      <th>min</th>\n",
              "      <th>25%</th>\n",
              "      <th>50%</th>\n",
              "      <th>75%</th>\n",
              "      <th>max</th>\n",
              "    </tr>\n",
              "  </thead>\n",
              "  <tbody>\n",
              "    <tr>\n",
              "      <th>Sl</th>\n",
              "      <td>253.0</td>\n",
              "      <td>127.000000</td>\n",
              "      <td>73.179004</td>\n",
              "      <td>1.0</td>\n",
              "      <td>64.000000</td>\n",
              "      <td>127.000000</td>\n",
              "      <td>190.000000</td>\n",
              "      <td>253.000000</td>\n",
              "    </tr>\n",
              "    <tr>\n",
              "      <th>VZ</th>\n",
              "      <td>253.0</td>\n",
              "      <td>3.015810</td>\n",
              "      <td>1.411316</td>\n",
              "      <td>1.0</td>\n",
              "      <td>2.000000</td>\n",
              "      <td>3.000000</td>\n",
              "      <td>4.000000</td>\n",
              "      <td>5.000000</td>\n",
              "    </tr>\n",
              "    <tr>\n",
              "      <th>A</th>\n",
              "      <td>253.0</td>\n",
              "      <td>233.964372</td>\n",
              "      <td>191.803828</td>\n",
              "      <td>0.0</td>\n",
              "      <td>30.000000</td>\n",
              "      <td>250.000000</td>\n",
              "      <td>350.000000</td>\n",
              "      <td>844.807983</td>\n",
              "    </tr>\n",
              "    <tr>\n",
              "      <th>R</th>\n",
              "      <td>253.0</td>\n",
              "      <td>0.009280</td>\n",
              "      <td>0.020716</td>\n",
              "      <td>0.0</td>\n",
              "      <td>0.002454</td>\n",
              "      <td>0.005656</td>\n",
              "      <td>0.008422</td>\n",
              "      <td>0.150000</td>\n",
              "    </tr>\n",
              "    <tr>\n",
              "      <th>P</th>\n",
              "      <td>253.0</td>\n",
              "      <td>7.275771</td>\n",
              "      <td>19.239640</td>\n",
              "      <td>0.0</td>\n",
              "      <td>0.000000</td>\n",
              "      <td>0.000000</td>\n",
              "      <td>0.000000</td>\n",
              "      <td>65.280197</td>\n",
              "    </tr>\n",
              "    <tr>\n",
              "      <th>So</th>\n",
              "      <td>253.0</td>\n",
              "      <td>2.276680</td>\n",
              "      <td>0.865183</td>\n",
              "      <td>1.0</td>\n",
              "      <td>1.000000</td>\n",
              "      <td>3.000000</td>\n",
              "      <td>3.000000</td>\n",
              "      <td>3.000000</td>\n",
              "    </tr>\n",
              "    <tr>\n",
              "      <th>G</th>\n",
              "      <td>253.0</td>\n",
              "      <td>4.332016</td>\n",
              "      <td>1.630696</td>\n",
              "      <td>0.0</td>\n",
              "      <td>3.000000</td>\n",
              "      <td>4.000000</td>\n",
              "      <td>6.000000</td>\n",
              "      <td>7.000000</td>\n",
              "    </tr>\n",
              "  </tbody>\n",
              "</table>\n",
              "</div>\n",
              "      <button class=\"colab-df-convert\" onclick=\"convertToInteractive('df-3b6b0dd3-d1e2-4d45-b4a6-bf2b85f7aac2')\"\n",
              "              title=\"Convert this dataframe to an interactive table.\"\n",
              "              style=\"display:none;\">\n",
              "        \n",
              "  <svg xmlns=\"http://www.w3.org/2000/svg\" height=\"24px\"viewBox=\"0 0 24 24\"\n",
              "       width=\"24px\">\n",
              "    <path d=\"M0 0h24v24H0V0z\" fill=\"none\"/>\n",
              "    <path d=\"M18.56 5.44l.94 2.06.94-2.06 2.06-.94-2.06-.94-.94-2.06-.94 2.06-2.06.94zm-11 1L8.5 8.5l.94-2.06 2.06-.94-2.06-.94L8.5 2.5l-.94 2.06-2.06.94zm10 10l.94 2.06.94-2.06 2.06-.94-2.06-.94-.94-2.06-.94 2.06-2.06.94z\"/><path d=\"M17.41 7.96l-1.37-1.37c-.4-.4-.92-.59-1.43-.59-.52 0-1.04.2-1.43.59L10.3 9.45l-7.72 7.72c-.78.78-.78 2.05 0 2.83L4 21.41c.39.39.9.59 1.41.59.51 0 1.02-.2 1.41-.59l7.78-7.78 2.81-2.81c.8-.78.8-2.07 0-2.86zM5.41 20L4 18.59l7.72-7.72 1.47 1.35L5.41 20z\"/>\n",
              "  </svg>\n",
              "      </button>\n",
              "      \n",
              "  <style>\n",
              "    .colab-df-container {\n",
              "      display:flex;\n",
              "      flex-wrap:wrap;\n",
              "      gap: 12px;\n",
              "    }\n",
              "\n",
              "    .colab-df-convert {\n",
              "      background-color: #E8F0FE;\n",
              "      border: none;\n",
              "      border-radius: 50%;\n",
              "      cursor: pointer;\n",
              "      display: none;\n",
              "      fill: #1967D2;\n",
              "      height: 32px;\n",
              "      padding: 0 0 0 0;\n",
              "      width: 32px;\n",
              "    }\n",
              "\n",
              "    .colab-df-convert:hover {\n",
              "      background-color: #E2EBFA;\n",
              "      box-shadow: 0px 1px 2px rgba(60, 64, 67, 0.3), 0px 1px 3px 1px rgba(60, 64, 67, 0.15);\n",
              "      fill: #174EA6;\n",
              "    }\n",
              "\n",
              "    [theme=dark] .colab-df-convert {\n",
              "      background-color: #3B4455;\n",
              "      fill: #D2E3FC;\n",
              "    }\n",
              "\n",
              "    [theme=dark] .colab-df-convert:hover {\n",
              "      background-color: #434B5C;\n",
              "      box-shadow: 0px 1px 3px 1px rgba(0, 0, 0, 0.15);\n",
              "      filter: drop-shadow(0px 1px 2px rgba(0, 0, 0, 0.3));\n",
              "      fill: #FFFFFF;\n",
              "    }\n",
              "  </style>\n",
              "\n",
              "      <script>\n",
              "        const buttonEl =\n",
              "          document.querySelector('#df-3b6b0dd3-d1e2-4d45-b4a6-bf2b85f7aac2 button.colab-df-convert');\n",
              "        buttonEl.style.display =\n",
              "          google.colab.kernel.accessAllowed ? 'block' : 'none';\n",
              "\n",
              "        async function convertToInteractive(key) {\n",
              "          const element = document.querySelector('#df-3b6b0dd3-d1e2-4d45-b4a6-bf2b85f7aac2');\n",
              "          const dataTable =\n",
              "            await google.colab.kernel.invokeFunction('convertToInteractive',\n",
              "                                                     [key], {});\n",
              "          if (!dataTable) return;\n",
              "\n",
              "          const docLinkHtml = 'Like what you see? Visit the ' +\n",
              "            '<a target=\"_blank\" href=https://colab.research.google.com/notebooks/data_table.ipynb>data table notebook</a>'\n",
              "            + ' to learn more about interactive tables.';\n",
              "          element.innerHTML = '';\n",
              "          dataTable['output_type'] = 'display_data';\n",
              "          await google.colab.output.renderOutput(dataTable, element);\n",
              "          const docLink = document.createElement('div');\n",
              "          docLink.innerHTML = docLinkHtml;\n",
              "          element.appendChild(docLink);\n",
              "        }\n",
              "      </script>\n",
              "    </div>\n",
              "  </div>\n",
              "  "
            ]
          },
          "metadata": {},
          "execution_count": 12
        }
      ],
      "source": [
        "dataset.describe().transpose()"
      ]
    },
    {
      "cell_type": "code",
      "execution_count": null,
      "metadata": {
        "colab": {
          "base_uri": "https://localhost:8080/",
          "height": 269
        },
        "id": "KSXIeVUYObH5",
        "outputId": "7097b1a2-1330-4e43-c937-c359966dbdd0"
      },
      "outputs": [
        {
          "output_type": "execute_result",
          "data": {
            "text/plain": [
              "          Sl        VZ         A         R         P        So         G\n",
              "Sl  1.000000  0.979781  0.881780 -0.019039 -0.492986  0.504484 -0.154231\n",
              "VZ  0.979781  1.000000  0.915616 -0.020350 -0.527031  0.506634 -0.157473\n",
              "A   0.881780  0.915616  1.000000 -0.013779 -0.417324  0.392726 -0.251446\n",
              "R  -0.019039 -0.020350 -0.013779  1.000000 -0.097752  0.106630 -0.013239\n",
              "P  -0.492986 -0.527031 -0.417324 -0.097752  1.000000 -0.483950 -0.130127\n",
              "So  0.504484  0.506634  0.392726  0.106630 -0.483950  1.000000  0.145581\n",
              "G  -0.154231 -0.157473 -0.251446 -0.013239 -0.130127  0.145581  1.000000"
            ],
            "text/html": [
              "\n",
              "  <div id=\"df-20e529f3-114d-433c-aa52-5a950e763680\">\n",
              "    <div class=\"colab-df-container\">\n",
              "      <div>\n",
              "<style scoped>\n",
              "    .dataframe tbody tr th:only-of-type {\n",
              "        vertical-align: middle;\n",
              "    }\n",
              "\n",
              "    .dataframe tbody tr th {\n",
              "        vertical-align: top;\n",
              "    }\n",
              "\n",
              "    .dataframe thead th {\n",
              "        text-align: right;\n",
              "    }\n",
              "</style>\n",
              "<table border=\"1\" class=\"dataframe\">\n",
              "  <thead>\n",
              "    <tr style=\"text-align: right;\">\n",
              "      <th></th>\n",
              "      <th>Sl</th>\n",
              "      <th>VZ</th>\n",
              "      <th>A</th>\n",
              "      <th>R</th>\n",
              "      <th>P</th>\n",
              "      <th>So</th>\n",
              "      <th>G</th>\n",
              "    </tr>\n",
              "  </thead>\n",
              "  <tbody>\n",
              "    <tr>\n",
              "      <th>Sl</th>\n",
              "      <td>1.000000</td>\n",
              "      <td>0.979781</td>\n",
              "      <td>0.881780</td>\n",
              "      <td>-0.019039</td>\n",
              "      <td>-0.492986</td>\n",
              "      <td>0.504484</td>\n",
              "      <td>-0.154231</td>\n",
              "    </tr>\n",
              "    <tr>\n",
              "      <th>VZ</th>\n",
              "      <td>0.979781</td>\n",
              "      <td>1.000000</td>\n",
              "      <td>0.915616</td>\n",
              "      <td>-0.020350</td>\n",
              "      <td>-0.527031</td>\n",
              "      <td>0.506634</td>\n",
              "      <td>-0.157473</td>\n",
              "    </tr>\n",
              "    <tr>\n",
              "      <th>A</th>\n",
              "      <td>0.881780</td>\n",
              "      <td>0.915616</td>\n",
              "      <td>1.000000</td>\n",
              "      <td>-0.013779</td>\n",
              "      <td>-0.417324</td>\n",
              "      <td>0.392726</td>\n",
              "      <td>-0.251446</td>\n",
              "    </tr>\n",
              "    <tr>\n",
              "      <th>R</th>\n",
              "      <td>-0.019039</td>\n",
              "      <td>-0.020350</td>\n",
              "      <td>-0.013779</td>\n",
              "      <td>1.000000</td>\n",
              "      <td>-0.097752</td>\n",
              "      <td>0.106630</td>\n",
              "      <td>-0.013239</td>\n",
              "    </tr>\n",
              "    <tr>\n",
              "      <th>P</th>\n",
              "      <td>-0.492986</td>\n",
              "      <td>-0.527031</td>\n",
              "      <td>-0.417324</td>\n",
              "      <td>-0.097752</td>\n",
              "      <td>1.000000</td>\n",
              "      <td>-0.483950</td>\n",
              "      <td>-0.130127</td>\n",
              "    </tr>\n",
              "    <tr>\n",
              "      <th>So</th>\n",
              "      <td>0.504484</td>\n",
              "      <td>0.506634</td>\n",
              "      <td>0.392726</td>\n",
              "      <td>0.106630</td>\n",
              "      <td>-0.483950</td>\n",
              "      <td>1.000000</td>\n",
              "      <td>0.145581</td>\n",
              "    </tr>\n",
              "    <tr>\n",
              "      <th>G</th>\n",
              "      <td>-0.154231</td>\n",
              "      <td>-0.157473</td>\n",
              "      <td>-0.251446</td>\n",
              "      <td>-0.013239</td>\n",
              "      <td>-0.130127</td>\n",
              "      <td>0.145581</td>\n",
              "      <td>1.000000</td>\n",
              "    </tr>\n",
              "  </tbody>\n",
              "</table>\n",
              "</div>\n",
              "      <button class=\"colab-df-convert\" onclick=\"convertToInteractive('df-20e529f3-114d-433c-aa52-5a950e763680')\"\n",
              "              title=\"Convert this dataframe to an interactive table.\"\n",
              "              style=\"display:none;\">\n",
              "        \n",
              "  <svg xmlns=\"http://www.w3.org/2000/svg\" height=\"24px\"viewBox=\"0 0 24 24\"\n",
              "       width=\"24px\">\n",
              "    <path d=\"M0 0h24v24H0V0z\" fill=\"none\"/>\n",
              "    <path d=\"M18.56 5.44l.94 2.06.94-2.06 2.06-.94-2.06-.94-.94-2.06-.94 2.06-2.06.94zm-11 1L8.5 8.5l.94-2.06 2.06-.94-2.06-.94L8.5 2.5l-.94 2.06-2.06.94zm10 10l.94 2.06.94-2.06 2.06-.94-2.06-.94-.94-2.06-.94 2.06-2.06.94z\"/><path d=\"M17.41 7.96l-1.37-1.37c-.4-.4-.92-.59-1.43-.59-.52 0-1.04.2-1.43.59L10.3 9.45l-7.72 7.72c-.78.78-.78 2.05 0 2.83L4 21.41c.39.39.9.59 1.41.59.51 0 1.02-.2 1.41-.59l7.78-7.78 2.81-2.81c.8-.78.8-2.07 0-2.86zM5.41 20L4 18.59l7.72-7.72 1.47 1.35L5.41 20z\"/>\n",
              "  </svg>\n",
              "      </button>\n",
              "      \n",
              "  <style>\n",
              "    .colab-df-container {\n",
              "      display:flex;\n",
              "      flex-wrap:wrap;\n",
              "      gap: 12px;\n",
              "    }\n",
              "\n",
              "    .colab-df-convert {\n",
              "      background-color: #E8F0FE;\n",
              "      border: none;\n",
              "      border-radius: 50%;\n",
              "      cursor: pointer;\n",
              "      display: none;\n",
              "      fill: #1967D2;\n",
              "      height: 32px;\n",
              "      padding: 0 0 0 0;\n",
              "      width: 32px;\n",
              "    }\n",
              "\n",
              "    .colab-df-convert:hover {\n",
              "      background-color: #E2EBFA;\n",
              "      box-shadow: 0px 1px 2px rgba(60, 64, 67, 0.3), 0px 1px 3px 1px rgba(60, 64, 67, 0.15);\n",
              "      fill: #174EA6;\n",
              "    }\n",
              "\n",
              "    [theme=dark] .colab-df-convert {\n",
              "      background-color: #3B4455;\n",
              "      fill: #D2E3FC;\n",
              "    }\n",
              "\n",
              "    [theme=dark] .colab-df-convert:hover {\n",
              "      background-color: #434B5C;\n",
              "      box-shadow: 0px 1px 3px 1px rgba(0, 0, 0, 0.15);\n",
              "      filter: drop-shadow(0px 1px 2px rgba(0, 0, 0, 0.3));\n",
              "      fill: #FFFFFF;\n",
              "    }\n",
              "  </style>\n",
              "\n",
              "      <script>\n",
              "        const buttonEl =\n",
              "          document.querySelector('#df-20e529f3-114d-433c-aa52-5a950e763680 button.colab-df-convert');\n",
              "        buttonEl.style.display =\n",
              "          google.colab.kernel.accessAllowed ? 'block' : 'none';\n",
              "\n",
              "        async function convertToInteractive(key) {\n",
              "          const element = document.querySelector('#df-20e529f3-114d-433c-aa52-5a950e763680');\n",
              "          const dataTable =\n",
              "            await google.colab.kernel.invokeFunction('convertToInteractive',\n",
              "                                                     [key], {});\n",
              "          if (!dataTable) return;\n",
              "\n",
              "          const docLinkHtml = 'Like what you see? Visit the ' +\n",
              "            '<a target=\"_blank\" href=https://colab.research.google.com/notebooks/data_table.ipynb>data table notebook</a>'\n",
              "            + ' to learn more about interactive tables.';\n",
              "          element.innerHTML = '';\n",
              "          dataTable['output_type'] = 'display_data';\n",
              "          await google.colab.output.renderOutput(dataTable, element);\n",
              "          const docLink = document.createElement('div');\n",
              "          docLink.innerHTML = docLinkHtml;\n",
              "          element.appendChild(docLink);\n",
              "        }\n",
              "      </script>\n",
              "    </div>\n",
              "  </div>\n",
              "  "
            ]
          },
          "metadata": {},
          "execution_count": 13
        }
      ],
      "source": [
        "dataset.corr()"
      ]
    },
    {
      "cell_type": "code",
      "execution_count": null,
      "metadata": {
        "colab": {
          "base_uri": "https://localhost:8080/",
          "height": 279
        },
        "id": "YboVI8dcLF0r",
        "outputId": "1c9b36cf-a6ab-4b09-d44d-e2c1eeee775a"
      },
      "outputs": [
        {
          "output_type": "execute_result",
          "data": {
            "text/plain": [
              "<matplotlib.axes._subplots.AxesSubplot at 0x7febfbf2ef50>"
            ]
          },
          "metadata": {},
          "execution_count": 14
        },
        {
          "output_type": "display_data",
          "data": {
            "text/plain": [
              "<Figure size 432x288 with 1 Axes>"
            ],
            "image/png": "[encoded data removed]"
          },
          "metadata": {
            "needs_background": "light"
          }
        }
      ],
      "source": [
        "dataset['VZ'].value_counts().plot.bar()"
      ]
    },
    {
      "cell_type": "code",
      "execution_count": null,
      "metadata": {
        "colab": {
          "base_uri": "https://localhost:8080/",
          "height": 269
        },
        "id": "q0_0ZdwxxSSA",
        "outputId": "d3951661-33f6-4d8a-bdfe-540f51432c5e"
      },
      "outputs": [
        {
          "output_type": "execute_result",
          "data": {
            "text/plain": [
              "          Sl        VZ         A         R         P        So         G\n",
              "Sl  1.000000  0.979781  0.881780 -0.019039 -0.492986  0.504484 -0.154231\n",
              "VZ  0.979781  1.000000  0.915616 -0.020350 -0.527031  0.506634 -0.157473\n",
              "A   0.881780  0.915616  1.000000 -0.013779 -0.417324  0.392726 -0.251446\n",
              "R  -0.019039 -0.020350 -0.013779  1.000000 -0.097752  0.106630 -0.013239\n",
              "P  -0.492986 -0.527031 -0.417324 -0.097752  1.000000 -0.483950 -0.130127\n",
              "So  0.504484  0.506634  0.392726  0.106630 -0.483950  1.000000  0.145581\n",
              "G  -0.154231 -0.157473 -0.251446 -0.013239 -0.130127  0.145581  1.000000"
            ],
            "text/html": [
              "\n",
              "  <div id=\"df-48bd8c0d-0dd8-4ecc-8c6b-50eac71a914e\">\n",
              "    <div class=\"colab-df-container\">\n",
              "      <div>\n",
              "<style scoped>\n",
              "    .dataframe tbody tr th:only-of-type {\n",
              "        vertical-align: middle;\n",
              "    }\n",
              "\n",
              "    .dataframe tbody tr th {\n",
              "        vertical-align: top;\n",
              "    }\n",
              "\n",
              "    .dataframe thead th {\n",
              "        text-align: right;\n",
              "    }\n",
              "</style>\n",
              "<table border=\"1\" class=\"dataframe\">\n",
              "  <thead>\n",
              "    <tr style=\"text-align: right;\">\n",
              "      <th></th>\n",
              "      <th>Sl</th>\n",
              "      <th>VZ</th>\n",
              "      <th>A</th>\n",
              "      <th>R</th>\n",
              "      <th>P</th>\n",
              "      <th>So</th>\n",
              "      <th>G</th>\n",
              "    </tr>\n",
              "  </thead>\n",
              "  <tbody>\n",
              "    <tr>\n",
              "      <th>Sl</th>\n",
              "      <td>1.000000</td>\n",
              "      <td>0.979781</td>\n",
              "      <td>0.881780</td>\n",
              "      <td>-0.019039</td>\n",
              "      <td>-0.492986</td>\n",
              "      <td>0.504484</td>\n",
              "      <td>-0.154231</td>\n",
              "    </tr>\n",
              "    <tr>\n",
              "      <th>VZ</th>\n",
              "      <td>0.979781</td>\n",
              "      <td>1.000000</td>\n",
              "      <td>0.915616</td>\n",
              "      <td>-0.020350</td>\n",
              "      <td>-0.527031</td>\n",
              "      <td>0.506634</td>\n",
              "      <td>-0.157473</td>\n",
              "    </tr>\n",
              "    <tr>\n",
              "      <th>A</th>\n",
              "      <td>0.881780</td>\n",
              "      <td>0.915616</td>\n",
              "      <td>1.000000</td>\n",
              "      <td>-0.013779</td>\n",
              "      <td>-0.417324</td>\n",
              "      <td>0.392726</td>\n",
              "      <td>-0.251446</td>\n",
              "    </tr>\n",
              "    <tr>\n",
              "      <th>R</th>\n",
              "      <td>-0.019039</td>\n",
              "      <td>-0.020350</td>\n",
              "      <td>-0.013779</td>\n",
              "      <td>1.000000</td>\n",
              "      <td>-0.097752</td>\n",
              "      <td>0.106630</td>\n",
              "      <td>-0.013239</td>\n",
              "    </tr>\n",
              "    <tr>\n",
              "      <th>P</th>\n",
              "      <td>-0.492986</td>\n",
              "      <td>-0.527031</td>\n",
              "      <td>-0.417324</td>\n",
              "      <td>-0.097752</td>\n",
              "      <td>1.000000</td>\n",
              "      <td>-0.483950</td>\n",
              "      <td>-0.130127</td>\n",
              "    </tr>\n",
              "    <tr>\n",
              "      <th>So</th>\n",
              "      <td>0.504484</td>\n",
              "      <td>0.506634</td>\n",
              "      <td>0.392726</td>\n",
              "      <td>0.106630</td>\n",
              "      <td>-0.483950</td>\n",
              "      <td>1.000000</td>\n",
              "      <td>0.145581</td>\n",
              "    </tr>\n",
              "    <tr>\n",
              "      <th>G</th>\n",
              "      <td>-0.154231</td>\n",
              "      <td>-0.157473</td>\n",
              "      <td>-0.251446</td>\n",
              "      <td>-0.013239</td>\n",
              "      <td>-0.130127</td>\n",
              "      <td>0.145581</td>\n",
              "      <td>1.000000</td>\n",
              "    </tr>\n",
              "  </tbody>\n",
              "</table>\n",
              "</div>\n",
              "      <button class=\"colab-df-convert\" onclick=\"convertToInteractive('df-48bd8c0d-0dd8-4ecc-8c6b-50eac71a914e')\"\n",
              "              title=\"Convert this dataframe to an interactive table.\"\n",
              "              style=\"display:none;\">\n",
              "        \n",
              "  <svg xmlns=\"http://www.w3.org/2000/svg\" height=\"24px\"viewBox=\"0 0 24 24\"\n",
              "       width=\"24px\">\n",
              "    <path d=\"M0 0h24v24H0V0z\" fill=\"none\"/>\n",
              "    <path d=\"M18.56 5.44l.94 2.06.94-2.06 2.06-.94-2.06-.94-.94-2.06-.94 2.06-2.06.94zm-11 1L8.5 8.5l.94-2.06 2.06-.94-2.06-.94L8.5 2.5l-.94 2.06-2.06.94zm10 10l.94 2.06.94-2.06 2.06-.94-2.06-.94-.94-2.06-.94 2.06-2.06.94z\"/><path d=\"M17.41 7.96l-1.37-1.37c-.4-.4-.92-.59-1.43-.59-.52 0-1.04.2-1.43.59L10.3 9.45l-7.72 7.72c-.78.78-.78 2.05 0 2.83L4 21.41c.39.39.9.59 1.41.59.51 0 1.02-.2 1.41-.59l7.78-7.78 2.81-2.81c.8-.78.8-2.07 0-2.86zM5.41 20L4 18.59l7.72-7.72 1.47 1.35L5.41 20z\"/>\n",
              "  </svg>\n",
              "      </button>\n",
              "      \n",
              "  <style>\n",
              "    .colab-df-container {\n",
              "      display:flex;\n",
              "      flex-wrap:wrap;\n",
              "      gap: 12px;\n",
              "    }\n",
              "\n",
              "    .colab-df-convert {\n",
              "      background-color: #E8F0FE;\n",
              "      border: none;\n",
              "      border-radius: 50%;\n",
              "      cursor: pointer;\n",
              "      display: none;\n",
              "      fill: #1967D2;\n",
              "      height: 32px;\n",
              "      padding: 0 0 0 0;\n",
              "      width: 32px;\n",
              "    }\n",
              "\n",
              "    .colab-df-convert:hover {\n",
              "      background-color: #E2EBFA;\n",
              "      box-shadow: 0px 1px 2px rgba(60, 64, 67, 0.3), 0px 1px 3px 1px rgba(60, 64, 67, 0.15);\n",
              "      fill: #174EA6;\n",
              "    }\n",
              "\n",
              "    [theme=dark] .colab-df-convert {\n",
              "      background-color: #3B4455;\n",
              "      fill: #D2E3FC;\n",
              "    }\n",
              "\n",
              "    [theme=dark] .colab-df-convert:hover {\n",
              "      background-color: #434B5C;\n",
              "      box-shadow: 0px 1px 3px 1px rgba(0, 0, 0, 0.15);\n",
              "      filter: drop-shadow(0px 1px 2px rgba(0, 0, 0, 0.3));\n",
              "      fill: #FFFFFF;\n",
              "    }\n",
              "  </style>\n",
              "\n",
              "      <script>\n",
              "        const buttonEl =\n",
              "          document.querySelector('#df-48bd8c0d-0dd8-4ecc-8c6b-50eac71a914e button.colab-df-convert');\n",
              "        buttonEl.style.display =\n",
              "          google.colab.kernel.accessAllowed ? 'block' : 'none';\n",
              "\n",
              "        async function convertToInteractive(key) {\n",
              "          const element = document.querySelector('#df-48bd8c0d-0dd8-4ecc-8c6b-50eac71a914e');\n",
              "          const dataTable =\n",
              "            await google.colab.kernel.invokeFunction('convertToInteractive',\n",
              "                                                     [key], {});\n",
              "          if (!dataTable) return;\n",
              "\n",
              "          const docLinkHtml = 'Like what you see? Visit the ' +\n",
              "            '<a target=\"_blank\" href=https://colab.research.google.com/notebooks/data_table.ipynb>data table notebook</a>'\n",
              "            + ' to learn more about interactive tables.';\n",
              "          element.innerHTML = '';\n",
              "          dataTable['output_type'] = 'display_data';\n",
              "          await google.colab.output.renderOutput(dataTable, element);\n",
              "          const docLink = document.createElement('div');\n",
              "          docLink.innerHTML = docLinkHtml;\n",
              "          element.appendChild(docLink);\n",
              "        }\n",
              "      </script>\n",
              "    </div>\n",
              "  </div>\n",
              "  "
            ]
          },
          "metadata": {},
          "execution_count": 15
        }
      ],
      "source": [
        "dataset.corr()"
      ]
    },
    {
      "cell_type": "code",
      "execution_count": null,
      "metadata": {
        "colab": {
          "base_uri": "https://localhost:8080/",
          "height": 286
        },
        "id": "mt7Id-x5LNpa",
        "outputId": "b0dc8ebc-6dcb-4dba-829b-015024750b5b"
      },
      "outputs": [
        {
          "output_type": "execute_result",
          "data": {
            "text/plain": [
              "<matplotlib.axes._subplots.AxesSubplot at 0x7febfbe7da10>"
            ]
          },
          "metadata": {},
          "execution_count": 16
        },
        {
          "output_type": "display_data",
          "data": {
            "text/plain": [
              "<Figure size 432x288 with 2 Axes>"
            ],
            "image/png": "[encoded data removed]"
          },
          "metadata": {
            "needs_background": "light"
          }
        }
      ],
      "source": [
        "sns.heatmap(dataset.corr(),cmap='coolwarm')"
      ]
    },
    {
      "cell_type": "markdown",
      "source": [
        "**Feature Selection**"
      ],
      "metadata": {
        "id": "ue3oNimUBrgq"
      }
    },
    {
      "cell_type": "markdown",
      "source": [
        "**1. Forward Selection**"
      ],
      "metadata": {
        "id": "bdtLlXjzBymH"
      }
    },
    {
      "cell_type": "code",
      "source": [
        "def forward_selection(data, target, significance_level=0.05):\n",
        "    initial_features = data.columns.tolist()\n",
        "    best_features = []\n",
        "    while (len(initial_features)>0):\n",
        "        remaining_features = list(set(initial_features)-set(best_features))\n",
        "        new_pval = pd.Series(index=remaining_features)\n",
        "        for new_column in remaining_features:\n",
        "            model = sm.OLS(target, sm.add_constant(data[best_features+[new_column]])).fit()\n",
        "            new_pval[new_column] = model.pvalues[new_column]\n",
        "        min_p_value = new_pval.min()\n",
        "        if(min_p_value<significance_level):\n",
        "            best_features.append(new_pval.idxmin())\n",
        "        else:\n",
        "            break\n",
        "    return best_features"
      ],
      "metadata": {
        "id": "O-A8lTfxCAGY"
      },
      "execution_count": null,
      "outputs": []
    },
    {
      "cell_type": "code",
      "source": [
        "!pip install mlxtend\n",
        "import joblib\n",
        "import sys\n",
        "sys.modules['sklearn.externals.joblib'] = joblib\n",
        "from mlxtend.feature_selection import SequentialFeatureSelector as SFS"
      ],
      "metadata": {
        "colab": {
          "base_uri": "https://localhost:8080/"
        },
        "id": "WxUJZT7sCIZS",
        "outputId": "3e2388af-7cc1-4e18-f175-79fcf9febe13"
      },
      "execution_count": null,
      "outputs": [
        {
          "output_type": "stream",
          "name": "stdout",
          "text": [
            "Looking in indexes: https://pypi.org/simple, https://us-python.pkg.dev/colab-wheels/public/simple/\n",
            "Requirement already satisfied: mlxtend in /usr/local/lib/python3.7/dist-packages (0.14.0)\n",
            "Requirement already satisfied: matplotlib>=1.5.1 in /usr/local/lib/python3.7/dist-packages (from mlxtend) (3.2.2)\n",
            "Requirement already satisfied: pandas>=0.17.1 in /usr/local/lib/python3.7/dist-packages (from mlxtend) (1.3.5)\n",
            "Requirement already satisfied: numpy>=1.10.4 in /usr/local/lib/python3.7/dist-packages (from mlxtend) (1.21.6)\n",
            "Requirement already satisfied: scipy>=0.17 in /usr/local/lib/python3.7/dist-packages (from mlxtend) (1.4.1)\n",
            "Requirement already satisfied: setuptools in /usr/local/lib/python3.7/dist-packages (from mlxtend) (57.4.0)\n",
            "Requirement already satisfied: scikit-learn>=0.18 in /usr/local/lib/python3.7/dist-packages (from mlxtend) (1.0.2)\n",
            "Requirement already satisfied: kiwisolver>=1.0.1 in /usr/local/lib/python3.7/dist-packages (from matplotlib>=1.5.1->mlxtend) (1.4.3)\n",
            "Requirement already satisfied: pyparsing!=2.0.4,!=2.1.2,!=2.1.6,>=2.0.1 in /usr/local/lib/python3.7/dist-packages (from matplotlib>=1.5.1->mlxtend) (3.0.9)\n",
            "Requirement already satisfied: python-dateutil>=2.1 in /usr/local/lib/python3.7/dist-packages (from matplotlib>=1.5.1->mlxtend) (2.8.2)\n",
            "Requirement already satisfied: cycler>=0.10 in /usr/local/lib/python3.7/dist-packages (from matplotlib>=1.5.1->mlxtend) (0.11.0)\n",
            "Requirement already satisfied: typing-extensions in /usr/local/lib/python3.7/dist-packages (from kiwisolver>=1.0.1->matplotlib>=1.5.1->mlxtend) (4.1.1)\n",
            "Requirement already satisfied: pytz>=2017.3 in /usr/local/lib/python3.7/dist-packages (from pandas>=0.17.1->mlxtend) (2022.1)\n",
            "Requirement already satisfied: six>=1.5 in /usr/local/lib/python3.7/dist-packages (from python-dateutil>=2.1->matplotlib>=1.5.1->mlxtend) (1.15.0)\n",
            "Requirement already satisfied: joblib>=0.11 in /usr/local/lib/python3.7/dist-packages (from scikit-learn>=0.18->mlxtend) (1.1.0)\n",
            "Requirement already satisfied: threadpoolctl>=2.0.0 in /usr/local/lib/python3.7/dist-packages (from scikit-learn>=0.18->mlxtend) (3.1.0)\n"
          ]
        }
      ]
    },
    {
      "cell_type": "code",
      "source": [
        "from mlxtend.feature_selection import SequentialFeatureSelector as SFS\n",
        "from sklearn.linear_model import LinearRegression\n",
        "# Sequential Forward Selection(sfs)\n",
        "sfs = SFS(LinearRegression(),\n",
        "          k_features=5,\n",
        "          forward=True,\n",
        "          floating=False,\n",
        "          scoring = 'r2',\n",
        "          cv = 0)"
      ],
      "metadata": {
        "id": "Yh5Hll6iCMzU"
      },
      "execution_count": null,
      "outputs": []
    },
    {
      "cell_type": "code",
      "source": [
        "sfs.fit(X, Y)"
      ],
      "metadata": {
        "colab": {
          "base_uri": "https://localhost:8080/",
          "height": 165
        },
        "id": "eydoP0cVCPJc",
        "outputId": "47b45554-8210-4502-db5f-f14ca770c038"
      },
      "execution_count": null,
      "outputs": [
        {
          "output_type": "error",
          "ename": "NameError",
          "evalue": "ignored",
          "traceback": [
            "\u001b[0;31m---------------------------------------------------------------------------\u001b[0m",
            "\u001b[0;31mNameError\u001b[0m                                 Traceback (most recent call last)",
            "\u001b[0;32m<ipython-input-20-aed51efabc5f>\u001b[0m in \u001b[0;36m<module>\u001b[0;34m()\u001b[0m\n\u001b[0;32m----> 1\u001b[0;31m \u001b[0msfs\u001b[0m\u001b[0;34m.\u001b[0m\u001b[0mfit\u001b[0m\u001b[0;34m(\u001b[0m\u001b[0mX\u001b[0m\u001b[0;34m,\u001b[0m \u001b[0mY\u001b[0m\u001b[0;34m)\u001b[0m\u001b[0;34m\u001b[0m\u001b[0;34m\u001b[0m\u001b[0m\n\u001b[0m",
            "\u001b[0;31mNameError\u001b[0m: name 'X' is not defined"
          ]
        }
      ]
    },
    {
      "cell_type": "code",
      "source": [
        "sfs.k_feature_names_"
      ],
      "metadata": {
        "id": "Ed57bs0SCUaz"
      },
      "execution_count": null,
      "outputs": []
    },
    {
      "cell_type": "code",
      "source": [
        "dataset.info()"
      ],
      "metadata": {
        "id": "PZ1FwII6CVyg"
      },
      "execution_count": null,
      "outputs": []
    },
    {
      "cell_type": "markdown",
      "source": [
        "**Backward Elimination**"
      ],
      "metadata": {
        "id": "y5ORczXTCdUR"
      }
    },
    {
      "cell_type": "code",
      "source": [
        "sbs = SFS(LinearRegression(),\n",
        "         k_features=5,\n",
        "         forward=False,\n",
        "         floating=False,\n",
        "         cv=0)\n",
        "sbs.fit(X, Y)\n",
        "sbs.k_feature_names_"
      ],
      "metadata": {
        "id": "pfaG85TFCcUI"
      },
      "execution_count": null,
      "outputs": []
    },
    {
      "cell_type": "markdown",
      "source": [
        "**3. Hit and Trial**"
      ],
      "metadata": {
        "id": "ql3mm4pVDnNQ"
      }
    },
    {
      "cell_type": "code",
      "source": [
        "sfs1 = SFS(LinearRegression(),\n",
        "         k_features=(3,5),\n",
        "         forward=True,\n",
        "         floating=False,\n",
        "         cv=0)\n",
        "sfs1.fit(X, Y)"
      ],
      "metadata": {
        "id": "pWEidx2xDqbC"
      },
      "execution_count": null,
      "outputs": []
    },
    {
      "cell_type": "code",
      "source": [
        "from mlxtend.plotting import plot_sequential_feature_selection as plot_sfs\n",
        "import matplotlib.pyplot as plt\n",
        "fig1 = plot_sfs(sfs1.get_metric_dict(), kind='std_dev')\n",
        "plt.title('Sequential Forward Selection (w. StdErr)')\n",
        "plt.grid()\n",
        "plt.show()"
      ],
      "metadata": {
        "id": "fuzJQm5DDwH-"
      },
      "execution_count": null,
      "outputs": []
    },
    {
      "cell_type": "markdown",
      "source": [
        "**4. Information Gain**"
      ],
      "metadata": {
        "id": "LcRyOgusD29u"
      }
    },
    {
      "cell_type": "code",
      "source": [
        "from sklearn.tree import DecisionTreeClassifier # Import Decision Tree Classifier\n",
        "from sklearn.model_selection import train_test_split # Import train_test_split function\n",
        "from sklearn import metrics #Import scikit-learn metrics module for accuracy calculation"
      ],
      "metadata": {
        "id": "f-eeAypVL2tf"
      },
      "execution_count": null,
      "outputs": []
    },
    {
      "cell_type": "code",
      "source": [
        "dataset.info()"
      ],
      "metadata": {
        "id": "MzPeH3RGpSo7"
      },
      "execution_count": null,
      "outputs": []
    },
    {
      "cell_type": "code",
      "source": [
        "col_names = ['Sl', 'VZ', 'A', 'R', 'P', 'So', 'G']"
      ],
      "metadata": {
        "id": "Ni7Jb8qnL8Yt"
      },
      "execution_count": null,
      "outputs": []
    },
    {
      "cell_type": "code",
      "source": [
        "df = pd.read_csv('/content/drive/MyDrive/Wetland/t3_featurecols.csv', header=None, names=col_names)"
      ],
      "metadata": {
        "id": "9W_Jegq1MIpK"
      },
      "execution_count": null,
      "outputs": []
    },
    {
      "cell_type": "code",
      "source": [
        "feature_cols = ['Sl', 'A', 'R', 'P', 'So', 'G']\n",
        "A = dataset[feature_cols] # Features\n",
        "B = dataset.VZ # Target variable"
      ],
      "metadata": {
        "id": "7O-a23UkMi5i"
      },
      "execution_count": null,
      "outputs": []
    },
    {
      "cell_type": "code",
      "source": [
        "from sklearn.preprocessing import LabelEncoder\n",
        "le = LabelEncoder()\n",
        "B = le.fit_transform(B)"
      ],
      "metadata": {
        "id": "p6uRIFSGMtVO"
      },
      "execution_count": null,
      "outputs": []
    },
    {
      "cell_type": "code",
      "source": [
        "A_train, A_test, B_train, B_test = train_test_split(A, B, test_size=0.3, random_state=1)"
      ],
      "metadata": {
        "id": "ZbLcRetyM09N"
      },
      "execution_count": null,
      "outputs": []
    },
    {
      "cell_type": "code",
      "source": [
        "clf = DecisionTreeClassifier(criterion=\"entropy\", max_depth=3)\n",
        "\n",
        "# Train Decision Tree Classifer\n",
        "clf = clf.fit(A_train,B_train)\n",
        "\n",
        "#Predict the response for test dataset\n",
        "B_pred = clf.predict(A_test)"
      ],
      "metadata": {
        "id": "-Fbl-brKM6mq"
      },
      "execution_count": null,
      "outputs": []
    },
    {
      "cell_type": "code",
      "source": [
        "print(\"Accuracy:\",metrics.accuracy_score(y_test, y_pred))"
      ],
      "metadata": {
        "id": "krZKz3oVNdL2"
      },
      "execution_count": null,
      "outputs": []
    },
    {
      "cell_type": "code",
      "source": [
        "pip install graphviz"
      ],
      "metadata": {
        "id": "MTqHxZ8vNzYh"
      },
      "execution_count": null,
      "outputs": []
    },
    {
      "cell_type": "code",
      "source": [
        "pip install pydotplus"
      ],
      "metadata": {
        "id": "37ILHAGaN2Gv"
      },
      "execution_count": null,
      "outputs": []
    },
    {
      "cell_type": "code",
      "source": [
        "pip install six"
      ],
      "metadata": {
        "id": "HNVmQUs1N43q"
      },
      "execution_count": null,
      "outputs": []
    },
    {
      "cell_type": "code",
      "source": [
        "!pip install --upgrade scikit-learn==0.20.3"
      ],
      "metadata": {
        "id": "YutK0VGyN8yU"
      },
      "execution_count": null,
      "outputs": []
    },
    {
      "cell_type": "code",
      "source": [
        "from six import StringIO"
      ],
      "metadata": {
        "id": "WBWXy1IrOCSN"
      },
      "execution_count": null,
      "outputs": []
    },
    {
      "cell_type": "code",
      "source": [
        "import six\n",
        "import sys\n",
        "sys.modules['sklearn.externals.six'] = six"
      ],
      "metadata": {
        "id": "Uqc7xxFROEOL"
      },
      "execution_count": null,
      "outputs": []
    },
    {
      "cell_type": "code",
      "source": [
        "from sklearn.tree import export_graphviz\n",
        "from sklearn.externals.six import StringIO  \n",
        "from IPython.display import Image  \n",
        "import pydotplus\n",
        "\n",
        "dot_data = StringIO()\n",
        "export_graphviz(clf, out_file=dot_data,  \n",
        "                filled=True, rounded=True,\n",
        "                special_characters=True,feature_names = feature_cols,class_names=['1','2','3','4','5'])\n",
        "graph = pydotplus.graph_from_dot_data(dot_data.getvalue())  \n",
        "graph.write_png('wetland.png')\n",
        "Image(graph.create_png())"
      ],
      "metadata": {
        "id": "yrYVJ22NOGzU"
      },
      "execution_count": null,
      "outputs": []
    },
    {
      "cell_type": "markdown",
      "source": [
        "**Sequential Feature Selection**"
      ],
      "metadata": {
        "id": "XFfFzEuhOfEp"
      }
    },
    {
      "cell_type": "code",
      "source": [
        "!pip install delayed"
      ],
      "metadata": {
        "id": "PPANTY7JOsaC"
      },
      "execution_count": null,
      "outputs": []
    },
    {
      "cell_type": "code",
      "source": [
        "from collections.abc import Iterable"
      ],
      "metadata": {
        "id": "rUye1PjjkuVD"
      },
      "execution_count": null,
      "outputs": []
    },
    {
      "cell_type": "code",
      "source": [
        "from sklearn.feature_selection import SequentialFeatureSelector\n",
        "sfs = SequentialFeatureSelector(svc, direction='forward')\n",
        "sfs.fit(X, Y)\n",
        "sfs.fit_transform(X,Y)"
      ],
      "metadata": {
        "id": "eT1aKgKFOipC"
      },
      "execution_count": null,
      "outputs": []
    },
    {
      "cell_type": "markdown",
      "metadata": {
        "id": "_VxTtSLoLqcB"
      },
      "source": [
        "**Dataset Preprocessing**"
      ]
    },
    {
      "cell_type": "markdown",
      "metadata": {
        "id": "BDulaI4NLd8q"
      },
      "source": [
        "**Split Dataset**"
      ]
    },
    {
      "cell_type": "code",
      "execution_count": null,
      "metadata": {
        "id": "te7ZiSbMLUkU"
      },
      "outputs": [],
      "source": [
        "#X = dataset.iloc[:,2:]\n",
        "#Y = dataset.VZ"
      ]
    },
    {
      "cell_type": "code",
      "source": [
        "feature_cols = ['Sl No', 'A', 'R', 'P', 'So', 'G']\n",
        "X = dataset[feature_cols] # Features\n",
        "Y = dataset.VZ # Target variable"
      ],
      "metadata": {
        "id": "Bls3m-rPpC-v",
        "colab": {
          "base_uri": "https://localhost:8080/",
          "height": 200
        },
        "outputId": "0035014f-3523-447c-c1c4-87f63bc38eb0"
      },
      "execution_count": null,
      "outputs": [
        {
          "output_type": "error",
          "ename": "NameError",
          "evalue": "ignored",
          "traceback": [
            "\u001b[0;31m---------------------------------------------------------------------------\u001b[0m",
            "\u001b[0;31mNameError\u001b[0m                                 Traceback (most recent call last)",
            "\u001b[0;32m<ipython-input-1-88d067ecc105>\u001b[0m in \u001b[0;36m<module>\u001b[0;34m()\u001b[0m\n\u001b[1;32m      1\u001b[0m \u001b[0mfeature_cols\u001b[0m \u001b[0;34m=\u001b[0m \u001b[0;34m[\u001b[0m\u001b[0;34m'Sl No'\u001b[0m\u001b[0;34m,\u001b[0m \u001b[0;34m'A'\u001b[0m\u001b[0;34m,\u001b[0m \u001b[0;34m'R'\u001b[0m\u001b[0;34m,\u001b[0m \u001b[0;34m'P'\u001b[0m\u001b[0;34m,\u001b[0m \u001b[0;34m'So'\u001b[0m\u001b[0;34m,\u001b[0m \u001b[0;34m'G'\u001b[0m\u001b[0;34m]\u001b[0m\u001b[0;34m\u001b[0m\u001b[0;34m\u001b[0m\u001b[0m\n\u001b[0;32m----> 2\u001b[0;31m \u001b[0mX\u001b[0m \u001b[0;34m=\u001b[0m \u001b[0mdataset\u001b[0m\u001b[0;34m[\u001b[0m\u001b[0mfeature_cols\u001b[0m\u001b[0;34m]\u001b[0m \u001b[0;31m# Features\u001b[0m\u001b[0;34m\u001b[0m\u001b[0;34m\u001b[0m\u001b[0m\n\u001b[0m\u001b[1;32m      3\u001b[0m \u001b[0mY\u001b[0m \u001b[0;34m=\u001b[0m \u001b[0mdataset\u001b[0m\u001b[0;34m.\u001b[0m\u001b[0mVZ\u001b[0m \u001b[0;31m# Target variable\u001b[0m\u001b[0;34m\u001b[0m\u001b[0;34m\u001b[0m\u001b[0m\n",
            "\u001b[0;31mNameError\u001b[0m: name 'dataset' is not defined"
          ]
        }
      ]
    },
    {
      "cell_type": "code",
      "execution_count": null,
      "metadata": {
        "id": "8zISlp5zLUfK"
      },
      "outputs": [],
      "source": [
        "print(X)"
      ]
    },
    {
      "cell_type": "code",
      "execution_count": null,
      "metadata": {
        "id": "6ibRJuK1LnU8"
      },
      "outputs": [],
      "source": [
        "print(Y)"
      ]
    },
    {
      "cell_type": "markdown",
      "metadata": {
        "id": "gnoMhi6qL1Tx"
      },
      "source": [
        "**Label Encode**"
      ]
    },
    {
      "cell_type": "code",
      "execution_count": null,
      "metadata": {
        "id": "2vXatW6wLsfE"
      },
      "outputs": [],
      "source": [
        "from sklearn.preprocessing import LabelEncoder\n",
        "label_encoder = LabelEncoder()\n",
        "label_encoder.fit(Y)\n",
        "Y= label_encoder.transform(Y)\n",
        "classes = label_encoder.classes_"
      ]
    },
    {
      "cell_type": "code",
      "execution_count": null,
      "metadata": {
        "id": "1xV-KIdIL4My"
      },
      "outputs": [],
      "source": [
        "print(Y)"
      ]
    },
    {
      "cell_type": "markdown",
      "metadata": {
        "id": "2VMidv2XMAs4"
      },
      "source": [
        "**Train-Test Split**"
      ]
    },
    {
      "cell_type": "code",
      "execution_count": null,
      "metadata": {
        "id": "4pRcRdg0LySh"
      },
      "outputs": [],
      "source": [
        "from sklearn.model_selection import train_test_split\n",
        "X_train, X_test, y_train, y_test = train_test_split(X, Y, test_size=0.2, random_state=0)"
      ]
    },
    {
      "cell_type": "code",
      "execution_count": null,
      "metadata": {
        "id": "N8b0g-RrO4UZ"
      },
      "outputs": [],
      "source": [
        "print(X_train)"
      ]
    },
    {
      "cell_type": "code",
      "execution_count": null,
      "metadata": {
        "id": "ZMAM74C3O7LY"
      },
      "outputs": [],
      "source": [
        "print(X_test)"
      ]
    },
    {
      "cell_type": "code",
      "execution_count": null,
      "metadata": {
        "id": "LJ4i-PsoO9fx"
      },
      "outputs": [],
      "source": [
        "print(y_train)"
      ]
    },
    {
      "cell_type": "code",
      "execution_count": null,
      "metadata": {
        "id": "CTvsraj3PA4B"
      },
      "outputs": [],
      "source": [
        "print(y_test)"
      ]
    },
    {
      "cell_type": "markdown",
      "metadata": {
        "id": "yX1YlcBQMFCK"
      },
      "source": [
        "**Min Max Scaler**"
      ]
    },
    {
      "cell_type": "code",
      "execution_count": null,
      "metadata": {
        "id": "Nm9btJbeMGwY"
      },
      "outputs": [],
      "source": [
        "from sklearn.preprocessing import MinMaxScaler\n",
        "min_max_scaler = MinMaxScaler()\n",
        "X_train_norm = min_max_scaler.fit_transform(X_train)\n",
        "X_test_norm = min_max_scaler.fit_transform(X_test)"
      ]
    },
    {
      "cell_type": "code",
      "execution_count": null,
      "metadata": {
        "id": "8NPLv2fjMJOE"
      },
      "outputs": [],
      "source": [
        "X_train_norm[0,0]"
      ]
    },
    {
      "cell_type": "code",
      "execution_count": null,
      "metadata": {
        "id": "iqyymizqMMEK"
      },
      "outputs": [],
      "source": [
        "X_train.iloc[0,0]"
      ]
    },
    {
      "cell_type": "markdown",
      "metadata": {
        "id": "hfFNmE05PnXD"
      },
      "source": [
        "**TP,FP,TN,FN**"
      ]
    },
    {
      "cell_type": "code",
      "execution_count": null,
      "metadata": {
        "id": "fH2VbB4jPqoh"
      },
      "outputs": [],
      "source": [
        "def perf_measure(y_actual, y_hat):\n",
        "    TP = 0\n",
        "    FP = 0\n",
        "    TN = 0\n",
        "    FN = 0\n",
        "\n",
        "    for i in range(len(y_hat)): \n",
        "        if y_actual[i]==y_hat[i]==1:\n",
        "           TP += 1\n",
        "        if y_hat[i]==1 and y_actual[i]!=y_hat[i]:\n",
        "           FP += 1\n",
        "        if y_actual[i]==y_hat[i]==0:\n",
        "           TN += 1\n",
        "        if y_hat[i]==0 and y_actual[i]!=y_hat[i]:\n",
        "           FN += 1\n",
        "\n",
        "    return(TP, FP, TN, FN)"
      ]
    },
    {
      "cell_type": "markdown",
      "metadata": {
        "id": "r1GlHsk7PJDl"
      },
      "source": [
        "**1. Classifier - Decision Tree**"
      ]
    },
    {
      "cell_type": "code",
      "execution_count": null,
      "metadata": {
        "id": "W7kNigl0Ovak"
      },
      "outputs": [],
      "source": [
        "from sklearn.tree import DecisionTreeClassifier\n",
        "from sklearn.model_selection import train_test_split\n",
        "from sklearn.metrics import accuracy_score\n",
        "dt = DecisionTreeClassifier(max_depth=6, random_state=1)\n",
        "# Predict test set labels\n",
        "dt.fit(X_train, y_train)\n",
        "DT_pred = dt.predict(X_test)\n",
        "\n",
        "# Compute test set accuracy\n",
        "acc = accuracy_score(y_test, DT_pred)\n",
        "print(\"Test set accuracy: {:.2f}\".format(acc))"
      ]
    },
    {
      "cell_type": "code",
      "execution_count": null,
      "metadata": {
        "id": "D87oA_rNPSVc"
      },
      "outputs": [],
      "source": [
        "print(classification_report(y_test, DT_pred))"
      ]
    },
    {
      "cell_type": "code",
      "execution_count": null,
      "metadata": {
        "id": "PHCiMasOPVLo"
      },
      "outputs": [],
      "source": [
        "from sklearn.metrics import confusion_matrix\n",
        "import seaborn as sns\n",
        "from sklearn.metrics import classification_report\n",
        "Ypred = DT_pred\n",
        "label=['1', '2','3','4','5']\n",
        "Ytrue = y_test \n",
        "cm = confusion_matrix(Ytrue, Ypred)\n",
        "plt.figure(figsize=(12, 12))\n",
        "plt.title(\"Confusion Matrix for Decision Tree\")\n",
        "ax = sns.heatmap(cm, cmap=\"mako\", fmt=\".01f\",annot_kws={'size':12}, annot=True, square=True, xticklabels=label, yticklabels=label)\n",
        "ax.set_ylabel('Actual', fontsize=20)\n",
        "ax.set_xlabel('Predicted', fontsize=20)"
      ]
    },
    {
      "cell_type": "code",
      "execution_count": null,
      "metadata": {
        "id": "p3KKW_oOPY8h"
      },
      "outputs": [],
      "source": [
        "cmt_DT = confusion_matrix(y_test, DT_pred, labels=[1,2,3,4,5])\n",
        "cmt_DT = confusion_matrix(y_test, DT_pred)"
      ]
    },
    {
      "cell_type": "code",
      "execution_count": null,
      "metadata": {
        "id": "rFdTGnjEP7Es"
      },
      "outputs": [],
      "source": [
        "print(cmt_DT)"
      ]
    },
    {
      "cell_type": "code",
      "execution_count": null,
      "metadata": {
        "id": "39MR6JINP_fK"
      },
      "outputs": [],
      "source": [
        "fp = cmt_DT.sum(axis=0) - np.diag(cm)  \n",
        "fn = cmt_DT.sum(axis=1) - np.diag(cm)\n",
        "tp = np.diag(cmt_DT)\n",
        "tn = cmt_DT.sum() - (fp + fn + tp)\n",
        "\n",
        "print(fp,fn,tp,tn)"
      ]
    },
    {
      "cell_type": "code",
      "execution_count": null,
      "metadata": {
        "id": "PV7W0NQJjWUb"
      },
      "outputs": [],
      "source": [
        "idx = 0\n",
        "print( \"TP rate for Class 1:\",tp[idx])\n",
        "print( \"TN rate for Class 1:\",tn[idx])\n",
        "print( \"FP rate for Class 1:\",fp[idx])\n",
        "print( \"FN rate for Class 1:\",fn[idx])"
      ]
    },
    {
      "cell_type": "code",
      "execution_count": null,
      "metadata": {
        "id": "3Qj3wm1ljYkx"
      },
      "outputs": [],
      "source": [
        "idx = 1\n",
        "print( \"TP rate for Class 2:\",tp[idx])\n",
        "print( \"TN rate for Class 2:\",tn[idx])\n",
        "print( \"FP rate for Class 2:\",fp[idx])\n",
        "print( \"FN rate for Class 2:\",fn[idx])"
      ]
    },
    {
      "cell_type": "code",
      "execution_count": null,
      "metadata": {
        "id": "Q7st5jF4jaSj"
      },
      "outputs": [],
      "source": [
        "idx = 2\n",
        "print( \"TP rate for Class 3:\",tp[idx])\n",
        "print( \"TN rate for Class 3:\",tn[idx])\n",
        "print( \"FP rate for Class 3:\",fp[idx])\n",
        "print( \"FN rate for Class 3:\",fn[idx])"
      ]
    },
    {
      "cell_type": "code",
      "execution_count": null,
      "metadata": {
        "id": "inTkTFI4jcHC"
      },
      "outputs": [],
      "source": [
        "idx = 3\n",
        "print( \"TP rate for Class 4:\",tp[idx])\n",
        "print( \"TN rate for Class 4:\",tn[idx])\n",
        "print( \"FP rate for Class 4:\",fp[idx])\n",
        "print( \"FN rate for Class 4:\",fn[idx])"
      ]
    },
    {
      "cell_type": "code",
      "execution_count": null,
      "metadata": {
        "id": "gD8kuEcTQJbx"
      },
      "outputs": [],
      "source": [
        "idx = 4\n",
        "print( \"TP rate for Class 5:\",tp[idx])\n",
        "print( \"TN rate for Class 5:\",tn[idx])\n",
        "print( \"FP rate for Class 5:\",fp[idx])\n",
        "print( \"FN rate for Class 5:\",fn[idx])"
      ]
    },
    {
      "cell_type": "code",
      "execution_count": null,
      "metadata": {
        "id": "BExCdetIQQhw"
      },
      "outputs": [],
      "source": [
        "acc = np.diag(cm).sum() / cm.sum()\n",
        "print(acc)"
      ]
    },
    {
      "cell_type": "code",
      "execution_count": null,
      "metadata": {
        "id": "v3o8iGwhQV1c"
      },
      "outputs": [],
      "source": [
        "from sklearn.tree import DecisionTreeClassifier\n",
        "DT = OneVsRestClassifier(DecisionTreeClassifier(max_depth=6, random_state=1))\n",
        "DT.fit(X_train_norm, y_train)\n",
        "y_pred = DT.predict(X_test_norm)\n",
        "pred_prob = DT.predict_proba(X_test_norm)"
      ]
    },
    {
      "cell_type": "code",
      "execution_count": null,
      "metadata": {
        "id": "kz3KhgAQQnu8"
      },
      "outputs": [],
      "source": [
        "from sklearn.tree import DecisionTreeClassifier\n",
        "DT = OneVsRestClassifier(DecisionTreeClassifier(max_depth=6, random_state=1))\n",
        "DT.fit(X_train_norm, y_train)\n",
        "y_pred = DT.predict(X_test_norm)\n",
        "pred_prob = DT.predict_proba(X_test_norm)"
      ]
    },
    {
      "cell_type": "code",
      "execution_count": null,
      "metadata": {
        "id": "T0EM3Dk9Qqd-"
      },
      "outputs": [],
      "source": [
        "from sklearn.preprocessing import label_binarize\n",
        "\n",
        "y_test_binarized = label_binarize(y_test, classes = np.unique(y_test))\n",
        "fpr = {}\n",
        "tpr = {}\n",
        "thresh = {}\n",
        "roc_auc = dict()\n",
        "\n",
        "n_class = classes.shape[0]\n",
        "\n",
        "for i in range(n_class):\n",
        "  fpr[i], tpr[i], thresh[i] = roc_curve(y_test_binarized[:,i], pred_prob[:, i])\n",
        "  roc_auc[i] = auc(fpr[i], tpr[i])\n",
        "\n",
        "  plt.plot(fpr[i], tpr[i], linestyle='--',\n",
        "           label='%s vs Rest (AUC=%0.2f)'%(classes[i],roc_auc[i]))\n",
        "  \n",
        "plt.plot([0,1],[0,1],'b--')\n",
        "plt.xlim([0,1])\n",
        "plt.ylim([0,1.05])\n",
        "plt.title('Multiclass ROC Curve - Decision Tree')\n",
        "plt.xlabel('False Positive Rate')\n",
        "plt.ylabel('True Positive Rate')\n",
        "plt.legend(loc= 'lower right')\n",
        "plt.show()0"
      ]
    },
    {
      "cell_type": "markdown",
      "metadata": {
        "id": "WcL1F37UQ3ZA"
      },
      "source": [
        "**2. Classifier : Naive Bayes**"
      ]
    },
    {
      "cell_type": "code",
      "execution_count": null,
      "metadata": {
        "id": "6GkBKEZjQ5Sx"
      },
      "outputs": [],
      "source": [
        "from sklearn.naive_bayes import GaussianNB\n",
        "clf_NB = GaussianNB()\n",
        "clf_NB.fit(X_train, y_train)"
      ]
    },
    {
      "cell_type": "code",
      "execution_count": null,
      "metadata": {
        "id": "U6mVGajsREfj"
      },
      "outputs": [],
      "source": [
        "NB_pred = clf_NB.predict(X_test)"
      ]
    },
    {
      "cell_type": "code",
      "execution_count": null,
      "metadata": {
        "id": "ylSXJA68RG0Q"
      },
      "outputs": [],
      "source": [
        "print(NB_pred)"
      ]
    },
    {
      "cell_type": "code",
      "execution_count": null,
      "metadata": {
        "id": "xNGIj4oHRIhg"
      },
      "outputs": [],
      "source": [
        "NB_acc = accuracy_score(y_test, NB_pred)\n",
        "print(NB_acc)"
      ]
    },
    {
      "cell_type": "code",
      "execution_count": null,
      "metadata": {
        "id": "ikOOoMuGRJdh"
      },
      "outputs": [],
      "source": [
        "print(classification_report(y_test, NB_pred))"
      ]
    },
    {
      "cell_type": "code",
      "execution_count": null,
      "metadata": {
        "id": "XYwWPCmDROTY"
      },
      "outputs": [],
      "source": [
        "from sklearn.metrics import confusion_matrix\n",
        "import seaborn as sns\n",
        "from sklearn.metrics import classification_report\n",
        "Ypred = NB_pred\n",
        "label=['1', '2','3','4','5']\n",
        "Ytrue = y_test \n",
        "cm = confusion_matrix(Ytrue, Ypred)\n",
        "plt.figure(figsize=(12, 12))\n",
        "plt.title(\"Confusion Matrix for Naive Bayes\")\n",
        "ax = sns.heatmap(cm, cmap=\"mako\", fmt=\".01f\",annot_kws={'size':12}, annot=True, square=True, xticklabels=label, yticklabels=label)\n",
        "ax.set_ylabel('Actual', fontsize=20)\n",
        "ax.set_xlabel('Predicted', fontsize=20)"
      ]
    },
    {
      "cell_type": "code",
      "execution_count": null,
      "metadata": {
        "id": "nX2VfhbsRP25"
      },
      "outputs": [],
      "source": [
        "cmt_NB = confusion_matrix(y_test, NB_pred, labels=[1,2,3,4,5])\n",
        "cmt_NB = confusion_matrix(y_test, NB_pred)"
      ]
    },
    {
      "cell_type": "code",
      "execution_count": null,
      "metadata": {
        "id": "3qmIJdNsRdlY"
      },
      "outputs": [],
      "source": [
        "print(cmt_NB)"
      ]
    },
    {
      "cell_type": "code",
      "execution_count": null,
      "metadata": {
        "id": "sNuQrtnyRe_I"
      },
      "outputs": [],
      "source": [
        "fp = cmt_NB.sum(axis=0) - np.diag(cm)  \n",
        "fn = cmt_NB.sum(axis=1) - np.diag(cm)\n",
        "tp = np.diag(cmt_NB)\n",
        "tn = cmt_NB.sum() - (fp + fn + tp)\n",
        "\n",
        "print(fp,fn,tp,tn)"
      ]
    },
    {
      "cell_type": "code",
      "execution_count": null,
      "metadata": {
        "id": "qdVS3HayRnOo"
      },
      "outputs": [],
      "source": [
        "idx = 0\n",
        "print( \"TP rate for Class 1:\",tp[idx])\n",
        "print( \"TN rate for Class 1:\",tn[idx])\n",
        "print( \"FP rate for Class 1:\",fp[idx])\n",
        "print( \"FN rate for Class 1:\",fn[idx])"
      ]
    },
    {
      "cell_type": "code",
      "execution_count": null,
      "metadata": {
        "id": "2NtpF0YYjiaz"
      },
      "outputs": [],
      "source": [
        "idx = 1\n",
        "print( \"TP rate for Class 2:\",tp[idx])\n",
        "print( \"TN rate for Class 2:\",tn[idx])\n",
        "print( \"FP rate for Class 2:\",fp[idx])\n",
        "print( \"FN rate for Class 2:\",fn[idx])"
      ]
    },
    {
      "cell_type": "code",
      "execution_count": null,
      "metadata": {
        "id": "RPfp4-vrjk5B"
      },
      "outputs": [],
      "source": [
        "idx = 2\n",
        "print( \"TP rate for Class 3:\",tp[idx])\n",
        "print( \"TN rate for Class 3:\",tn[idx])\n",
        "print( \"FP rate for Class 3:\",fp[idx])\n",
        "print( \"FN rate for Class 3:\",fn[idx])"
      ]
    },
    {
      "cell_type": "code",
      "execution_count": null,
      "metadata": {
        "id": "7ZLNhFnHjmxa"
      },
      "outputs": [],
      "source": [
        "idx = 3\n",
        "print( \"TP rate for Class 4:\",tp[idx])\n",
        "print( \"TN rate for Class 4:\",tn[idx])\n",
        "print( \"FP rate for Class 4:\",fp[idx])\n",
        "print( \"FN rate for Class 4:\",fn[idx])"
      ]
    },
    {
      "cell_type": "code",
      "execution_count": null,
      "metadata": {
        "id": "GYNxZfgBjpNh"
      },
      "outputs": [],
      "source": [
        "idx = 4\n",
        "print( \"TP rate for Class 5:\",tp[idx])\n",
        "print( \"TN rate for Class 5:\",tn[idx])\n",
        "print( \"FP rate for Class 5:\",fp[idx])\n",
        "print( \"FN rate for Class 5:\",fn[idx])"
      ]
    },
    {
      "cell_type": "code",
      "execution_count": null,
      "metadata": {
        "id": "PXawjOMSR0ez"
      },
      "outputs": [],
      "source": [
        "acc = np.diag(cm).sum() / cm.sum()\n",
        "print(acc)"
      ]
    },
    {
      "cell_type": "code",
      "execution_count": null,
      "metadata": {
        "id": "r76B2aRrR4pN"
      },
      "outputs": [],
      "source": [
        "from sklearn.naive_bayes import GaussianNB\n",
        "NB = OneVsRestClassifier(GaussianNB())\n",
        "NB.fit(X_train_norm, y_train)\n",
        "y_pred = NB.predict(X_test_norm)\n",
        "pred_prob = NB.predict_proba(X_test_norm)"
      ]
    },
    {
      "cell_type": "code",
      "execution_count": null,
      "metadata": {
        "id": "sRo50rzLR8CR"
      },
      "outputs": [],
      "source": [
        "from sklearn.preprocessing import label_binarize\n",
        "\n",
        "y_test_binarized = label_binarize(y_test, classes = np.unique(y_test))\n",
        "fpr = {}\n",
        "tpr = {}\n",
        "thresh = {}\n",
        "roc_auc = dict()\n",
        "\n",
        "n_class = classes.shape[0]\n",
        "\n",
        "for i in range(n_class):\n",
        "  fpr[i], tpr[i], thresh[i] = roc_curve(y_test_binarized[:,i], pred_prob[:, i])\n",
        "  roc_auc[i] = auc(fpr[i], tpr[i])\n",
        "\n",
        "  plt.plot(fpr[i], tpr[i], linestyle='--',\n",
        "           label='%s vs Rest (AUC=%0.2f)'%(classes[i],roc_auc[i]))\n",
        "  \n",
        "plt.plot([0,1],[0,1],'b--')\n",
        "plt.xlim([0,1])\n",
        "plt.ylim([0,1.05])\n",
        "plt.title('Multiclass ROC Curve - Naive Bayes')\n",
        "plt.xlabel('False Positive Rate')\n",
        "plt.ylabel('True Positive Rate')\n",
        "plt.legend(loc= 'lower right')\n",
        "plt.show()"
      ]
    },
    {
      "cell_type": "markdown",
      "metadata": {
        "id": "YuLEshM1SBgD"
      },
      "source": [
        "**3. Classifier : KNN**"
      ]
    },
    {
      "cell_type": "code",
      "execution_count": null,
      "metadata": {
        "id": "HVRxQdbER9-R"
      },
      "outputs": [],
      "source": [
        "from sklearn.neighbors import KNeighborsClassifier\n",
        "classifier = KNeighborsClassifier(n_neighbors=5)\n",
        "classifier.fit(X_train, y_train)"
      ]
    },
    {
      "cell_type": "code",
      "execution_count": null,
      "metadata": {
        "id": "o4pufKvFXJOB"
      },
      "outputs": [],
      "source": [
        "KNN_pred = classifier.predict(X_test)"
      ]
    },
    {
      "cell_type": "code",
      "execution_count": null,
      "metadata": {
        "id": "MPCzzh_8XKwx"
      },
      "outputs": [],
      "source": [
        "KNN_acc = accuracy_score(y_test, KNN_pred)\n",
        "print(KNN_acc)"
      ]
    },
    {
      "cell_type": "code",
      "execution_count": null,
      "metadata": {
        "id": "EDFjDqeXXN7g"
      },
      "outputs": [],
      "source": [
        "from sklearn.metrics import classification_report, confusion_matrix\n",
        "print(confusion_matrix(y_test, KNN_pred))"
      ]
    },
    {
      "cell_type": "code",
      "execution_count": null,
      "metadata": {
        "id": "X-JMTH0_XS_V"
      },
      "outputs": [],
      "source": [
        "print(classification_report(y_test, KNN_pred))"
      ]
    },
    {
      "cell_type": "code",
      "execution_count": null,
      "metadata": {
        "id": "TsjEBsneXWHY"
      },
      "outputs": [],
      "source": [
        "from sklearn.metrics import confusion_matrix\n",
        "import seaborn as sns\n",
        "from sklearn.metrics import classification_report\n",
        "Ypred = KNN_pred\n",
        "label=['1', '2','3','4','5']\n",
        "Ytrue = y_test \n",
        "cm = confusion_matrix(Ytrue, Ypred)\n",
        "plt.figure(figsize=(12, 12))\n",
        "plt.title(\"Confusion Matrix for KNN\")\n",
        "ax = sns.heatmap(cm, cmap=\"mako\", fmt=\".01f\",annot_kws={'size':12}, annot=True, square=True, xticklabels=label, yticklabels=label)\n",
        "ax.set_ylabel('Actual', fontsize=20)\n",
        "ax.set_xlabel('Predicted', fontsize=20)"
      ]
    },
    {
      "cell_type": "code",
      "execution_count": null,
      "metadata": {
        "id": "VtFUcqQOXbpw"
      },
      "outputs": [],
      "source": [
        "cmt_KNN = confusion_matrix(y_test, KNN_pred, labels=[1,2,3,4,5])\n",
        "cmt_KNN = confusion_matrix(y_test, KNN_pred)"
      ]
    },
    {
      "cell_type": "code",
      "execution_count": null,
      "metadata": {
        "id": "vAnFvmUiXgjZ"
      },
      "outputs": [],
      "source": [
        "print(cmt_KNN)"
      ]
    },
    {
      "cell_type": "code",
      "execution_count": null,
      "metadata": {
        "id": "7KMuMLAQXkwo"
      },
      "outputs": [],
      "source": [
        "fp = cmt_KNN.sum(axis=0) - np.diag(cm)  \n",
        "fn = cmt_KNN.sum(axis=1) - np.diag(cm)\n",
        "tp = np.diag(cmt_KNN)\n",
        "tn = cmt_KNN.sum() - (fp + fn + tp)\n",
        "\n",
        "print(fp,fn,tp,tn)"
      ]
    },
    {
      "cell_type": "code",
      "execution_count": null,
      "metadata": {
        "id": "DO9wJiuYXsMY"
      },
      "outputs": [],
      "source": [
        "idx = 0\n",
        "print( \"TP rate for Class 1:\",tp[idx])\n",
        "print( \"TN rate for Class 1:\",tn[idx])\n",
        "print( \"FP rate for Class 1:\",fp[idx])\n",
        "print( \"FN rate for Class 1:\",fn[idx])"
      ]
    },
    {
      "cell_type": "code",
      "execution_count": null,
      "metadata": {
        "id": "u6xzflX9jtfR"
      },
      "outputs": [],
      "source": [
        "idx = 1\n",
        "print( \"TP rate for Class 2:\",tp[idx])\n",
        "print( \"TN rate for Class 2:\",tn[idx])\n",
        "print( \"FP rate for Class 2:\",fp[idx])\n",
        "print( \"FN rate for Class 2:\",fn[idx])"
      ]
    },
    {
      "cell_type": "code",
      "execution_count": null,
      "metadata": {
        "id": "3L0fOHqvjvLh"
      },
      "outputs": [],
      "source": [
        "idx = 2\n",
        "print( \"TP rate for Class 3:\",tp[idx])\n",
        "print( \"TN rate for Class 3:\",tn[idx])\n",
        "print( \"FP rate for Class 3:\",fp[idx])\n",
        "print( \"FN rate for Class 3:\",fn[idx])"
      ]
    },
    {
      "cell_type": "code",
      "execution_count": null,
      "metadata": {
        "id": "Rvge5XjPjw_5"
      },
      "outputs": [],
      "source": [
        "idx = 3\n",
        "print( \"TP rate for Class 4:\",tp[idx])\n",
        "print( \"TN rate for Class 4:\",tn[idx])\n",
        "print( \"FP rate for Class 4:\",fp[idx])\n",
        "print( \"FN rate for Class 4:\",fn[idx])"
      ]
    },
    {
      "cell_type": "code",
      "execution_count": null,
      "metadata": {
        "id": "Q8H9DMpjjzB5"
      },
      "outputs": [],
      "source": [
        "idx = 4\n",
        "print( \"TP rate for Class 5:\",tp[idx])\n",
        "print( \"TN rate for Class 5:\",tn[idx])\n",
        "print( \"FP rate for Class 5:\",fp[idx])\n",
        "print( \"FN rate for Class 5:\",fn[idx])"
      ]
    },
    {
      "cell_type": "code",
      "execution_count": null,
      "metadata": {
        "id": "dahkTRNsX01p"
      },
      "outputs": [],
      "source": [
        "acc = np.diag(cm).sum() / cm.sum()\n",
        "print(acc)"
      ]
    },
    {
      "cell_type": "code",
      "execution_count": null,
      "metadata": {
        "id": "NEnGD1vQX5rI"
      },
      "outputs": [],
      "source": [
        "from sklearn.neighbors import KNeighborsClassifier\n",
        "KNN = OneVsRestClassifier(KNeighborsClassifier(n_neighbors=5))\n",
        "KNN.fit(X_train_norm, y_train)\n",
        "y_pred = KNN.predict(X_test_norm)\n",
        "pred_prob = KNN.predict_proba(X_test_norm)"
      ]
    },
    {
      "cell_type": "code",
      "execution_count": null,
      "metadata": {
        "id": "ipEsRDqbX7Jb"
      },
      "outputs": [],
      "source": [
        "from sklearn.preprocessing import label_binarize\n",
        "\n",
        "y_test_binarized = label_binarize(y_test, classes = np.unique(y_test))\n",
        "fpr = {}\n",
        "tpr = {}\n",
        "thresh = {}\n",
        "roc_auc = dict()\n",
        "\n",
        "n_class = classes.shape[0]\n",
        "\n",
        "for i in range(n_class):\n",
        "  fpr[i], tpr[i], thresh[i] = roc_curve(y_test_binarized[:,i], pred_prob[:, i])\n",
        "  roc_auc[i] = auc(fpr[i], tpr[i])\n",
        "\n",
        "  plt.plot(fpr[i], tpr[i], linestyle='--',\n",
        "           label='%s vs Rest (AUC=%0.2f)'%(classes[i],roc_auc[i]))\n",
        "  \n",
        "plt.plot([0,1],[0,1],'b--')\n",
        "plt.xlim([0,1])\n",
        "plt.ylim([0,1.05])\n",
        "plt.title('Multiclass ROC Curve : KNN')\n",
        "plt.xlabel('False Positive Rate')\n",
        "plt.ylabel('True Positive Rate')\n",
        "plt.legend(loc= 'lower right')\n",
        "plt.show()"
      ]
    },
    {
      "cell_type": "markdown",
      "metadata": {
        "id": "TJvFa8UAYL1x"
      },
      "source": [
        "**4. Classifier : Artificial Neural Network**"
      ]
    },
    {
      "cell_type": "code",
      "execution_count": null,
      "metadata": {
        "id": "QrjTpSJHX8YQ"
      },
      "outputs": [],
      "source": [
        "from sklearn.neural_network import MLPClassifier\n",
        "from sklearn.metrics import accuracy_score\n",
        "nnc = MLPClassifier(hidden_layer_sizes=(9),activation=\"relu\",max_iter=1000)\n",
        "nnc.fit(X_train, y_train)\n",
        "nnc_pred =nnc.predict(X_test)\n",
        "nnc_acc=accuracy_score(y_test, nnc_pred)\n",
        "print(nnc_acc)"
      ]
    },
    {
      "cell_type": "code",
      "execution_count": null,
      "metadata": {
        "id": "FhOt217MYaN5"
      },
      "outputs": [],
      "source": [
        "from sklearn.metrics import classification_report\n",
        "print(classification_report(y_test, nnc_pred))"
      ]
    },
    {
      "cell_type": "code",
      "execution_count": null,
      "metadata": {
        "id": "1z7_AXI6YeXa"
      },
      "outputs": [],
      "source": [
        "from sklearn.metrics import confusion_matrix\n",
        "import seaborn as sns\n",
        "from sklearn.metrics import classification_report\n",
        "Ypred = nnc_pred\n",
        "label=['1', '2','3','4','5']\n",
        "Ytrue = y_test \n",
        "cm = confusion_matrix(Ytrue, Ypred)\n",
        "plt.figure(figsize=(12, 12))\n",
        "plt.title(\"Confusion Matrix for ANN\")\n",
        "ax = sns.heatmap(cm, cmap=\"mako\", fmt=\".01f\",annot_kws={'size':12}, annot=True, square=True, xticklabels=label, yticklabels=label)\n",
        "ax.set_ylabel('Actual', fontsize=20)\n",
        "ax.set_xlabel('Predicted', fontsize=20)"
      ]
    },
    {
      "cell_type": "code",
      "execution_count": null,
      "metadata": {
        "id": "LpIsXGXXYkFx"
      },
      "outputs": [],
      "source": [
        "cmt_ANN = confusion_matrix(y_test, nnc_pred, labels=[1,2,3,4,5])\n",
        "cmt_ANN = confusion_matrix(y_test, nnc_pred)"
      ]
    },
    {
      "cell_type": "code",
      "execution_count": null,
      "metadata": {
        "id": "A0q_VlByYn4Y"
      },
      "outputs": [],
      "source": [
        "print(cmt_ANN)"
      ]
    },
    {
      "cell_type": "code",
      "execution_count": null,
      "metadata": {
        "id": "i5kVcK1UYsL3"
      },
      "outputs": [],
      "source": [
        "fp = cmt_ANN.sum(axis=0) - np.diag(cm)  \n",
        "fn = cmt_ANN.sum(axis=1) - np.diag(cm)\n",
        "tp = np.diag(cmt_ANN)\n",
        "tn = cmt_ANN.sum() - (fp + fn + tp)\n",
        "\n",
        "print(fp,fn,tp,tn)"
      ]
    },
    {
      "cell_type": "code",
      "execution_count": null,
      "metadata": {
        "id": "KX3c9JZPYxBN"
      },
      "outputs": [],
      "source": [
        "idx = 0\n",
        "print( \"TP rate for Class 1:\",tp[idx])\n",
        "print( \"TN rate for Class 1:\",tn[idx])\n",
        "print( \"FP rate for Class 1:\",fp[idx])\n",
        "print( \"FN rate for Class 1:\",fn[idx])"
      ]
    },
    {
      "cell_type": "code",
      "execution_count": null,
      "metadata": {
        "id": "S7qIspSxj4BB"
      },
      "outputs": [],
      "source": [
        "idx = 1\n",
        "print( \"TP rate for Class 2:\",tp[idx])\n",
        "print( \"TN rate for Class 2:\",tn[idx])\n",
        "print( \"FP rate for Class 2:\",fp[idx])\n",
        "print( \"FN rate for Class 2:\",fn[idx])"
      ]
    },
    {
      "cell_type": "code",
      "execution_count": null,
      "metadata": {
        "id": "ewLEsyTLj5lh"
      },
      "outputs": [],
      "source": [
        "idx = 2\n",
        "print( \"TP rate for Class 3:\",tp[idx])\n",
        "print( \"TN rate for Class 3:\",tn[idx])\n",
        "print( \"FP rate for Class 3:\",fp[idx])\n",
        "print( \"FN rate for Class 3:\",fn[idx])"
      ]
    },
    {
      "cell_type": "code",
      "execution_count": null,
      "metadata": {
        "id": "QbVaWdfQj7-Z"
      },
      "outputs": [],
      "source": [
        "idx = 3\n",
        "print( \"TP rate for Class 4:\",tp[idx])\n",
        "print( \"TN rate for Class 4:\",tn[idx])\n",
        "print( \"FP rate for Class 4:\",fp[idx])\n",
        "print( \"FN rate for Class 4:\",fn[idx])"
      ]
    },
    {
      "cell_type": "code",
      "execution_count": null,
      "metadata": {
        "id": "sxWbeaoYj9-x"
      },
      "outputs": [],
      "source": [
        "idx = 4\n",
        "print( \"TP rate for Class 5:\",tp[idx])\n",
        "print( \"TN rate for Class 5:\",tn[idx])\n",
        "print( \"FP rate for Class 5:\",fp[idx])\n",
        "print( \"FN rate for Class 5:\",fn[idx])"
      ]
    },
    {
      "cell_type": "code",
      "execution_count": null,
      "metadata": {
        "id": "eZVA5cftY4O4"
      },
      "outputs": [],
      "source": [
        "acc = np.diag(cm).sum() / cm.sum()\n",
        "print(acc)"
      ]
    },
    {
      "cell_type": "code",
      "execution_count": null,
      "metadata": {
        "id": "U7fLnEzuY8ZI"
      },
      "outputs": [],
      "source": [
        "from sklearn.neural_network import MLPClassifier\n",
        "ANN = OneVsRestClassifier(MLPClassifier(hidden_layer_sizes=(9),activation=\"relu\",max_iter=1000))\n",
        "ANN.fit(X_train_norm, y_train)\n",
        "y_pred = ANN.predict(X_test_norm)\n",
        "pred_prob = ANN.predict_proba(X_test_norm)"
      ]
    },
    {
      "cell_type": "code",
      "execution_count": null,
      "metadata": {
        "id": "WSHkkAO6Y-bI"
      },
      "outputs": [],
      "source": [
        "from sklearn.preprocessing import label_binarize\n",
        "\n",
        "y_test_binarized = label_binarize(y_test, classes = np.unique(y_test))\n",
        "fpr = {}\n",
        "tpr = {}\n",
        "thresh = {}\n",
        "roc_auc = dict()\n",
        "\n",
        "n_class = classes.shape[0]\n",
        "\n",
        "for i in range(n_class):\n",
        "  fpr[i], tpr[i], thresh[i] = roc_curve(y_test_binarized[:,i], pred_prob[:, i])\n",
        "  roc_auc[i] = auc(fpr[i], tpr[i])\n",
        "\n",
        "  plt.plot(fpr[i], tpr[i], linestyle='--',\n",
        "           label='%s vs Rest (AUC=%0.2f)'%(classes[i],roc_auc[i]))\n",
        "  \n",
        "plt.plot([0,1],[0,1],'b--')\n",
        "plt.xlim([0,1])\n",
        "plt.ylim([0,1.05])\n",
        "plt.title('Multiclass ROC Curve : Artificial Neural Network')\n",
        "plt.xlabel('False Positive Rate')\n",
        "plt.ylabel('True Positive Rate')\n",
        "plt.legend(loc= 'lower right')\n",
        "plt.show()"
      ]
    },
    {
      "cell_type": "markdown",
      "metadata": {
        "id": "8gqo1_l2ZMj6"
      },
      "source": [
        "**5. Classifier : Random Forest**"
      ]
    },
    {
      "cell_type": "code",
      "execution_count": null,
      "metadata": {
        "id": "m0ZsLU0MZR-a"
      },
      "outputs": [],
      "source": [
        "from sklearn.ensemble import RandomForestClassifier\n",
        "from sklearn.metrics import accuracy_score\n",
        "from sklearn.metrics import accuracy_score\n",
        "randomf = RandomForestClassifier(n_estimators=100)\n",
        "randomf.fit(X_train, y_train)\n",
        "rf_pred = randomf.predict(X_test)\n",
        "rf_acc=accuracy_score(y_test, rf_pred)\n",
        "print(rf_acc)"
      ]
    },
    {
      "cell_type": "code",
      "execution_count": null,
      "metadata": {
        "id": "3XS_YFimZXg0"
      },
      "outputs": [],
      "source": [
        "from sklearn.metrics import classification_report\n",
        "print(classification_report(y_test, rf_pred))"
      ]
    },
    {
      "cell_type": "code",
      "execution_count": null,
      "metadata": {
        "id": "A_cV0_uWZcTp"
      },
      "outputs": [],
      "source": [
        "from sklearn.metrics import confusion_matrix\n",
        "import seaborn as sns\n",
        "from sklearn.metrics import classification_report\n",
        "Ypred = nnc_pred\n",
        "label=['1', '2','3','4','5']\n",
        "Ytrue = y_test \n",
        "cm = confusion_matrix(Ytrue, Ypred)\n",
        "plt.figure(figsize=(12, 12))\n",
        "plt.title(\"Confusion Matrix for ANN\")\n",
        "ax = sns.heatmap(cm, cmap=\"mako\", fmt=\".01f\",annot_kws={'size':12}, annot=True, square=True, xticklabels=label, yticklabels=label)\n",
        "ax.set_ylabel('Actual', fontsize=20)\n",
        "ax.set_xlabel('Predicted', fontsize=20)"
      ]
    },
    {
      "cell_type": "code",
      "execution_count": null,
      "metadata": {
        "id": "sGN0wFjIZi3n"
      },
      "outputs": [],
      "source": [
        "cmt_RF = confusion_matrix(y_test, rf_pred, labels=[1,2,3,4,5])\n",
        "cmt_RF = confusion_matrix(y_test, rf_pred)"
      ]
    },
    {
      "cell_type": "code",
      "execution_count": null,
      "metadata": {
        "id": "7-LT1iHkZnjR"
      },
      "outputs": [],
      "source": [
        "print(cmt_RF)"
      ]
    },
    {
      "cell_type": "code",
      "execution_count": null,
      "metadata": {
        "id": "AVUW4F1AZrop"
      },
      "outputs": [],
      "source": [
        "fp = cmt_RF.sum(axis=0) - np.diag(cm)  \n",
        "fn = cmt_RF.sum(axis=1) - np.diag(cm)\n",
        "tp = np.diag(cmt_RF)\n",
        "tn = cmt_RF.sum() - (fp + fn + tp)\n",
        "\n",
        "print(fp,fn,tp,tn)"
      ]
    },
    {
      "cell_type": "code",
      "execution_count": null,
      "metadata": {
        "id": "8Y89CmZ6ZzcI"
      },
      "outputs": [],
      "source": [
        "idx = 0\n",
        "print( \"TP rate for Class 1:\",tp[idx])\n",
        "print( \"TN rate for Class 1:\",tn[idx])\n",
        "print( \"FP rate for Class 1:\",fp[idx])\n",
        "print( \"FN rate for Class 1:\",fn[idx])"
      ]
    },
    {
      "cell_type": "code",
      "execution_count": null,
      "metadata": {
        "id": "IrFRzU4wkCSx"
      },
      "outputs": [],
      "source": [
        "idx = 1\n",
        "print( \"TP rate for Class 2:\",tp[idx])\n",
        "print( \"TN rate for Class 2:\",tn[idx])\n",
        "print( \"FP rate for Class 2:\",fp[idx])\n",
        "print( \"FN rate for Class 2:\",fn[idx])"
      ]
    },
    {
      "cell_type": "code",
      "execution_count": null,
      "metadata": {
        "id": "vlKQy4lzkECr"
      },
      "outputs": [],
      "source": [
        "idx = 2\n",
        "print( \"TP rate for Class 3:\",tp[idx])\n",
        "print( \"TN rate for Class 3:\",tn[idx])\n",
        "print( \"FP rate for Class 3:\",fp[idx])\n",
        "print( \"FN rate for Class 3:\",fn[idx])"
      ]
    },
    {
      "cell_type": "code",
      "execution_count": null,
      "metadata": {
        "id": "c-o1wexVkFwp"
      },
      "outputs": [],
      "source": [
        "idx = 3\n",
        "print( \"TP rate for Class 4:\",tp[idx])\n",
        "print( \"TN rate for Class 4:\",tn[idx])\n",
        "print( \"FP rate for Class 4:\",fp[idx])\n",
        "print( \"FN rate for Class 4:\",fn[idx])"
      ]
    },
    {
      "cell_type": "code",
      "execution_count": null,
      "metadata": {
        "id": "UA0IWQrdkHuZ"
      },
      "outputs": [],
      "source": [
        "idx = 4\n",
        "print( \"TP rate for Class 5:\",tp[idx])\n",
        "print( \"TN rate for Class 5:\",tn[idx])\n",
        "print( \"FP rate for Class 5:\",fp[idx])\n",
        "print( \"FN rate for Class 5:\",fn[idx])"
      ]
    },
    {
      "cell_type": "code",
      "execution_count": null,
      "metadata": {
        "id": "vS5pzVbFZ48Q"
      },
      "outputs": [],
      "source": [
        "acc = np.diag(cm).sum() / cm.sum()\n",
        "print(acc)"
      ]
    },
    {
      "cell_type": "code",
      "execution_count": null,
      "metadata": {
        "id": "KIsRUKSkaYmA"
      },
      "outputs": [],
      "source": [
        "from sklearn.multiclass import OneVsRestClassifier\n",
        "from sklearn.ensemble import RandomForestClassifier\n",
        "from sklearn.metrics import roc_curve, auc"
      ]
    },
    {
      "cell_type": "code",
      "execution_count": null,
      "metadata": {
        "id": "UQqoXBesaZ-5"
      },
      "outputs": [],
      "source": [
        "RF = OneVsRestClassifier(RandomForestClassifier(max_features=0.2))\n",
        "RF.fit(X_train_norm, y_train)\n",
        "y_pred = RF.predict(X_test_norm)\n",
        "pred_prob = RF.predict_proba(X_test_norm)"
      ]
    },
    {
      "cell_type": "code",
      "execution_count": null,
      "metadata": {
        "id": "VH9ziiHLabd5"
      },
      "outputs": [],
      "source": [
        "from sklearn.preprocessing import label_binarize\n",
        "\n",
        "y_test_binarized = label_binarize(y_test, classes = np.unique(y_test))\n",
        "fpr = {}\n",
        "tpr = {}\n",
        "thresh = {}\n",
        "roc_auc = dict()\n",
        "\n",
        "n_class = classes.shape[0]\n",
        "\n",
        "for i in range(n_class):\n",
        "  fpr[i], tpr[i], thresh[i] = roc_curve(y_test_binarized[:,i], pred_prob[:, i])\n",
        "  roc_auc[i] = auc(fpr[i], tpr[i])\n",
        "\n",
        "  plt.plot(fpr[i], tpr[i], linestyle='--',\n",
        "           label='%s vs Rest (AUC=%0.2f)'%(classes[i],roc_auc[i]))\n",
        "  \n",
        "plt.plot([0,1],[0,1],'b--')\n",
        "plt.xlim([0,1])\n",
        "plt.ylim([0,1.05])\n",
        "plt.title('Multiclass ROC Curve : Random Forest')\n",
        "plt.xlabel('False Positive Rate')\n",
        "plt.ylabel('True Positive Rate')\n",
        "plt.legend(loc= 'lower right')\n",
        "plt.show()"
      ]
    },
    {
      "cell_type": "markdown",
      "metadata": {
        "id": "Lku8TleE4saY"
      },
      "source": [
        "**5. Classifier : Gradiant Boost**"
      ]
    },
    {
      "cell_type": "code",
      "execution_count": null,
      "metadata": {
        "id": "t-y4mKcm4zqJ"
      },
      "outputs": [],
      "source": [
        "from sklearn.ensemble import GradientBoostingClassifier\n",
        "from sklearn.tree import DecisionTreeClassifier"
      ]
    },
    {
      "cell_type": "code",
      "execution_count": null,
      "metadata": {
        "id": "X07G1CQU42Se"
      },
      "outputs": [],
      "source": [
        "import joblib\n",
        "from  sklearn.utils import parallel_backend \n",
        "gboost = GradientBoostingClassifier(learning_rate=.1, n_estimators=500,max_depth=5 )"
      ]
    },
    {
      "cell_type": "code",
      "execution_count": null,
      "metadata": {
        "id": "YgypXA3H43uC"
      },
      "outputs": [],
      "source": [
        "gboost.fit(X_train, y_train)\n",
        "gboost_pred = gboost.predict(X_test)"
      ]
    },
    {
      "cell_type": "code",
      "execution_count": null,
      "metadata": {
        "id": "A70ZmweJ45UM"
      },
      "outputs": [],
      "source": [
        "from sklearn.metrics import accuracy_score\n",
        "gboost_acc=accuracy_score(y_test, gboost_pred)\n",
        "print(gboost_acc)"
      ]
    },
    {
      "cell_type": "code",
      "execution_count": null,
      "metadata": {
        "id": "-3tePQwY47_w"
      },
      "outputs": [],
      "source": [
        "from sklearn.metrics import classification_report\n",
        "print(classification_report(y_test, gboost_pred))"
      ]
    },
    {
      "cell_type": "code",
      "execution_count": null,
      "metadata": {
        "id": "7XdPGRMu4-St"
      },
      "outputs": [],
      "source": [
        "from sklearn.metrics import confusion_matrix\n",
        "import seaborn as sns\n",
        "from sklearn.metrics import classification_report\n",
        "Ypred = gboost_pred\n",
        "label=['1', '2','3','4','5']\n",
        "Ytrue = y_test \n",
        "cm = confusion_matrix(Ytrue, Ypred)\n",
        "plt.figure(figsize=(12, 12))\n",
        "plt.title(\"Confusion Matrix for Gradient Boost\")\n",
        "ax = sns.heatmap(cm, cmap=\"mako\", fmt=\".01f\",annot_kws={'size':12}, annot=True, square=True, xticklabels=label, yticklabels=label)\n",
        "ax.set_ylabel('Actual', fontsize=20)\n",
        "ax.set_xlabel('Predicted', fontsize=20)"
      ]
    },
    {
      "cell_type": "code",
      "execution_count": null,
      "metadata": {
        "id": "DvtGbCdx5Z2_"
      },
      "outputs": [],
      "source": [
        "cmt_gboost = confusion_matrix(y_test, gboost_pred, labels=[1,2,3,4,5])\n",
        "cmt_gboost = confusion_matrix(y_test, gboost_pred)"
      ]
    },
    {
      "cell_type": "code",
      "execution_count": null,
      "metadata": {
        "id": "JyH0rM2I5op3"
      },
      "outputs": [],
      "source": [
        "print(cmt_gboost)"
      ]
    },
    {
      "cell_type": "code",
      "execution_count": null,
      "metadata": {
        "id": "7FLdegBg5uf_"
      },
      "outputs": [],
      "source": [
        "fp = cmt_gboost.sum(axis=0) - np.diag(cm)  \n",
        "fn = cmt_gboost.sum(axis=1) - np.diag(cm)\n",
        "tp = np.diag(cmt_gboost)\n",
        "tn = cmt_gboost.sum() - (fp + fn + tp)\n",
        "\n",
        "print(fp,fn,tp,tn)"
      ]
    },
    {
      "cell_type": "code",
      "execution_count": null,
      "metadata": {
        "id": "I4du9OJh5_mC"
      },
      "outputs": [],
      "source": [
        "idx = 0\n",
        "print( \"TP rate for Class 1:\",tp[idx])\n",
        "print( \"TN rate for Class 1:\",tn[idx])\n",
        "print( \"FP rate for Class 1:\",fp[idx])\n",
        "print( \"FN rate for Class 1:\",fn[idx])"
      ]
    },
    {
      "cell_type": "code",
      "execution_count": null,
      "metadata": {
        "id": "yocSa3H1kNTJ"
      },
      "outputs": [],
      "source": [
        "idx = 1\n",
        "print( \"TP rate for Class 2:\",tp[idx])\n",
        "print( \"TN rate for Class 2:\",tn[idx])\n",
        "print( \"FP rate for Class 2:\",fp[idx])\n",
        "print( \"FN rate for Class 2:\",fn[idx])"
      ]
    },
    {
      "cell_type": "code",
      "execution_count": null,
      "metadata": {
        "id": "WRKPzl4fkPUi"
      },
      "outputs": [],
      "source": [
        "idx = 2\n",
        "print( \"TP rate for Class 3:\",tp[idx])\n",
        "print( \"TN rate for Class 3:\",tn[idx])\n",
        "print( \"FP rate for Class 3:\",fp[idx])\n",
        "print( \"FN rate for Class 3:\",fn[idx])"
      ]
    },
    {
      "cell_type": "code",
      "execution_count": null,
      "metadata": {
        "id": "FVs2vvqqkQ_B"
      },
      "outputs": [],
      "source": [
        "idx = 3\n",
        "print( \"TP rate for Class 4:\",tp[idx])\n",
        "print( \"TN rate for Class 4:\",tn[idx])\n",
        "print( \"FP rate for Class 4:\",fp[idx])\n",
        "print( \"FN rate for Class 4:\",fn[idx])"
      ]
    },
    {
      "cell_type": "code",
      "execution_count": null,
      "metadata": {
        "id": "cLpxTSJSkSZ4"
      },
      "outputs": [],
      "source": [
        "idx = 4\n",
        "print( \"TP rate for Class 5:\",tp[idx])\n",
        "print( \"TN rate for Class 5:\",tn[idx])\n",
        "print( \"FP rate for Class 5:\",fp[idx])\n",
        "print( \"FN rate for Class 5:\",fn[idx])"
      ]
    },
    {
      "cell_type": "code",
      "execution_count": null,
      "metadata": {
        "id": "JddiCBQV6AN3"
      },
      "outputs": [],
      "source": [
        "acc = np.diag(cm).sum() / cm.sum()\n",
        "print(acc)"
      ]
    },
    {
      "cell_type": "code",
      "execution_count": null,
      "metadata": {
        "id": "otFJAPyL6ET3"
      },
      "outputs": [],
      "source": [
        "from sklearn.multiclass import OneVsRestClassifier\n",
        "from sklearn.ensemble import RandomForestClassifier\n",
        "from sklearn.metrics import roc_curve, auc"
      ]
    },
    {
      "cell_type": "code",
      "execution_count": null,
      "metadata": {
        "id": "sIjzbclt6LaY"
      },
      "outputs": [],
      "source": [
        "from sklearn.ensemble import GradientBoostingClassifier\n",
        "from sklearn.tree import DecisionTreeClassifier\n",
        "gboost = OneVsRestClassifier(GradientBoostingClassifier(learning_rate=.1, n_estimators=500,max_depth=5 ))\n",
        "gboost.fit(X_train_norm, y_train)\n",
        "y_pred = gboost.predict(X_test_norm)\n",
        "pred_prob = gboost.predict_proba(X_test_norm)"
      ]
    },
    {
      "cell_type": "code",
      "execution_count": null,
      "metadata": {
        "id": "iB4N4NMK6X50"
      },
      "outputs": [],
      "source": [
        "from sklearn.preprocessing import label_binarize\n",
        "\n",
        "y_test_binarized = label_binarize(y_test, classes = np.unique(y_test))\n",
        "fpr = {}\n",
        "tpr = {}\n",
        "thresh = {}\n",
        "roc_auc = dict()\n",
        "\n",
        "n_class = classes.shape[0]\n",
        "\n",
        "for i in range(n_class):\n",
        "  fpr[i], tpr[i], thresh[i] = roc_curve(y_test_binarized[:,i], pred_prob[:, i])\n",
        "  roc_auc[i] = auc(fpr[i], tpr[i])\n",
        "\n",
        "  plt.plot(fpr[i], tpr[i], linestyle='--',\n",
        "           label='%s vs Rest (AUC=%0.2f)'%(classes[i],roc_auc[i]))\n",
        "  \n",
        "plt.plot([0,1],[0,1],'b--')\n",
        "plt.xlim([0,1])\n",
        "plt.ylim([0,1.05])\n",
        "plt.title('Multiclass ROC Curve : Gradiant Boost')\n",
        "plt.xlabel('False Positive Rate')\n",
        "plt.ylabel('True Positive Rate')\n",
        "plt.legend(loc= 'lower right')\n",
        "plt.show()"
      ]
    },
    {
      "cell_type": "markdown",
      "metadata": {
        "id": "pGFGV3W8-h6_"
      },
      "source": [
        "**6. Classifier : Xtreme Gradient Boost**"
      ]
    },
    {
      "cell_type": "code",
      "execution_count": null,
      "metadata": {
        "id": "BGh2DSiK-n2B"
      },
      "outputs": [],
      "source": [
        "import xgboost as xgb\n",
        "xgbd = xgb.XGBClassifier(max_depth=10, n_estimators=5000 , learning_rate=.5, n_jobs=-1)"
      ]
    },
    {
      "cell_type": "code",
      "execution_count": null,
      "metadata": {
        "id": "vbGXvm_e-uxZ"
      },
      "outputs": [],
      "source": [
        "xgbd.fit(X_train, y_train)\n",
        "xgb_pred = xgbd.predict(X_test)\n",
        "xgb_acc=accuracy_score(y_test, xgb_pred)\n",
        "print(xgb_acc)"
      ]
    },
    {
      "cell_type": "code",
      "execution_count": null,
      "metadata": {
        "id": "-bZNO0hI-1ab"
      },
      "outputs": [],
      "source": [
        "from sklearn.metrics import classification_report\n",
        "print(classification_report(y_test, xgb_pred))"
      ]
    },
    {
      "cell_type": "code",
      "execution_count": null,
      "metadata": {
        "id": "ItRySljA-xSH"
      },
      "outputs": [],
      "source": [
        "from sklearn.metrics import confusion_matrix\n",
        "import seaborn as sns\n",
        "from sklearn.metrics import classification_report\n",
        "Ypred = xgb_pred\n",
        "label=['1', '2','3','4','5']\n",
        "Ytrue = y_test \n",
        "cm = confusion_matrix(Ytrue, Ypred)\n",
        "plt.figure(figsize=(12, 12))\n",
        "plt.title(\"Confusion Matrix for Xtreme Gradient Boost\")\n",
        "ax = sns.heatmap(cm, cmap=\"mako\", fmt=\".01f\",annot_kws={'size':12}, annot=True, square=True, xticklabels=label, yticklabels=label)\n",
        "ax.set_ylabel('Actual', fontsize=20)\n",
        "ax.set_xlabel('Predicted', fontsize=20)"
      ]
    },
    {
      "cell_type": "code",
      "execution_count": null,
      "metadata": {
        "id": "gw5mS4qK-7HI"
      },
      "outputs": [],
      "source": [
        "cmt_xgb = confusion_matrix(y_test, xgb_pred, labels=[1,2,3,4,5])\n",
        "cmt_xgb = confusion_matrix(y_test, xgb_pred)"
      ]
    },
    {
      "cell_type": "code",
      "execution_count": null,
      "metadata": {
        "id": "Im9kCQox_BVf"
      },
      "outputs": [],
      "source": [
        "print(cmt_xgb)"
      ]
    },
    {
      "cell_type": "code",
      "execution_count": null,
      "metadata": {
        "id": "pjsxdRiZ_JOY"
      },
      "outputs": [],
      "source": [
        "fp = cmt_xgb.sum(axis=0) - np.diag(cm)  \n",
        "fn = cmt_xgb.sum(axis=1) - np.diag(cm)\n",
        "tp = np.diag(cmt_xgb)\n",
        "tn = cmt_xgb.sum() - (fp + fn + tp)\n",
        "\n",
        "print(fp,fn,tp,tn)"
      ]
    },
    {
      "cell_type": "code",
      "execution_count": null,
      "metadata": {
        "id": "vNaOPidr_aMn"
      },
      "outputs": [],
      "source": [
        "idx = 0\n",
        "print( \"TP rate for Class 1:\",tp[idx])\n",
        "print( \"TN rate for Class 1:\",tn[idx])\n",
        "print( \"FP rate for Class 1:\",fp[idx])\n",
        "print( \"FN rate for Class 1:\",fn[idx])"
      ]
    },
    {
      "cell_type": "code",
      "execution_count": null,
      "metadata": {
        "id": "9ZQu6MWBkWpA"
      },
      "outputs": [],
      "source": [
        "idx = 1\n",
        "print( \"TP rate for Class 2:\",tp[idx])\n",
        "print( \"TN rate for Class 2:\",tn[idx])\n",
        "print( \"FP rate for Class 2:\",fp[idx])\n",
        "print( \"FN rate for Class 2:\",fn[idx])"
      ]
    },
    {
      "cell_type": "code",
      "execution_count": null,
      "metadata": {
        "id": "DplidAcdkar_"
      },
      "outputs": [],
      "source": [
        "idx = 2\n",
        "print( \"TP rate for Class 3:\",tp[idx])\n",
        "print( \"TN rate for Class 3:\",tn[idx])\n",
        "print( \"FP rate for Class 3:\",fp[idx])\n",
        "print( \"FN rate for Class 3:\",fn[idx])"
      ]
    },
    {
      "cell_type": "code",
      "execution_count": null,
      "metadata": {
        "id": "bdkZPS7KkccB"
      },
      "outputs": [],
      "source": [
        "idx = 3\n",
        "print( \"TP rate for Class 4:\",tp[idx])\n",
        "print( \"TN rate for Class 4:\",tn[idx])\n",
        "print( \"FP rate for Class 4:\",fp[idx])\n",
        "print( \"FN rate for Class 4:\",fn[idx])"
      ]
    },
    {
      "cell_type": "code",
      "execution_count": null,
      "metadata": {
        "id": "tImnUl08kdy9"
      },
      "outputs": [],
      "source": [
        "idx = 4\n",
        "print( \"TP rate for Class 5:\",tp[idx])\n",
        "print( \"TN rate for Class 5:\",tn[idx])\n",
        "print( \"FP rate for Class 5:\",fp[idx])\n",
        "print( \"FN rate for Class 5:\",fn[idx])"
      ]
    },
    {
      "cell_type": "code",
      "execution_count": null,
      "metadata": {
        "id": "0ioNdNNB_atH"
      },
      "outputs": [],
      "source": [
        "acc = np.diag(cm).sum() / cm.sum()\n",
        "print(acc)"
      ]
    },
    {
      "cell_type": "code",
      "execution_count": null,
      "metadata": {
        "id": "hhm9Xps0_fA3"
      },
      "outputs": [],
      "source": [
        "import xgboost as xgb\n",
        "xgboost = OneVsRestClassifier(xgb.XGBClassifier(max_depth=10, n_estimators=5000 , learning_rate=.5, n_jobs=-1))\n",
        "xgboost.fit(X_train_norm, y_train)\n",
        "y_pred = xgboost.predict(X_test_norm)\n",
        "pred_prob = xgboost.predict_proba(X_test_norm)"
      ]
    },
    {
      "cell_type": "code",
      "execution_count": null,
      "metadata": {
        "id": "dpfZ2pnt_gNQ"
      },
      "outputs": [],
      "source": [
        "from sklearn.preprocessing import label_binarize\n",
        "\n",
        "y_test_binarized = label_binarize(y_test, classes = np.unique(y_test))\n",
        "fpr = {}\n",
        "tpr = {}\n",
        "thresh = {}\n",
        "roc_auc = dict()\n",
        "\n",
        "n_class = classes.shape[0]\n",
        "\n",
        "for i in range(n_class):\n",
        "  fpr[i], tpr[i], thresh[i] = roc_curve(y_test_binarized[:,i], pred_prob[:, i])\n",
        "  roc_auc[i] = auc(fpr[i], tpr[i])\n",
        "\n",
        "  plt.plot(fpr[i], tpr[i], linestyle='--',\n",
        "           label='%s vs Rest (AUC=%0.2f)'%(classes[i],roc_auc[i]))\n",
        "  \n",
        "plt.plot([0,1],[0,1],'b--')\n",
        "plt.xlim([0,1])\n",
        "plt.ylim([0,1.05])\n",
        "plt.title('Multiclass ROC Curve : Xtreme Gradient Boost')\n",
        "plt.xlabel('False Positive Rate')\n",
        "plt.ylabel('True Positive Rate')\n",
        "plt.legend(loc= 'lower right')\n",
        "plt.show()"
      ]
    },
    {
      "cell_type": "markdown",
      "metadata": {
        "id": "xn2GqZiWtfSr"
      },
      "source": [
        "**7. Classifer: Stacking Random Forest**"
      ]
    },
    {
      "cell_type": "code",
      "execution_count": null,
      "metadata": {
        "id": "WIwcPIA2tj6-"
      },
      "outputs": [],
      "source": [
        "from sklearn.neural_network import MLPClassifier\n",
        "nnc = MLPClassifier(hidden_layer_sizes=(9),activation=\"relu\",max_iter=1000)\n",
        "from sklearn.ensemble import RandomForestClassifier\n",
        "from sklearn.tree import DecisionTreeClassifier\n",
        "randomf = RandomForestClassifier(n_jobs=-1)\n",
        "from sklearn.neighbors import KNeighborsClassifier\n",
        "knn = KNeighborsClassifier(n_neighbors=5)\n",
        "from sklearn.model_selection import GridSearchCV\n",
        "estimators = [('rf', randomf),('neural', nnc),\n",
        "        ('knn',knn)\n",
        "        ]\n",
        "from sklearn.ensemble import StackingClassifier\n",
        "final_estimator = {'final_estimator':[randomf,knn,nnc,None]}\n",
        "from sklearn.metrics import confusion_matrix\n",
        "from sklearn.preprocessing import LabelBinarizer\n",
        "from sklearn.model_selection import train_test_split\n",
        "newgsearchrandom =  StackingClassifier(estimators=estimators, n_jobs=-1,final_estimator=randomf)\n",
        "newgsearchrandom.fit(X_train, y_train)\n",
        "from sklearn.metrics import accuracy_score\n",
        "newgsearchrandom_pred = newgsearchrandom.predict(X_test)\n",
        "newgsearchrandom_acc=accuracy_score(y_test, newgsearchrandom_pred)\n",
        "print(newgsearchrandom_acc)"
      ]
    },
    {
      "cell_type": "code",
      "execution_count": null,
      "metadata": {
        "id": "xyERE39dt_HZ"
      },
      "outputs": [],
      "source": [
        "from sklearn.metrics import classification_report\n",
        "print(classification_report(y_test, newgsearchrandom_pred))"
      ]
    },
    {
      "cell_type": "code",
      "execution_count": null,
      "metadata": {
        "id": "rxaVAGuzuUnT"
      },
      "outputs": [],
      "source": [
        "from sklearn.metrics import confusion_matrix\n",
        "import seaborn as sns\n",
        "from sklearn.metrics import classification_report\n",
        "Ypred = newgsearchrandom_pred\n",
        "label=['1', '2','3','4','5']\n",
        "Ytrue = y_test \n",
        "cm = confusion_matrix(Ytrue, Ypred)\n",
        "plt.figure(figsize=(12, 12))\n",
        "plt.title(\"Confusion Matrix for Stacking Random Forest\")\n",
        "ax = sns.heatmap(cm, cmap=\"mako\", fmt=\".01f\",annot_kws={'size':12}, annot=True, square=True, xticklabels=label, yticklabels=label)\n",
        "ax.set_ylabel('Actual', fontsize=20)\n",
        "ax.set_xlabel('Predicted', fontsize=20)"
      ]
    },
    {
      "cell_type": "code",
      "execution_count": null,
      "metadata": {
        "id": "RAGIMehquf3d"
      },
      "outputs": [],
      "source": [
        "cmt_SRF = confusion_matrix(y_test, newgsearchrandom_pred, labels=[1,2,3,4,5])\n",
        "cmt_SRF = confusion_matrix(y_test, newgsearchrandom_pred)"
      ]
    },
    {
      "cell_type": "code",
      "execution_count": null,
      "metadata": {
        "id": "2bGkAp-MumBM"
      },
      "outputs": [],
      "source": [
        "print(cmt_SRF)"
      ]
    },
    {
      "cell_type": "code",
      "execution_count": null,
      "metadata": {
        "id": "kKmfGT4Outq9"
      },
      "outputs": [],
      "source": [
        "fp = cmt_SRF.sum(axis=0) - np.diag(cm)  \n",
        "fn = cmt_SRF.sum(axis=1) - np.diag(cm)\n",
        "tp = np.diag(cmt_SRF)\n",
        "tn = cmt_SRF.sum() - (fp + fn + tp)\n",
        "\n",
        "print(fp,fn,tp,tn)"
      ]
    },
    {
      "cell_type": "code",
      "execution_count": null,
      "metadata": {
        "id": "Huzbengcu0Ld"
      },
      "outputs": [],
      "source": [
        "idx = 0\n",
        "print( \"TP rate for Class 1:\",tp[idx])\n",
        "print( \"TN rate for Class 1:\",tn[idx])\n",
        "print( \"FP rate for Class 1:\",fp[idx])\n",
        "print( \"FN rate for Class 1:\",fn[idx])"
      ]
    },
    {
      "cell_type": "code",
      "execution_count": null,
      "metadata": {
        "id": "8MSwEhOFkhOa"
      },
      "outputs": [],
      "source": [
        "idx = 1\n",
        "print( \"TP rate for Class 2:\",tp[idx])\n",
        "print( \"TN rate for Class 2:\",tn[idx])\n",
        "print( \"FP rate for Class 2:\",fp[idx])\n",
        "print( \"FN rate for Class 2:\",fn[idx])"
      ]
    },
    {
      "cell_type": "code",
      "execution_count": null,
      "metadata": {
        "id": "hxIyI3PPki2J"
      },
      "outputs": [],
      "source": [
        "idx = 2\n",
        "print( \"TP rate for Class 3:\",tp[idx])\n",
        "print( \"TN rate for Class 3:\",tn[idx])\n",
        "print( \"FP rate for Class 3:\",fp[idx])\n",
        "print( \"FN rate for Class 3:\",fn[idx])"
      ]
    },
    {
      "cell_type": "code",
      "execution_count": null,
      "metadata": {
        "id": "rGsA-liRkkiJ"
      },
      "outputs": [],
      "source": [
        "idx = 3\n",
        "print( \"TP rate for Class 4:\",tp[idx])\n",
        "print( \"TN rate for Class 4:\",tn[idx])\n",
        "print( \"FP rate for Class 4:\",fp[idx])\n",
        "print( \"FN rate for Class 4:\",fn[idx])"
      ]
    },
    {
      "cell_type": "code",
      "execution_count": null,
      "metadata": {
        "id": "A7zK-9gDkmAU"
      },
      "outputs": [],
      "source": [
        "idx = 4\n",
        "print( \"TP rate for Class 5:\",tp[idx])\n",
        "print( \"TN rate for Class 5:\",tn[idx])\n",
        "print( \"FP rate for Class 5:\",fp[idx])\n",
        "print( \"FN rate for Class 5:\",fn[idx])"
      ]
    },
    {
      "cell_type": "code",
      "execution_count": null,
      "metadata": {
        "id": "o_DbHrqdu28s"
      },
      "outputs": [],
      "source": [
        "acc = np.diag(cm).sum() / cm.sum()\n",
        "print(acc)"
      ]
    },
    {
      "cell_type": "code",
      "execution_count": null,
      "metadata": {
        "id": "DI_qfNfau_nh"
      },
      "outputs": [],
      "source": [
        "Stacking_RF = OneVsRestClassifier(StackingClassifier(estimators=estimators, n_jobs=-1,final_estimator=randomf))\n",
        "Stacking_RF.fit(X_train_norm, y_train)\n",
        "y_pred = Stacking_RF.predict(X_test_norm)\n",
        "pred_prob = Stacking_RF.predict_proba(X_test_norm)"
      ]
    },
    {
      "cell_type": "code",
      "execution_count": null,
      "metadata": {
        "id": "ooJfRcHjvBmk"
      },
      "outputs": [],
      "source": [
        "from sklearn.preprocessing import label_binarize\n",
        "\n",
        "y_test_binarized = label_binarize(y_test, classes = np.unique(y_test))\n",
        "fpr = {}\n",
        "tpr = {}\n",
        "thresh = {}\n",
        "roc_auc = dict()\n",
        "\n",
        "n_class = classes.shape[0]\n",
        "\n",
        "for i in range(n_class):\n",
        "  fpr[i], tpr[i], thresh[i] = roc_curve(y_test_binarized[:,i], pred_prob[:, i])\n",
        "  roc_auc[i] = auc(fpr[i], tpr[i])\n",
        "\n",
        "  plt.plot(fpr[i], tpr[i], linestyle='--',\n",
        "           label='%s vs Rest (AUC=%0.2f)'%(classes[i],roc_auc[i]))\n",
        "  \n",
        "plt.plot([0,1],[0,1],'b--')\n",
        "plt.xlim([0,1])\n",
        "plt.ylim([0,1.05])\n",
        "plt.title('Multiclass ROC Curve : STacking Random Forest')\n",
        "plt.xlabel('False Positive Rate')\n",
        "plt.ylabel('True Positive Rate')\n",
        "plt.legend(loc= 'lower right')\n",
        "plt.show()"
      ]
    },
    {
      "cell_type": "markdown",
      "metadata": {
        "id": "6-0PG9Sdv4Ro"
      },
      "source": [
        "**8. Classifier: Stacking Neural Network**"
      ]
    },
    {
      "cell_type": "code",
      "execution_count": null,
      "metadata": {
        "id": "OnUw9Iikv9-n"
      },
      "outputs": [],
      "source": [
        "newgsearchnnc =  StackingClassifier(estimators=estimators, n_jobs=-1,final_estimator=nnc)\n",
        "newgsearchnnc.fit(X_train, y_train)\n",
        "newgsearchnnc_pred = newgsearchnnc.predict(X_test)\n",
        "newgsearchnnc_acc=accuracy_score(y_test, newgsearchnnc_pred)\n",
        "print(newgsearchnnc_acc)"
      ]
    },
    {
      "cell_type": "code",
      "execution_count": null,
      "metadata": {
        "id": "z2E12VKwiWvE"
      },
      "outputs": [],
      "source": [
        "print(classification_report(y_test, newgsearchnnc_pred))"
      ]
    },
    {
      "cell_type": "code",
      "execution_count": null,
      "metadata": {
        "id": "SPuJLEdgiY65"
      },
      "outputs": [],
      "source": [
        "from sklearn.metrics import confusion_matrix\n",
        "import seaborn as sns\n",
        "from sklearn.metrics import classification_report\n",
        "Ypred = newgsearchnnc_pred\n",
        "label=['1', '2','3','4', '5']\n",
        "Ytrue = y_test\n",
        "cm = confusion_matrix(Ytrue, Ypred)\n",
        "plt.figure(figsize=(12, 12))\n",
        "plt.title(\"Confusion Matrix for Neural Network as Final Estimator\")\n",
        "ax = sns.heatmap(cm, cmap=\"rocket_r\", fmt=\".01f\",annot_kws={'size':16}, annot=True, square=True, xticklabels=label, yticklabels=label)\n",
        "ax.set_ylabel('Actual', fontsize=20)\n",
        "ax.set_xlabel('Predicted', fontsize=20)"
      ]
    },
    {
      "cell_type": "code",
      "execution_count": null,
      "metadata": {
        "id": "hgJ4-dgOiaDS"
      },
      "outputs": [],
      "source": [
        "cmt_SANN = confusion_matrix(y_test, newgsearchnnc_pred, labels=[1,2,3,4,5])\n",
        "cmt_SANN = confusion_matrix(y_test, newgsearchnnc_pred)"
      ]
    },
    {
      "cell_type": "code",
      "execution_count": null,
      "metadata": {
        "id": "saLbrWhRirvJ"
      },
      "outputs": [],
      "source": [
        "print(cmt_SANN)"
      ]
    },
    {
      "cell_type": "code",
      "execution_count": null,
      "metadata": {
        "id": "hnbSPvD8iweR"
      },
      "outputs": [],
      "source": [
        "fp = cmt_SANN.sum(axis=0) - np.diag(cm)  \n",
        "fn = cmt_SANN.sum(axis=1) - np.diag(cm)\n",
        "tp = np.diag(cmt_SANN)\n",
        "tn = cmt_SANN.sum() - (fp + fn + tp)\n",
        "\n",
        "print(fp,fn,tp,tn)"
      ]
    },
    {
      "cell_type": "code",
      "execution_count": null,
      "metadata": {
        "id": "-6rO9R20i4DL"
      },
      "outputs": [],
      "source": [
        "idx = 0\n",
        "print( \"TP rate for Class 1:\",tp[idx])\n",
        "print( \"TN rate for Class 1:\",tn[idx])\n",
        "print( \"FP rate for Class 1:\",fp[idx])\n",
        "print( \"FN rate for Class 1:\",fn[idx])"
      ]
    },
    {
      "cell_type": "code",
      "execution_count": null,
      "metadata": {
        "id": "b9dnooG5kqph"
      },
      "outputs": [],
      "source": [
        "idx = 1\n",
        "print( \"TP rate for Class 2:\",tp[idx])\n",
        "print( \"TN rate for Class 2:\",tn[idx])\n",
        "print( \"FP rate for Class 2:\",fp[idx])\n",
        "print( \"FN rate for Class 2:\",fn[idx])"
      ]
    },
    {
      "cell_type": "code",
      "execution_count": null,
      "metadata": {
        "id": "XM1_YFz3ksXJ"
      },
      "outputs": [],
      "source": [
        "idx = 2\n",
        "print( \"TP rate for Class 3:\",tp[idx])\n",
        "print( \"TN rate for Class 3:\",tn[idx])\n",
        "print( \"FP rate for Class 3:\",fp[idx])\n",
        "print( \"FN rate for Class 3:\",fn[idx])"
      ]
    },
    {
      "cell_type": "code",
      "execution_count": null,
      "metadata": {
        "id": "zI79TUvIktxB"
      },
      "outputs": [],
      "source": [
        "idx = 3\n",
        "print( \"TP rate for Class 4:\",tp[idx])\n",
        "print( \"TN rate for Class 4:\",tn[idx])\n",
        "print( \"FP rate for Class 4:\",fp[idx])\n",
        "print( \"FN rate for Class 4:\",fn[idx])"
      ]
    },
    {
      "cell_type": "code",
      "execution_count": null,
      "metadata": {
        "id": "ltb6uDmwkvHq"
      },
      "outputs": [],
      "source": [
        "idx = 4\n",
        "print( \"TP rate for Class 5:\",tp[idx])\n",
        "print( \"TN rate for Class 5:\",tn[idx])\n",
        "print( \"FP rate for Class 5:\",fp[idx])\n",
        "print( \"FN rate for Class 5:\",fn[idx])"
      ]
    },
    {
      "cell_type": "code",
      "execution_count": null,
      "metadata": {
        "id": "LyvxACAPi8yt"
      },
      "outputs": [],
      "source": [
        "acc = np.diag(cm).sum() / cm.sum()\n",
        "print(acc)"
      ]
    },
    {
      "cell_type": "code",
      "execution_count": null,
      "metadata": {
        "id": "-LDkruBljGJx"
      },
      "outputs": [],
      "source": [
        "Stacking_ANN =   OneVsRestClassifier(StackingClassifier(estimators=estimators, n_jobs=-1,final_estimator=nnc))\n",
        "Stacking_ANN.fit(X_train_norm, y_train)\n",
        "y_pred = Stacking_ANN.predict(X_test_norm)\n",
        "pred_prob = Stacking_ANN.predict_proba(X_test_norm)"
      ]
    },
    {
      "cell_type": "code",
      "execution_count": null,
      "metadata": {
        "id": "MjF2YOA8jKLb"
      },
      "outputs": [],
      "source": [
        "from sklearn.preprocessing import label_binarize\n",
        "\n",
        "y_test_binarized = label_binarize(y_test, classes = np.unique(y_test))\n",
        "fpr = {}\n",
        "tpr = {}\n",
        "thresh = {}\n",
        "roc_auc = dict()\n",
        "\n",
        "n_class = classes.shape[0]\n",
        "\n",
        "for i in range(n_class):\n",
        "  fpr[i], tpr[i], thresh[i] = roc_curve(y_test_binarized[:,i], pred_prob[:, i])\n",
        "  roc_auc[i] = auc(fpr[i], tpr[i])\n",
        "\n",
        "  plt.plot(fpr[i], tpr[i], linestyle='--',\n",
        "           label='%s vs Rest (AUC=%0.2f)'%(classes[i],roc_auc[i]))\n",
        "  \n",
        "plt.plot([0,1],[0,1],'b--')\n",
        "plt.xlim([0,1])\n",
        "plt.ylim([0,1.05])\n",
        "plt.title('Multiclass ROC Curve : Stacking Neural Network')\n",
        "plt.xlabel('False Positive Rate')\n",
        "plt.ylabel('True Positive Rate')\n",
        "plt.legend(loc= 'lower right')\n",
        "plt.show()"
      ]
    },
    {
      "cell_type": "code",
      "execution_count": null,
      "metadata": {
        "id": "196WSU6hrMdZ"
      },
      "outputs": [],
      "source": [
        "from sklearn.svm import LinearSVC"
      ]
    },
    {
      "cell_type": "code",
      "execution_count": null,
      "metadata": {
        "id": "rFzLPBa2rRGj"
      },
      "outputs": [],
      "source": [
        "svc = LinearSVC(C=10, class_weight='balanced')\n",
        "svc.fit(X_train, y_train)"
      ]
    },
    {
      "cell_type": "code",
      "execution_count": null,
      "metadata": {
        "id": "hEI_6LmYrWuv"
      },
      "outputs": [],
      "source": [
        "SVM_pred = svc.predict(X_test)"
      ]
    },
    {
      "cell_type": "code",
      "execution_count": null,
      "metadata": {
        "id": "5ZCJ95G6rYkk"
      },
      "outputs": [],
      "source": [
        "SVM_pred = svc.predict(X_test)"
      ]
    },
    {
      "cell_type": "code",
      "execution_count": null,
      "metadata": {
        "id": "IjDyxnJorZ3a"
      },
      "outputs": [],
      "source": [
        "print(y_test)"
      ]
    },
    {
      "cell_type": "code",
      "execution_count": null,
      "metadata": {
        "id": "xMKmFs_trbvc"
      },
      "outputs": [],
      "source": [
        "SVM_acc = accuracy_score(y_test, SVM_pred)\n",
        "print(SVM_acc)"
      ]
    },
    {
      "cell_type": "code",
      "execution_count": null,
      "metadata": {
        "id": "TRBDU2iwrdSi"
      },
      "outputs": [],
      "source": [
        "print(classification_report(y_test, SVM_pred))"
      ]
    },
    {
      "cell_type": "code",
      "execution_count": null,
      "metadata": {
        "id": "_x_UfpWoHZJE"
      },
      "outputs": [],
      "source": [
        "from sklearn.svm import SVC"
      ]
    },
    {
      "cell_type": "code",
      "execution_count": null,
      "metadata": {
        "id": "qhqP9yeDHaG6"
      },
      "outputs": [],
      "source": [
        "svc_new = SVC(kernel ='rbf', class_weight='balanced')\n",
        "svc_new.fit(X_train, y_train)"
      ]
    },
    {
      "cell_type": "code",
      "execution_count": null,
      "metadata": {
        "id": "rKTswHn8HlPK"
      },
      "outputs": [],
      "source": [
        "SVM_newpred = svc_new.predict(X_test)"
      ]
    },
    {
      "cell_type": "code",
      "execution_count": null,
      "metadata": {
        "id": "IM1wMeAwHppp"
      },
      "outputs": [],
      "source": [
        "SVMnew_acc = accuracy_score(y_test, SVM_newpred)\n",
        "print(SVMnew_acc)"
      ]
    },
    {
      "cell_type": "code",
      "execution_count": null,
      "metadata": {
        "id": "3qzeJIJZHxSx"
      },
      "outputs": [],
      "source": [
        "print(classification_report(y_test, SVM_newpred))"
      ]
    },
    {
      "cell_type": "code",
      "execution_count": null,
      "metadata": {
        "id": "98R1077gyKII"
      },
      "outputs": [],
      "source": [
        "from sklearn.metrics import confusion_matrix\n",
        "import seaborn as sns\n",
        "from sklearn.metrics import classification_report\n",
        "Ypred = SVM_newpred\n",
        "label=['1', '2','3','4', '5']\n",
        "Ytrue = y_test\n",
        "cm = confusion_matrix(Ytrue, Ypred)\n",
        "plt.figure(figsize=(12, 12))\n",
        "plt.title(\"Confusion Matrix for Support Vector Machine\")\n",
        "ax = sns.heatmap(cm, cmap=\"rocket_r\", fmt=\".01f\",annot_kws={'size':16}, annot=True, square=True, xticklabels=label, yticklabels=label)\n",
        "ax.set_ylabel('Actual', fontsize=20)\n",
        "ax.set_xlabel('Predicted', fontsize=20)"
      ]
    },
    {
      "cell_type": "code",
      "execution_count": null,
      "metadata": {
        "id": "2Njb9R7qyeqj"
      },
      "outputs": [],
      "source": [
        "cmt_SVM = confusion_matrix(y_test, SVM_newpred, labels=[1,2,3,4,5])\n",
        "cmt_SVM = confusion_matrix(y_test, SVM_newpred)"
      ]
    },
    {
      "cell_type": "code",
      "execution_count": null,
      "metadata": {
        "id": "nEZu1NPWzj0_"
      },
      "outputs": [],
      "source": [
        "print(cmt_SVM)"
      ]
    },
    {
      "cell_type": "code",
      "execution_count": null,
      "metadata": {
        "id": "4xhUMjmizyIO"
      },
      "outputs": [],
      "source": [
        "fp = cmt_SVM.sum(axis=0) - np.diag(cm)  \n",
        "fn = cmt_SVM.sum(axis=1) - np.diag(cm)\n",
        "tp = np.diag(cmt_SVM)\n",
        "tn = cmt_SVM.sum() - (fp + fn + tp)\n",
        "\n",
        "print(fp,fn,tp,tn)"
      ]
    },
    {
      "cell_type": "code",
      "execution_count": null,
      "metadata": {
        "id": "IMHgmSw2GRB3"
      },
      "outputs": [],
      "source": [
        "idx = 0\n",
        "print( \"TP rate for Class 1:\",tp[idx])\n",
        "print( \"TN rate for Class 1:\",tn[idx])\n",
        "print( \"FP rate for Class 1:\",fp[idx])\n",
        "print( \"FN rate for Class 1:\",fn[idx])"
      ]
    },
    {
      "cell_type": "code",
      "execution_count": null,
      "metadata": {
        "id": "t7Snhje9GVlb"
      },
      "outputs": [],
      "source": [
        "idx = 1\n",
        "print( \"TP rate for Class 2:\",tp[idx])\n",
        "print( \"TN rate for Class 2:\",tn[idx])\n",
        "print( \"FP rate for Class 2:\",fp[idx])\n",
        "print( \"FN rate for Class 2:\",fn[idx])"
      ]
    },
    {
      "cell_type": "code",
      "execution_count": null,
      "metadata": {
        "id": "OEmPjIv5GZES"
      },
      "outputs": [],
      "source": [
        "idx = 2\n",
        "print( \"TP rate for Class 3:\",tp[idx])\n",
        "print( \"TN rate for Class 3:\",tn[idx])\n",
        "print( \"FP rate for Class 3:\",fp[idx])\n",
        "print( \"FN rate for Class 3:\",fn[idx])"
      ]
    },
    {
      "cell_type": "code",
      "execution_count": null,
      "metadata": {
        "id": "sKBW89J9GcQF"
      },
      "outputs": [],
      "source": [
        "idx = 3\n",
        "print( \"TP rate for Class 4:\",tp[idx])\n",
        "print( \"TN rate for Class 4:\",tn[idx])\n",
        "print( \"FP rate for Class 4:\",fp[idx])\n",
        "print( \"FN rate for Class 4:\",fn[idx])"
      ]
    },
    {
      "cell_type": "code",
      "execution_count": null,
      "metadata": {
        "id": "il2Wk68EGe1K"
      },
      "outputs": [],
      "source": [
        "idx = 4\n",
        "print( \"TP rate for Class 5:\",tp[idx])\n",
        "print( \"TN rate for Class 5:\",tn[idx])\n",
        "print( \"FP rate for Class 5:\",fp[idx])\n",
        "print( \"FN rate for Class 5:\",fn[idx])"
      ]
    },
    {
      "cell_type": "code",
      "execution_count": null,
      "metadata": {
        "id": "rZSHZx-7Go4y"
      },
      "outputs": [],
      "source": [
        "acc = np.diag(cm).sum() / cm.sum()\n",
        "print(acc)"
      ]
    },
    {
      "cell_type": "code",
      "execution_count": null,
      "metadata": {
        "id": "bBJ5w2LrG2LT"
      },
      "outputs": [],
      "source": [
        "SVM_new =   OneVsRestClassifier(SVC(kernel ='rbf',probability=True, class_weight='balanced'))\n",
        "SVM_new.fit(X_train_norm, y_train)\n",
        "y_pred = SVM_new.predict(X_test_norm)\n",
        "pred_prob = SVM_new.predict_proba(X_test_norm)"
      ]
    },
    {
      "cell_type": "code",
      "execution_count": null,
      "metadata": {
        "id": "P_-XMDuUHRfq"
      },
      "outputs": [],
      "source": [
        "from sklearn.preprocessing import label_binarize\n",
        "\n",
        "y_test_binarized = label_binarize(y_test, classes = np.unique(y_test))\n",
        "fpr = {}\n",
        "tpr = {}\n",
        "thresh = {}\n",
        "roc_auc = dict()\n",
        "\n",
        "n_class = classes.shape[0]\n",
        "\n",
        "for i in range(n_class):\n",
        "  fpr[i], tpr[i], thresh[i] = roc_curve(y_test_binarized[:,i], pred_prob[:, i])\n",
        "  roc_auc[i] = auc(fpr[i], tpr[i])\n",
        "\n",
        "  plt.plot(fpr[i], tpr[i], linestyle='--',\n",
        "           label='%s vs Rest (AUC=%0.2f)'%(classes[i],roc_auc[i]))\n",
        "  \n",
        "plt.plot([0,1],[0,1],'b--')\n",
        "plt.xlim([0,1])\n",
        "plt.ylim([0,1.05])\n",
        "plt.title('Multiclass ROC Curve : Support Vector Machine')\n",
        "plt.xlabel('False Positive Rate')\n",
        "plt.ylabel('True Positive Rate')\n",
        "plt.legend(loc= 'lower right')\n",
        "plt.show()"
      ]
    }
  ],
  "metadata": {
    "colab": {
      "provenance": []
    },
    "kernelspec": {
      "display_name": "Python 3",
      "name": "python3"
    },
    "language_info": {
      "name": "python"
    }
  },
  "nbformat": 4,
  "nbformat_minor": 0
}
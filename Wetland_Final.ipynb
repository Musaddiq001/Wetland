{
  "cells": [
    {
      "cell_type": "markdown",
      "metadata": {
        "id": "LWOuyrUkL2Ew"
      },
      "source": [
        "**Libraries**"
      ]
    },
    {
      "cell_type": "code",
      "execution_count": null,
      "metadata": {
        "id": "JSvc4ojrLohW"
      },
      "outputs": [],
      "source": [
        "import numpy as np\n",
        "import matplotlib.pyplot as plt\n",
        "import pandas as pd\n",
        "import seaborn as sns\n",
        "from sklearn.metrics import classification_report\n",
        "from sklearn.metrics import accuracy_score\n",
        "from sklearn.metrics import roc_curve, roc_auc_score\n",
        "from sklearn.multiclass import OneVsRestClassifier\n",
        "from sklearn.metrics import roc_curve, auc"
      ]
    },
    {
      "cell_type": "markdown",
      "source": [
        "**Dataset**"
      ],
      "metadata": {
        "id": "cCDt9p0GPskq"
      }
    },
    {
      "cell_type": "code",
      "source": [
        "dataset = pd.read_csv('/content/drive/MyDrive/Wetland/T500.csv')"
      ],
      "metadata": {
        "id": "QaGZ88LPPuJg"
      },
      "execution_count": null,
      "outputs": []
    },
    {
      "cell_type": "code",
      "source": [
        "#Check top 5 data\n",
        "dataset.head()"
      ],
      "metadata": {
        "colab": {
          "base_uri": "https://localhost:8080/",
          "height": 206
        },
        "id": "BmLt5uDEPxlU",
        "outputId": "7e6c636b-7fc3-425a-fdf5-18b61db9664c"
      },
      "execution_count": null,
      "outputs": [
        {
          "output_type": "execute_result",
          "data": {
            "text/plain": [
              "   Sl  VZ           A         R    P  So  G\n",
              "0   1   1  123.693001  0.000000  0.0   1  3\n",
              "1   2   1   42.426399  0.000000  0.0   1  5\n",
              "2   3   1    0.000000  0.006859  0.0   1  4\n",
              "3   4   1  234.307007  0.007808  0.0   1  4\n",
              "4   5   1  174.929001  0.007808  0.0   1  4"
            ],
            "text/html": [
              "\n",
              "  <div id=\"df-048a824b-2407-4f28-a13c-57e735a909f6\">\n",
              "    <div class=\"colab-df-container\">\n",
              "      <div>\n",
              "<style scoped>\n",
              "    .dataframe tbody tr th:only-of-type {\n",
              "        vertical-align: middle;\n",
              "    }\n",
              "\n",
              "    .dataframe tbody tr th {\n",
              "        vertical-align: top;\n",
              "    }\n",
              "\n",
              "    .dataframe thead th {\n",
              "        text-align: right;\n",
              "    }\n",
              "</style>\n",
              "<table border=\"1\" class=\"dataframe\">\n",
              "  <thead>\n",
              "    <tr style=\"text-align: right;\">\n",
              "      <th></th>\n",
              "      <th>Sl</th>\n",
              "      <th>VZ</th>\n",
              "      <th>A</th>\n",
              "      <th>R</th>\n",
              "      <th>P</th>\n",
              "      <th>So</th>\n",
              "      <th>G</th>\n",
              "    </tr>\n",
              "  </thead>\n",
              "  <tbody>\n",
              "    <tr>\n",
              "      <th>0</th>\n",
              "      <td>1</td>\n",
              "      <td>1</td>\n",
              "      <td>123.693001</td>\n",
              "      <td>0.000000</td>\n",
              "      <td>0.0</td>\n",
              "      <td>1</td>\n",
              "      <td>3</td>\n",
              "    </tr>\n",
              "    <tr>\n",
              "      <th>1</th>\n",
              "      <td>2</td>\n",
              "      <td>1</td>\n",
              "      <td>42.426399</td>\n",
              "      <td>0.000000</td>\n",
              "      <td>0.0</td>\n",
              "      <td>1</td>\n",
              "      <td>5</td>\n",
              "    </tr>\n",
              "    <tr>\n",
              "      <th>2</th>\n",
              "      <td>3</td>\n",
              "      <td>1</td>\n",
              "      <td>0.000000</td>\n",
              "      <td>0.006859</td>\n",
              "      <td>0.0</td>\n",
              "      <td>1</td>\n",
              "      <td>4</td>\n",
              "    </tr>\n",
              "    <tr>\n",
              "      <th>3</th>\n",
              "      <td>4</td>\n",
              "      <td>1</td>\n",
              "      <td>234.307007</td>\n",
              "      <td>0.007808</td>\n",
              "      <td>0.0</td>\n",
              "      <td>1</td>\n",
              "      <td>4</td>\n",
              "    </tr>\n",
              "    <tr>\n",
              "      <th>4</th>\n",
              "      <td>5</td>\n",
              "      <td>1</td>\n",
              "      <td>174.929001</td>\n",
              "      <td>0.007808</td>\n",
              "      <td>0.0</td>\n",
              "      <td>1</td>\n",
              "      <td>4</td>\n",
              "    </tr>\n",
              "  </tbody>\n",
              "</table>\n",
              "</div>\n",
              "      <button class=\"colab-df-convert\" onclick=\"convertToInteractive('df-048a824b-2407-4f28-a13c-57e735a909f6')\"\n",
              "              title=\"Convert this dataframe to an interactive table.\"\n",
              "              style=\"display:none;\">\n",
              "        \n",
              "  <svg xmlns=\"http://www.w3.org/2000/svg\" height=\"24px\"viewBox=\"0 0 24 24\"\n",
              "       width=\"24px\">\n",
              "    <path d=\"M0 0h24v24H0V0z\" fill=\"none\"/>\n",
              "    <path d=\"M18.56 5.44l.94 2.06.94-2.06 2.06-.94-2.06-.94-.94-2.06-.94 2.06-2.06.94zm-11 1L8.5 8.5l.94-2.06 2.06-.94-2.06-.94L8.5 2.5l-.94 2.06-2.06.94zm10 10l.94 2.06.94-2.06 2.06-.94-2.06-.94-.94-2.06-.94 2.06-2.06.94z\"/><path d=\"M17.41 7.96l-1.37-1.37c-.4-.4-.92-.59-1.43-.59-.52 0-1.04.2-1.43.59L10.3 9.45l-7.72 7.72c-.78.78-.78 2.05 0 2.83L4 21.41c.39.39.9.59 1.41.59.51 0 1.02-.2 1.41-.59l7.78-7.78 2.81-2.81c.8-.78.8-2.07 0-2.86zM5.41 20L4 18.59l7.72-7.72 1.47 1.35L5.41 20z\"/>\n",
              "  </svg>\n",
              "      </button>\n",
              "      \n",
              "  <style>\n",
              "    .colab-df-container {\n",
              "      display:flex;\n",
              "      flex-wrap:wrap;\n",
              "      gap: 12px;\n",
              "    }\n",
              "\n",
              "    .colab-df-convert {\n",
              "      background-color: #E8F0FE;\n",
              "      border: none;\n",
              "      border-radius: 50%;\n",
              "      cursor: pointer;\n",
              "      display: none;\n",
              "      fill: #1967D2;\n",
              "      height: 32px;\n",
              "      padding: 0 0 0 0;\n",
              "      width: 32px;\n",
              "    }\n",
              "\n",
              "    .colab-df-convert:hover {\n",
              "      background-color: #E2EBFA;\n",
              "      box-shadow: 0px 1px 2px rgba(60, 64, 67, 0.3), 0px 1px 3px 1px rgba(60, 64, 67, 0.15);\n",
              "      fill: #174EA6;\n",
              "    }\n",
              "\n",
              "    [theme=dark] .colab-df-convert {\n",
              "      background-color: #3B4455;\n",
              "      fill: #D2E3FC;\n",
              "    }\n",
              "\n",
              "    [theme=dark] .colab-df-convert:hover {\n",
              "      background-color: #434B5C;\n",
              "      box-shadow: 0px 1px 3px 1px rgba(0, 0, 0, 0.15);\n",
              "      filter: drop-shadow(0px 1px 2px rgba(0, 0, 0, 0.3));\n",
              "      fill: #FFFFFF;\n",
              "    }\n",
              "  </style>\n",
              "\n",
              "      <script>\n",
              "        const buttonEl =\n",
              "          document.querySelector('#df-048a824b-2407-4f28-a13c-57e735a909f6 button.colab-df-convert');\n",
              "        buttonEl.style.display =\n",
              "          google.colab.kernel.accessAllowed ? 'block' : 'none';\n",
              "\n",
              "        async function convertToInteractive(key) {\n",
              "          const element = document.querySelector('#df-048a824b-2407-4f28-a13c-57e735a909f6');\n",
              "          const dataTable =\n",
              "            await google.colab.kernel.invokeFunction('convertToInteractive',\n",
              "                                                     [key], {});\n",
              "          if (!dataTable) return;\n",
              "\n",
              "          const docLinkHtml = 'Like what you see? Visit the ' +\n",
              "            '<a target=\"_blank\" href=https://colab.research.google.com/notebooks/data_table.ipynb>data table notebook</a>'\n",
              "            + ' to learn more about interactive tables.';\n",
              "          element.innerHTML = '';\n",
              "          dataTable['output_type'] = 'display_data';\n",
              "          await google.colab.output.renderOutput(dataTable, element);\n",
              "          const docLink = document.createElement('div');\n",
              "          docLink.innerHTML = docLinkHtml;\n",
              "          element.appendChild(docLink);\n",
              "        }\n",
              "      </script>\n",
              "    </div>\n",
              "  </div>\n",
              "  "
            ]
          },
          "metadata": {},
          "execution_count": 3
        }
      ]
    },
    {
      "cell_type": "code",
      "source": [
        "#Check last 5 data\n",
        "dataset.tail()"
      ],
      "metadata": {
        "colab": {
          "base_uri": "https://localhost:8080/",
          "height": 206
        },
        "id": "CzhHhlnOP3CT",
        "outputId": "c732487f-9c98-4ee6-f563-1fcac518c393"
      },
      "execution_count": null,
      "outputs": [
        {
          "output_type": "execute_result",
          "data": {
            "text/plain": [
              "      Sl  VZ      A         R    P  So  G\n",
              "248  249   5  450.0  0.012647  0.0   3  3\n",
              "249  250   5  450.0  0.012587  0.0   3  3\n",
              "250  251   5  450.0  0.001301  0.0   1  0\n",
              "251  252   5  450.0  0.013888  0.0   3  3\n",
              "252  253   5  450.0  0.000000  0.0   3  3"
            ],
            "text/html": [
              "\n",
              "  <div id=\"df-6195b9be-a7eb-4859-98cd-ca2c94bdaeb6\">\n",
              "    <div class=\"colab-df-container\">\n",
              "      <div>\n",
              "<style scoped>\n",
              "    .dataframe tbody tr th:only-of-type {\n",
              "        vertical-align: middle;\n",
              "    }\n",
              "\n",
              "    .dataframe tbody tr th {\n",
              "        vertical-align: top;\n",
              "    }\n",
              "\n",
              "    .dataframe thead th {\n",
              "        text-align: right;\n",
              "    }\n",
              "</style>\n",
              "<table border=\"1\" class=\"dataframe\">\n",
              "  <thead>\n",
              "    <tr style=\"text-align: right;\">\n",
              "      <th></th>\n",
              "      <th>Sl</th>\n",
              "      <th>VZ</th>\n",
              "      <th>A</th>\n",
              "      <th>R</th>\n",
              "      <th>P</th>\n",
              "      <th>So</th>\n",
              "      <th>G</th>\n",
              "    </tr>\n",
              "  </thead>\n",
              "  <tbody>\n",
              "    <tr>\n",
              "      <th>248</th>\n",
              "      <td>249</td>\n",
              "      <td>5</td>\n",
              "      <td>450.0</td>\n",
              "      <td>0.012647</td>\n",
              "      <td>0.0</td>\n",
              "      <td>3</td>\n",
              "      <td>3</td>\n",
              "    </tr>\n",
              "    <tr>\n",
              "      <th>249</th>\n",
              "      <td>250</td>\n",
              "      <td>5</td>\n",
              "      <td>450.0</td>\n",
              "      <td>0.012587</td>\n",
              "      <td>0.0</td>\n",
              "      <td>3</td>\n",
              "      <td>3</td>\n",
              "    </tr>\n",
              "    <tr>\n",
              "      <th>250</th>\n",
              "      <td>251</td>\n",
              "      <td>5</td>\n",
              "      <td>450.0</td>\n",
              "      <td>0.001301</td>\n",
              "      <td>0.0</td>\n",
              "      <td>1</td>\n",
              "      <td>0</td>\n",
              "    </tr>\n",
              "    <tr>\n",
              "      <th>251</th>\n",
              "      <td>252</td>\n",
              "      <td>5</td>\n",
              "      <td>450.0</td>\n",
              "      <td>0.013888</td>\n",
              "      <td>0.0</td>\n",
              "      <td>3</td>\n",
              "      <td>3</td>\n",
              "    </tr>\n",
              "    <tr>\n",
              "      <th>252</th>\n",
              "      <td>253</td>\n",
              "      <td>5</td>\n",
              "      <td>450.0</td>\n",
              "      <td>0.000000</td>\n",
              "      <td>0.0</td>\n",
              "      <td>3</td>\n",
              "      <td>3</td>\n",
              "    </tr>\n",
              "  </tbody>\n",
              "</table>\n",
              "</div>\n",
              "      <button class=\"colab-df-convert\" onclick=\"convertToInteractive('df-6195b9be-a7eb-4859-98cd-ca2c94bdaeb6')\"\n",
              "              title=\"Convert this dataframe to an interactive table.\"\n",
              "              style=\"display:none;\">\n",
              "        \n",
              "  <svg xmlns=\"http://www.w3.org/2000/svg\" height=\"24px\"viewBox=\"0 0 24 24\"\n",
              "       width=\"24px\">\n",
              "    <path d=\"M0 0h24v24H0V0z\" fill=\"none\"/>\n",
              "    <path d=\"M18.56 5.44l.94 2.06.94-2.06 2.06-.94-2.06-.94-.94-2.06-.94 2.06-2.06.94zm-11 1L8.5 8.5l.94-2.06 2.06-.94-2.06-.94L8.5 2.5l-.94 2.06-2.06.94zm10 10l.94 2.06.94-2.06 2.06-.94-2.06-.94-.94-2.06-.94 2.06-2.06.94z\"/><path d=\"M17.41 7.96l-1.37-1.37c-.4-.4-.92-.59-1.43-.59-.52 0-1.04.2-1.43.59L10.3 9.45l-7.72 7.72c-.78.78-.78 2.05 0 2.83L4 21.41c.39.39.9.59 1.41.59.51 0 1.02-.2 1.41-.59l7.78-7.78 2.81-2.81c.8-.78.8-2.07 0-2.86zM5.41 20L4 18.59l7.72-7.72 1.47 1.35L5.41 20z\"/>\n",
              "  </svg>\n",
              "      </button>\n",
              "      \n",
              "  <style>\n",
              "    .colab-df-container {\n",
              "      display:flex;\n",
              "      flex-wrap:wrap;\n",
              "      gap: 12px;\n",
              "    }\n",
              "\n",
              "    .colab-df-convert {\n",
              "      background-color: #E8F0FE;\n",
              "      border: none;\n",
              "      border-radius: 50%;\n",
              "      cursor: pointer;\n",
              "      display: none;\n",
              "      fill: #1967D2;\n",
              "      height: 32px;\n",
              "      padding: 0 0 0 0;\n",
              "      width: 32px;\n",
              "    }\n",
              "\n",
              "    .colab-df-convert:hover {\n",
              "      background-color: #E2EBFA;\n",
              "      box-shadow: 0px 1px 2px rgba(60, 64, 67, 0.3), 0px 1px 3px 1px rgba(60, 64, 67, 0.15);\n",
              "      fill: #174EA6;\n",
              "    }\n",
              "\n",
              "    [theme=dark] .colab-df-convert {\n",
              "      background-color: #3B4455;\n",
              "      fill: #D2E3FC;\n",
              "    }\n",
              "\n",
              "    [theme=dark] .colab-df-convert:hover {\n",
              "      background-color: #434B5C;\n",
              "      box-shadow: 0px 1px 3px 1px rgba(0, 0, 0, 0.15);\n",
              "      filter: drop-shadow(0px 1px 2px rgba(0, 0, 0, 0.3));\n",
              "      fill: #FFFFFF;\n",
              "    }\n",
              "  </style>\n",
              "\n",
              "      <script>\n",
              "        const buttonEl =\n",
              "          document.querySelector('#df-6195b9be-a7eb-4859-98cd-ca2c94bdaeb6 button.colab-df-convert');\n",
              "        buttonEl.style.display =\n",
              "          google.colab.kernel.accessAllowed ? 'block' : 'none';\n",
              "\n",
              "        async function convertToInteractive(key) {\n",
              "          const element = document.querySelector('#df-6195b9be-a7eb-4859-98cd-ca2c94bdaeb6');\n",
              "          const dataTable =\n",
              "            await google.colab.kernel.invokeFunction('convertToInteractive',\n",
              "                                                     [key], {});\n",
              "          if (!dataTable) return;\n",
              "\n",
              "          const docLinkHtml = 'Like what you see? Visit the ' +\n",
              "            '<a target=\"_blank\" href=https://colab.research.google.com/notebooks/data_table.ipynb>data table notebook</a>'\n",
              "            + ' to learn more about interactive tables.';\n",
              "          element.innerHTML = '';\n",
              "          dataTable['output_type'] = 'display_data';\n",
              "          await google.colab.output.renderOutput(dataTable, element);\n",
              "          const docLink = document.createElement('div');\n",
              "          docLink.innerHTML = docLinkHtml;\n",
              "          element.appendChild(docLink);\n",
              "        }\n",
              "      </script>\n",
              "    </div>\n",
              "  </div>\n",
              "  "
            ]
          },
          "metadata": {},
          "execution_count": 4
        }
      ]
    },
    {
      "cell_type": "code",
      "source": [
        "#Check column names\n",
        "dataset.columns"
      ],
      "metadata": {
        "colab": {
          "base_uri": "https://localhost:8080/"
        },
        "id": "mNJh7lI9P52P",
        "outputId": "ed6e47f4-5984-4566-9040-562cfce5046f"
      },
      "execution_count": null,
      "outputs": [
        {
          "output_type": "execute_result",
          "data": {
            "text/plain": [
              "Index(['Sl', 'VZ', 'A', 'R', 'P', 'So', 'G'], dtype='object')"
            ]
          },
          "metadata": {},
          "execution_count": 5
        }
      ]
    },
    {
      "cell_type": "code",
      "source": [
        "#Dataset Information\n",
        "dataset.info()"
      ],
      "metadata": {
        "colab": {
          "base_uri": "https://localhost:8080/"
        },
        "id": "2Nx2rMLCP8dQ",
        "outputId": "cd25dcbd-2f76-4633-94a2-4d32d281a4f7"
      },
      "execution_count": null,
      "outputs": [
        {
          "output_type": "stream",
          "name": "stdout",
          "text": [
            "<class 'pandas.core.frame.DataFrame'>\n",
            "RangeIndex: 253 entries, 0 to 252\n",
            "Data columns (total 7 columns):\n",
            " #   Column  Non-Null Count  Dtype  \n",
            "---  ------  --------------  -----  \n",
            " 0   Sl      253 non-null    int64  \n",
            " 1   VZ      253 non-null    int64  \n",
            " 2   A       253 non-null    float64\n",
            " 3   R       253 non-null    float64\n",
            " 4   P       253 non-null    float64\n",
            " 5   So      253 non-null    int64  \n",
            " 6   G       253 non-null    int64  \n",
            "dtypes: float64(3), int64(4)\n",
            "memory usage: 14.0 KB\n"
          ]
        }
      ]
    },
    {
      "cell_type": "code",
      "source": [
        "#Dataset total (row,column)\n",
        "dataset.shape"
      ],
      "metadata": {
        "colab": {
          "base_uri": "https://localhost:8080/"
        },
        "id": "Xg0J0IT1QARv",
        "outputId": "f7ab83e1-f4a6-427d-ecdb-736c73cbbf4e"
      },
      "execution_count": null,
      "outputs": [
        {
          "output_type": "execute_result",
          "data": {
            "text/plain": [
              "(253, 7)"
            ]
          },
          "metadata": {},
          "execution_count": 7
        }
      ]
    },
    {
      "cell_type": "code",
      "source": [
        "#Clean Null Values\n",
        "dataset.dropna(inplace = True)"
      ],
      "metadata": {
        "id": "0-d9jx5VQLJz"
      },
      "execution_count": null,
      "outputs": []
    },
    {
      "cell_type": "code",
      "source": [
        "#Check Null values\n",
        "dataset.isnull().sum()"
      ],
      "metadata": {
        "colab": {
          "base_uri": "https://localhost:8080/"
        },
        "id": "ExojUfaJQhj3",
        "outputId": "dde5eef6-38e3-4e4f-826a-f47e1ec41945"
      },
      "execution_count": null,
      "outputs": [
        {
          "output_type": "execute_result",
          "data": {
            "text/plain": [
              "Sl    0\n",
              "VZ    0\n",
              "A     0\n",
              "R     0\n",
              "P     0\n",
              "So    0\n",
              "G     0\n",
              "dtype: int64"
            ]
          },
          "metadata": {},
          "execution_count": 9
        }
      ]
    },
    {
      "cell_type": "code",
      "source": [
        "#Check uniques Values\n",
        "dataset['VZ'].unique()"
      ],
      "metadata": {
        "colab": {
          "base_uri": "https://localhost:8080/"
        },
        "id": "xKnkDk-tRhm6",
        "outputId": "9dfea8ee-8d65-4820-f9fc-2a0a9e2f94bf"
      },
      "execution_count": null,
      "outputs": [
        {
          "output_type": "execute_result",
          "data": {
            "text/plain": [
              "array([1, 2, 3, 4, 5])"
            ]
          },
          "metadata": {},
          "execution_count": 10
        }
      ]
    },
    {
      "cell_type": "code",
      "source": [
        "#Each Class data count\n",
        "dataset['VZ'].value_counts()"
      ],
      "metadata": {
        "colab": {
          "base_uri": "https://localhost:8080/"
        },
        "id": "31uNIjdwRm-B",
        "outputId": "65a7d557-dc42-4cb2-d0de-4959dcd78442"
      },
      "execution_count": null,
      "outputs": [
        {
          "output_type": "execute_result",
          "data": {
            "text/plain": [
              "2    51\n",
              "3    51\n",
              "4    51\n",
              "5    51\n",
              "1    49\n",
              "Name: VZ, dtype: int64"
            ]
          },
          "metadata": {},
          "execution_count": 11
        }
      ]
    },
    {
      "cell_type": "code",
      "source": [
        "#Describe dataset\n",
        "dataset.describe().transpose()"
      ],
      "metadata": {
        "colab": {
          "base_uri": "https://localhost:8080/",
          "height": 269
        },
        "id": "nntEE2xMR6Kn",
        "outputId": "c0a2c162-b132-4a72-d15e-254b4ef20343"
      },
      "execution_count": null,
      "outputs": [
        {
          "output_type": "execute_result",
          "data": {
            "text/plain": [
              "    count        mean         std  min        25%         50%         75%  \\\n",
              "Sl  253.0  127.000000   73.179004  1.0  64.000000  127.000000  190.000000   \n",
              "VZ  253.0    3.015810    1.411316  1.0   2.000000    3.000000    4.000000   \n",
              "A   253.0  233.964372  191.803828  0.0  30.000000  250.000000  350.000000   \n",
              "R   253.0    0.009280    0.020716  0.0   0.002454    0.005656    0.008422   \n",
              "P   253.0    7.275771   19.239640  0.0   0.000000    0.000000    0.000000   \n",
              "So  253.0    2.276680    0.865183  1.0   1.000000    3.000000    3.000000   \n",
              "G   253.0    4.332016    1.630696  0.0   3.000000    4.000000    6.000000   \n",
              "\n",
              "           max  \n",
              "Sl  253.000000  \n",
              "VZ    5.000000  \n",
              "A   844.807983  \n",
              "R     0.150000  \n",
              "P    65.280197  \n",
              "So    3.000000  \n",
              "G     7.000000  "
            ],
            "text/html": [
              "\n",
              "  <div id=\"df-837a2ba6-335d-41cc-a886-e343461c1a2d\">\n",
              "    <div class=\"colab-df-container\">\n",
              "      <div>\n",
              "<style scoped>\n",
              "    .dataframe tbody tr th:only-of-type {\n",
              "        vertical-align: middle;\n",
              "    }\n",
              "\n",
              "    .dataframe tbody tr th {\n",
              "        vertical-align: top;\n",
              "    }\n",
              "\n",
              "    .dataframe thead th {\n",
              "        text-align: right;\n",
              "    }\n",
              "</style>\n",
              "<table border=\"1\" class=\"dataframe\">\n",
              "  <thead>\n",
              "    <tr style=\"text-align: right;\">\n",
              "      <th></th>\n",
              "      <th>count</th>\n",
              "      <th>mean</th>\n",
              "      <th>std</th>\n",
              "      <th>min</th>\n",
              "      <th>25%</th>\n",
              "      <th>50%</th>\n",
              "      <th>75%</th>\n",
              "      <th>max</th>\n",
              "    </tr>\n",
              "  </thead>\n",
              "  <tbody>\n",
              "    <tr>\n",
              "      <th>Sl</th>\n",
              "      <td>253.0</td>\n",
              "      <td>127.000000</td>\n",
              "      <td>73.179004</td>\n",
              "      <td>1.0</td>\n",
              "      <td>64.000000</td>\n",
              "      <td>127.000000</td>\n",
              "      <td>190.000000</td>\n",
              "      <td>253.000000</td>\n",
              "    </tr>\n",
              "    <tr>\n",
              "      <th>VZ</th>\n",
              "      <td>253.0</td>\n",
              "      <td>3.015810</td>\n",
              "      <td>1.411316</td>\n",
              "      <td>1.0</td>\n",
              "      <td>2.000000</td>\n",
              "      <td>3.000000</td>\n",
              "      <td>4.000000</td>\n",
              "      <td>5.000000</td>\n",
              "    </tr>\n",
              "    <tr>\n",
              "      <th>A</th>\n",
              "      <td>253.0</td>\n",
              "      <td>233.964372</td>\n",
              "      <td>191.803828</td>\n",
              "      <td>0.0</td>\n",
              "      <td>30.000000</td>\n",
              "      <td>250.000000</td>\n",
              "      <td>350.000000</td>\n",
              "      <td>844.807983</td>\n",
              "    </tr>\n",
              "    <tr>\n",
              "      <th>R</th>\n",
              "      <td>253.0</td>\n",
              "      <td>0.009280</td>\n",
              "      <td>0.020716</td>\n",
              "      <td>0.0</td>\n",
              "      <td>0.002454</td>\n",
              "      <td>0.005656</td>\n",
              "      <td>0.008422</td>\n",
              "      <td>0.150000</td>\n",
              "    </tr>\n",
              "    <tr>\n",
              "      <th>P</th>\n",
              "      <td>253.0</td>\n",
              "      <td>7.275771</td>\n",
              "      <td>19.239640</td>\n",
              "      <td>0.0</td>\n",
              "      <td>0.000000</td>\n",
              "      <td>0.000000</td>\n",
              "      <td>0.000000</td>\n",
              "      <td>65.280197</td>\n",
              "    </tr>\n",
              "    <tr>\n",
              "      <th>So</th>\n",
              "      <td>253.0</td>\n",
              "      <td>2.276680</td>\n",
              "      <td>0.865183</td>\n",
              "      <td>1.0</td>\n",
              "      <td>1.000000</td>\n",
              "      <td>3.000000</td>\n",
              "      <td>3.000000</td>\n",
              "      <td>3.000000</td>\n",
              "    </tr>\n",
              "    <tr>\n",
              "      <th>G</th>\n",
              "      <td>253.0</td>\n",
              "      <td>4.332016</td>\n",
              "      <td>1.630696</td>\n",
              "      <td>0.0</td>\n",
              "      <td>3.000000</td>\n",
              "      <td>4.000000</td>\n",
              "      <td>6.000000</td>\n",
              "      <td>7.000000</td>\n",
              "    </tr>\n",
              "  </tbody>\n",
              "</table>\n",
              "</div>\n",
              "      <button class=\"colab-df-convert\" onclick=\"convertToInteractive('df-837a2ba6-335d-41cc-a886-e343461c1a2d')\"\n",
              "              title=\"Convert this dataframe to an interactive table.\"\n",
              "              style=\"display:none;\">\n",
              "        \n",
              "  <svg xmlns=\"http://www.w3.org/2000/svg\" height=\"24px\"viewBox=\"0 0 24 24\"\n",
              "       width=\"24px\">\n",
              "    <path d=\"M0 0h24v24H0V0z\" fill=\"none\"/>\n",
              "    <path d=\"M18.56 5.44l.94 2.06.94-2.06 2.06-.94-2.06-.94-.94-2.06-.94 2.06-2.06.94zm-11 1L8.5 8.5l.94-2.06 2.06-.94-2.06-.94L8.5 2.5l-.94 2.06-2.06.94zm10 10l.94 2.06.94-2.06 2.06-.94-2.06-.94-.94-2.06-.94 2.06-2.06.94z\"/><path d=\"M17.41 7.96l-1.37-1.37c-.4-.4-.92-.59-1.43-.59-.52 0-1.04.2-1.43.59L10.3 9.45l-7.72 7.72c-.78.78-.78 2.05 0 2.83L4 21.41c.39.39.9.59 1.41.59.51 0 1.02-.2 1.41-.59l7.78-7.78 2.81-2.81c.8-.78.8-2.07 0-2.86zM5.41 20L4 18.59l7.72-7.72 1.47 1.35L5.41 20z\"/>\n",
              "  </svg>\n",
              "      </button>\n",
              "      \n",
              "  <style>\n",
              "    .colab-df-container {\n",
              "      display:flex;\n",
              "      flex-wrap:wrap;\n",
              "      gap: 12px;\n",
              "    }\n",
              "\n",
              "    .colab-df-convert {\n",
              "      background-color: #E8F0FE;\n",
              "      border: none;\n",
              "      border-radius: 50%;\n",
              "      cursor: pointer;\n",
              "      display: none;\n",
              "      fill: #1967D2;\n",
              "      height: 32px;\n",
              "      padding: 0 0 0 0;\n",
              "      width: 32px;\n",
              "    }\n",
              "\n",
              "    .colab-df-convert:hover {\n",
              "      background-color: #E2EBFA;\n",
              "      box-shadow: 0px 1px 2px rgba(60, 64, 67, 0.3), 0px 1px 3px 1px rgba(60, 64, 67, 0.15);\n",
              "      fill: #174EA6;\n",
              "    }\n",
              "\n",
              "    [theme=dark] .colab-df-convert {\n",
              "      background-color: #3B4455;\n",
              "      fill: #D2E3FC;\n",
              "    }\n",
              "\n",
              "    [theme=dark] .colab-df-convert:hover {\n",
              "      background-color: #434B5C;\n",
              "      box-shadow: 0px 1px 3px 1px rgba(0, 0, 0, 0.15);\n",
              "      filter: drop-shadow(0px 1px 2px rgba(0, 0, 0, 0.3));\n",
              "      fill: #FFFFFF;\n",
              "    }\n",
              "  </style>\n",
              "\n",
              "      <script>\n",
              "        const buttonEl =\n",
              "          document.querySelector('#df-837a2ba6-335d-41cc-a886-e343461c1a2d button.colab-df-convert');\n",
              "        buttonEl.style.display =\n",
              "          google.colab.kernel.accessAllowed ? 'block' : 'none';\n",
              "\n",
              "        async function convertToInteractive(key) {\n",
              "          const element = document.querySelector('#df-837a2ba6-335d-41cc-a886-e343461c1a2d');\n",
              "          const dataTable =\n",
              "            await google.colab.kernel.invokeFunction('convertToInteractive',\n",
              "                                                     [key], {});\n",
              "          if (!dataTable) return;\n",
              "\n",
              "          const docLinkHtml = 'Like what you see? Visit the ' +\n",
              "            '<a target=\"_blank\" href=https://colab.research.google.com/notebooks/data_table.ipynb>data table notebook</a>'\n",
              "            + ' to learn more about interactive tables.';\n",
              "          element.innerHTML = '';\n",
              "          dataTable['output_type'] = 'display_data';\n",
              "          await google.colab.output.renderOutput(dataTable, element);\n",
              "          const docLink = document.createElement('div');\n",
              "          docLink.innerHTML = docLinkHtml;\n",
              "          element.appendChild(docLink);\n",
              "        }\n",
              "      </script>\n",
              "    </div>\n",
              "  </div>\n",
              "  "
            ]
          },
          "metadata": {},
          "execution_count": 12
        }
      ]
    },
    {
      "cell_type": "code",
      "source": [
        "#Check co-relation\n",
        "dataset.corr()"
      ],
      "metadata": {
        "colab": {
          "base_uri": "https://localhost:8080/",
          "height": 269
        },
        "id": "7tlPHUY9R9iZ",
        "outputId": "11099152-66bf-4573-bfcb-0826c0beb102"
      },
      "execution_count": null,
      "outputs": [
        {
          "output_type": "execute_result",
          "data": {
            "text/plain": [
              "          Sl        VZ         A         R         P        So         G\n",
              "Sl  1.000000  0.979781  0.881780 -0.019039 -0.492986  0.504484 -0.154231\n",
              "VZ  0.979781  1.000000  0.915616 -0.020350 -0.527031  0.506634 -0.157473\n",
              "A   0.881780  0.915616  1.000000 -0.013779 -0.417324  0.392726 -0.251446\n",
              "R  -0.019039 -0.020350 -0.013779  1.000000 -0.097752  0.106630 -0.013239\n",
              "P  -0.492986 -0.527031 -0.417324 -0.097752  1.000000 -0.483950 -0.130127\n",
              "So  0.504484  0.506634  0.392726  0.106630 -0.483950  1.000000  0.145581\n",
              "G  -0.154231 -0.157473 -0.251446 -0.013239 -0.130127  0.145581  1.000000"
            ],
            "text/html": [
              "\n",
              "  <div id=\"df-b3e56adf-7c07-4f34-818e-157b8da19071\">\n",
              "    <div class=\"colab-df-container\">\n",
              "      <div>\n",
              "<style scoped>\n",
              "    .dataframe tbody tr th:only-of-type {\n",
              "        vertical-align: middle;\n",
              "    }\n",
              "\n",
              "    .dataframe tbody tr th {\n",
              "        vertical-align: top;\n",
              "    }\n",
              "\n",
              "    .dataframe thead th {\n",
              "        text-align: right;\n",
              "    }\n",
              "</style>\n",
              "<table border=\"1\" class=\"dataframe\">\n",
              "  <thead>\n",
              "    <tr style=\"text-align: right;\">\n",
              "      <th></th>\n",
              "      <th>Sl</th>\n",
              "      <th>VZ</th>\n",
              "      <th>A</th>\n",
              "      <th>R</th>\n",
              "      <th>P</th>\n",
              "      <th>So</th>\n",
              "      <th>G</th>\n",
              "    </tr>\n",
              "  </thead>\n",
              "  <tbody>\n",
              "    <tr>\n",
              "      <th>Sl</th>\n",
              "      <td>1.000000</td>\n",
              "      <td>0.979781</td>\n",
              "      <td>0.881780</td>\n",
              "      <td>-0.019039</td>\n",
              "      <td>-0.492986</td>\n",
              "      <td>0.504484</td>\n",
              "      <td>-0.154231</td>\n",
              "    </tr>\n",
              "    <tr>\n",
              "      <th>VZ</th>\n",
              "      <td>0.979781</td>\n",
              "      <td>1.000000</td>\n",
              "      <td>0.915616</td>\n",
              "      <td>-0.020350</td>\n",
              "      <td>-0.527031</td>\n",
              "      <td>0.506634</td>\n",
              "      <td>-0.157473</td>\n",
              "    </tr>\n",
              "    <tr>\n",
              "      <th>A</th>\n",
              "      <td>0.881780</td>\n",
              "      <td>0.915616</td>\n",
              "      <td>1.000000</td>\n",
              "      <td>-0.013779</td>\n",
              "      <td>-0.417324</td>\n",
              "      <td>0.392726</td>\n",
              "      <td>-0.251446</td>\n",
              "    </tr>\n",
              "    <tr>\n",
              "      <th>R</th>\n",
              "      <td>-0.019039</td>\n",
              "      <td>-0.020350</td>\n",
              "      <td>-0.013779</td>\n",
              "      <td>1.000000</td>\n",
              "      <td>-0.097752</td>\n",
              "      <td>0.106630</td>\n",
              "      <td>-0.013239</td>\n",
              "    </tr>\n",
              "    <tr>\n",
              "      <th>P</th>\n",
              "      <td>-0.492986</td>\n",
              "      <td>-0.527031</td>\n",
              "      <td>-0.417324</td>\n",
              "      <td>-0.097752</td>\n",
              "      <td>1.000000</td>\n",
              "      <td>-0.483950</td>\n",
              "      <td>-0.130127</td>\n",
              "    </tr>\n",
              "    <tr>\n",
              "      <th>So</th>\n",
              "      <td>0.504484</td>\n",
              "      <td>0.506634</td>\n",
              "      <td>0.392726</td>\n",
              "      <td>0.106630</td>\n",
              "      <td>-0.483950</td>\n",
              "      <td>1.000000</td>\n",
              "      <td>0.145581</td>\n",
              "    </tr>\n",
              "    <tr>\n",
              "      <th>G</th>\n",
              "      <td>-0.154231</td>\n",
              "      <td>-0.157473</td>\n",
              "      <td>-0.251446</td>\n",
              "      <td>-0.013239</td>\n",
              "      <td>-0.130127</td>\n",
              "      <td>0.145581</td>\n",
              "      <td>1.000000</td>\n",
              "    </tr>\n",
              "  </tbody>\n",
              "</table>\n",
              "</div>\n",
              "      <button class=\"colab-df-convert\" onclick=\"convertToInteractive('df-b3e56adf-7c07-4f34-818e-157b8da19071')\"\n",
              "              title=\"Convert this dataframe to an interactive table.\"\n",
              "              style=\"display:none;\">\n",
              "        \n",
              "  <svg xmlns=\"http://www.w3.org/2000/svg\" height=\"24px\"viewBox=\"0 0 24 24\"\n",
              "       width=\"24px\">\n",
              "    <path d=\"M0 0h24v24H0V0z\" fill=\"none\"/>\n",
              "    <path d=\"M18.56 5.44l.94 2.06.94-2.06 2.06-.94-2.06-.94-.94-2.06-.94 2.06-2.06.94zm-11 1L8.5 8.5l.94-2.06 2.06-.94-2.06-.94L8.5 2.5l-.94 2.06-2.06.94zm10 10l.94 2.06.94-2.06 2.06-.94-2.06-.94-.94-2.06-.94 2.06-2.06.94z\"/><path d=\"M17.41 7.96l-1.37-1.37c-.4-.4-.92-.59-1.43-.59-.52 0-1.04.2-1.43.59L10.3 9.45l-7.72 7.72c-.78.78-.78 2.05 0 2.83L4 21.41c.39.39.9.59 1.41.59.51 0 1.02-.2 1.41-.59l7.78-7.78 2.81-2.81c.8-.78.8-2.07 0-2.86zM5.41 20L4 18.59l7.72-7.72 1.47 1.35L5.41 20z\"/>\n",
              "  </svg>\n",
              "      </button>\n",
              "      \n",
              "  <style>\n",
              "    .colab-df-container {\n",
              "      display:flex;\n",
              "      flex-wrap:wrap;\n",
              "      gap: 12px;\n",
              "    }\n",
              "\n",
              "    .colab-df-convert {\n",
              "      background-color: #E8F0FE;\n",
              "      border: none;\n",
              "      border-radius: 50%;\n",
              "      cursor: pointer;\n",
              "      display: none;\n",
              "      fill: #1967D2;\n",
              "      height: 32px;\n",
              "      padding: 0 0 0 0;\n",
              "      width: 32px;\n",
              "    }\n",
              "\n",
              "    .colab-df-convert:hover {\n",
              "      background-color: #E2EBFA;\n",
              "      box-shadow: 0px 1px 2px rgba(60, 64, 67, 0.3), 0px 1px 3px 1px rgba(60, 64, 67, 0.15);\n",
              "      fill: #174EA6;\n",
              "    }\n",
              "\n",
              "    [theme=dark] .colab-df-convert {\n",
              "      background-color: #3B4455;\n",
              "      fill: #D2E3FC;\n",
              "    }\n",
              "\n",
              "    [theme=dark] .colab-df-convert:hover {\n",
              "      background-color: #434B5C;\n",
              "      box-shadow: 0px 1px 3px 1px rgba(0, 0, 0, 0.15);\n",
              "      filter: drop-shadow(0px 1px 2px rgba(0, 0, 0, 0.3));\n",
              "      fill: #FFFFFF;\n",
              "    }\n",
              "  </style>\n",
              "\n",
              "      <script>\n",
              "        const buttonEl =\n",
              "          document.querySelector('#df-b3e56adf-7c07-4f34-818e-157b8da19071 button.colab-df-convert');\n",
              "        buttonEl.style.display =\n",
              "          google.colab.kernel.accessAllowed ? 'block' : 'none';\n",
              "\n",
              "        async function convertToInteractive(key) {\n",
              "          const element = document.querySelector('#df-b3e56adf-7c07-4f34-818e-157b8da19071');\n",
              "          const dataTable =\n",
              "            await google.colab.kernel.invokeFunction('convertToInteractive',\n",
              "                                                     [key], {});\n",
              "          if (!dataTable) return;\n",
              "\n",
              "          const docLinkHtml = 'Like what you see? Visit the ' +\n",
              "            '<a target=\"_blank\" href=https://colab.research.google.com/notebooks/data_table.ipynb>data table notebook</a>'\n",
              "            + ' to learn more about interactive tables.';\n",
              "          element.innerHTML = '';\n",
              "          dataTable['output_type'] = 'display_data';\n",
              "          await google.colab.output.renderOutput(dataTable, element);\n",
              "          const docLink = document.createElement('div');\n",
              "          docLink.innerHTML = docLinkHtml;\n",
              "          element.appendChild(docLink);\n",
              "        }\n",
              "      </script>\n",
              "    </div>\n",
              "  </div>\n",
              "  "
            ]
          },
          "metadata": {},
          "execution_count": 13
        }
      ]
    },
    {
      "cell_type": "code",
      "source": [
        "#Plot classwise Target variable data counts\n",
        "dataset['VZ'].value_counts().plot.bar()"
      ],
      "metadata": {
        "colab": {
          "base_uri": "https://localhost:8080/",
          "height": 279
        },
        "id": "EkW0SoWDSzcc",
        "outputId": "3b2ba59f-50bb-4908-8794-7143343c1231"
      },
      "execution_count": null,
      "outputs": [
        {
          "output_type": "execute_result",
          "data": {
            "text/plain": [
              "<matplotlib.axes._subplots.AxesSubplot at 0x7fca3a502c50>"
            ]
          },
          "metadata": {},
          "execution_count": 14
        },
        {
          "output_type": "display_data",
          "data": {
            "text/plain": [
              "<Figure size 432x288 with 1 Axes>"
            ],
            "image/png": "[encoded data removed]"
          },
          "metadata": {
            "needs_background": "light"
          }
        }
      ]
    },
    {
      "cell_type": "code",
      "source": [
        "#Co-relation graph heatmap\n",
        "sns.heatmap(dataset.corr(),cmap='coolwarm')"
      ],
      "metadata": {
        "colab": {
          "base_uri": "https://localhost:8080/",
          "height": 286
        },
        "id": "EJ8s30KgTaP4",
        "outputId": "f1e92bcb-a043-470b-c652-d4183136f9ed"
      },
      "execution_count": null,
      "outputs": [
        {
          "output_type": "execute_result",
          "data": {
            "text/plain": [
              "<matplotlib.axes._subplots.AxesSubplot at 0x7fca3a455ad0>"
            ]
          },
          "metadata": {},
          "execution_count": 15
        },
        {
          "output_type": "display_data",
          "data": {
            "text/plain": [
              "<Figure size 432x288 with 2 Axes>"
            ],
            "image/png": "[encoded data removed]"
          },
          "metadata": {
            "needs_background": "light"
          }
        }
      ]
    },
    {
      "cell_type": "markdown",
      "source": [
        "**Dataset Preprocessing**"
      ],
      "metadata": {
        "id": "niGkZ1lPUBYQ"
      }
    },
    {
      "cell_type": "code",
      "source": [
        "X = dataset.iloc[:,2:]\n",
        "Y = dataset.VZ"
      ],
      "metadata": {
        "id": "A9ukaOtHTizm"
      },
      "execution_count": null,
      "outputs": []
    },
    {
      "cell_type": "code",
      "source": [
        "print(X)"
      ],
      "metadata": {
        "colab": {
          "base_uri": "https://localhost:8080/"
        },
        "id": "kfsAXsnMULN4",
        "outputId": "421615f2-0d4f-48bc-d32b-5e8f8b74e3eb"
      },
      "execution_count": null,
      "outputs": [
        {
          "output_type": "stream",
          "name": "stdout",
          "text": [
            "              A         R    P  So  G\n",
            "0    123.693001  0.000000  0.0   1  3\n",
            "1     42.426399  0.000000  0.0   1  5\n",
            "2      0.000000  0.006859  0.0   1  4\n",
            "3    234.307007  0.007808  0.0   1  4\n",
            "4    174.929001  0.007808  0.0   1  4\n",
            "..          ...       ...  ...  .. ..\n",
            "248  450.000000  0.012647  0.0   3  3\n",
            "249  450.000000  0.012587  0.0   3  3\n",
            "250  450.000000  0.001301  0.0   1  0\n",
            "251  450.000000  0.013888  0.0   3  3\n",
            "252  450.000000  0.000000  0.0   3  3\n",
            "\n",
            "[253 rows x 5 columns]\n"
          ]
        }
      ]
    },
    {
      "cell_type": "code",
      "source": [
        "print(Y)"
      ],
      "metadata": {
        "colab": {
          "base_uri": "https://localhost:8080/"
        },
        "id": "Ktx4g3bbUMWg",
        "outputId": "cb689b20-885d-41ab-e362-5688c6e7c1ab"
      },
      "execution_count": null,
      "outputs": [
        {
          "output_type": "stream",
          "name": "stdout",
          "text": [
            "0      1\n",
            "1      1\n",
            "2      1\n",
            "3      1\n",
            "4      1\n",
            "      ..\n",
            "248    5\n",
            "249    5\n",
            "250    5\n",
            "251    5\n",
            "252    5\n",
            "Name: VZ, Length: 253, dtype: int64\n"
          ]
        }
      ]
    },
    {
      "cell_type": "markdown",
      "source": [
        "**Label Encode**"
      ],
      "metadata": {
        "id": "YfVCv_huUs-x"
      }
    },
    {
      "cell_type": "code",
      "source": [
        "#Encode target variable data into labels (0 to ...)\n",
        "from sklearn.preprocessing import LabelEncoder\n",
        "label_encoder = LabelEncoder()\n",
        "label_encoder.fit(Y)\n",
        "Y= label_encoder.transform(Y)\n",
        "classes = label_encoder.classes_"
      ],
      "metadata": {
        "id": "1awR4Z0NUPHX"
      },
      "execution_count": null,
      "outputs": []
    },
    {
      "cell_type": "code",
      "source": [
        "print(Y)"
      ],
      "metadata": {
        "colab": {
          "base_uri": "https://localhost:8080/"
        },
        "id": "C6xl6vsRU-gv",
        "outputId": "2353721b-1c3c-4550-f436-83932b981abb"
      },
      "execution_count": null,
      "outputs": [
        {
          "output_type": "stream",
          "name": "stdout",
          "text": [
            "[0 0 0 0 0 0 0 0 0 0 0 0 0 0 0 0 0 0 0 0 0 0 0 0 0 0 0 0 0 0 0 0 0 0 0 0 0\n",
            " 0 0 0 0 0 0 0 0 0 0 0 0 1 1 1 1 1 1 1 1 1 1 1 1 1 1 1 1 1 1 1 1 1 1 1 1 1\n",
            " 1 1 1 1 1 1 1 1 1 1 1 1 1 1 1 1 1 1 1 1 1 1 1 1 1 1 2 2 2 2 2 2 2 2 2 2 2\n",
            " 2 2 2 2 2 2 2 2 2 2 2 2 2 2 2 2 2 2 2 2 2 2 2 2 2 2 2 2 2 2 2 2 2 2 2 2 2\n",
            " 2 2 2 3 3 3 3 3 3 3 3 3 3 3 3 3 3 3 3 3 3 3 3 3 3 3 3 3 3 3 3 3 3 3 3 3 3\n",
            " 3 3 3 3 3 3 3 3 3 3 3 3 3 3 3 3 3 4 4 4 4 4 4 4 4 4 4 4 4 4 4 4 4 4 4 4 4\n",
            " 4 4 4 4 4 4 4 4 4 4 4 4 4 4 4 4 4 4 4 4 4 4 4 4 4 4 4 4 4 4 4]\n"
          ]
        }
      ]
    },
    {
      "cell_type": "markdown",
      "source": [
        "**Train-test Split**"
      ],
      "metadata": {
        "id": "oii-hTe1VefI"
      }
    },
    {
      "cell_type": "code",
      "source": [
        "#Split dataset (80-20)\n",
        "from sklearn.model_selection import train_test_split\n",
        "X_train, X_test, y_train, y_test = train_test_split(X, Y, test_size=0.2, random_state=0)"
      ],
      "metadata": {
        "id": "oe1l3XTrVSZg"
      },
      "execution_count": null,
      "outputs": []
    },
    {
      "cell_type": "code",
      "source": [
        "print(X_train)"
      ],
      "metadata": {
        "colab": {
          "base_uri": "https://localhost:8080/"
        },
        "id": "uv1m-owjVq--",
        "outputId": "84bce218-2628-4e0f-9d05-8e07caee7a87"
      },
      "execution_count": null,
      "outputs": [
        {
          "output_type": "stream",
          "name": "stdout",
          "text": [
            "              A         R          P  So  G\n",
            "162  350.000000  0.001735   0.000000   3  6\n",
            "159  350.000000  0.001301   0.000000   3  3\n",
            "76    60.000000  0.011550   0.000000   2  6\n",
            "59     0.000000  0.011744   0.000000   3  3\n",
            "176  350.000000  0.000868   0.000000   3  3\n",
            "..          ...       ...        ...  .. ..\n",
            "67    84.852799  0.004529   0.000000   3  6\n",
            "192  350.000000  0.007687   0.000000   2  3\n",
            "117  250.000000  0.007808   0.000000   3  6\n",
            "47    30.000000  0.002603  55.353298   1  4\n",
            "172  350.000000  0.005277   0.000000   3  6\n",
            "\n",
            "[202 rows x 5 columns]\n"
          ]
        }
      ]
    },
    {
      "cell_type": "code",
      "source": [
        "print(X_test)"
      ],
      "metadata": {
        "colab": {
          "base_uri": "https://localhost:8080/"
        },
        "id": "lRotvuEQW-hv",
        "outputId": "a1a206ec-269f-4565-e940-3ce673b78da5"
      },
      "execution_count": null,
      "outputs": [
        {
          "output_type": "stream",
          "name": "stdout",
          "text": [
            "              A         R          P  So  G\n",
            "158  350.000000  0.002603   0.000000   3  3\n",
            "83    60.000000  0.150000   0.000000   3  3\n",
            "170  350.000000  0.003158   0.000000   3  6\n",
            "101  250.000000  0.000868   0.000000   3  3\n",
            "150  174.929001  0.004672   0.000000   3  6\n",
            "199  350.000000  0.003577   0.000000   3  3\n",
            "118  250.000000  0.007808   0.000000   2  6\n",
            "227  450.000000  0.013786   0.000000   3  7\n",
            "63     0.000000  0.001788   0.000000   3  3\n",
            "135  250.000000  0.001788   0.000000   3  7\n",
            "149  250.000000  0.005059   0.000000   3  6\n",
            "232  450.000000  0.012029   0.000000   3  3\n",
            "109  250.000000  0.002910   0.000000   1  4\n",
            "188  212.132004  0.006734   0.000000   2  3\n",
            "153  240.000000  0.006940   0.000000   2  3\n",
            "73    42.426399  0.004946   0.000000   3  3\n",
            "205  450.000000  0.020758   0.000000   2  6\n",
            "171  350.000000  0.003999   0.000000   3  6\n",
            "157  350.000000  0.003388   0.000000   3  3\n",
            "97    60.000000  0.001788   0.000000   3  2\n",
            "187  350.000000  0.006449   0.000000   2  6\n",
            "45    30.000000  0.002603  54.425301   1  4\n",
            "239  450.000000  0.003067   0.000000   1  3\n",
            "138  108.167000  0.000614   0.000000   3  7\n",
            "110  250.000000  0.003037   0.000000   1  4\n",
            "252  450.000000  0.000000   0.000000   3  3\n",
            "8      0.000000  0.004338   0.000000   1  3\n",
            "55     0.000000  0.016873   0.000000   2  3\n",
            "196  350.000000  0.007916   0.000000   2  1\n",
            "37    42.426399  0.005900   0.000000   1  4\n",
            "247  450.000000  0.012765   0.000000   3  3\n",
            "126  250.000000  0.002336   0.000000   3  3\n",
            "111  250.000000  0.004115   0.000000   1  4\n",
            "182  350.000000  0.001788   0.000000   3  3\n",
            "168  350.000000  0.000434   0.000000   3  7\n",
            "145  250.000000  0.005205   0.000000   1  6\n",
            "186  350.000000  0.006042   0.000000   2  6\n",
            "5     30.000000  0.007387   0.000000   1  4\n",
            "22     0.000000  0.003470  58.813999   1  3\n",
            "190  350.000000  0.007387   0.000000   2  2\n",
            "125  250.000000  0.008242   0.000000   2  5\n",
            "12     0.000000  0.004338   0.000000   1  4\n",
            "204  450.000000  0.006042   0.000000   3  2\n",
            "178  350.000000  0.000000   0.000000   3  6\n",
            "90    30.000000  0.007999   0.000000   3  7\n",
            "129  250.000000  0.001227   0.000000   3  5\n",
            "238  450.000000  0.010411   0.000000   1  3\n",
            "44     0.000000  0.002603  55.339802   1  4\n",
            "64     0.000000  0.013579   0.000000   3  6\n",
            "181  350.000000  0.000868   0.000000   3  6\n",
            "71    67.082001  0.000434  42.232899   3  7\n"
          ]
        }
      ]
    },
    {
      "cell_type": "code",
      "source": [
        "print(y_train)"
      ],
      "metadata": {
        "colab": {
          "base_uri": "https://localhost:8080/"
        },
        "id": "5s7ei4OBXCDP",
        "outputId": "0f3c7689-626c-4a3e-ddf1-e538c604e9ca"
      },
      "execution_count": null,
      "outputs": [
        {
          "output_type": "stream",
          "name": "stdout",
          "text": [
            "[3 3 1 1 3 4 0 4 0 3 1 0 1 4 4 0 2 3 4 4 4 1 0 1 1 2 4 0 2 1 2 1 1 0 4 3 4\n",
            " 0 0 0 2 0 0 4 1 1 2 2 0 3 2 1 4 1 1 0 4 2 2 1 0 2 3 4 0 0 0 1 4 0 3 0 3 4\n",
            " 2 4 4 1 4 3 2 3 2 0 3 2 3 2 3 1 3 1 3 4 2 0 1 1 1 1 0 1 4 2 0 4 2 1 2 2 4\n",
            " 4 0 1 1 2 4 3 4 4 4 1 4 0 2 2 0 1 3 1 0 2 3 0 2 2 4 0 0 2 1 3 3 2 0 0 3 2\n",
            " 3 3 0 4 2 3 4 4 0 3 2 4 2 0 3 1 1 4 3 1 3 4 2 2 4 1 1 0 3 1 4 3 4 0 4 3 1\n",
            " 2 1 4 1 1 0 4 0 4 0 2 3 1 3 2 0 3]\n"
          ]
        }
      ]
    },
    {
      "cell_type": "code",
      "source": [
        "print(y_test)"
      ],
      "metadata": {
        "colab": {
          "base_uri": "https://localhost:8080/"
        },
        "id": "A6RK9RWkXEfb",
        "outputId": "c2decc91-ade0-43dc-dc1f-9472599b670f"
      },
      "execution_count": null,
      "outputs": [
        {
          "output_type": "stream",
          "name": "stdout",
          "text": [
            "[3 1 3 2 2 3 2 4 1 2 2 4 2 3 3 1 4 3 3 1 3 0 4 2 2 4 0 1 3 0 4 2 2 3 3 2 3\n",
            " 0 0 3 2 0 4 3 1 2 4 0 1 3 1]\n"
          ]
        }
      ]
    },
    {
      "cell_type": "markdown",
      "source": [
        "**Min Max Scaler**"
      ],
      "metadata": {
        "id": "BYu5QzcoXJjI"
      }
    },
    {
      "cell_type": "code",
      "source": [
        "from sklearn.preprocessing import MinMaxScaler\n",
        "min_max_scaler = MinMaxScaler()\n",
        "X_train_norm = min_max_scaler.fit_transform(X_train)\n",
        "X_test_norm = min_max_scaler.fit_transform(X_test)"
      ],
      "metadata": {
        "id": "VwkeF30YXHXP"
      },
      "execution_count": null,
      "outputs": []
    },
    {
      "cell_type": "code",
      "source": [
        "print(X_train_norm)"
      ],
      "metadata": {
        "colab": {
          "base_uri": "https://localhost:8080/"
        },
        "id": "4X8eazdCXaKL",
        "outputId": "8c9a7442-ae76-40c1-aea3-7dfdee1281f1"
      },
      "execution_count": null,
      "outputs": [
        {
          "output_type": "stream",
          "name": "stdout",
          "text": [
            "[[0.41429533 0.01156733 0.         1.         0.85714286]\n",
            " [0.41429533 0.00867533 0.         1.         0.42857143]\n",
            " [0.07102206 0.077002   0.         0.5        0.85714286]\n",
            " ...\n",
            " [0.29592523 0.052054   0.         1.         0.85714286]\n",
            " [0.03551103 0.01735133 0.84793399 0.         0.57142857]\n",
            " [0.41429533 0.03518133 0.         1.         0.85714286]]\n"
          ]
        }
      ]
    },
    {
      "cell_type": "code",
      "source": [
        "#Normalized value check\n",
        "X_train_norm[0,0]  "
      ],
      "metadata": {
        "colab": {
          "base_uri": "https://localhost:8080/"
        },
        "id": "FRlw9hKdXb8_",
        "outputId": "d8e6826d-ff56-428d-f856-2d130119fb54"
      },
      "execution_count": null,
      "outputs": [
        {
          "output_type": "execute_result",
          "data": {
            "text/plain": [
              "0.414295327313783"
            ]
          },
          "metadata": {},
          "execution_count": 28
        }
      ]
    },
    {
      "cell_type": "code",
      "source": [
        "#Original Value check\n",
        "X_train.iloc[0,0]"
      ],
      "metadata": {
        "colab": {
          "base_uri": "https://localhost:8080/"
        },
        "id": "pFxGyGGaXvxH",
        "outputId": "c32be69f-d097-44db-f136-ce9187da9642"
      },
      "execution_count": null,
      "outputs": [
        {
          "output_type": "execute_result",
          "data": {
            "text/plain": [
              "350.0"
            ]
          },
          "metadata": {},
          "execution_count": 29
        }
      ]
    },
    {
      "cell_type": "markdown",
      "source": [
        "**TP,FP,TN,FN**"
      ],
      "metadata": {
        "id": "bdpU5JmaXxvC"
      }
    },
    {
      "cell_type": "code",
      "source": [
        "#true positive, False positive, true negative, False negative Calculation Method\n",
        "def perf_measure(y_actual, y_hat):\n",
        "    TP = 0\n",
        "    FP = 0\n",
        "    TN = 0\n",
        "    FN = 0\n",
        "\n",
        "    for i in range(len(y_hat)): \n",
        "        if y_actual[i]==y_hat[i]==1:\n",
        "           TP += 1\n",
        "        if y_hat[i]==1 and y_actual[i]!=y_hat[i]:\n",
        "           FP += 1\n",
        "        if y_actual[i]==y_hat[i]==0:\n",
        "           TN += 1\n",
        "        if y_hat[i]==0 and y_actual[i]!=y_hat[i]:\n",
        "           FN += 1\n",
        "\n",
        "    return(TP, FP, TN, FN)"
      ],
      "metadata": {
        "id": "W_057q4UYHU_"
      },
      "execution_count": null,
      "outputs": []
    },
    {
      "cell_type": "markdown",
      "source": [
        "**Build Models**"
      ],
      "metadata": {
        "id": "CnrsMd4QYvTY"
      }
    },
    {
      "cell_type": "markdown",
      "source": [
        "**1. Classifier : Decision tree**"
      ],
      "metadata": {
        "id": "x3TX4QMiY0q5"
      }
    },
    {
      "cell_type": "code",
      "source": [
        "from sklearn.tree import DecisionTreeClassifier\n",
        "from sklearn.model_selection import train_test_split\n",
        "from sklearn.metrics import accuracy_score\n",
        "dt = DecisionTreeClassifier(max_depth=6, random_state=1)\n",
        "# Predict test set labels\n",
        "dt.fit(X_train, y_train)\n",
        "DT_pred = dt.predict(X_test)\n",
        "\n",
        "# Compute test set accuracy\n",
        "acc = accuracy_score(y_test, DT_pred)\n",
        "print(\"Test set accuracy: {:.2f}\".format(acc))"
      ],
      "metadata": {
        "colab": {
          "base_uri": "https://localhost:8080/"
        },
        "id": "l-DYqWm3YqlY",
        "outputId": "22b014d1-39a2-49d4-f178-cca3ff19fdc0"
      },
      "execution_count": null,
      "outputs": [
        {
          "output_type": "stream",
          "name": "stdout",
          "text": [
            "Test set accuracy: 0.88\n"
          ]
        }
      ]
    },
    {
      "cell_type": "code",
      "source": [
        "print(y_test)"
      ],
      "metadata": {
        "colab": {
          "base_uri": "https://localhost:8080/"
        },
        "id": "aGJoLoNf9Q-e",
        "outputId": "6c65a3f7-8665-4159-8843-8dd171777f48"
      },
      "execution_count": null,
      "outputs": [
        {
          "output_type": "stream",
          "name": "stdout",
          "text": [
            "[3 1 3 2 2 3 2 4 1 2 2 4 2 3 3 1 4 3 3 1 3 0 4 2 2 4 0 1 3 0 4 2 2 3 3 2 3\n",
            " 0 0 3 2 0 4 3 1 2 4 0 1 3 1]\n"
          ]
        }
      ]
    },
    {
      "cell_type": "code",
      "source": [
        "print(DT_pred)"
      ],
      "metadata": {
        "colab": {
          "base_uri": "https://localhost:8080/"
        },
        "id": "N1LEEmO29OME",
        "outputId": "56707fd0-5662-46cc-ab8d-ff6317958075"
      },
      "execution_count": null,
      "outputs": [
        {
          "output_type": "stream",
          "name": "stdout",
          "text": [
            "[3 1 3 2 2 3 2 4 1 2 2 4 2 2 2 1 4 3 3 1 3 0 4 1 2 4 0 1 3 0 4 2 0 3 3 0 3\n",
            " 0 0 3 2 0 4 3 1 2 4 0 1 3 0]\n"
          ]
        }
      ]
    },
    {
      "cell_type": "code",
      "source": [
        "print(classification_report(y_test, DT_pred))"
      ],
      "metadata": {
        "colab": {
          "base_uri": "https://localhost:8080/"
        },
        "id": "g2YER28wY_7a",
        "outputId": "66706c38-5502-4fee-a159-3b87bfb1dcb1"
      },
      "execution_count": null,
      "outputs": [
        {
          "output_type": "stream",
          "name": "stdout",
          "text": [
            "              precision    recall  f1-score   support\n",
            "\n",
            "           0       0.70      1.00      0.82         7\n",
            "           1       0.88      0.88      0.88         8\n",
            "           2       0.83      0.77      0.80        13\n",
            "           3       1.00      0.87      0.93        15\n",
            "           4       1.00      1.00      1.00         8\n",
            "\n",
            "    accuracy                           0.88        51\n",
            "   macro avg       0.88      0.90      0.89        51\n",
            "weighted avg       0.90      0.88      0.88        51\n",
            "\n"
          ]
        }
      ]
    },
    {
      "cell_type": "code",
      "source": [
        "from sklearn.metrics import confusion_matrix\n",
        "import seaborn as sns\n",
        "from sklearn.metrics import classification_report\n",
        "Ypred = DT_pred\n",
        "label=['1', '2','3','4','5']\n",
        "Ytrue = y_test \n",
        "cm = confusion_matrix(Ytrue, Ypred)\n",
        "plt.figure(figsize=(12, 12))\n",
        "plt.title(\"Confusion Matrix for Decision Tree\")\n",
        "ax = sns.heatmap(cm, cmap=\"mako\", fmt=\".01f\",annot_kws={'size':12}, annot=True, square=True, xticklabels=label, yticklabels=label)\n",
        "ax.set_ylabel('Actual', fontsize=20)\n",
        "ax.set_xlabel('Predicted', fontsize=20)"
      ],
      "metadata": {
        "colab": {
          "base_uri": "https://localhost:8080/",
          "height": 706
        },
        "id": "13Idu7L894sq",
        "outputId": "ee2b949d-952b-40c8-b777-233b88d5df88"
      },
      "execution_count": null,
      "outputs": [
        {
          "output_type": "execute_result",
          "data": {
            "text/plain": [
              "Text(0.5, 145.31999999999996, 'Predicted')"
            ]
          },
          "metadata": {},
          "execution_count": 35
        },
        {
          "output_type": "display_data",
          "data": {
            "text/plain": [
              "<Figure size 864x864 with 2 Axes>"
            ],
            "image/png": "[encoded data removed]"
          },
          "metadata": {
            "needs_background": "light"
          }
        }
      ]
    },
    {
      "cell_type": "code",
      "source": [
        "cmt_DT = confusion_matrix(y_test, DT_pred, labels=[1,2,3,4,5])\n",
        "cmt_DT = confusion_matrix(y_test, DT_pred)"
      ],
      "metadata": {
        "id": "6V5l8rkn3hI2"
      },
      "execution_count": null,
      "outputs": []
    },
    {
      "cell_type": "code",
      "source": [
        "print(cmt_DT)"
      ],
      "metadata": {
        "colab": {
          "base_uri": "https://localhost:8080/"
        },
        "id": "5k0ZsG693jfT",
        "outputId": "71d3e26c-8f54-42e1-e841-33d3cfcfdf61"
      },
      "execution_count": null,
      "outputs": [
        {
          "output_type": "stream",
          "name": "stdout",
          "text": [
            "[[ 7  0  0  0  0]\n",
            " [ 1  7  0  0  0]\n",
            " [ 2  1 10  0  0]\n",
            " [ 0  0  2 13  0]\n",
            " [ 0  0  0  0  8]]\n"
          ]
        }
      ]
    },
    {
      "cell_type": "code",
      "source": [
        "fp = cmt_DT.sum(axis=0) - np.diag(cm)  \n",
        "fn = cmt_DT.sum(axis=1) - np.diag(cm)\n",
        "tp = np.diag(cmt_DT)\n",
        "tn = cmt_DT.sum() - (fp + fn + tp)\n",
        "\n",
        "print(fp,fn,tp,tn)"
      ],
      "metadata": {
        "colab": {
          "base_uri": "https://localhost:8080/"
        },
        "id": "tj9ZmqPv3lXb",
        "outputId": "f1de9d71-ee89-4d1d-ba80-e076be2dd67f"
      },
      "execution_count": null,
      "outputs": [
        {
          "output_type": "stream",
          "name": "stdout",
          "text": [
            "[3 1 2 0 0] [0 1 3 2 0] [ 7  7 10 13  8] [41 42 36 36 43]\n"
          ]
        }
      ]
    },
    {
      "cell_type": "code",
      "source": [
        "idx = 0\n",
        "print( \"TP rate for Class 1:\",tp[idx])\n",
        "print( \"TN rate for Class 1:\",tn[idx])\n",
        "print( \"FP rate for Class 1:\",fp[idx])\n",
        "print( \"FN rate for Class 1:\",fn[idx])"
      ],
      "metadata": {
        "colab": {
          "base_uri": "https://localhost:8080/"
        },
        "id": "weUrJtRq3pIu",
        "outputId": "c66f9214-3db6-4928-ed7b-173b5c928377"
      },
      "execution_count": null,
      "outputs": [
        {
          "output_type": "stream",
          "name": "stdout",
          "text": [
            "TP rate for Class 1: 7\n",
            "TN rate for Class 1: 41\n",
            "FP rate for Class 1: 3\n",
            "FN rate for Class 1: 0\n"
          ]
        }
      ]
    },
    {
      "cell_type": "code",
      "source": [
        "idx = 1\n",
        "print( \"TP rate for Class 2:\",tp[idx])\n",
        "print( \"TN rate for Class 2:\",tn[idx])\n",
        "print( \"FP rate for Class 2:\",fp[idx])\n",
        "print( \"FN rate for Class 2:\",fn[idx])"
      ],
      "metadata": {
        "colab": {
          "base_uri": "https://localhost:8080/"
        },
        "id": "iCPhnue23rWH",
        "outputId": "5903c12a-7ed8-4b20-d2a0-ba680460ea5b"
      },
      "execution_count": null,
      "outputs": [
        {
          "output_type": "stream",
          "name": "stdout",
          "text": [
            "TP rate for Class 2: 7\n",
            "TN rate for Class 2: 42\n",
            "FP rate for Class 2: 1\n",
            "FN rate for Class 2: 1\n"
          ]
        }
      ]
    },
    {
      "cell_type": "code",
      "source": [
        "idx = 2\n",
        "print( \"TP rate for Class 3:\",tp[idx])\n",
        "print( \"TN rate for Class 3:\",tn[idx])\n",
        "print( \"FP rate for Class 3:\",fp[idx])\n",
        "print( \"FN rate for Class 3:\",fn[idx])"
      ],
      "metadata": {
        "colab": {
          "base_uri": "https://localhost:8080/"
        },
        "id": "aXh0Ucnq3t52",
        "outputId": "7b888447-6111-497b-aff9-56b1b43e0516"
      },
      "execution_count": null,
      "outputs": [
        {
          "output_type": "stream",
          "name": "stdout",
          "text": [
            "TP rate for Class 3: 10\n",
            "TN rate for Class 3: 36\n",
            "FP rate for Class 3: 2\n",
            "FN rate for Class 3: 3\n"
          ]
        }
      ]
    },
    {
      "cell_type": "code",
      "source": [
        "idx = 3\n",
        "print( \"TP rate for Class 4:\",tp[idx])\n",
        "print( \"TN rate for Class 4:\",tn[idx])\n",
        "print( \"FP rate for Class 4:\",fp[idx])\n",
        "print( \"FN rate for Class 4:\",fn[idx])"
      ],
      "metadata": {
        "colab": {
          "base_uri": "https://localhost:8080/"
        },
        "id": "GQJ4uWHD3v2Y",
        "outputId": "7cbd6fc4-06f8-4365-c06d-09e37ba745a9"
      },
      "execution_count": null,
      "outputs": [
        {
          "output_type": "stream",
          "name": "stdout",
          "text": [
            "TP rate for Class 4: 13\n",
            "TN rate for Class 4: 36\n",
            "FP rate for Class 4: 0\n",
            "FN rate for Class 4: 2\n"
          ]
        }
      ]
    },
    {
      "cell_type": "code",
      "source": [
        "idx = 4\n",
        "print( \"TP rate for Class 5:\",tp[idx])\n",
        "print( \"TN rate for Class 5:\",tn[idx])\n",
        "print( \"FP rate for Class 5:\",fp[idx])\n",
        "print( \"FN rate for Class 5:\",fn[idx])"
      ],
      "metadata": {
        "colab": {
          "base_uri": "https://localhost:8080/"
        },
        "id": "RqJ60Epe3ybW",
        "outputId": "c352dabc-fb4c-4500-e27b-fac8fa1d5859"
      },
      "execution_count": null,
      "outputs": [
        {
          "output_type": "stream",
          "name": "stdout",
          "text": [
            "TP rate for Class 5: 8\n",
            "TN rate for Class 5: 43\n",
            "FP rate for Class 5: 0\n",
            "FN rate for Class 5: 0\n"
          ]
        }
      ]
    },
    {
      "cell_type": "code",
      "source": [
        "acc = np.diag(cm).sum() / cm.sum()\n",
        "print(acc)"
      ],
      "metadata": {
        "colab": {
          "base_uri": "https://localhost:8080/"
        },
        "id": "1lFf0WvH31rk",
        "outputId": "07977059-c05e-43c6-93f8-43c5fc51deec"
      },
      "execution_count": null,
      "outputs": [
        {
          "output_type": "stream",
          "name": "stdout",
          "text": [
            "0.8823529411764706\n"
          ]
        }
      ]
    },
    {
      "cell_type": "markdown",
      "source": [
        "**2. Classifier : Naive bayes**"
      ],
      "metadata": {
        "id": "4bp5TBpu37E6"
      }
    },
    {
      "cell_type": "code",
      "source": [
        "from sklearn.naive_bayes import GaussianNB\n",
        "clf_NB = GaussianNB()\n",
        "clf_NB.fit(X_train, y_train)"
      ],
      "metadata": {
        "colab": {
          "base_uri": "https://localhost:8080/"
        },
        "id": "8jcDC2r_4BN_",
        "outputId": "3632a726-9e3b-4e1f-d2c8-60a07c2ce87e"
      },
      "execution_count": null,
      "outputs": [
        {
          "output_type": "execute_result",
          "data": {
            "text/plain": [
              "GaussianNB()"
            ]
          },
          "metadata": {},
          "execution_count": 45
        }
      ]
    },
    {
      "cell_type": "code",
      "source": [
        "NB_pred = clf_NB.predict(X_test)"
      ],
      "metadata": {
        "id": "66gbu7-j4EYE"
      },
      "execution_count": null,
      "outputs": []
    },
    {
      "cell_type": "code",
      "source": [
        "print(y_test)"
      ],
      "metadata": {
        "colab": {
          "base_uri": "https://localhost:8080/"
        },
        "id": "2P-R8JQI4PT8",
        "outputId": "1a24bad1-647e-43b6-cdac-c8d70055fc99"
      },
      "execution_count": null,
      "outputs": [
        {
          "output_type": "stream",
          "name": "stdout",
          "text": [
            "[3 1 3 2 2 3 2 4 1 2 2 4 2 3 3 1 4 3 3 1 3 0 4 2 2 4 0 1 3 0 4 2 2 3 3 2 3\n",
            " 0 0 3 2 0 4 3 1 2 4 0 1 3 1]\n"
          ]
        }
      ]
    },
    {
      "cell_type": "code",
      "source": [
        "print(NB_pred)"
      ],
      "metadata": {
        "colab": {
          "base_uri": "https://localhost:8080/"
        },
        "id": "9P-MfgGx4Fwh",
        "outputId": "de107626-bde9-4392-9c39-d8061100d3ac"
      },
      "execution_count": null,
      "outputs": [
        {
          "output_type": "stream",
          "name": "stdout",
          "text": [
            "[3 1 3 2 2 3 2 4 1 2 2 4 2 2 2 4 4 3 3 4 3 0 4 2 2 4 0 4 3 0 4 2 2 3 3 2 3\n",
            " 0 0 3 2 0 4 3 1 2 4 0 1 3 1]\n"
          ]
        }
      ]
    },
    {
      "cell_type": "code",
      "source": [
        "NB_acc = accuracy_score(y_test, NB_pred)\n",
        "print(NB_acc)"
      ],
      "metadata": {
        "colab": {
          "base_uri": "https://localhost:8080/"
        },
        "id": "XdvzDk0D4HPV",
        "outputId": "2d2f2a26-babe-4982-d571-4ae909e121bf"
      },
      "execution_count": null,
      "outputs": [
        {
          "output_type": "stream",
          "name": "stdout",
          "text": [
            "0.9019607843137255\n"
          ]
        }
      ]
    },
    {
      "cell_type": "code",
      "source": [
        "print(classification_report(y_test, NB_pred))"
      ],
      "metadata": {
        "colab": {
          "base_uri": "https://localhost:8080/"
        },
        "id": "jkk7qK3M4Jwk",
        "outputId": "338b0e87-e433-42a0-dec7-663175bef55a"
      },
      "execution_count": null,
      "outputs": [
        {
          "output_type": "stream",
          "name": "stdout",
          "text": [
            "              precision    recall  f1-score   support\n",
            "\n",
            "           0       1.00      1.00      1.00         7\n",
            "           1       1.00      0.62      0.77         8\n",
            "           2       0.87      1.00      0.93        13\n",
            "           3       1.00      0.87      0.93        15\n",
            "           4       0.73      1.00      0.84         8\n",
            "\n",
            "    accuracy                           0.90        51\n",
            "   macro avg       0.92      0.90      0.89        51\n",
            "weighted avg       0.92      0.90      0.90        51\n",
            "\n"
          ]
        }
      ]
    },
    {
      "cell_type": "code",
      "source": [
        "from sklearn.metrics import confusion_matrix\n",
        "import seaborn as sns\n",
        "from sklearn.metrics import classification_report\n",
        "Ypred = NB_pred\n",
        "label=['1', '2','3','4','5']\n",
        "Ytrue = y_test \n",
        "cm = confusion_matrix(Ytrue, Ypred)\n",
        "plt.figure(figsize=(12, 12))\n",
        "plt.title(\"Confusion Matrix for Naive Bayes\")\n",
        "ax = sns.heatmap(cm, cmap=\"mako\", fmt=\".01f\",annot_kws={'size':12}, annot=True, square=True, xticklabels=label, yticklabels=label)\n",
        "ax.set_ylabel('Actual', fontsize=20)\n",
        "ax.set_xlabel('Predicted', fontsize=20)"
      ],
      "metadata": {
        "colab": {
          "base_uri": "https://localhost:8080/",
          "height": 706
        },
        "id": "EOVVwrkH4MXr",
        "outputId": "549fb171-58d0-4777-8342-712239009932"
      },
      "execution_count": null,
      "outputs": [
        {
          "output_type": "execute_result",
          "data": {
            "text/plain": [
              "Text(0.5, 145.31999999999996, 'Predicted')"
            ]
          },
          "metadata": {},
          "execution_count": 51
        },
        {
          "output_type": "display_data",
          "data": {
            "text/plain": [
              "<Figure size 864x864 with 2 Axes>"
            ],
            "image/png": "[encoded data removed]"
          },
          "metadata": {
            "needs_background": "light"
          }
        }
      ]
    },
    {
      "cell_type": "code",
      "source": [
        "cmt_NB = confusion_matrix(y_test, NB_pred, labels=[1,2,3,4,5])\n",
        "cmt_NB = confusion_matrix(y_test, NB_pred)"
      ],
      "metadata": {
        "id": "qRaBdkbv4S1F"
      },
      "execution_count": null,
      "outputs": []
    },
    {
      "cell_type": "code",
      "source": [
        "print(cmt_NB)"
      ],
      "metadata": {
        "colab": {
          "base_uri": "https://localhost:8080/"
        },
        "id": "S66amYDm4Vog",
        "outputId": "f628857f-2f77-431c-b286-a7d440faef0c"
      },
      "execution_count": null,
      "outputs": [
        {
          "output_type": "stream",
          "name": "stdout",
          "text": [
            "[[ 7  0  0  0  0]\n",
            " [ 0  5  0  0  3]\n",
            " [ 0  0 13  0  0]\n",
            " [ 0  0  2 13  0]\n",
            " [ 0  0  0  0  8]]\n"
          ]
        }
      ]
    },
    {
      "cell_type": "code",
      "source": [
        "fp = cmt_NB.sum(axis=0) - np.diag(cm)  \n",
        "fn = cmt_NB.sum(axis=1) - np.diag(cm)\n",
        "tp = np.diag(cmt_NB)\n",
        "tn = cmt_NB.sum() - (fp + fn + tp)\n",
        "\n",
        "print(fp,fn,tp,tn)"
      ],
      "metadata": {
        "colab": {
          "base_uri": "https://localhost:8080/"
        },
        "id": "-WUH52Rs4XYP",
        "outputId": "432752fd-a700-4187-ffa7-9f210530e9dd"
      },
      "execution_count": null,
      "outputs": [
        {
          "output_type": "stream",
          "name": "stdout",
          "text": [
            "[0 0 2 0 3] [0 3 0 2 0] [ 7  5 13 13  8] [44 43 36 36 40]\n"
          ]
        }
      ]
    },
    {
      "cell_type": "code",
      "source": [
        "idx = 0\n",
        "print( \"TP rate for Class 1:\",tp[idx])\n",
        "print( \"TN rate for Class 1:\",tn[idx])\n",
        "print( \"FP rate for Class 1:\",fp[idx])\n",
        "print( \"FN rate for Class 1:\",fn[idx])"
      ],
      "metadata": {
        "colab": {
          "base_uri": "https://localhost:8080/"
        },
        "id": "6tD_ktml4Zx9",
        "outputId": "48877505-5af6-4da7-abe7-97abdda17e8c"
      },
      "execution_count": null,
      "outputs": [
        {
          "output_type": "stream",
          "name": "stdout",
          "text": [
            "TP rate for Class 1: 7\n",
            "TN rate for Class 1: 44\n",
            "FP rate for Class 1: 0\n",
            "FN rate for Class 1: 0\n"
          ]
        }
      ]
    },
    {
      "cell_type": "code",
      "source": [
        "idx = 1\n",
        "print( \"TP rate for Class 2:\",tp[idx])\n",
        "print( \"TN rate for Class 2:\",tn[idx])\n",
        "print( \"FP rate for Class 2:\",fp[idx])\n",
        "print( \"FN rate for Class 2:\",fn[idx])"
      ],
      "metadata": {
        "colab": {
          "base_uri": "https://localhost:8080/"
        },
        "id": "mijHZCoL4c96",
        "outputId": "9463e7f4-16fa-48c7-bdd4-883654c88759"
      },
      "execution_count": null,
      "outputs": [
        {
          "output_type": "stream",
          "name": "stdout",
          "text": [
            "TP rate for Class 2: 5\n",
            "TN rate for Class 2: 43\n",
            "FP rate for Class 2: 0\n",
            "FN rate for Class 2: 3\n"
          ]
        }
      ]
    },
    {
      "cell_type": "code",
      "source": [
        "idx = 2\n",
        "print( \"TP rate for Class 3:\",tp[idx])\n",
        "print( \"TN rate for Class 3:\",tn[idx])\n",
        "print( \"FP rate for Class 3:\",fp[idx])\n",
        "print( \"FN rate for Class 3:\",fn[idx])"
      ],
      "metadata": {
        "colab": {
          "base_uri": "https://localhost:8080/"
        },
        "id": "dycPMwKI4gr9",
        "outputId": "6507ccec-c86e-4882-ebb0-edad11aedcd7"
      },
      "execution_count": null,
      "outputs": [
        {
          "output_type": "stream",
          "name": "stdout",
          "text": [
            "TP rate for Class 3: 13\n",
            "TN rate for Class 3: 36\n",
            "FP rate for Class 3: 2\n",
            "FN rate for Class 3: 0\n"
          ]
        }
      ]
    },
    {
      "cell_type": "code",
      "source": [
        "idx = 3\n",
        "print( \"TP rate for Class 4:\",tp[idx])\n",
        "print( \"TN rate for Class 4:\",tn[idx])\n",
        "print( \"FP rate for Class 4:\",fp[idx])\n",
        "print( \"FN rate for Class 4:\",fn[idx])"
      ],
      "metadata": {
        "colab": {
          "base_uri": "https://localhost:8080/"
        },
        "id": "gqEUGGFu4jT7",
        "outputId": "35b79d85-826a-4f3a-cab0-6a9ab085843c"
      },
      "execution_count": null,
      "outputs": [
        {
          "output_type": "stream",
          "name": "stdout",
          "text": [
            "TP rate for Class 4: 13\n",
            "TN rate for Class 4: 36\n",
            "FP rate for Class 4: 0\n",
            "FN rate for Class 4: 2\n"
          ]
        }
      ]
    },
    {
      "cell_type": "code",
      "source": [
        "idx = 4\n",
        "print( \"TP rate for Class 5:\",tp[idx])\n",
        "print( \"TN rate for Class 5:\",tn[idx])\n",
        "print( \"FP rate for Class 5:\",fp[idx])\n",
        "print( \"FN rate for Class 5:\",fn[idx])"
      ],
      "metadata": {
        "colab": {
          "base_uri": "https://localhost:8080/"
        },
        "id": "_-VBl5Vq4nNF",
        "outputId": "ecd3a488-5635-46e8-ec1f-3b3bce3eaf9b"
      },
      "execution_count": null,
      "outputs": [
        {
          "output_type": "stream",
          "name": "stdout",
          "text": [
            "TP rate for Class 5: 8\n",
            "TN rate for Class 5: 40\n",
            "FP rate for Class 5: 3\n",
            "FN rate for Class 5: 0\n"
          ]
        }
      ]
    },
    {
      "cell_type": "code",
      "source": [
        "acc = np.diag(cm).sum() / cm.sum()\n",
        "print(acc)"
      ],
      "metadata": {
        "colab": {
          "base_uri": "https://localhost:8080/"
        },
        "id": "QHDw4x3g4pLc",
        "outputId": "e93637e8-f3e2-46f3-f348-618f3696703e"
      },
      "execution_count": null,
      "outputs": [
        {
          "output_type": "stream",
          "name": "stdout",
          "text": [
            "0.9019607843137255\n"
          ]
        }
      ]
    },
    {
      "cell_type": "markdown",
      "source": [
        "**3. Classifier : KNN**"
      ],
      "metadata": {
        "id": "1qsLRRdV4uY_"
      }
    },
    {
      "cell_type": "code",
      "source": [
        "from sklearn.neighbors import KNeighborsClassifier\n",
        "classifier = KNeighborsClassifier(n_neighbors=5)\n",
        "classifier.fit(X_train, y_train)"
      ],
      "metadata": {
        "colab": {
          "base_uri": "https://localhost:8080/"
        },
        "id": "vlfMleVC4vq2",
        "outputId": "c2f6f4e5-e2b0-4727-87fd-b0f32ab21510"
      },
      "execution_count": null,
      "outputs": [
        {
          "output_type": "execute_result",
          "data": {
            "text/plain": [
              "KNeighborsClassifier()"
            ]
          },
          "metadata": {},
          "execution_count": 61
        }
      ]
    },
    {
      "cell_type": "code",
      "source": [
        "KNN_pred = classifier.predict(X_test)"
      ],
      "metadata": {
        "id": "AfI7jycq4yx3"
      },
      "execution_count": null,
      "outputs": []
    },
    {
      "cell_type": "code",
      "source": [
        "print(y_test)"
      ],
      "metadata": {
        "colab": {
          "base_uri": "https://localhost:8080/"
        },
        "id": "rlWIK_Li44y_",
        "outputId": "41617bb2-9a01-4f3d-88f6-2ff73a4f07f6"
      },
      "execution_count": null,
      "outputs": [
        {
          "output_type": "stream",
          "name": "stdout",
          "text": [
            "[3 1 3 2 2 3 2 4 1 2 2 4 2 3 3 1 4 3 3 1 3 0 4 2 2 4 0 1 3 0 4 2 2 3 3 2 3\n",
            " 0 0 3 2 0 4 3 1 2 4 0 1 3 1]\n"
          ]
        }
      ]
    },
    {
      "cell_type": "code",
      "source": [
        "print(KNN_pred)"
      ],
      "metadata": {
        "colab": {
          "base_uri": "https://localhost:8080/"
        },
        "id": "5XVAronS41pE",
        "outputId": "694e0188-2937-46c5-d731-4fbf1d0e6455"
      },
      "execution_count": null,
      "outputs": [
        {
          "output_type": "stream",
          "name": "stdout",
          "text": [
            "[3 1 3 2 2 3 2 4 1 2 2 4 2 0 2 1 4 3 3 1 3 0 4 1 2 4 0 1 3 0 4 2 2 3 3 2 3\n",
            " 1 0 3 2 0 4 3 1 2 4 0 1 3 0]\n"
          ]
        }
      ]
    },
    {
      "cell_type": "code",
      "source": [
        "KNN_acc = accuracy_score(y_test, KNN_pred)\n",
        "print(KNN_acc)"
      ],
      "metadata": {
        "colab": {
          "base_uri": "https://localhost:8080/"
        },
        "id": "Vyj2t2uI40TO",
        "outputId": "32197dd4-f3b8-48b7-bdf3-8a994d19e206"
      },
      "execution_count": null,
      "outputs": [
        {
          "output_type": "stream",
          "name": "stdout",
          "text": [
            "0.9019607843137255\n"
          ]
        }
      ]
    },
    {
      "cell_type": "code",
      "source": [
        "from sklearn.metrics import classification_report, confusion_matrix\n",
        "print(confusion_matrix(y_test, KNN_pred))"
      ],
      "metadata": {
        "colab": {
          "base_uri": "https://localhost:8080/"
        },
        "id": "Dz2jcSyt47mM",
        "outputId": "61b72fe4-a0f0-43cc-a201-71c384885757"
      },
      "execution_count": null,
      "outputs": [
        {
          "output_type": "stream",
          "name": "stdout",
          "text": [
            "[[ 6  1  0  0  0]\n",
            " [ 1  7  0  0  0]\n",
            " [ 0  1 12  0  0]\n",
            " [ 1  0  1 13  0]\n",
            " [ 0  0  0  0  8]]\n"
          ]
        }
      ]
    },
    {
      "cell_type": "code",
      "source": [
        "print(classification_report(y_test, KNN_pred))"
      ],
      "metadata": {
        "colab": {
          "base_uri": "https://localhost:8080/"
        },
        "id": "GKf34ABu4-Vr",
        "outputId": "543fc89b-cded-4aae-94e9-5b925949fe2d"
      },
      "execution_count": null,
      "outputs": [
        {
          "output_type": "stream",
          "name": "stdout",
          "text": [
            "              precision    recall  f1-score   support\n",
            "\n",
            "           0       0.75      0.86      0.80         7\n",
            "           1       0.78      0.88      0.82         8\n",
            "           2       0.92      0.92      0.92        13\n",
            "           3       1.00      0.87      0.93        15\n",
            "           4       1.00      1.00      1.00         8\n",
            "\n",
            "    accuracy                           0.90        51\n",
            "   macro avg       0.89      0.90      0.90        51\n",
            "weighted avg       0.91      0.90      0.90        51\n",
            "\n"
          ]
        }
      ]
    },
    {
      "cell_type": "code",
      "source": [
        "from sklearn.metrics import confusion_matrix\n",
        "import seaborn as sns\n",
        "from sklearn.metrics import classification_report\n",
        "Ypred = KNN_pred\n",
        "label=['1', '2','3','4','5']\n",
        "Ytrue = y_test \n",
        "cm = confusion_matrix(Ytrue, Ypred)\n",
        "plt.figure(figsize=(12, 12))\n",
        "plt.title(\"Confusion Matrix for KNN\")\n",
        "ax = sns.heatmap(cm, cmap=\"mako\", fmt=\".01f\",annot_kws={'size':12}, annot=True, square=True, xticklabels=label, yticklabels=label)\n",
        "ax.set_ylabel('Actual', fontsize=20)\n",
        "ax.set_xlabel('Predicted', fontsize=20)"
      ],
      "metadata": {
        "colab": {
          "base_uri": "https://localhost:8080/",
          "height": 706
        },
        "id": "LymVPouw5CKc",
        "outputId": "b54f8446-d293-4e72-abeb-4e95168ba160"
      },
      "execution_count": null,
      "outputs": [
        {
          "output_type": "execute_result",
          "data": {
            "text/plain": [
              "Text(0.5, 145.31999999999996, 'Predicted')"
            ]
          },
          "metadata": {},
          "execution_count": 68
        },
        {
          "output_type": "display_data",
          "data": {
            "text/plain": [
              "<Figure size 864x864 with 2 Axes>"
            ],
            "image/png": "[encoded data removed]"
          },
          "metadata": {
            "needs_background": "light"
          }
        }
      ]
    },
    {
      "cell_type": "code",
      "source": [
        "cmt_KNN = confusion_matrix(y_test, KNN_pred, labels=[1,2,3,4,5])\n",
        "cmt_KNN = confusion_matrix(y_test, KNN_pred)"
      ],
      "metadata": {
        "id": "gX207NnI5FDT"
      },
      "execution_count": null,
      "outputs": []
    },
    {
      "cell_type": "code",
      "source": [
        "print(cmt_KNN)"
      ],
      "metadata": {
        "colab": {
          "base_uri": "https://localhost:8080/"
        },
        "id": "AjWCE2zr5Is8",
        "outputId": "bb020710-60c7-4752-f204-3f431f858c98"
      },
      "execution_count": null,
      "outputs": [
        {
          "output_type": "stream",
          "name": "stdout",
          "text": [
            "[[ 6  1  0  0  0]\n",
            " [ 1  7  0  0  0]\n",
            " [ 0  1 12  0  0]\n",
            " [ 1  0  1 13  0]\n",
            " [ 0  0  0  0  8]]\n"
          ]
        }
      ]
    },
    {
      "cell_type": "code",
      "source": [
        "fp = cmt_KNN.sum(axis=0) - np.diag(cm)  \n",
        "fn = cmt_KNN.sum(axis=1) - np.diag(cm)\n",
        "tp = np.diag(cmt_KNN)\n",
        "tn = cmt_KNN.sum() - (fp + fn + tp)\n",
        "\n",
        "print(fp,fn,tp,tn)"
      ],
      "metadata": {
        "colab": {
          "base_uri": "https://localhost:8080/"
        },
        "id": "sO5Di2AG5L0G",
        "outputId": "086f56c9-1935-4cfc-c0fa-d62860fdfc6e"
      },
      "execution_count": null,
      "outputs": [
        {
          "output_type": "stream",
          "name": "stdout",
          "text": [
            "[2 2 1 0 0] [1 1 1 2 0] [ 6  7 12 13  8] [42 41 37 36 43]\n"
          ]
        }
      ]
    },
    {
      "cell_type": "code",
      "source": [
        "idx = 0\n",
        "print( \"TP rate for Class 1:\",tp[idx])\n",
        "print( \"TN rate for Class 1:\",tn[idx])\n",
        "print( \"FP rate for Class 1:\",fp[idx])\n",
        "print( \"FN rate for Class 1:\",fn[idx])"
      ],
      "metadata": {
        "colab": {
          "base_uri": "https://localhost:8080/"
        },
        "id": "z-XkJMb75Ohg",
        "outputId": "4fe8b295-19ba-46ac-b265-6ec3456ba572"
      },
      "execution_count": null,
      "outputs": [
        {
          "output_type": "stream",
          "name": "stdout",
          "text": [
            "TP rate for Class 1: 6\n",
            "TN rate for Class 1: 42\n",
            "FP rate for Class 1: 2\n",
            "FN rate for Class 1: 1\n"
          ]
        }
      ]
    },
    {
      "cell_type": "code",
      "source": [
        "idx = 1\n",
        "print( \"TP rate for Class 2:\",tp[idx])\n",
        "print( \"TN rate for Class 2:\",tn[idx])\n",
        "print( \"FP rate for Class 2:\",fp[idx])\n",
        "print( \"FN rate for Class 2:\",fn[idx])"
      ],
      "metadata": {
        "colab": {
          "base_uri": "https://localhost:8080/"
        },
        "id": "dwi2DrNY5Oac",
        "outputId": "636994f8-152b-4ede-d565-25b485ccef60"
      },
      "execution_count": null,
      "outputs": [
        {
          "output_type": "stream",
          "name": "stdout",
          "text": [
            "TP rate for Class 2: 7\n",
            "TN rate for Class 2: 41\n",
            "FP rate for Class 2: 2\n",
            "FN rate for Class 2: 1\n"
          ]
        }
      ]
    },
    {
      "cell_type": "code",
      "source": [
        "idx = 2\n",
        "print( \"TP rate for Class 3:\",tp[idx])\n",
        "print( \"TN rate for Class 3:\",tn[idx])\n",
        "print( \"FP rate for Class 3:\",fp[idx])\n",
        "print( \"FN rate for Class 3:\",fn[idx])"
      ],
      "metadata": {
        "colab": {
          "base_uri": "https://localhost:8080/"
        },
        "id": "_iCRYWYP5Rjr",
        "outputId": "f4421527-eab0-4c46-ea94-aecd4e275542"
      },
      "execution_count": null,
      "outputs": [
        {
          "output_type": "stream",
          "name": "stdout",
          "text": [
            "TP rate for Class 3: 12\n",
            "TN rate for Class 3: 37\n",
            "FP rate for Class 3: 1\n",
            "FN rate for Class 3: 1\n"
          ]
        }
      ]
    },
    {
      "cell_type": "code",
      "source": [
        "idx = 3\n",
        "print( \"TP rate for Class 4:\",tp[idx])\n",
        "print( \"TN rate for Class 4:\",tn[idx])\n",
        "print( \"FP rate for Class 4:\",fp[idx])\n",
        "print( \"FN rate for Class 4:\",fn[idx])"
      ],
      "metadata": {
        "colab": {
          "base_uri": "https://localhost:8080/"
        },
        "id": "vACjJnNY5UNc",
        "outputId": "f5cb0a50-872a-476a-84f7-36a77848a885"
      },
      "execution_count": null,
      "outputs": [
        {
          "output_type": "stream",
          "name": "stdout",
          "text": [
            "TP rate for Class 4: 13\n",
            "TN rate for Class 4: 36\n",
            "FP rate for Class 4: 0\n",
            "FN rate for Class 4: 2\n"
          ]
        }
      ]
    },
    {
      "cell_type": "code",
      "source": [
        "idx = 4\n",
        "print( \"TP rate for Class 5:\",tp[idx])\n",
        "print( \"TN rate for Class 5:\",tn[idx])\n",
        "print( \"FP rate for Class 5:\",fp[idx])\n",
        "print( \"FN rate for Class 5:\",fn[idx])"
      ],
      "metadata": {
        "colab": {
          "base_uri": "https://localhost:8080/"
        },
        "id": "d6QTSEac5WPN",
        "outputId": "61aa0bed-c280-4adc-8ac5-c23ce25c31b3"
      },
      "execution_count": null,
      "outputs": [
        {
          "output_type": "stream",
          "name": "stdout",
          "text": [
            "TP rate for Class 5: 8\n",
            "TN rate for Class 5: 43\n",
            "FP rate for Class 5: 0\n",
            "FN rate for Class 5: 0\n"
          ]
        }
      ]
    },
    {
      "cell_type": "code",
      "source": [
        "acc = np.diag(cm).sum() / cm.sum()\n",
        "print(acc)"
      ],
      "metadata": {
        "colab": {
          "base_uri": "https://localhost:8080/"
        },
        "id": "HLHhgju35YP8",
        "outputId": "1a97c636-9123-4701-bc14-45a532419099"
      },
      "execution_count": null,
      "outputs": [
        {
          "output_type": "stream",
          "name": "stdout",
          "text": [
            "0.9019607843137255\n"
          ]
        }
      ]
    },
    {
      "cell_type": "markdown",
      "source": [
        "**4. Classifier : Artificial Neural Network**"
      ],
      "metadata": {
        "id": "zL__V9wz5clQ"
      }
    },
    {
      "cell_type": "code",
      "source": [
        "from sklearn.neural_network import MLPClassifier\n",
        "from sklearn.metrics import accuracy_score\n",
        "nnc = MLPClassifier(hidden_layer_sizes=(9),activation=\"relu\",max_iter=1000)\n",
        "nnc.fit(X_train, y_train)\n",
        "nnc_pred =nnc.predict(X_test)\n",
        "nnc_acc=accuracy_score(y_test, nnc_pred)\n",
        "print(nnc_acc)"
      ],
      "metadata": {
        "colab": {
          "base_uri": "https://localhost:8080/"
        },
        "id": "-XhobVTa5Z10",
        "outputId": "e2976ce7-4763-47fd-db7b-34884512d74e"
      },
      "execution_count": null,
      "outputs": [
        {
          "output_type": "stream",
          "name": "stdout",
          "text": [
            "0.35294117647058826\n"
          ]
        }
      ]
    },
    {
      "cell_type": "code",
      "source": [
        "print(y_test)"
      ],
      "metadata": {
        "colab": {
          "base_uri": "https://localhost:8080/"
        },
        "id": "SzGAu7bm5jcc",
        "outputId": "963c5746-5b0d-42fe-b5dd-c3a840070a76"
      },
      "execution_count": null,
      "outputs": [
        {
          "output_type": "stream",
          "name": "stdout",
          "text": [
            "[3 1 3 2 2 3 2 4 1 2 2 4 2 3 3 1 4 3 3 1 3 0 4 2 2 4 0 1 3 0 4 2 2 3 3 2 3\n",
            " 0 0 3 2 0 4 3 1 2 4 0 1 3 1]\n"
          ]
        }
      ]
    },
    {
      "cell_type": "code",
      "source": [
        "print(nnc_pred)"
      ],
      "metadata": {
        "colab": {
          "base_uri": "https://localhost:8080/"
        },
        "id": "zc-0v0cl5fkc",
        "outputId": "1fd9250e-2f91-4631-925d-9914e834d839"
      },
      "execution_count": null,
      "outputs": [
        {
          "output_type": "stream",
          "name": "stdout",
          "text": [
            "[4 2 3 4 3 4 3 3 0 3 3 4 3 3 3 2 3 3 4 2 3 0 3 1 3 4 1 0 4 1 4 4 3 4 3 3 3\n",
            " 1 0 3 3 1 4 3 1 3 3 0 0 3 3]\n"
          ]
        }
      ]
    },
    {
      "cell_type": "code",
      "source": [
        "from sklearn.metrics import classification_report\n",
        "print(classification_report(y_test, nnc_pred))"
      ],
      "metadata": {
        "colab": {
          "base_uri": "https://localhost:8080/"
        },
        "id": "4ASyB1wN5mYf",
        "outputId": "e2d6b5fb-2a71-4b0a-8660-92918427691f"
      },
      "execution_count": null,
      "outputs": [
        {
          "output_type": "stream",
          "name": "stdout",
          "text": [
            "              precision    recall  f1-score   support\n",
            "\n",
            "           0       0.50      0.43      0.46         7\n",
            "           1       0.17      0.12      0.14         8\n",
            "           2       0.00      0.00      0.00        13\n",
            "           3       0.40      0.67      0.50        15\n",
            "           4       0.36      0.50      0.42         8\n",
            "\n",
            "    accuracy                           0.35        51\n",
            "   macro avg       0.29      0.34      0.31        51\n",
            "weighted avg       0.27      0.35      0.30        51\n",
            "\n"
          ]
        }
      ]
    },
    {
      "cell_type": "code",
      "source": [
        "from sklearn.metrics import confusion_matrix\n",
        "import seaborn as sns\n",
        "from sklearn.metrics import classification_report\n",
        "Ypred = nnc_pred\n",
        "label=['1', '2','3','4','5']\n",
        "Ytrue = y_test \n",
        "cm = confusion_matrix(Ytrue, Ypred)\n",
        "plt.figure(figsize=(12, 12))\n",
        "plt.title(\"Confusion Matrix for ANN\")\n",
        "ax = sns.heatmap(cm, cmap=\"mako\", fmt=\".01f\",annot_kws={'size':12}, annot=True, square=True, xticklabels=label, yticklabels=label)\n",
        "ax.set_ylabel('Actual', fontsize=20)\n",
        "ax.set_xlabel('Predicted', fontsize=20)"
      ],
      "metadata": {
        "colab": {
          "base_uri": "https://localhost:8080/",
          "height": 710
        },
        "id": "OKrEnV1D5uPs",
        "outputId": "62dcd213-08df-48c9-e317-d0c9c204f143"
      },
      "execution_count": null,
      "outputs": [
        {
          "output_type": "execute_result",
          "data": {
            "text/plain": [
              "Text(0.5, 145.31999999999996, 'Predicted')"
            ]
          },
          "metadata": {},
          "execution_count": 82
        },
        {
          "output_type": "display_data",
          "data": {
            "text/plain": [
              "<Figure size 864x864 with 2 Axes>"
            ],
            "image/png": "[encoded data removed]"
          },
          "metadata": {
            "needs_background": "light"
          }
        }
      ]
    },
    {
      "cell_type": "code",
      "source": [
        "cmt_ANN = confusion_matrix(y_test, nnc_pred, labels=[1,2,3,4,5])\n",
        "cmt_ANN = confusion_matrix(y_test, nnc_pred)"
      ],
      "metadata": {
        "id": "nFiUV60U5w0c"
      },
      "execution_count": null,
      "outputs": []
    },
    {
      "cell_type": "code",
      "source": [
        "print(cmt_ANN)"
      ],
      "metadata": {
        "colab": {
          "base_uri": "https://localhost:8080/"
        },
        "id": "y_tHOxoc5y4i",
        "outputId": "94da5db8-97e5-4992-dd15-250262f98cd2"
      },
      "execution_count": null,
      "outputs": [
        {
          "output_type": "stream",
          "name": "stdout",
          "text": [
            "[[ 3  4  0  0  0]\n",
            " [ 3  1  3  1  0]\n",
            " [ 0  1  0 10  2]\n",
            " [ 0  0  0 10  5]\n",
            " [ 0  0  0  4  4]]\n"
          ]
        }
      ]
    },
    {
      "cell_type": "code",
      "source": [
        "fp = cmt_ANN.sum(axis=0) - np.diag(cm)  \n",
        "fn = cmt_ANN.sum(axis=1) - np.diag(cm)\n",
        "tp = np.diag(cmt_ANN)\n",
        "tn = cmt_ANN.sum() - (fp + fn + tp)\n",
        "\n",
        "print(fp,fn,tp,tn)"
      ],
      "metadata": {
        "colab": {
          "base_uri": "https://localhost:8080/"
        },
        "id": "4kmMW7PG518t",
        "outputId": "1d5c0a7d-2185-45ba-f036-b5594cc67109"
      },
      "execution_count": null,
      "outputs": [
        {
          "output_type": "stream",
          "name": "stdout",
          "text": [
            "[ 3  5  3 15  7] [ 4  7 13  5  4] [ 3  1  0 10  4] [41 38 35 21 36]\n"
          ]
        }
      ]
    },
    {
      "cell_type": "code",
      "source": [
        "idx = 0\n",
        "print( \"TP rate for Class 1:\",tp[idx])\n",
        "print( \"TN rate for Class 1:\",tn[idx])\n",
        "print( \"FP rate for Class 1:\",fp[idx])\n",
        "print( \"FN rate for Class 1:\",fn[idx])"
      ],
      "metadata": {
        "colab": {
          "base_uri": "https://localhost:8080/"
        },
        "id": "tiTg_gvU537c",
        "outputId": "b506f46b-b1de-4085-f231-68d80c71ff14"
      },
      "execution_count": null,
      "outputs": [
        {
          "output_type": "stream",
          "name": "stdout",
          "text": [
            "TP rate for Class 1: 3\n",
            "TN rate for Class 1: 41\n",
            "FP rate for Class 1: 3\n",
            "FN rate for Class 1: 4\n"
          ]
        }
      ]
    },
    {
      "cell_type": "code",
      "source": [
        "idx = 1\n",
        "print( \"TP rate for Class 2:\",tp[idx])\n",
        "print( \"TN rate for Class 2:\",tn[idx])\n",
        "print( \"FP rate for Class 2:\",fp[idx])\n",
        "print( \"FN rate for Class 2:\",fn[idx])"
      ],
      "metadata": {
        "colab": {
          "base_uri": "https://localhost:8080/"
        },
        "id": "Wsr4lUGL55Z8",
        "outputId": "a6a6eda8-d5d2-4034-b190-deacd0fb86f8"
      },
      "execution_count": null,
      "outputs": [
        {
          "output_type": "stream",
          "name": "stdout",
          "text": [
            "TP rate for Class 2: 1\n",
            "TN rate for Class 2: 38\n",
            "FP rate for Class 2: 5\n",
            "FN rate for Class 2: 7\n"
          ]
        }
      ]
    },
    {
      "cell_type": "code",
      "source": [
        "idx = 2\n",
        "print( \"TP rate for Class 3:\",tp[idx])\n",
        "print( \"TN rate for Class 3:\",tn[idx])\n",
        "print( \"FP rate for Class 3:\",fp[idx])\n",
        "print( \"FN rate for Class 3:\",fn[idx])"
      ],
      "metadata": {
        "colab": {
          "base_uri": "https://localhost:8080/"
        },
        "id": "Zjj8zJVc57cz",
        "outputId": "4aa45890-0266-4663-b191-b3df5baba621"
      },
      "execution_count": null,
      "outputs": [
        {
          "output_type": "stream",
          "name": "stdout",
          "text": [
            "TP rate for Class 3: 0\n",
            "TN rate for Class 3: 35\n",
            "FP rate for Class 3: 3\n",
            "FN rate for Class 3: 13\n"
          ]
        }
      ]
    },
    {
      "cell_type": "code",
      "source": [
        "idx = 3\n",
        "print( \"TP rate for Class 4:\",tp[idx])\n",
        "print( \"TN rate for Class 4:\",tn[idx])\n",
        "print( \"FP rate for Class 4:\",fp[idx])\n",
        "print( \"FN rate for Class 4:\",fn[idx])"
      ],
      "metadata": {
        "colab": {
          "base_uri": "https://localhost:8080/"
        },
        "id": "7XaXSaWj59f7",
        "outputId": "10fe55af-f61b-4ce5-9fb1-e9b8cf4dab5a"
      },
      "execution_count": null,
      "outputs": [
        {
          "output_type": "stream",
          "name": "stdout",
          "text": [
            "TP rate for Class 4: 10\n",
            "TN rate for Class 4: 21\n",
            "FP rate for Class 4: 15\n",
            "FN rate for Class 4: 5\n"
          ]
        }
      ]
    },
    {
      "cell_type": "code",
      "source": [
        "idx = 4\n",
        "print( \"TP rate for Class 5:\",tp[idx])\n",
        "print( \"TN rate for Class 5:\",tn[idx])\n",
        "print( \"FP rate for Class 5:\",fp[idx])\n",
        "print( \"FN rate for Class 5:\",fn[idx])"
      ],
      "metadata": {
        "colab": {
          "base_uri": "https://localhost:8080/"
        },
        "id": "2AjEPf6M6AyT",
        "outputId": "17331c4d-d727-4863-af9c-c437fc010402"
      },
      "execution_count": null,
      "outputs": [
        {
          "output_type": "stream",
          "name": "stdout",
          "text": [
            "TP rate for Class 5: 4\n",
            "TN rate for Class 5: 36\n",
            "FP rate for Class 5: 7\n",
            "FN rate for Class 5: 4\n"
          ]
        }
      ]
    },
    {
      "cell_type": "code",
      "source": [
        "acc = np.diag(cm).sum() / cm.sum()\n",
        "print(acc)"
      ],
      "metadata": {
        "colab": {
          "base_uri": "https://localhost:8080/"
        },
        "id": "H4eYDC5k6C4z",
        "outputId": "42ca68c9-fe8b-46ec-99ff-c4556d1daf85"
      },
      "execution_count": null,
      "outputs": [
        {
          "output_type": "stream",
          "name": "stdout",
          "text": [
            "0.35294117647058826\n"
          ]
        }
      ]
    },
    {
      "cell_type": "markdown",
      "source": [
        "**5. Classifier : Random Forest**"
      ],
      "metadata": {
        "id": "vBSpB0666I3u"
      }
    },
    {
      "cell_type": "code",
      "source": [
        "from sklearn.ensemble import RandomForestClassifier\n",
        "from sklearn.metrics import accuracy_score\n",
        "from sklearn.metrics import accuracy_score\n",
        "randomf = RandomForestClassifier(n_estimators=100)\n",
        "randomf.fit(X_train, y_train)\n",
        "rf_pred = randomf.predict(X_test)\n",
        "rf_acc=accuracy_score(y_test, rf_pred)\n",
        "print(rf_acc)"
      ],
      "metadata": {
        "colab": {
          "base_uri": "https://localhost:8080/"
        },
        "id": "uqk-6oIR6FD7",
        "outputId": "614fc11f-5dd5-4263-e0e7-91c5a9f6561b"
      },
      "execution_count": null,
      "outputs": [
        {
          "output_type": "stream",
          "name": "stdout",
          "text": [
            "0.9411764705882353\n"
          ]
        }
      ]
    },
    {
      "cell_type": "code",
      "source": [
        "print(y_test)"
      ],
      "metadata": {
        "colab": {
          "base_uri": "https://localhost:8080/"
        },
        "id": "Q-SyeKc46Q0N",
        "outputId": "2ad39535-8614-4a1d-8334-f1604a5bac8c"
      },
      "execution_count": null,
      "outputs": [
        {
          "output_type": "stream",
          "name": "stdout",
          "text": [
            "[3 1 3 2 2 3 2 4 1 2 2 4 2 3 3 1 4 3 3 1 3 0 4 2 2 4 0 1 3 0 4 2 2 3 3 2 3\n",
            " 0 0 3 2 0 4 3 1 2 4 0 1 3 1]\n"
          ]
        }
      ]
    },
    {
      "cell_type": "code",
      "source": [
        "print(rf_pred)"
      ],
      "metadata": {
        "colab": {
          "base_uri": "https://localhost:8080/"
        },
        "id": "YyRinziu6R_h",
        "outputId": "ecd0bb50-6948-4dff-da33-1dbcb084e30c"
      },
      "execution_count": null,
      "outputs": [
        {
          "output_type": "stream",
          "name": "stdout",
          "text": [
            "[3 1 3 2 2 3 2 4 1 2 2 4 2 2 2 1 4 3 3 1 3 0 4 1 2 4 0 1 3 0 4 2 2 3 3 2 3\n",
            " 0 0 3 2 0 4 3 1 2 4 0 1 3 1]\n"
          ]
        }
      ]
    },
    {
      "cell_type": "code",
      "source": [
        "from sklearn.metrics import classification_report\n",
        "print(classification_report(y_test, rf_pred))"
      ],
      "metadata": {
        "colab": {
          "base_uri": "https://localhost:8080/"
        },
        "id": "BGQCjsWG6TbB",
        "outputId": "bec4b845-3826-4ebe-87cb-2939c80f0698"
      },
      "execution_count": null,
      "outputs": [
        {
          "output_type": "stream",
          "name": "stdout",
          "text": [
            "              precision    recall  f1-score   support\n",
            "\n",
            "           0       1.00      1.00      1.00         7\n",
            "           1       0.89      1.00      0.94         8\n",
            "           2       0.86      0.92      0.89        13\n",
            "           3       1.00      0.87      0.93        15\n",
            "           4       1.00      1.00      1.00         8\n",
            "\n",
            "    accuracy                           0.94        51\n",
            "   macro avg       0.95      0.96      0.95        51\n",
            "weighted avg       0.95      0.94      0.94        51\n",
            "\n"
          ]
        }
      ]
    },
    {
      "cell_type": "code",
      "source": [
        "from sklearn.metrics import confusion_matrix\n",
        "import seaborn as sns\n",
        "from sklearn.metrics import classification_report\n",
        "Ypred = nnc_pred\n",
        "label=['1', '2','3','4','5']\n",
        "Ytrue = y_test \n",
        "cm = confusion_matrix(Ytrue, Ypred)\n",
        "plt.figure(figsize=(12, 12))\n",
        "plt.title(\"Confusion Matrix for ANN\")\n",
        "ax = sns.heatmap(cm, cmap=\"mako\", fmt=\".01f\",annot_kws={'size':12}, annot=True, square=True, xticklabels=label, yticklabels=label)\n",
        "ax.set_ylabel('Actual', fontsize=20)\n",
        "ax.set_xlabel('Predicted', fontsize=20)"
      ],
      "metadata": {
        "colab": {
          "base_uri": "https://localhost:8080/",
          "height": 710
        },
        "id": "l-3D4lo66Vwb",
        "outputId": "e59c4da9-3e96-4897-cf46-e37d81819599"
      },
      "execution_count": null,
      "outputs": [
        {
          "output_type": "execute_result",
          "data": {
            "text/plain": [
              "Text(0.5, 145.31999999999996, 'Predicted')"
            ]
          },
          "metadata": {},
          "execution_count": 96
        },
        {
          "output_type": "display_data",
          "data": {
            "text/plain": [
              "<Figure size 864x864 with 2 Axes>"
            ],
            "image/png": "[encoded data removed]"
          },
          "metadata": {
            "needs_background": "light"
          }
        }
      ]
    },
    {
      "cell_type": "code",
      "source": [
        "cmt_RF = confusion_matrix(y_test, rf_pred, labels=[1,2,3,4,5])\n",
        "cmt_RF = confusion_matrix(y_test, rf_pred)"
      ],
      "metadata": {
        "id": "EFfpCTlq6Xns"
      },
      "execution_count": null,
      "outputs": []
    },
    {
      "cell_type": "code",
      "source": [
        "print(cmt_RF)"
      ],
      "metadata": {
        "colab": {
          "base_uri": "https://localhost:8080/"
        },
        "id": "AKgHsV2H6and",
        "outputId": "197b23e6-5a05-4480-b851-7e9ff8b1b236"
      },
      "execution_count": null,
      "outputs": [
        {
          "output_type": "stream",
          "name": "stdout",
          "text": [
            "[[ 7  0  0  0  0]\n",
            " [ 0  8  0  0  0]\n",
            " [ 0  1 12  0  0]\n",
            " [ 0  0  2 13  0]\n",
            " [ 0  0  0  0  8]]\n"
          ]
        }
      ]
    },
    {
      "cell_type": "code",
      "source": [
        "fp = cmt_RF.sum(axis=0) - np.diag(cm)  \n",
        "fn = cmt_RF.sum(axis=1) - np.diag(cm)\n",
        "tp = np.diag(cmt_RF)\n",
        "tn = cmt_RF.sum() - (fp + fn + tp)\n",
        "\n",
        "print(fp,fn,tp,tn)"
      ],
      "metadata": {
        "colab": {
          "base_uri": "https://localhost:8080/"
        },
        "id": "rDbMH2oi6d7L",
        "outputId": "75c8cb3c-8a59-4a15-dc8d-9f4963dc280c"
      },
      "execution_count": null,
      "outputs": [
        {
          "output_type": "stream",
          "name": "stdout",
          "text": [
            "[ 4  8 14  3  4] [ 4  7 13  5  4] [ 7  8 12 13  8] [36 28 12 30 35]\n"
          ]
        }
      ]
    },
    {
      "cell_type": "code",
      "source": [
        "idx = 0\n",
        "print( \"TP rate for Class 1:\",tp[idx])\n",
        "print( \"TN rate for Class 1:\",tn[idx])\n",
        "print( \"FP rate for Class 1:\",fp[idx])\n",
        "print( \"FN rate for Class 1:\",fn[idx])"
      ],
      "metadata": {
        "colab": {
          "base_uri": "https://localhost:8080/"
        },
        "id": "A9-eR92K6fkU",
        "outputId": "44661cc4-0b2b-4df6-e3de-165dd9feb797"
      },
      "execution_count": null,
      "outputs": [
        {
          "output_type": "stream",
          "name": "stdout",
          "text": [
            "TP rate for Class 1: 7\n",
            "TN rate for Class 1: 36\n",
            "FP rate for Class 1: 4\n",
            "FN rate for Class 1: 4\n"
          ]
        }
      ]
    },
    {
      "cell_type": "code",
      "source": [
        "idx = 1\n",
        "print( \"TP rate for Class 2:\",tp[idx])\n",
        "print( \"TN rate for Class 2:\",tn[idx])\n",
        "print( \"FP rate for Class 2:\",fp[idx])\n",
        "print( \"FN rate for Class 2:\",fn[idx])"
      ],
      "metadata": {
        "colab": {
          "base_uri": "https://localhost:8080/"
        },
        "id": "PRmsRWN36hE0",
        "outputId": "e3e00565-8a8b-4851-c629-565c07bb49c8"
      },
      "execution_count": null,
      "outputs": [
        {
          "output_type": "stream",
          "name": "stdout",
          "text": [
            "TP rate for Class 2: 8\n",
            "TN rate for Class 2: 28\n",
            "FP rate for Class 2: 8\n",
            "FN rate for Class 2: 7\n"
          ]
        }
      ]
    },
    {
      "cell_type": "code",
      "source": [
        "idx = 2\n",
        "print( \"TP rate for Class 3:\",tp[idx])\n",
        "print( \"TN rate for Class 3:\",tn[idx])\n",
        "print( \"FP rate for Class 3:\",fp[idx])\n",
        "print( \"FN rate for Class 3:\",fn[idx])"
      ],
      "metadata": {
        "colab": {
          "base_uri": "https://localhost:8080/"
        },
        "id": "OAO-YsVQ6jkk",
        "outputId": "f291ce49-a865-4da1-e97c-b256439651b9"
      },
      "execution_count": null,
      "outputs": [
        {
          "output_type": "stream",
          "name": "stdout",
          "text": [
            "TP rate for Class 3: 12\n",
            "TN rate for Class 3: 12\n",
            "FP rate for Class 3: 14\n",
            "FN rate for Class 3: 13\n"
          ]
        }
      ]
    },
    {
      "cell_type": "code",
      "source": [
        "idx = 3\n",
        "print( \"TP rate for Class 4:\",tp[idx])\n",
        "print( \"TN rate for Class 4:\",tn[idx])\n",
        "print( \"FP rate for Class 4:\",fp[idx])\n",
        "print( \"FN rate for Class 4:\",fn[idx])"
      ],
      "metadata": {
        "colab": {
          "base_uri": "https://localhost:8080/"
        },
        "id": "mezFagnb6qe0",
        "outputId": "171a8a62-2c54-485e-d6ca-4729a93fb9e6"
      },
      "execution_count": null,
      "outputs": [
        {
          "output_type": "stream",
          "name": "stdout",
          "text": [
            "TP rate for Class 4: 13\n",
            "TN rate for Class 4: 30\n",
            "FP rate for Class 4: 3\n",
            "FN rate for Class 4: 5\n"
          ]
        }
      ]
    },
    {
      "cell_type": "code",
      "source": [
        "idx = 4\n",
        "print( \"TP rate for Class 5:\",tp[idx])\n",
        "print( \"TN rate for Class 5:\",tn[idx])\n",
        "print( \"FP rate for Class 5:\",fp[idx])\n",
        "print( \"FN rate for Class 5:\",fn[idx])"
      ],
      "metadata": {
        "colab": {
          "base_uri": "https://localhost:8080/"
        },
        "id": "3YdrfKQ_6sh7",
        "outputId": "18fa5475-22d2-44a0-9f97-2bf1ad1db21b"
      },
      "execution_count": null,
      "outputs": [
        {
          "output_type": "stream",
          "name": "stdout",
          "text": [
            "TP rate for Class 5: 8\n",
            "TN rate for Class 5: 35\n",
            "FP rate for Class 5: 4\n",
            "FN rate for Class 5: 4\n"
          ]
        }
      ]
    },
    {
      "cell_type": "code",
      "source": [
        "acc = np.diag(cm).sum() / cm.sum()\n",
        "print(acc)"
      ],
      "metadata": {
        "colab": {
          "base_uri": "https://localhost:8080/"
        },
        "id": "xfgYVDhK6uzr",
        "outputId": "159783b0-8e74-47bc-e704-47c227f5f6e0"
      },
      "execution_count": null,
      "outputs": [
        {
          "output_type": "stream",
          "name": "stdout",
          "text": [
            "0.35294117647058826\n"
          ]
        }
      ]
    },
    {
      "cell_type": "markdown",
      "source": [
        "**6. Classifier : Gradiant Boost**"
      ],
      "metadata": {
        "id": "eqhEK-xt64tY"
      }
    },
    {
      "cell_type": "code",
      "source": [
        "from sklearn.ensemble import GradientBoostingClassifier\n",
        "from sklearn.tree import DecisionTreeClassifier"
      ],
      "metadata": {
        "id": "bc8--Yxn66yN"
      },
      "execution_count": null,
      "outputs": []
    },
    {
      "cell_type": "code",
      "source": [
        "import joblib\n",
        "from  sklearn.utils import parallel_backend \n",
        "gboost = GradientBoostingClassifier(learning_rate=.1, n_estimators=500,max_depth=5 )"
      ],
      "metadata": {
        "id": "zPWS2RiX7ANU"
      },
      "execution_count": null,
      "outputs": []
    },
    {
      "cell_type": "code",
      "source": [
        "gboost.fit(X_train, y_train)\n",
        "gboost_pred = gboost.predict(X_test)"
      ],
      "metadata": {
        "id": "d_bhRRB67Bys"
      },
      "execution_count": null,
      "outputs": []
    },
    {
      "cell_type": "code",
      "source": [
        "from sklearn.metrics import accuracy_score\n",
        "gboost_acc=accuracy_score(y_test, gboost_pred)\n",
        "print(gboost_acc)"
      ],
      "metadata": {
        "colab": {
          "base_uri": "https://localhost:8080/"
        },
        "id": "aL_NQITv7Gu8",
        "outputId": "25e9d9df-d472-40c0-cedb-7bc154f906f6"
      },
      "execution_count": null,
      "outputs": [
        {
          "output_type": "stream",
          "name": "stdout",
          "text": [
            "0.9019607843137255\n"
          ]
        }
      ]
    },
    {
      "cell_type": "code",
      "source": [
        "print(y_test)"
      ],
      "metadata": {
        "colab": {
          "base_uri": "https://localhost:8080/"
        },
        "id": "rSiVz0Lt7IbF",
        "outputId": "3f38a473-bc47-4592-c56b-9735c7becd95"
      },
      "execution_count": null,
      "outputs": [
        {
          "output_type": "stream",
          "name": "stdout",
          "text": [
            "[3 1 3 2 2 3 2 4 1 2 2 4 2 3 3 1 4 3 3 1 3 0 4 2 2 4 0 1 3 0 4 2 2 3 3 2 3\n",
            " 0 0 3 2 0 4 3 1 2 4 0 1 3 1]\n"
          ]
        }
      ]
    },
    {
      "cell_type": "code",
      "source": [
        "print(gboost_pred)"
      ],
      "metadata": {
        "colab": {
          "base_uri": "https://localhost:8080/"
        },
        "id": "935Jgj6Q7KdC",
        "outputId": "5a5953a4-d755-4968-823b-4f5236612f19"
      },
      "execution_count": null,
      "outputs": [
        {
          "output_type": "stream",
          "name": "stdout",
          "text": [
            "[3 1 3 2 2 3 2 4 1 2 2 4 2 2 2 1 4 3 3 1 3 0 4 1 2 4 0 1 3 0 4 2 0 3 3 2 3\n",
            " 0 0 3 2 0 4 3 1 2 4 0 1 3 0]\n"
          ]
        }
      ]
    },
    {
      "cell_type": "code",
      "source": [
        "from sklearn.metrics import classification_report\n",
        "print(classification_report(y_test, gboost_pred))"
      ],
      "metadata": {
        "colab": {
          "base_uri": "https://localhost:8080/"
        },
        "id": "O0Qdla7Q7Mjg",
        "outputId": "97dd4c6b-9936-4ca6-b842-0e91eb65b7ba"
      },
      "execution_count": null,
      "outputs": [
        {
          "output_type": "stream",
          "name": "stdout",
          "text": [
            "              precision    recall  f1-score   support\n",
            "\n",
            "           0       0.78      1.00      0.88         7\n",
            "           1       0.88      0.88      0.88         8\n",
            "           2       0.85      0.85      0.85        13\n",
            "           3       1.00      0.87      0.93        15\n",
            "           4       1.00      1.00      1.00         8\n",
            "\n",
            "    accuracy                           0.90        51\n",
            "   macro avg       0.90      0.92      0.90        51\n",
            "weighted avg       0.91      0.90      0.90        51\n",
            "\n"
          ]
        }
      ]
    },
    {
      "cell_type": "code",
      "source": [
        "from sklearn.metrics import confusion_matrix\n",
        "import seaborn as sns\n",
        "from sklearn.metrics import classification_report\n",
        "Ypred = gboost_pred\n",
        "label=['1', '2','3','4','5']\n",
        "Ytrue = y_test \n",
        "cm = confusion_matrix(Ytrue, Ypred)\n",
        "plt.figure(figsize=(12, 12))\n",
        "plt.title(\"Confusion Matrix for Gradient Boost\")\n",
        "ax = sns.heatmap(cm, cmap=\"mako\", fmt=\".01f\",annot_kws={'size':12}, annot=True, square=True, xticklabels=label, yticklabels=label)\n",
        "ax.set_ylabel('Actual', fontsize=20)\n",
        "ax.set_xlabel('Predicted', fontsize=20)"
      ],
      "metadata": {
        "colab": {
          "base_uri": "https://localhost:8080/",
          "height": 706
        },
        "id": "fhjbCr6T7RpL",
        "outputId": "de2b4ad1-689e-4de5-9247-035b41a67e93"
      },
      "execution_count": null,
      "outputs": [
        {
          "output_type": "execute_result",
          "data": {
            "text/plain": [
              "Text(0.5, 145.31999999999996, 'Predicted')"
            ]
          },
          "metadata": {},
          "execution_count": 113
        },
        {
          "output_type": "display_data",
          "data": {
            "text/plain": [
              "<Figure size 864x864 with 2 Axes>"
            ],
            "image/png": "[encoded data removed]"
          },
          "metadata": {
            "needs_background": "light"
          }
        }
      ]
    },
    {
      "cell_type": "code",
      "source": [
        "cmt_gboost = confusion_matrix(y_test, gboost_pred, labels=[1,2,3,4,5])\n",
        "cmt_gboost = confusion_matrix(y_test, gboost_pred)"
      ],
      "metadata": {
        "id": "sX_vjcZP7ToM"
      },
      "execution_count": null,
      "outputs": []
    },
    {
      "cell_type": "code",
      "source": [
        "print(cmt_gboost)"
      ],
      "metadata": {
        "colab": {
          "base_uri": "https://localhost:8080/"
        },
        "id": "WexOUYku7V-r",
        "outputId": "5665d88b-1267-41da-f9c7-2bcfc666ac85"
      },
      "execution_count": null,
      "outputs": [
        {
          "output_type": "stream",
          "name": "stdout",
          "text": [
            "[[ 7  0  0  0  0]\n",
            " [ 1  7  0  0  0]\n",
            " [ 1  1 11  0  0]\n",
            " [ 0  0  2 13  0]\n",
            " [ 0  0  0  0  8]]\n"
          ]
        }
      ]
    },
    {
      "cell_type": "code",
      "source": [
        "fp = cmt_gboost.sum(axis=0) - np.diag(cm)  \n",
        "fn = cmt_gboost.sum(axis=1) - np.diag(cm)\n",
        "tp = np.diag(cmt_gboost)\n",
        "tn = cmt_gboost.sum() - (fp + fn + tp)\n",
        "\n",
        "print(fp,fn,tp,tn)"
      ],
      "metadata": {
        "colab": {
          "base_uri": "https://localhost:8080/"
        },
        "id": "ASqOSu5T7a-b",
        "outputId": "657ee907-211b-4856-9659-b31847e38944"
      },
      "execution_count": null,
      "outputs": [
        {
          "output_type": "stream",
          "name": "stdout",
          "text": [
            "[2 1 2 0 0] [0 1 2 2 0] [ 7  7 11 13  8] [42 42 36 36 43]\n"
          ]
        }
      ]
    },
    {
      "cell_type": "code",
      "source": [
        "idx = 0\n",
        "print( \"TP rate for Class 1:\",tp[idx])\n",
        "print( \"TN rate for Class 1:\",tn[idx])\n",
        "print( \"FP rate for Class 1:\",fp[idx])\n",
        "print( \"FN rate for Class 1:\",fn[idx])"
      ],
      "metadata": {
        "colab": {
          "base_uri": "https://localhost:8080/"
        },
        "id": "wg5ul3do7cg0",
        "outputId": "af82563f-68fc-4793-a6ed-a72075f2aff8"
      },
      "execution_count": null,
      "outputs": [
        {
          "output_type": "stream",
          "name": "stdout",
          "text": [
            "TP rate for Class 1: 7\n",
            "TN rate for Class 1: 42\n",
            "FP rate for Class 1: 2\n",
            "FN rate for Class 1: 0\n"
          ]
        }
      ]
    },
    {
      "cell_type": "code",
      "source": [
        "idx = 1\n",
        "print( \"TP rate for Class 2:\",tp[idx])\n",
        "print( \"TN rate for Class 2:\",tn[idx])\n",
        "print( \"FP rate for Class 2:\",fp[idx])\n",
        "print( \"FN rate for Class 2:\",fn[idx])"
      ],
      "metadata": {
        "colab": {
          "base_uri": "https://localhost:8080/"
        },
        "id": "-KQC3GvP7enm",
        "outputId": "4ad250ee-cf69-4cba-a8aa-4fdfbf5272a1"
      },
      "execution_count": null,
      "outputs": [
        {
          "output_type": "stream",
          "name": "stdout",
          "text": [
            "TP rate for Class 2: 7\n",
            "TN rate for Class 2: 42\n",
            "FP rate for Class 2: 1\n",
            "FN rate for Class 2: 1\n"
          ]
        }
      ]
    },
    {
      "cell_type": "code",
      "source": [
        "idx = 2\n",
        "print( \"TP rate for Class 3:\",tp[idx])\n",
        "print( \"TN rate for Class 3:\",tn[idx])\n",
        "print( \"FP rate for Class 3:\",fp[idx])\n",
        "print( \"FN rate for Class 3:\",fn[idx])"
      ],
      "metadata": {
        "colab": {
          "base_uri": "https://localhost:8080/"
        },
        "id": "CMQvJbeF7guR",
        "outputId": "28978df7-4498-4bd9-ec3f-eec3a484aef8"
      },
      "execution_count": null,
      "outputs": [
        {
          "output_type": "stream",
          "name": "stdout",
          "text": [
            "TP rate for Class 3: 11\n",
            "TN rate for Class 3: 36\n",
            "FP rate for Class 3: 2\n",
            "FN rate for Class 3: 2\n"
          ]
        }
      ]
    },
    {
      "cell_type": "code",
      "source": [
        "idx = 3\n",
        "print( \"TP rate for Class 4:\",tp[idx])\n",
        "print( \"TN rate for Class 4:\",tn[idx])\n",
        "print( \"FP rate for Class 4:\",fp[idx])\n",
        "print( \"FN rate for Class 4:\",fn[idx])"
      ],
      "metadata": {
        "colab": {
          "base_uri": "https://localhost:8080/"
        },
        "id": "PlXvS8WA7mil",
        "outputId": "e7e92c72-7061-4d1b-f53c-7af8d42fdf30"
      },
      "execution_count": null,
      "outputs": [
        {
          "output_type": "stream",
          "name": "stdout",
          "text": [
            "TP rate for Class 4: 13\n",
            "TN rate for Class 4: 36\n",
            "FP rate for Class 4: 0\n",
            "FN rate for Class 4: 2\n"
          ]
        }
      ]
    },
    {
      "cell_type": "code",
      "source": [
        "idx = 4\n",
        "print( \"TP rate for Class 5:\",tp[idx])\n",
        "print( \"TN rate for Class 5:\",tn[idx])\n",
        "print( \"FP rate for Class 5:\",fp[idx])\n",
        "print( \"FN rate for Class 5:\",fn[idx])"
      ],
      "metadata": {
        "colab": {
          "base_uri": "https://localhost:8080/"
        },
        "id": "IG7flxdo7oI0",
        "outputId": "f7039489-9ba8-4ec1-d37f-7abe572139c2"
      },
      "execution_count": null,
      "outputs": [
        {
          "output_type": "stream",
          "name": "stdout",
          "text": [
            "TP rate for Class 5: 8\n",
            "TN rate for Class 5: 43\n",
            "FP rate for Class 5: 0\n",
            "FN rate for Class 5: 0\n"
          ]
        }
      ]
    },
    {
      "cell_type": "code",
      "source": [
        "acc = np.diag(cm).sum() / cm.sum()\n",
        "print(acc)"
      ],
      "metadata": {
        "colab": {
          "base_uri": "https://localhost:8080/"
        },
        "id": "-VkWxIrI7qLb",
        "outputId": "e60852c8-eed7-40be-81b3-b504400621aa"
      },
      "execution_count": null,
      "outputs": [
        {
          "output_type": "stream",
          "name": "stdout",
          "text": [
            "0.9019607843137255\n"
          ]
        }
      ]
    },
    {
      "cell_type": "markdown",
      "source": [
        "**7.  Classifier : Xtreme Gradient Boost**"
      ],
      "metadata": {
        "id": "W39rQeHf7xPx"
      }
    },
    {
      "cell_type": "code",
      "source": [
        "import xgboost as xgb\n",
        "xgbd = xgb.XGBClassifier(max_depth=10, n_estimators=5000 , learning_rate=.5, n_jobs=-1)"
      ],
      "metadata": {
        "id": "PYBFqxNQ7ucU"
      },
      "execution_count": null,
      "outputs": []
    },
    {
      "cell_type": "code",
      "source": [
        "xgbd.fit(X_train, y_train)\n",
        "xgb_pred = xgbd.predict(X_test)\n",
        "xgb_acc=accuracy_score(y_test, xgb_pred)\n",
        "print(xgb_acc)"
      ],
      "metadata": {
        "colab": {
          "base_uri": "https://localhost:8080/"
        },
        "id": "dwQ0SLge72Zc",
        "outputId": "f19e5f56-899c-4306-a2ef-68a9a9c62834"
      },
      "execution_count": null,
      "outputs": [
        {
          "output_type": "stream",
          "name": "stdout",
          "text": [
            "0.9411764705882353\n"
          ]
        }
      ]
    },
    {
      "cell_type": "code",
      "source": [
        "print(y_test)"
      ],
      "metadata": {
        "colab": {
          "base_uri": "https://localhost:8080/"
        },
        "id": "XdmKFOhf730l",
        "outputId": "e564e440-b16f-4e18-b385-29f1a1b36d3e"
      },
      "execution_count": null,
      "outputs": [
        {
          "output_type": "stream",
          "name": "stdout",
          "text": [
            "[3 1 3 2 2 3 2 4 1 2 2 4 2 3 3 1 4 3 3 1 3 0 4 2 2 4 0 1 3 0 4 2 2 3 3 2 3\n",
            " 0 0 3 2 0 4 3 1 2 4 0 1 3 1]\n"
          ]
        }
      ]
    },
    {
      "cell_type": "code",
      "source": [
        "print(xgb_pred)"
      ],
      "metadata": {
        "colab": {
          "base_uri": "https://localhost:8080/"
        },
        "id": "nza5Zedy75N8",
        "outputId": "56913e6a-9a55-4f6d-d023-3f7e7f345903"
      },
      "execution_count": null,
      "outputs": [
        {
          "output_type": "stream",
          "name": "stdout",
          "text": [
            "[3 1 3 2 2 3 2 4 1 2 2 4 2 2 0 1 4 3 3 1 3 0 4 1 2 4 0 1 3 0 4 2 2 3 3 2 3\n",
            " 0 0 3 2 0 4 3 1 2 4 0 1 3 1]\n"
          ]
        }
      ]
    },
    {
      "cell_type": "code",
      "source": [
        "from sklearn.metrics import classification_report\n",
        "print(classification_report(y_test, xgb_pred))"
      ],
      "metadata": {
        "colab": {
          "base_uri": "https://localhost:8080/"
        },
        "id": "xeryWbUM77DM",
        "outputId": "32c446ac-de1a-4f7b-a292-89e913f5d494"
      },
      "execution_count": null,
      "outputs": [
        {
          "output_type": "stream",
          "name": "stdout",
          "text": [
            "              precision    recall  f1-score   support\n",
            "\n",
            "           0       0.88      1.00      0.93         7\n",
            "           1       0.89      1.00      0.94         8\n",
            "           2       0.92      0.92      0.92        13\n",
            "           3       1.00      0.87      0.93        15\n",
            "           4       1.00      1.00      1.00         8\n",
            "\n",
            "    accuracy                           0.94        51\n",
            "   macro avg       0.94      0.96      0.95        51\n",
            "weighted avg       0.95      0.94      0.94        51\n",
            "\n"
          ]
        }
      ]
    },
    {
      "cell_type": "code",
      "source": [
        "from sklearn.metrics import confusion_matrix\n",
        "import seaborn as sns\n",
        "from sklearn.metrics import classification_report\n",
        "Ypred = xgb_pred\n",
        "label=['1', '2','3','4','5']\n",
        "Ytrue = y_test \n",
        "cm = confusion_matrix(Ytrue, Ypred)\n",
        "plt.figure(figsize=(12, 12))\n",
        "plt.title(\"Confusion Matrix for Xtreme Gradient Boost\")\n",
        "ax = sns.heatmap(cm, cmap=\"mako\", fmt=\".01f\",annot_kws={'size':12}, annot=True, square=True, xticklabels=label, yticklabels=label)\n",
        "ax.set_ylabel('Actual', fontsize=20)\n",
        "ax.set_xlabel('Predicted', fontsize=20)"
      ],
      "metadata": {
        "colab": {
          "base_uri": "https://localhost:8080/",
          "height": 706
        },
        "id": "VIGiEXkC8HH1",
        "outputId": "f2c7a82d-1b3b-486b-c0ab-1730933eb682"
      },
      "execution_count": null,
      "outputs": [
        {
          "output_type": "execute_result",
          "data": {
            "text/plain": [
              "Text(0.5, 145.31999999999996, 'Predicted')"
            ]
          },
          "metadata": {},
          "execution_count": 128
        },
        {
          "output_type": "display_data",
          "data": {
            "text/plain": [
              "<Figure size 864x864 with 2 Axes>"
            ],
            "image/png": "[encoded data removed]"
          },
          "metadata": {
            "needs_background": "light"
          }
        }
      ]
    },
    {
      "cell_type": "code",
      "source": [
        "cmt_xgb = confusion_matrix(y_test, xgb_pred, labels=[1,2,3,4,5])\n",
        "cmt_xgb = confusion_matrix(y_test, xgb_pred)"
      ],
      "metadata": {
        "id": "Klp8pF5h8JkM"
      },
      "execution_count": null,
      "outputs": []
    },
    {
      "cell_type": "code",
      "source": [
        "print(cmt_xgb)"
      ],
      "metadata": {
        "colab": {
          "base_uri": "https://localhost:8080/"
        },
        "id": "eK9tNtea8Nl3",
        "outputId": "2c75862d-2a2a-42f4-f1c1-26d5c644a9d6"
      },
      "execution_count": null,
      "outputs": [
        {
          "output_type": "stream",
          "name": "stdout",
          "text": [
            "[[ 7  0  0  0  0]\n",
            " [ 0  8  0  0  0]\n",
            " [ 0  1 12  0  0]\n",
            " [ 1  0  1 13  0]\n",
            " [ 0  0  0  0  8]]\n"
          ]
        }
      ]
    },
    {
      "cell_type": "code",
      "source": [
        "fp = cmt_xgb.sum(axis=0) - np.diag(cm)  \n",
        "fn = cmt_xgb.sum(axis=1) - np.diag(cm)\n",
        "tp = np.diag(cmt_xgb)\n",
        "tn = cmt_xgb.sum() - (fp + fn + tp)\n",
        "\n",
        "print(fp,fn,tp,tn)"
      ],
      "metadata": {
        "colab": {
          "base_uri": "https://localhost:8080/"
        },
        "id": "zu0cfyNy8O61",
        "outputId": "01fefca1-0f84-48d9-b2ce-b92eb1973324"
      },
      "execution_count": null,
      "outputs": [
        {
          "output_type": "stream",
          "name": "stdout",
          "text": [
            "[1 1 1 0 0] [0 0 1 2 0] [ 7  8 12 13  8] [43 42 37 36 43]\n"
          ]
        }
      ]
    },
    {
      "cell_type": "code",
      "source": [
        "idx = 0\n",
        "print( \"TP rate for Class 1:\",tp[idx])\n",
        "print( \"TN rate for Class 1:\",tn[idx])\n",
        "print( \"FP rate for Class 1:\",fp[idx])\n",
        "print( \"FN rate for Class 1:\",fn[idx])"
      ],
      "metadata": {
        "colab": {
          "base_uri": "https://localhost:8080/"
        },
        "id": "AqYE430H8W4z",
        "outputId": "6440433e-316e-4412-9420-0f7d84b73e33"
      },
      "execution_count": null,
      "outputs": [
        {
          "output_type": "stream",
          "name": "stdout",
          "text": [
            "TP rate for Class 1: 7\n",
            "TN rate for Class 1: 43\n",
            "FP rate for Class 1: 1\n",
            "FN rate for Class 1: 0\n"
          ]
        }
      ]
    },
    {
      "cell_type": "code",
      "source": [
        "idx = 1\n",
        "print( \"TP rate for Class 2:\",tp[idx])\n",
        "print( \"TN rate for Class 2:\",tn[idx])\n",
        "print( \"FP rate for Class 2:\",fp[idx])\n",
        "print( \"FN rate for Class 2:\",fn[idx])"
      ],
      "metadata": {
        "colab": {
          "base_uri": "https://localhost:8080/"
        },
        "id": "ZFHd2ukm8kUj",
        "outputId": "c057d754-5440-4376-cfd5-e8d916444459"
      },
      "execution_count": null,
      "outputs": [
        {
          "output_type": "stream",
          "name": "stdout",
          "text": [
            "TP rate for Class 2: 8\n",
            "TN rate for Class 2: 42\n",
            "FP rate for Class 2: 1\n",
            "FN rate for Class 2: 0\n"
          ]
        }
      ]
    },
    {
      "cell_type": "code",
      "source": [
        "idx = 2\n",
        "print( \"TP rate for Class 3:\",tp[idx])\n",
        "print( \"TN rate for Class 3:\",tn[idx])\n",
        "print( \"FP rate for Class 3:\",fp[idx])\n",
        "print( \"FN rate for Class 3:\",fn[idx])"
      ],
      "metadata": {
        "colab": {
          "base_uri": "https://localhost:8080/"
        },
        "id": "lyeeTqYa8l5U",
        "outputId": "11f620dd-4d45-4695-c5f5-e3e491ce6959"
      },
      "execution_count": null,
      "outputs": [
        {
          "output_type": "stream",
          "name": "stdout",
          "text": [
            "TP rate for Class 3: 12\n",
            "TN rate for Class 3: 37\n",
            "FP rate for Class 3: 1\n",
            "FN rate for Class 3: 1\n"
          ]
        }
      ]
    },
    {
      "cell_type": "code",
      "source": [
        "idx = 3\n",
        "print( \"TP rate for Class 4:\",tp[idx])\n",
        "print( \"TN rate for Class 4:\",tn[idx])\n",
        "print( \"FP rate for Class 4:\",fp[idx])\n",
        "print( \"FN rate for Class 4:\",fn[idx])"
      ],
      "metadata": {
        "colab": {
          "base_uri": "https://localhost:8080/"
        },
        "id": "hfuaqCGK8n6z",
        "outputId": "30a55e49-a2c8-494e-b6a7-c3833a5b2d1d"
      },
      "execution_count": null,
      "outputs": [
        {
          "output_type": "stream",
          "name": "stdout",
          "text": [
            "TP rate for Class 4: 13\n",
            "TN rate for Class 4: 36\n",
            "FP rate for Class 4: 0\n",
            "FN rate for Class 4: 2\n"
          ]
        }
      ]
    },
    {
      "cell_type": "code",
      "source": [
        "idx = 4\n",
        "print( \"TP rate for Class 5:\",tp[idx])\n",
        "print( \"TN rate for Class 5:\",tn[idx])\n",
        "print( \"FP rate for Class 5:\",fp[idx])\n",
        "print( \"FN rate for Class 5:\",fn[idx])"
      ],
      "metadata": {
        "colab": {
          "base_uri": "https://localhost:8080/"
        },
        "id": "DxoxcQtK8qiD",
        "outputId": "fd7f79f5-e3f3-45a4-b702-9baaea090d1c"
      },
      "execution_count": null,
      "outputs": [
        {
          "output_type": "stream",
          "name": "stdout",
          "text": [
            "TP rate for Class 5: 8\n",
            "TN rate for Class 5: 43\n",
            "FP rate for Class 5: 0\n",
            "FN rate for Class 5: 0\n"
          ]
        }
      ]
    },
    {
      "cell_type": "code",
      "source": [
        "acc = np.diag(cm).sum() / cm.sum()\n",
        "print(acc)"
      ],
      "metadata": {
        "colab": {
          "base_uri": "https://localhost:8080/"
        },
        "id": "0sJ3Efxl8wMB",
        "outputId": "1558deee-c8d4-4b9e-ab6e-7aee3cba3674"
      },
      "execution_count": null,
      "outputs": [
        {
          "output_type": "stream",
          "name": "stdout",
          "text": [
            "0.9411764705882353\n"
          ]
        }
      ]
    },
    {
      "cell_type": "markdown",
      "source": [
        "**8. Classifer: Stacking Random Forest**"
      ],
      "metadata": {
        "id": "YJTvveI78y5u"
      }
    },
    {
      "cell_type": "code",
      "source": [
        "from sklearn.neural_network import MLPClassifier\n",
        "nnc = MLPClassifier(hidden_layer_sizes=(9),activation=\"relu\",max_iter=1000)\n",
        "from sklearn.ensemble import RandomForestClassifier\n",
        "from sklearn.tree import DecisionTreeClassifier\n",
        "randomf = RandomForestClassifier(n_jobs=-1)\n",
        "from sklearn.neighbors import KNeighborsClassifier\n",
        "knn = KNeighborsClassifier(n_neighbors=5)\n",
        "from sklearn.model_selection import GridSearchCV\n",
        "estimators = [('rf', randomf),('neural', nnc),\n",
        "        ('knn',knn)\n",
        "        ]\n",
        "from sklearn.ensemble import StackingClassifier\n",
        "final_estimator = {'final_estimator':[randomf,knn,nnc,None]}\n",
        "from sklearn.metrics import confusion_matrix\n",
        "from sklearn.preprocessing import LabelBinarizer\n",
        "from sklearn.model_selection import train_test_split\n",
        "newgsearchrandom =  StackingClassifier(estimators=estimators, n_jobs=-1,final_estimator=randomf)\n",
        "newgsearchrandom.fit(X_train, y_train)\n",
        "from sklearn.metrics import accuracy_score\n",
        "newgsearchrandom_pred = newgsearchrandom.predict(X_test)\n",
        "newgsearchrandom_acc=accuracy_score(y_test, newgsearchrandom_pred)\n",
        "print(newgsearchrandom_acc)"
      ],
      "metadata": {
        "colab": {
          "base_uri": "https://localhost:8080/"
        },
        "id": "kLhfCx7j8x_M",
        "outputId": "e0a4e879-6317-4be5-c8e3-c07597b0fe92"
      },
      "execution_count": null,
      "outputs": [
        {
          "output_type": "stream",
          "name": "stdout",
          "text": [
            "0.9215686274509803\n"
          ]
        }
      ]
    },
    {
      "cell_type": "code",
      "source": [
        "print(y_test)"
      ],
      "metadata": {
        "colab": {
          "base_uri": "https://localhost:8080/"
        },
        "id": "VNL5pqMX8_7M",
        "outputId": "69a9c9bb-87e5-4330-df8c-7de1209db161"
      },
      "execution_count": null,
      "outputs": [
        {
          "output_type": "stream",
          "name": "stdout",
          "text": [
            "[3 1 3 2 2 3 2 4 1 2 2 4 2 3 3 1 4 3 3 1 3 0 4 2 2 4 0 1 3 0 4 2 2 3 3 2 3\n",
            " 0 0 3 2 0 4 3 1 2 4 0 1 3 1]\n"
          ]
        }
      ]
    },
    {
      "cell_type": "code",
      "source": [
        "print(newgsearchrandom_pred)"
      ],
      "metadata": {
        "colab": {
          "base_uri": "https://localhost:8080/"
        },
        "id": "LMl9uUoc9E5q",
        "outputId": "da224359-5c5e-4fc8-b634-48cd69dde59c"
      },
      "execution_count": null,
      "outputs": [
        {
          "output_type": "stream",
          "name": "stdout",
          "text": [
            "[3 1 3 2 2 3 2 4 1 2 2 4 2 2 2 1 4 3 3 1 3 0 4 1 2 4 0 1 3 0 4 2 0 3 3 2 3\n",
            " 0 0 3 2 0 4 3 1 2 4 0 1 3 1]\n"
          ]
        }
      ]
    },
    {
      "cell_type": "code",
      "source": [
        "from sklearn.metrics import classification_report\n",
        "print(classification_report(y_test, newgsearchrandom_pred))"
      ],
      "metadata": {
        "colab": {
          "base_uri": "https://localhost:8080/"
        },
        "id": "BYUDnnHn9aBe",
        "outputId": "43d4ec7d-fe4c-4a28-c13b-cd457a7dbca7"
      },
      "execution_count": null,
      "outputs": [
        {
          "output_type": "stream",
          "name": "stdout",
          "text": [
            "              precision    recall  f1-score   support\n",
            "\n",
            "           0       0.88      1.00      0.93         7\n",
            "           1       0.89      1.00      0.94         8\n",
            "           2       0.85      0.85      0.85        13\n",
            "           3       1.00      0.87      0.93        15\n",
            "           4       1.00      1.00      1.00         8\n",
            "\n",
            "    accuracy                           0.92        51\n",
            "   macro avg       0.92      0.94      0.93        51\n",
            "weighted avg       0.93      0.92      0.92        51\n",
            "\n"
          ]
        }
      ]
    },
    {
      "cell_type": "code",
      "source": [
        "from sklearn.metrics import confusion_matrix\n",
        "import seaborn as sns\n",
        "from sklearn.metrics import classification_report\n",
        "Ypred = newgsearchrandom_pred\n",
        "label=['1', '2','3','4','5']\n",
        "Ytrue = y_test \n",
        "cm = confusion_matrix(Ytrue, Ypred)\n",
        "plt.figure(figsize=(12, 12))\n",
        "plt.title(\"Confusion Matrix for Stacking Random Forest\")\n",
        "ax = sns.heatmap(cm, cmap=\"mako\", fmt=\".01f\",annot_kws={'size':12}, annot=True, square=True, xticklabels=label, yticklabels=label)\n",
        "ax.set_ylabel('Actual', fontsize=20)\n",
        "ax.set_xlabel('Predicted', fontsize=20)"
      ],
      "metadata": {
        "colab": {
          "base_uri": "https://localhost:8080/",
          "height": 706
        },
        "id": "EIZoiUGU9agi",
        "outputId": "2c361aba-8257-4c98-8455-83c521765f92"
      },
      "execution_count": null,
      "outputs": [
        {
          "output_type": "execute_result",
          "data": {
            "text/plain": [
              "Text(0.5, 145.31999999999996, 'Predicted')"
            ]
          },
          "metadata": {},
          "execution_count": 142
        },
        {
          "output_type": "display_data",
          "data": {
            "text/plain": [
              "<Figure size 864x864 with 2 Axes>"
            ],
            "image/png": "[encoded data removed]"
          },
          "metadata": {
            "needs_background": "light"
          }
        }
      ]
    },
    {
      "cell_type": "code",
      "source": [
        "cmt_SRF = confusion_matrix(y_test, newgsearchrandom_pred, labels=[1,2,3,4,5])\n",
        "cmt_SRF = confusion_matrix(y_test, newgsearchrandom_pred)"
      ],
      "metadata": {
        "id": "tyZ9g0VJ9l9P"
      },
      "execution_count": null,
      "outputs": []
    },
    {
      "cell_type": "code",
      "source": [
        "print(cmt_SRF)"
      ],
      "metadata": {
        "colab": {
          "base_uri": "https://localhost:8080/"
        },
        "id": "hzNLJlNF9nmT",
        "outputId": "0de1e467-0018-4440-a493-997b3e1c31e5"
      },
      "execution_count": null,
      "outputs": [
        {
          "output_type": "stream",
          "name": "stdout",
          "text": [
            "[[ 7  0  0  0  0]\n",
            " [ 0  8  0  0  0]\n",
            " [ 1  1 11  0  0]\n",
            " [ 0  0  2 13  0]\n",
            " [ 0  0  0  0  8]]\n"
          ]
        }
      ]
    },
    {
      "cell_type": "code",
      "source": [
        "fp = cmt_SRF.sum(axis=0) - np.diag(cm)  \n",
        "fn = cmt_SRF.sum(axis=1) - np.diag(cm)\n",
        "tp = np.diag(cmt_SRF)\n",
        "tn = cmt_SRF.sum() - (fp + fn + tp)\n",
        "\n",
        "print(fp,fn,tp,tn)"
      ],
      "metadata": {
        "colab": {
          "base_uri": "https://localhost:8080/"
        },
        "id": "i10xavcw9pDW",
        "outputId": "06c34762-cdcd-4949-a161-0d3bacd12bba"
      },
      "execution_count": null,
      "outputs": [
        {
          "output_type": "stream",
          "name": "stdout",
          "text": [
            "[1 1 2 0 0] [0 0 2 2 0] [ 7  8 11 13  8] [43 42 36 36 43]\n"
          ]
        }
      ]
    },
    {
      "cell_type": "code",
      "source": [
        "idx = 0\n",
        "print( \"TP rate for Class 1:\",tp[idx])\n",
        "print( \"TN rate for Class 1:\",tn[idx])\n",
        "print( \"FP rate for Class 1:\",fp[idx])\n",
        "print( \"FN rate for Class 1:\",fn[idx])"
      ],
      "metadata": {
        "colab": {
          "base_uri": "https://localhost:8080/"
        },
        "id": "LnocC7Lr9y_v",
        "outputId": "6382818a-51d7-417a-a37e-764c9f70b27c"
      },
      "execution_count": null,
      "outputs": [
        {
          "output_type": "stream",
          "name": "stdout",
          "text": [
            "TP rate for Class 1: 7\n",
            "TN rate for Class 1: 43\n",
            "FP rate for Class 1: 1\n",
            "FN rate for Class 1: 0\n"
          ]
        }
      ]
    },
    {
      "cell_type": "code",
      "source": [
        "idx = 1\n",
        "print( \"TP rate for Class 2:\",tp[idx])\n",
        "print( \"TN rate for Class 2:\",tn[idx])\n",
        "print( \"FP rate for Class 2:\",fp[idx])\n",
        "print( \"FN rate for Class 2:\",fn[idx])"
      ],
      "metadata": {
        "colab": {
          "base_uri": "https://localhost:8080/"
        },
        "id": "16OHYUrb90kd",
        "outputId": "41057e70-d40d-42f9-e9c1-c6b59f2a5ebd"
      },
      "execution_count": null,
      "outputs": [
        {
          "output_type": "stream",
          "name": "stdout",
          "text": [
            "TP rate for Class 2: 8\n",
            "TN rate for Class 2: 42\n",
            "FP rate for Class 2: 1\n",
            "FN rate for Class 2: 0\n"
          ]
        }
      ]
    },
    {
      "cell_type": "code",
      "source": [
        "idx = 2\n",
        "print( \"TP rate for Class 3:\",tp[idx])\n",
        "print( \"TN rate for Class 3:\",tn[idx])\n",
        "print( \"FP rate for Class 3:\",fp[idx])\n",
        "print( \"FN rate for Class 3:\",fn[idx])"
      ],
      "metadata": {
        "colab": {
          "base_uri": "https://localhost:8080/"
        },
        "id": "eYh4zyS_97yV",
        "outputId": "f00704d4-7e6e-4f17-f501-2dbbeca19b1a"
      },
      "execution_count": null,
      "outputs": [
        {
          "output_type": "stream",
          "name": "stdout",
          "text": [
            "TP rate for Class 3: 11\n",
            "TN rate for Class 3: 36\n",
            "FP rate for Class 3: 2\n",
            "FN rate for Class 3: 2\n"
          ]
        }
      ]
    },
    {
      "cell_type": "code",
      "source": [
        "idx = 3\n",
        "print( \"TP rate for Class 4:\",tp[idx])\n",
        "print( \"TN rate for Class 4:\",tn[idx])\n",
        "print( \"FP rate for Class 4:\",fp[idx])\n",
        "print( \"FN rate for Class 4:\",fn[idx])"
      ],
      "metadata": {
        "colab": {
          "base_uri": "https://localhost:8080/"
        },
        "id": "3yOKJUJm9-OR",
        "outputId": "d3ff545b-bcd7-469f-ce53-c49d0673939d"
      },
      "execution_count": null,
      "outputs": [
        {
          "output_type": "stream",
          "name": "stdout",
          "text": [
            "TP rate for Class 4: 13\n",
            "TN rate for Class 4: 36\n",
            "FP rate for Class 4: 0\n",
            "FN rate for Class 4: 2\n"
          ]
        }
      ]
    },
    {
      "cell_type": "code",
      "source": [
        "idx = 4\n",
        "print( \"TP rate for Class 5:\",tp[idx])\n",
        "print( \"TN rate for Class 5:\",tn[idx])\n",
        "print( \"FP rate for Class 5:\",fp[idx])\n",
        "print( \"FN rate for Class 5:\",fn[idx])"
      ],
      "metadata": {
        "colab": {
          "base_uri": "https://localhost:8080/"
        },
        "id": "W2EDy5Cq9_qn",
        "outputId": "3d8ab1cf-b7e8-4084-daa6-5772a7dc2ca6"
      },
      "execution_count": null,
      "outputs": [
        {
          "output_type": "stream",
          "name": "stdout",
          "text": [
            "TP rate for Class 5: 8\n",
            "TN rate for Class 5: 43\n",
            "FP rate for Class 5: 0\n",
            "FN rate for Class 5: 0\n"
          ]
        }
      ]
    },
    {
      "cell_type": "code",
      "source": [
        "acc = np.diag(cm).sum() / cm.sum()\n",
        "print(acc)"
      ],
      "metadata": {
        "colab": {
          "base_uri": "https://localhost:8080/"
        },
        "id": "kgiqGBH2-Bf4",
        "outputId": "b7c3dc60-0415-4781-d991-69e432311f5a"
      },
      "execution_count": null,
      "outputs": [
        {
          "output_type": "stream",
          "name": "stdout",
          "text": [
            "0.9215686274509803\n"
          ]
        }
      ]
    },
    {
      "cell_type": "markdown",
      "source": [
        "**9. Classifier: Stacking Neural Network**"
      ],
      "metadata": {
        "id": "mDfUhEuq-NPd"
      }
    },
    {
      "cell_type": "code",
      "source": [
        "newgsearchnnc =  StackingClassifier(estimators=estimators, n_jobs=-1,final_estimator=nnc)\n",
        "newgsearchnnc.fit(X_train, y_train)\n",
        "newgsearchnnc_pred = newgsearchnnc.predict(X_test)\n",
        "newgsearchnnc_acc=accuracy_score(y_test, newgsearchnnc_pred)\n",
        "print(newgsearchnnc_acc)"
      ],
      "metadata": {
        "colab": {
          "base_uri": "https://localhost:8080/"
        },
        "id": "ggdHiY47-I-4",
        "outputId": "9c3f99bf-af7c-4485-acbd-80349e0d9beb"
      },
      "execution_count": null,
      "outputs": [
        {
          "output_type": "stream",
          "name": "stdout",
          "text": [
            "0.9411764705882353\n"
          ]
        }
      ]
    },
    {
      "cell_type": "code",
      "source": [
        "print(y_test)"
      ],
      "metadata": {
        "colab": {
          "base_uri": "https://localhost:8080/"
        },
        "id": "pGi1ctsJ-Qax",
        "outputId": "d3e3ce08-8863-4be8-913b-2fedf25c9d67"
      },
      "execution_count": null,
      "outputs": [
        {
          "output_type": "stream",
          "name": "stdout",
          "text": [
            "[3 1 3 2 2 3 2 4 1 2 2 4 2 3 3 1 4 3 3 1 3 0 4 2 2 4 0 1 3 0 4 2 2 3 3 2 3\n",
            " 0 0 3 2 0 4 3 1 2 4 0 1 3 1]\n"
          ]
        }
      ]
    },
    {
      "cell_type": "code",
      "source": [
        "print(newgsearchnnc_pred)"
      ],
      "metadata": {
        "colab": {
          "base_uri": "https://localhost:8080/"
        },
        "id": "xbPWQ53L-YnY",
        "outputId": "782b4351-5d5d-4601-faef-deee76414598"
      },
      "execution_count": null,
      "outputs": [
        {
          "output_type": "stream",
          "name": "stdout",
          "text": [
            "[3 1 3 2 2 3 2 4 1 2 2 4 2 2 2 1 4 3 3 1 3 0 4 1 2 4 0 1 3 0 4 2 2 3 3 2 3\n",
            " 0 0 3 2 0 4 3 1 2 4 0 1 3 1]\n"
          ]
        }
      ]
    },
    {
      "cell_type": "code",
      "source": [
        "print(classification_report(y_test, newgsearchnnc_pred))"
      ],
      "metadata": {
        "colab": {
          "base_uri": "https://localhost:8080/"
        },
        "id": "bP3tD9Z0-aHc",
        "outputId": "521d3b2b-f97b-41d6-a226-72204c5c2aa0"
      },
      "execution_count": null,
      "outputs": [
        {
          "output_type": "stream",
          "name": "stdout",
          "text": [
            "              precision    recall  f1-score   support\n",
            "\n",
            "           0       1.00      1.00      1.00         7\n",
            "           1       0.89      1.00      0.94         8\n",
            "           2       0.86      0.92      0.89        13\n",
            "           3       1.00      0.87      0.93        15\n",
            "           4       1.00      1.00      1.00         8\n",
            "\n",
            "    accuracy                           0.94        51\n",
            "   macro avg       0.95      0.96      0.95        51\n",
            "weighted avg       0.95      0.94      0.94        51\n",
            "\n"
          ]
        }
      ]
    },
    {
      "cell_type": "code",
      "source": [
        "from sklearn.metrics import confusion_matrix\n",
        "import seaborn as sns\n",
        "from sklearn.metrics import classification_report\n",
        "Ypred = newgsearchnnc_pred\n",
        "label=['1', '2','3','4', '5']\n",
        "Ytrue = y_test\n",
        "cm = confusion_matrix(Ytrue, Ypred)\n",
        "plt.figure(figsize=(12, 12))\n",
        "plt.title(\"Confusion Matrix for Neural Network as Final Estimator\")\n",
        "ax = sns.heatmap(cm, cmap=\"rocket_r\", fmt=\".01f\",annot_kws={'size':16}, annot=True, square=True, xticklabels=label, yticklabels=label)\n",
        "ax.set_ylabel('Actual', fontsize=20)\n",
        "ax.set_xlabel('Predicted', fontsize=20)"
      ],
      "metadata": {
        "colab": {
          "base_uri": "https://localhost:8080/",
          "height": 706
        },
        "id": "2oS30-_x-cRd",
        "outputId": "41d84c7b-7b64-4a14-d10e-629449125ad5"
      },
      "execution_count": null,
      "outputs": [
        {
          "output_type": "execute_result",
          "data": {
            "text/plain": [
              "Text(0.5, 145.31999999999996, 'Predicted')"
            ]
          },
          "metadata": {},
          "execution_count": 156
        },
        {
          "output_type": "display_data",
          "data": {
            "text/plain": [
              "<Figure size 864x864 with 2 Axes>"
            ],
            "image/png": "[encoded data removed]"
          },
          "metadata": {
            "needs_background": "light"
          }
        }
      ]
    },
    {
      "cell_type": "code",
      "source": [
        "cmt_SANN = confusion_matrix(y_test, newgsearchnnc_pred, labels=[1,2,3,4,5])\n",
        "cmt_SANN = confusion_matrix(y_test, newgsearchnnc_pred)"
      ],
      "metadata": {
        "id": "IllUSVCk-dzL"
      },
      "execution_count": null,
      "outputs": []
    },
    {
      "cell_type": "code",
      "source": [
        "print(cmt_SANN)"
      ],
      "metadata": {
        "colab": {
          "base_uri": "https://localhost:8080/"
        },
        "id": "hyLQqFXe-m0T",
        "outputId": "4d154e0e-4569-4eda-a31f-6c10d7ab5850"
      },
      "execution_count": null,
      "outputs": [
        {
          "output_type": "stream",
          "name": "stdout",
          "text": [
            "[[ 7  0  0  0  0]\n",
            " [ 0  8  0  0  0]\n",
            " [ 0  1 12  0  0]\n",
            " [ 0  0  2 13  0]\n",
            " [ 0  0  0  0  8]]\n"
          ]
        }
      ]
    },
    {
      "cell_type": "code",
      "source": [
        "fp = cmt_SANN.sum(axis=0) - np.diag(cm)  \n",
        "fn = cmt_SANN.sum(axis=1) - np.diag(cm)\n",
        "tp = np.diag(cmt_SANN)\n",
        "tn = cmt_SANN.sum() - (fp + fn + tp)\n",
        "\n",
        "print(fp,fn,tp,tn)"
      ],
      "metadata": {
        "colab": {
          "base_uri": "https://localhost:8080/"
        },
        "id": "VdrI9m3W-n62",
        "outputId": "ed1ab09c-ed3c-4ef3-a91f-32ff985209fa"
      },
      "execution_count": null,
      "outputs": [
        {
          "output_type": "stream",
          "name": "stdout",
          "text": [
            "[0 1 2 0 0] [0 0 1 2 0] [ 7  8 12 13  8] [44 42 36 36 43]\n"
          ]
        }
      ]
    },
    {
      "cell_type": "code",
      "source": [
        "idx = 0\n",
        "print( \"TP rate for Class 1:\",tp[idx])\n",
        "print( \"TN rate for Class 1:\",tn[idx])\n",
        "print( \"FP rate for Class 1:\",fp[idx])\n",
        "print( \"FN rate for Class 1:\",fn[idx])"
      ],
      "metadata": {
        "colab": {
          "base_uri": "https://localhost:8080/"
        },
        "id": "xc83ppEz-pas",
        "outputId": "03547e60-7679-4e52-aa56-7356e658c79f"
      },
      "execution_count": null,
      "outputs": [
        {
          "output_type": "stream",
          "name": "stdout",
          "text": [
            "TP rate for Class 1: 7\n",
            "TN rate for Class 1: 44\n",
            "FP rate for Class 1: 0\n",
            "FN rate for Class 1: 0\n"
          ]
        }
      ]
    },
    {
      "cell_type": "code",
      "source": [
        "idx = 1\n",
        "print( \"TP rate for Class 2:\",tp[idx])\n",
        "print( \"TN rate for Class 2:\",tn[idx])\n",
        "print( \"FP rate for Class 2:\",fp[idx])\n",
        "print( \"FN rate for Class 2:\",fn[idx])"
      ],
      "metadata": {
        "colab": {
          "base_uri": "https://localhost:8080/"
        },
        "id": "Pi2GXxMo-rBj",
        "outputId": "750e5298-abca-45a6-8250-bea67dcf8196"
      },
      "execution_count": null,
      "outputs": [
        {
          "output_type": "stream",
          "name": "stdout",
          "text": [
            "TP rate for Class 2: 8\n",
            "TN rate for Class 2: 42\n",
            "FP rate for Class 2: 1\n",
            "FN rate for Class 2: 0\n"
          ]
        }
      ]
    },
    {
      "cell_type": "code",
      "source": [
        "idx = 2\n",
        "print( \"TP rate for Class 3:\",tp[idx])\n",
        "print( \"TN rate for Class 3:\",tn[idx])\n",
        "print( \"FP rate for Class 3:\",fp[idx])\n",
        "print( \"FN rate for Class 3:\",fn[idx])"
      ],
      "metadata": {
        "colab": {
          "base_uri": "https://localhost:8080/"
        },
        "id": "SLBV6fIh-tsd",
        "outputId": "d3cb9866-03f0-4feb-c36d-3a3945b06840"
      },
      "execution_count": null,
      "outputs": [
        {
          "output_type": "stream",
          "name": "stdout",
          "text": [
            "TP rate for Class 3: 12\n",
            "TN rate for Class 3: 36\n",
            "FP rate for Class 3: 2\n",
            "FN rate for Class 3: 1\n"
          ]
        }
      ]
    },
    {
      "cell_type": "code",
      "source": [
        "idx = 3\n",
        "print( \"TP rate for Class 4:\",tp[idx])\n",
        "print( \"TN rate for Class 4:\",tn[idx])\n",
        "print( \"FP rate for Class 4:\",fp[idx])\n",
        "print( \"FN rate for Class 4:\",fn[idx])"
      ],
      "metadata": {
        "colab": {
          "base_uri": "https://localhost:8080/"
        },
        "id": "lKk572ui-0NU",
        "outputId": "9a951468-492b-4291-be1e-cd2ce4a56711"
      },
      "execution_count": null,
      "outputs": [
        {
          "output_type": "stream",
          "name": "stdout",
          "text": [
            "TP rate for Class 4: 13\n",
            "TN rate for Class 4: 36\n",
            "FP rate for Class 4: 0\n",
            "FN rate for Class 4: 2\n"
          ]
        }
      ]
    },
    {
      "cell_type": "code",
      "source": [
        "idx = 4\n",
        "print( \"TP rate for Class 5:\",tp[idx])\n",
        "print( \"TN rate for Class 5:\",tn[idx])\n",
        "print( \"FP rate for Class 5:\",fp[idx])\n",
        "print( \"FN rate for Class 5:\",fn[idx])"
      ],
      "metadata": {
        "colab": {
          "base_uri": "https://localhost:8080/"
        },
        "id": "yZ-qBryD-2Tz",
        "outputId": "548c98ce-8630-4cc6-c5f8-099e96da996d"
      },
      "execution_count": null,
      "outputs": [
        {
          "output_type": "stream",
          "name": "stdout",
          "text": [
            "TP rate for Class 5: 8\n",
            "TN rate for Class 5: 43\n",
            "FP rate for Class 5: 0\n",
            "FN rate for Class 5: 0\n"
          ]
        }
      ]
    },
    {
      "cell_type": "code",
      "source": [
        "acc = np.diag(cm).sum() / cm.sum()\n",
        "print(acc)"
      ],
      "metadata": {
        "colab": {
          "base_uri": "https://localhost:8080/"
        },
        "id": "wszoHiSB-4L9",
        "outputId": "4a83da40-f1a1-4abe-d4cb-56f0e34e44cf"
      },
      "execution_count": null,
      "outputs": [
        {
          "output_type": "stream",
          "name": "stdout",
          "text": [
            "0.9411764705882353\n"
          ]
        }
      ]
    },
    {
      "cell_type": "markdown",
      "source": [
        "**10. Classifier : Support Vector Machine**"
      ],
      "metadata": {
        "id": "LbpVHYWI--U4"
      }
    },
    {
      "cell_type": "code",
      "source": [
        "from sklearn.svm import LinearSVC"
      ],
      "metadata": {
        "id": "bRyXYn5r-6ab"
      },
      "execution_count": null,
      "outputs": []
    },
    {
      "cell_type": "code",
      "source": [
        "svc = LinearSVC(C=10, class_weight='balanced')\n",
        "svc.fit(X_train, y_train)"
      ],
      "metadata": {
        "colab": {
          "base_uri": "https://localhost:8080/"
        },
        "id": "xZ8mIC-S_Q37",
        "outputId": "e286d228-96fb-45ec-ee20-dfa7a65e3df3"
      },
      "execution_count": null,
      "outputs": [
        {
          "output_type": "stream",
          "name": "stderr",
          "text": [
            "/usr/local/lib/python3.7/dist-packages/sklearn/svm/_base.py:1208: ConvergenceWarning: Liblinear failed to converge, increase the number of iterations.\n",
            "  ConvergenceWarning,\n"
          ]
        },
        {
          "output_type": "execute_result",
          "data": {
            "text/plain": [
              "LinearSVC(C=10, class_weight='balanced')"
            ]
          },
          "metadata": {},
          "execution_count": 167
        }
      ]
    },
    {
      "cell_type": "code",
      "source": [
        "SVM_pred = svc.predict(X_test)"
      ],
      "metadata": {
        "id": "upFM9Omt_SfT"
      },
      "execution_count": null,
      "outputs": []
    },
    {
      "cell_type": "code",
      "source": [
        "print(y_test)"
      ],
      "metadata": {
        "colab": {
          "base_uri": "https://localhost:8080/"
        },
        "id": "azxus48x_WHJ",
        "outputId": "3551848c-ea63-4d1d-e5a4-c04453af2a86"
      },
      "execution_count": null,
      "outputs": [
        {
          "output_type": "stream",
          "name": "stdout",
          "text": [
            "[3 1 3 2 2 3 2 4 1 2 2 4 2 3 3 1 4 3 3 1 3 0 4 2 2 4 0 1 3 0 4 2 2 3 3 2 3\n",
            " 0 0 3 2 0 4 3 1 2 4 0 1 3 1]\n"
          ]
        }
      ]
    },
    {
      "cell_type": "code",
      "source": [
        "print(SVM_pred)"
      ],
      "metadata": {
        "colab": {
          "base_uri": "https://localhost:8080/"
        },
        "id": "KSW-meqI_T3N",
        "outputId": "7eff32db-871f-4cdb-ad03-cb2d423ebcf0"
      },
      "execution_count": null,
      "outputs": [
        {
          "output_type": "stream",
          "name": "stdout",
          "text": [
            "[4 1 2 4 1 4 2 2 1 1 1 4 3 4 4 1 4 2 4 1 3 0 4 1 3 4 0 1 4 0 4 4 3 4 1 3 3\n",
            " 0 0 4 3 0 4 2 1 1 4 0 1 2 1]\n"
          ]
        }
      ]
    },
    {
      "cell_type": "code",
      "source": [
        "SVM_acc = accuracy_score(y_test, SVM_pred)\n",
        "print(SVM_acc)"
      ],
      "metadata": {
        "colab": {
          "base_uri": "https://localhost:8080/"
        },
        "id": "eMQ1NYSi_Z78",
        "outputId": "7abc56b8-e5af-46e0-ade7-eb5acac7c335"
      },
      "execution_count": null,
      "outputs": [
        {
          "output_type": "stream",
          "name": "stdout",
          "text": [
            "0.49019607843137253\n"
          ]
        }
      ]
    },
    {
      "cell_type": "code",
      "source": [
        "print(classification_report(y_test, SVM_pred))"
      ],
      "metadata": {
        "colab": {
          "base_uri": "https://localhost:8080/"
        },
        "id": "9pP8mz4d_dV0",
        "outputId": "d247ba14-a86e-456d-d21b-de924cededf1"
      },
      "execution_count": null,
      "outputs": [
        {
          "output_type": "stream",
          "name": "stdout",
          "text": [
            "              precision    recall  f1-score   support\n",
            "\n",
            "           0       1.00      1.00      1.00         7\n",
            "           1       0.57      1.00      0.73         8\n",
            "           2       0.17      0.08      0.11        13\n",
            "           3       0.29      0.13      0.18        15\n",
            "           4       0.41      0.88      0.56         8\n",
            "\n",
            "    accuracy                           0.49        51\n",
            "   macro avg       0.49      0.62      0.51        51\n",
            "weighted avg       0.42      0.49      0.42        51\n",
            "\n"
          ]
        }
      ]
    },
    {
      "cell_type": "code",
      "source": [
        "from sklearn.metrics import confusion_matrix\n",
        "import seaborn as sns\n",
        "from sklearn.metrics import classification_report\n",
        "Ypred = SVM_pred\n",
        "label=['1', '2','3','4', '5']\n",
        "Ytrue = y_test\n",
        "cm = confusion_matrix(Ytrue, Ypred)\n",
        "plt.figure(figsize=(12, 12))\n",
        "plt.title(\"Confusion Matrix for Support Vector Machine\")\n",
        "ax = sns.heatmap(cm, cmap=\"rocket_r\", fmt=\".01f\",annot_kws={'size':16}, annot=True, square=True, xticklabels=label, yticklabels=label)\n",
        "ax.set_ylabel('Actual', fontsize=20)\n",
        "ax.set_xlabel('Predicted', fontsize=20)"
      ],
      "metadata": {
        "colab": {
          "base_uri": "https://localhost:8080/",
          "height": 710
        },
        "id": "ELXcRQZCBiYs",
        "outputId": "0fb66bad-4042-4be1-9031-bce10be8d820"
      },
      "execution_count": null,
      "outputs": [
        {
          "output_type": "execute_result",
          "data": {
            "text/plain": [
              "Text(0.5, 145.31999999999996, 'Predicted')"
            ]
          },
          "metadata": {},
          "execution_count": 173
        },
        {
          "output_type": "display_data",
          "data": {
            "text/plain": [
              "<Figure size 864x864 with 2 Axes>"
            ],
            "image/png": "[encoded data removed]"
          },
          "metadata": {
            "needs_background": "light"
          }
        }
      ]
    },
    {
      "cell_type": "code",
      "source": [
        "cmt_SVM_new = confusion_matrix(y_test, SVM_pred, labels=[1,2,3,4,5])\n",
        "cmt_SVM_new = confusion_matrix(y_test, SVM_pred)"
      ],
      "metadata": {
        "id": "W-dlrhI-AD1u"
      },
      "execution_count": null,
      "outputs": []
    },
    {
      "cell_type": "code",
      "source": [
        "print(cmt_SVM_new)"
      ],
      "metadata": {
        "colab": {
          "base_uri": "https://localhost:8080/"
        },
        "id": "VH3h0tHuBeGP",
        "outputId": "c27cc912-de18-4343-df15-ec437fe323f8"
      },
      "execution_count": null,
      "outputs": [
        {
          "output_type": "stream",
          "name": "stdout",
          "text": [
            "[[7 0 0 0 0]\n",
            " [0 8 0 0 0]\n",
            " [0 5 1 5 2]\n",
            " [0 1 4 2 8]\n",
            " [0 0 1 0 7]]\n"
          ]
        }
      ]
    },
    {
      "cell_type": "code",
      "source": [
        "fp = cmt_SVM_new.sum(axis=0) - np.diag(cm)  \n",
        "fn = cmt_SVM_new.sum(axis=1) - np.diag(cm)\n",
        "tp = np.diag(cmt_SVM_new)\n",
        "tn = cmt_SVM_new.sum() - (fp + fn + tp)\n",
        "\n",
        "print(fp,fn,tp,tn)"
      ],
      "metadata": {
        "colab": {
          "base_uri": "https://localhost:8080/"
        },
        "id": "cOcvHwfCB0rD",
        "outputId": "57bc2ee6-3f5b-4c27-9417-fb1d304f64a2"
      },
      "execution_count": null,
      "outputs": [
        {
          "output_type": "stream",
          "name": "stdout",
          "text": [
            "[ 0  6  5  5 10] [ 0  0 12 13  1] [7 8 1 2 7] [44 37 33 31 33]\n"
          ]
        }
      ]
    },
    {
      "cell_type": "code",
      "source": [
        "idx = 0\n",
        "print( \"TP rate for Class 1:\",tp[idx])\n",
        "print( \"TN rate for Class 1:\",tn[idx])\n",
        "print( \"FP rate for Class 1:\",fp[idx])\n",
        "print( \"FN rate for Class 1:\",fn[idx])"
      ],
      "metadata": {
        "colab": {
          "base_uri": "https://localhost:8080/"
        },
        "id": "mKqe6i7fB7mC",
        "outputId": "80cdb06e-e20f-48e9-dcd0-2e1f7568fe94"
      },
      "execution_count": null,
      "outputs": [
        {
          "output_type": "stream",
          "name": "stdout",
          "text": [
            "TP rate for Class 1: 7\n",
            "TN rate for Class 1: 44\n",
            "FP rate for Class 1: 0\n",
            "FN rate for Class 1: 0\n"
          ]
        }
      ]
    },
    {
      "cell_type": "code",
      "source": [
        "idx = 1\n",
        "print( \"TP rate for Class 2:\",tp[idx])\n",
        "print( \"TN rate for Class 2:\",tn[idx])\n",
        "print( \"FP rate for Class 2:\",fp[idx])\n",
        "print( \"FN rate for Class 2:\",fn[idx])"
      ],
      "metadata": {
        "colab": {
          "base_uri": "https://localhost:8080/"
        },
        "id": "CDfgXusnCAnJ",
        "outputId": "a18a971f-8b56-454a-fe50-f4c592c81c47"
      },
      "execution_count": null,
      "outputs": [
        {
          "output_type": "stream",
          "name": "stdout",
          "text": [
            "TP rate for Class 2: 8\n",
            "TN rate for Class 2: 37\n",
            "FP rate for Class 2: 6\n",
            "FN rate for Class 2: 0\n"
          ]
        }
      ]
    },
    {
      "cell_type": "code",
      "source": [
        "idx = 2\n",
        "print( \"TP rate for Class 3:\",tp[idx])\n",
        "print( \"TN rate for Class 3:\",tn[idx])\n",
        "print( \"FP rate for Class 3:\",fp[idx])\n",
        "print( \"FN rate for Class 3:\",fn[idx])"
      ],
      "metadata": {
        "colab": {
          "base_uri": "https://localhost:8080/"
        },
        "id": "r1TzZla0CHNk",
        "outputId": "0bf86bc4-3892-439d-e73e-66c54c7078bb"
      },
      "execution_count": null,
      "outputs": [
        {
          "output_type": "stream",
          "name": "stdout",
          "text": [
            "TP rate for Class 3: 1\n",
            "TN rate for Class 3: 33\n",
            "FP rate for Class 3: 5\n",
            "FN rate for Class 3: 12\n"
          ]
        }
      ]
    },
    {
      "cell_type": "code",
      "source": [
        "idx = 3\n",
        "print( \"TP rate for Class 4:\",tp[idx])\n",
        "print( \"TN rate for Class 4:\",tn[idx])\n",
        "print( \"FP rate for Class 4:\",fp[idx])\n",
        "print( \"FN rate for Class 4:\",fn[idx])"
      ],
      "metadata": {
        "colab": {
          "base_uri": "https://localhost:8080/"
        },
        "id": "JsKy4ROlCKwZ",
        "outputId": "965ed92e-2cd1-4e31-debb-19c49c0a8f11"
      },
      "execution_count": null,
      "outputs": [
        {
          "output_type": "stream",
          "name": "stdout",
          "text": [
            "TP rate for Class 4: 2\n",
            "TN rate for Class 4: 31\n",
            "FP rate for Class 4: 5\n",
            "FN rate for Class 4: 13\n"
          ]
        }
      ]
    },
    {
      "cell_type": "code",
      "source": [
        "idx = 4\n",
        "print( \"TP rate for Class 5:\",tp[idx])\n",
        "print( \"TN rate for Class 5:\",tn[idx])\n",
        "print( \"FP rate for Class 5:\",fp[idx])\n",
        "print( \"FN rate for Class 5:\",fn[idx])"
      ],
      "metadata": {
        "colab": {
          "base_uri": "https://localhost:8080/"
        },
        "id": "kNiE6ck3CN70",
        "outputId": "4e3d697f-35c2-441b-9a9e-1b1ed702f82d"
      },
      "execution_count": null,
      "outputs": [
        {
          "output_type": "stream",
          "name": "stdout",
          "text": [
            "TP rate for Class 5: 7\n",
            "TN rate for Class 5: 33\n",
            "FP rate for Class 5: 10\n",
            "FN rate for Class 5: 1\n"
          ]
        }
      ]
    },
    {
      "cell_type": "code",
      "source": [
        "acc = np.diag(cm).sum() / cm.sum()\n",
        "print(acc)"
      ],
      "metadata": {
        "colab": {
          "base_uri": "https://localhost:8080/"
        },
        "id": "k3ryhC5RCQlk",
        "outputId": "b461e124-181e-4339-ea10-bebbdf3d4249"
      },
      "execution_count": null,
      "outputs": [
        {
          "output_type": "stream",
          "name": "stdout",
          "text": [
            "0.49019607843137253\n"
          ]
        }
      ]
    },
    {
      "cell_type": "markdown",
      "source": [
        "**10.1 Classifier: Support Vector Machine - RBF kernel**"
      ],
      "metadata": {
        "id": "5hg87MdF_7ql"
      }
    },
    {
      "cell_type": "code",
      "source": [
        "from sklearn.svm import SVC\n",
        "svc_new = SVC(kernel ='rbf', class_weight='balanced')\n",
        "svc_new.fit(X_train, y_train)"
      ],
      "metadata": {
        "colab": {
          "base_uri": "https://localhost:8080/"
        },
        "id": "-w29esrR_rjC",
        "outputId": "9eafbcc1-0db6-49dc-dab4-db6412bb6574"
      },
      "execution_count": null,
      "outputs": [
        {
          "output_type": "execute_result",
          "data": {
            "text/plain": [
              "SVC(class_weight='balanced')"
            ]
          },
          "metadata": {},
          "execution_count": 183
        }
      ]
    },
    {
      "cell_type": "code",
      "source": [
        "SVM_newpred = svc_new.predict(X_test)"
      ],
      "metadata": {
        "id": "Mi4P472R_vAZ"
      },
      "execution_count": null,
      "outputs": []
    },
    {
      "cell_type": "code",
      "source": [
        "print(y_test)"
      ],
      "metadata": {
        "colab": {
          "base_uri": "https://localhost:8080/"
        },
        "id": "_K90R-a_ALzl",
        "outputId": "d68fa365-f23a-4d11-8639-020ab43938d4"
      },
      "execution_count": null,
      "outputs": [
        {
          "output_type": "stream",
          "name": "stdout",
          "text": [
            "[3 1 3 2 2 3 2 4 1 2 2 4 2 3 3 1 4 3 3 1 3 0 4 2 2 4 0 1 3 0 4 2 2 3 3 2 3\n",
            " 0 0 3 2 0 4 3 1 2 4 0 1 3 1]\n"
          ]
        }
      ]
    },
    {
      "cell_type": "code",
      "source": [
        "print(SVM_newpred)"
      ],
      "metadata": {
        "colab": {
          "base_uri": "https://localhost:8080/"
        },
        "id": "cmlIarMyAEUN",
        "outputId": "e111892e-cf5f-43a5-997d-b58f85a63a4d"
      },
      "execution_count": null,
      "outputs": [
        {
          "output_type": "stream",
          "name": "stdout",
          "text": [
            "[3 1 3 2 2 3 2 4 1 2 2 4 2 2 2 1 4 3 3 1 3 0 4 1 2 4 1 1 3 1 4 2 2 3 3 2 3\n",
            " 1 0 3 2 1 4 3 1 2 4 0 1 3 0]\n"
          ]
        }
      ]
    },
    {
      "cell_type": "code",
      "source": [
        "SVMnew_acc = accuracy_score(y_test, SVM_newpred)\n",
        "print(SVMnew_acc)"
      ],
      "metadata": {
        "colab": {
          "base_uri": "https://localhost:8080/"
        },
        "id": "m2-7nTUwAHi5",
        "outputId": "860a0ddf-9581-45ce-ca6d-e8dd05dce6f6"
      },
      "execution_count": null,
      "outputs": [
        {
          "output_type": "stream",
          "name": "stdout",
          "text": [
            "0.8431372549019608\n"
          ]
        }
      ]
    },
    {
      "cell_type": "code",
      "source": [
        "print(classification_report(y_test, SVM_newpred))"
      ],
      "metadata": {
        "colab": {
          "base_uri": "https://localhost:8080/"
        },
        "id": "gI1o2O3NATDd",
        "outputId": "2b4a355a-4e9e-4d7c-a58d-6abdf27ced42"
      },
      "execution_count": null,
      "outputs": [
        {
          "output_type": "stream",
          "name": "stdout",
          "text": [
            "              precision    recall  f1-score   support\n",
            "\n",
            "           0       0.75      0.43      0.55         7\n",
            "           1       0.58      0.88      0.70         8\n",
            "           2       0.86      0.92      0.89        13\n",
            "           3       1.00      0.87      0.93        15\n",
            "           4       1.00      1.00      1.00         8\n",
            "\n",
            "    accuracy                           0.84        51\n",
            "   macro avg       0.84      0.82      0.81        51\n",
            "weighted avg       0.86      0.84      0.84        51\n",
            "\n"
          ]
        }
      ]
    },
    {
      "cell_type": "code",
      "source": [
        "from sklearn.metrics import confusion_matrix\n",
        "import seaborn as sns\n",
        "from sklearn.metrics import classification_report\n",
        "Ypred = SVM_newpred\n",
        "label=['1', '2','3','4', '5']\n",
        "Ytrue = y_test\n",
        "cm = confusion_matrix(Ytrue, Ypred)\n",
        "plt.figure(figsize=(12, 12))\n",
        "plt.title(\"Confusion Matrix for Support Vector Machine\")\n",
        "ax = sns.heatmap(cm, cmap=\"rocket_r\", fmt=\".01f\",annot_kws={'size':16}, annot=True, square=True, xticklabels=label, yticklabels=label)\n",
        "ax.set_ylabel('Actual', fontsize=20)\n",
        "ax.set_xlabel('Predicted', fontsize=20)"
      ],
      "metadata": {
        "colab": {
          "base_uri": "https://localhost:8080/",
          "height": 706
        },
        "id": "pOVuU-oBAVlf",
        "outputId": "e06dc717-12fb-405a-e200-6497543593a7"
      },
      "execution_count": null,
      "outputs": [
        {
          "output_type": "execute_result",
          "data": {
            "text/plain": [
              "Text(0.5, 145.31999999999996, 'Predicted')"
            ]
          },
          "metadata": {},
          "execution_count": 189
        },
        {
          "output_type": "display_data",
          "data": {
            "text/plain": [
              "<Figure size 864x864 with 2 Axes>"
            ],
            "image/png": "[encoded data removed]"
          },
          "metadata": {
            "needs_background": "light"
          }
        }
      ]
    },
    {
      "cell_type": "code",
      "source": [
        "cmt_SVM = confusion_matrix(y_test, SVM_newpred, labels=[1,2,3,4,5])\n",
        "cmt_SVM = confusion_matrix(y_test, SVM_newpred)"
      ],
      "metadata": {
        "id": "jaipBlm3AX74"
      },
      "execution_count": null,
      "outputs": []
    },
    {
      "cell_type": "code",
      "source": [
        "print(cmt_SVM)"
      ],
      "metadata": {
        "colab": {
          "base_uri": "https://localhost:8080/"
        },
        "id": "m9sOHdm-AYHG",
        "outputId": "159ce629-d3cc-42d8-dd28-6384c441b620"
      },
      "execution_count": null,
      "outputs": [
        {
          "output_type": "stream",
          "name": "stdout",
          "text": [
            "[[ 3  4  0  0  0]\n",
            " [ 1  7  0  0  0]\n",
            " [ 0  1 12  0  0]\n",
            " [ 0  0  2 13  0]\n",
            " [ 0  0  0  0  8]]\n"
          ]
        }
      ]
    },
    {
      "cell_type": "code",
      "source": [
        "fp = cmt_SVM.sum(axis=0) - np.diag(cm)  \n",
        "fn = cmt_SVM.sum(axis=1) - np.diag(cm)\n",
        "tp = np.diag(cmt_SVM)\n",
        "tn = cmt_SVM.sum() - (fp + fn + tp)\n",
        "\n",
        "print(fp,fn,tp,tn)"
      ],
      "metadata": {
        "colab": {
          "base_uri": "https://localhost:8080/"
        },
        "id": "5PfLnzTMAYDX",
        "outputId": "ead460fb-5c51-4419-e929-c2c86c3cd89d"
      },
      "execution_count": null,
      "outputs": [
        {
          "output_type": "stream",
          "name": "stdout",
          "text": [
            "[1 5 2 0 0] [4 1 1 2 0] [ 3  7 12 13  8] [43 38 36 36 43]\n"
          ]
        }
      ]
    },
    {
      "cell_type": "code",
      "source": [
        "idx = 0\n",
        "print( \"TP rate for Class 1:\",tp[idx])\n",
        "print( \"TN rate for Class 1:\",tn[idx])\n",
        "print( \"FP rate for Class 1:\",fp[idx])\n",
        "print( \"FN rate for Class 1:\",fn[idx])"
      ],
      "metadata": {
        "colab": {
          "base_uri": "https://localhost:8080/"
        },
        "id": "_r_dwkVpAh2k",
        "outputId": "abb0813d-f4c7-477b-b428-f0134441f855"
      },
      "execution_count": null,
      "outputs": [
        {
          "output_type": "stream",
          "name": "stdout",
          "text": [
            "TP rate for Class 1: 3\n",
            "TN rate for Class 1: 43\n",
            "FP rate for Class 1: 1\n",
            "FN rate for Class 1: 4\n"
          ]
        }
      ]
    },
    {
      "cell_type": "code",
      "source": [
        "idx = 1\n",
        "print( \"TP rate for Class 2:\",tp[idx])\n",
        "print( \"TN rate for Class 2:\",tn[idx])\n",
        "print( \"FP rate for Class 2:\",fp[idx])\n",
        "print( \"FN rate for Class 2:\",fn[idx])"
      ],
      "metadata": {
        "colab": {
          "base_uri": "https://localhost:8080/"
        },
        "id": "-MCIZEI8AiIA",
        "outputId": "47488044-b02b-42c3-a322-7634fab7c3fa"
      },
      "execution_count": null,
      "outputs": [
        {
          "output_type": "stream",
          "name": "stdout",
          "text": [
            "TP rate for Class 2: 7\n",
            "TN rate for Class 2: 38\n",
            "FP rate for Class 2: 5\n",
            "FN rate for Class 2: 1\n"
          ]
        }
      ]
    },
    {
      "cell_type": "code",
      "source": [
        "idx = 2\n",
        "print( \"TP rate for Class 3:\",tp[idx])\n",
        "print( \"TN rate for Class 3:\",tn[idx])\n",
        "print( \"FP rate for Class 3:\",fp[idx])\n",
        "print( \"FN rate for Class 3:\",fn[idx])"
      ],
      "metadata": {
        "colab": {
          "base_uri": "https://localhost:8080/"
        },
        "id": "tl8-XjHmAjxJ",
        "outputId": "e10e0464-0e99-41b3-c18b-ab089c362b5a"
      },
      "execution_count": null,
      "outputs": [
        {
          "output_type": "stream",
          "name": "stdout",
          "text": [
            "TP rate for Class 3: 12\n",
            "TN rate for Class 3: 36\n",
            "FP rate for Class 3: 2\n",
            "FN rate for Class 3: 1\n"
          ]
        }
      ]
    },
    {
      "cell_type": "code",
      "source": [
        "idx = 3\n",
        "print( \"TP rate for Class 4:\",tp[idx])\n",
        "print( \"TN rate for Class 4:\",tn[idx])\n",
        "print( \"FP rate for Class 4:\",fp[idx])\n",
        "print( \"FN rate for Class 4:\",fn[idx])"
      ],
      "metadata": {
        "colab": {
          "base_uri": "https://localhost:8080/"
        },
        "id": "tgc73KfPAnZm",
        "outputId": "fc9dff48-1beb-4a7e-9031-73f7a4ea883d"
      },
      "execution_count": null,
      "outputs": [
        {
          "output_type": "stream",
          "name": "stdout",
          "text": [
            "TP rate for Class 4: 13\n",
            "TN rate for Class 4: 36\n",
            "FP rate for Class 4: 0\n",
            "FN rate for Class 4: 2\n"
          ]
        }
      ]
    },
    {
      "cell_type": "code",
      "source": [
        "idx = 4\n",
        "print( \"TP rate for Class 5:\",tp[idx])\n",
        "print( \"TN rate for Class 5:\",tn[idx])\n",
        "print( \"FP rate for Class 5:\",fp[idx])\n",
        "print( \"FN rate for Class 5:\",fn[idx])"
      ],
      "metadata": {
        "colab": {
          "base_uri": "https://localhost:8080/"
        },
        "id": "hEpaLnhvAnq5",
        "outputId": "45f03394-ffc0-40a5-887d-a42a4ff4c20e"
      },
      "execution_count": null,
      "outputs": [
        {
          "output_type": "stream",
          "name": "stdout",
          "text": [
            "TP rate for Class 5: 8\n",
            "TN rate for Class 5: 43\n",
            "FP rate for Class 5: 0\n",
            "FN rate for Class 5: 0\n"
          ]
        }
      ]
    },
    {
      "cell_type": "code",
      "source": [
        "acc = np.diag(cm).sum() / cm.sum()\n",
        "print(acc)"
      ],
      "metadata": {
        "colab": {
          "base_uri": "https://localhost:8080/"
        },
        "id": "ZL-VUczjA1KA",
        "outputId": "8ad7b201-54db-42de-c05b-9faa41445874"
      },
      "execution_count": null,
      "outputs": [
        {
          "output_type": "stream",
          "name": "stdout",
          "text": [
            "0.8431372549019608\n"
          ]
        }
      ]
    }
  ],
  "metadata": {
    "colab": {
      "provenance": []
    },
    "kernelspec": {
      "display_name": "Python 3",
      "name": "python3"
    },
    "language_info": {
      "name": "python"
    }
  },
  "nbformat": 4,
  "nbformat_minor": 0
}
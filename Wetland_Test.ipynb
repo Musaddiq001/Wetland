{
  "cells": [
    {
      "cell_type": "code",
      "execution_count": null,
      "metadata": {
        "id": "AKrY1dOvutit"
      },
      "outputs": [],
      "source": [
        "import numpy as np\n",
        "import matplotlib.pyplot as plt\n",
        "import pandas as pd\n",
        "import seaborn as sns\n",
        "from sklearn.metrics import classification_report\n",
        "from sklearn.metrics import accuracy_score\n",
        "from sklearn.metrics import roc_curve, roc_auc_score\n",
        "from sklearn.multiclass import OneVsRestClassifier\n",
        "from sklearn.metrics import roc_curve, auc"
      ]
    },
    {
      "cell_type": "code",
      "execution_count": null,
      "metadata": {
        "id": "43Sy41rIva3a"
      },
      "outputs": [],
      "source": [
        "dataset = pd.read_csv('/content/drive/MyDrive/Wetland/Wetland Final Dataset/W3.csv')"
      ]
    },
    {
      "cell_type": "code",
      "execution_count": null,
      "metadata": {
        "colab": {
          "base_uri": "https://localhost:8080/",
          "height": 424
        },
        "id": "Sn76_T3iHWIT",
        "outputId": "5d9988e3-830f-48c1-c3f5-f2768a9e636b"
      },
      "outputs": [
        {
          "output_type": "execute_result",
          "data": {
            "text/plain": [
              "       Sl  VZ  GW         M         R         C         B   E          BA  \\\n",
              "0      63   1   6  0.029163  0.000000  0.000888  0.014613   7   60.000000   \n",
              "1      72   1   6  0.024442  0.000000  0.001600  0.014356  10  108.166542   \n",
              "2      80   1   6  0.023546  0.000868  0.000888  0.015250   7   30.000000   \n",
              "3      96   1   2  0.025498  0.000614  0.004187  0.014212   6   94.868332   \n",
              "4     106   1   6  0.022431  0.001840  0.003106  0.017491   5  120.000000   \n",
              "..    ...  ..  ..       ...       ...       ...       ...  ..         ...   \n",
              "921  1301   5   7  0.049883  0.018688  0.005769  0.041172   2  308.868897   \n",
              "922  1863   5   2  0.024774  0.019755  0.003994  0.036657   2  450.998901   \n",
              "923  2036   5   7  0.042905  0.017567  0.005786  0.047425   1  424.264069   \n",
              "924  2037   5   7  0.041696  0.018053  0.006672  0.047549   1  417.851654   \n",
              "925  2038   5   7  0.040895  0.018913  0.007557  0.047653   1  394.588379   \n",
              "\n",
              "              A        TWI       TPI        CR          AS  SO  L  \n",
              "0      0.000000   7.252788  0.222222  0.111111  281.309936   2  3  \n",
              "1      0.000000   7.811803 -0.666667 -0.333333  300.963745   2  4  \n",
              "2     30.000000  10.674983 -0.666667 -0.222222  341.565064   2  4  \n",
              "3     67.082039   7.436651  0.555555  0.222222  315.000000   2  5  \n",
              "4    174.928558  12.749857  0.000000  0.000000  315.000000   2  4  \n",
              "..          ...        ...       ...       ...         ...  .. ..  \n",
              "921  349.857117  15.384127  0.000000  0.000000   -1.000000   2  4  \n",
              "922  335.410187  13.253391  0.000000  0.000000   -1.000000   2  4  \n",
              "923  324.499603  13.567049  0.000000  0.000000   -1.000000   2  6  \n",
              "924  276.586334  13.710150  0.000000  0.000000   -1.000000   2  6  \n",
              "925  270.000000  13.805460  0.000000  0.000000   -1.000000   2  6  \n",
              "\n",
              "[926 rows x 16 columns]"
            ],
            "text/html": [
              "\n",
              "  <div id=\"df-98a09c93-58b2-4444-b852-9314f73a3aa5\">\n",
              "    <div class=\"colab-df-container\">\n",
              "      <div>\n",
              "<style scoped>\n",
              "    .dataframe tbody tr th:only-of-type {\n",
              "        vertical-align: middle;\n",
              "    }\n",
              "\n",
              "    .dataframe tbody tr th {\n",
              "        vertical-align: top;\n",
              "    }\n",
              "\n",
              "    .dataframe thead th {\n",
              "        text-align: right;\n",
              "    }\n",
              "</style>\n",
              "<table border=\"1\" class=\"dataframe\">\n",
              "  <thead>\n",
              "    <tr style=\"text-align: right;\">\n",
              "      <th></th>\n",
              "      <th>Sl</th>\n",
              "      <th>VZ</th>\n",
              "      <th>GW</th>\n",
              "      <th>M</th>\n",
              "      <th>R</th>\n",
              "      <th>C</th>\n",
              "      <th>B</th>\n",
              "      <th>E</th>\n",
              "      <th>BA</th>\n",
              "      <th>A</th>\n",
              "      <th>TWI</th>\n",
              "      <th>TPI</th>\n",
              "      <th>CR</th>\n",
              "      <th>AS</th>\n",
              "      <th>SO</th>\n",
              "      <th>L</th>\n",
              "    </tr>\n",
              "  </thead>\n",
              "  <tbody>\n",
              "    <tr>\n",
              "      <th>0</th>\n",
              "      <td>63</td>\n",
              "      <td>1</td>\n",
              "      <td>6</td>\n",
              "      <td>0.029163</td>\n",
              "      <td>0.000000</td>\n",
              "      <td>0.000888</td>\n",
              "      <td>0.014613</td>\n",
              "      <td>7</td>\n",
              "      <td>60.000000</td>\n",
              "      <td>0.000000</td>\n",
              "      <td>7.252788</td>\n",
              "      <td>0.222222</td>\n",
              "      <td>0.111111</td>\n",
              "      <td>281.309936</td>\n",
              "      <td>2</td>\n",
              "      <td>3</td>\n",
              "    </tr>\n",
              "    <tr>\n",
              "      <th>1</th>\n",
              "      <td>72</td>\n",
              "      <td>1</td>\n",
              "      <td>6</td>\n",
              "      <td>0.024442</td>\n",
              "      <td>0.000000</td>\n",
              "      <td>0.001600</td>\n",
              "      <td>0.014356</td>\n",
              "      <td>10</td>\n",
              "      <td>108.166542</td>\n",
              "      <td>0.000000</td>\n",
              "      <td>7.811803</td>\n",
              "      <td>-0.666667</td>\n",
              "      <td>-0.333333</td>\n",
              "      <td>300.963745</td>\n",
              "      <td>2</td>\n",
              "      <td>4</td>\n",
              "    </tr>\n",
              "    <tr>\n",
              "      <th>2</th>\n",
              "      <td>80</td>\n",
              "      <td>1</td>\n",
              "      <td>6</td>\n",
              "      <td>0.023546</td>\n",
              "      <td>0.000868</td>\n",
              "      <td>0.000888</td>\n",
              "      <td>0.015250</td>\n",
              "      <td>7</td>\n",
              "      <td>30.000000</td>\n",
              "      <td>30.000000</td>\n",
              "      <td>10.674983</td>\n",
              "      <td>-0.666667</td>\n",
              "      <td>-0.222222</td>\n",
              "      <td>341.565064</td>\n",
              "      <td>2</td>\n",
              "      <td>4</td>\n",
              "    </tr>\n",
              "    <tr>\n",
              "      <th>3</th>\n",
              "      <td>96</td>\n",
              "      <td>1</td>\n",
              "      <td>2</td>\n",
              "      <td>0.025498</td>\n",
              "      <td>0.000614</td>\n",
              "      <td>0.004187</td>\n",
              "      <td>0.014212</td>\n",
              "      <td>6</td>\n",
              "      <td>94.868332</td>\n",
              "      <td>67.082039</td>\n",
              "      <td>7.436651</td>\n",
              "      <td>0.555555</td>\n",
              "      <td>0.222222</td>\n",
              "      <td>315.000000</td>\n",
              "      <td>2</td>\n",
              "      <td>5</td>\n",
              "    </tr>\n",
              "    <tr>\n",
              "      <th>4</th>\n",
              "      <td>106</td>\n",
              "      <td>1</td>\n",
              "      <td>6</td>\n",
              "      <td>0.022431</td>\n",
              "      <td>0.001840</td>\n",
              "      <td>0.003106</td>\n",
              "      <td>0.017491</td>\n",
              "      <td>5</td>\n",
              "      <td>120.000000</td>\n",
              "      <td>174.928558</td>\n",
              "      <td>12.749857</td>\n",
              "      <td>0.000000</td>\n",
              "      <td>0.000000</td>\n",
              "      <td>315.000000</td>\n",
              "      <td>2</td>\n",
              "      <td>4</td>\n",
              "    </tr>\n",
              "    <tr>\n",
              "      <th>...</th>\n",
              "      <td>...</td>\n",
              "      <td>...</td>\n",
              "      <td>...</td>\n",
              "      <td>...</td>\n",
              "      <td>...</td>\n",
              "      <td>...</td>\n",
              "      <td>...</td>\n",
              "      <td>...</td>\n",
              "      <td>...</td>\n",
              "      <td>...</td>\n",
              "      <td>...</td>\n",
              "      <td>...</td>\n",
              "      <td>...</td>\n",
              "      <td>...</td>\n",
              "      <td>...</td>\n",
              "      <td>...</td>\n",
              "    </tr>\n",
              "    <tr>\n",
              "      <th>921</th>\n",
              "      <td>1301</td>\n",
              "      <td>5</td>\n",
              "      <td>7</td>\n",
              "      <td>0.049883</td>\n",
              "      <td>0.018688</td>\n",
              "      <td>0.005769</td>\n",
              "      <td>0.041172</td>\n",
              "      <td>2</td>\n",
              "      <td>308.868897</td>\n",
              "      <td>349.857117</td>\n",
              "      <td>15.384127</td>\n",
              "      <td>0.000000</td>\n",
              "      <td>0.000000</td>\n",
              "      <td>-1.000000</td>\n",
              "      <td>2</td>\n",
              "      <td>4</td>\n",
              "    </tr>\n",
              "    <tr>\n",
              "      <th>922</th>\n",
              "      <td>1863</td>\n",
              "      <td>5</td>\n",
              "      <td>2</td>\n",
              "      <td>0.024774</td>\n",
              "      <td>0.019755</td>\n",
              "      <td>0.003994</td>\n",
              "      <td>0.036657</td>\n",
              "      <td>2</td>\n",
              "      <td>450.998901</td>\n",
              "      <td>335.410187</td>\n",
              "      <td>13.253391</td>\n",
              "      <td>0.000000</td>\n",
              "      <td>0.000000</td>\n",
              "      <td>-1.000000</td>\n",
              "      <td>2</td>\n",
              "      <td>4</td>\n",
              "    </tr>\n",
              "    <tr>\n",
              "      <th>923</th>\n",
              "      <td>2036</td>\n",
              "      <td>5</td>\n",
              "      <td>7</td>\n",
              "      <td>0.042905</td>\n",
              "      <td>0.017567</td>\n",
              "      <td>0.005786</td>\n",
              "      <td>0.047425</td>\n",
              "      <td>1</td>\n",
              "      <td>424.264069</td>\n",
              "      <td>324.499603</td>\n",
              "      <td>13.567049</td>\n",
              "      <td>0.000000</td>\n",
              "      <td>0.000000</td>\n",
              "      <td>-1.000000</td>\n",
              "      <td>2</td>\n",
              "      <td>6</td>\n",
              "    </tr>\n",
              "    <tr>\n",
              "      <th>924</th>\n",
              "      <td>2037</td>\n",
              "      <td>5</td>\n",
              "      <td>7</td>\n",
              "      <td>0.041696</td>\n",
              "      <td>0.018053</td>\n",
              "      <td>0.006672</td>\n",
              "      <td>0.047549</td>\n",
              "      <td>1</td>\n",
              "      <td>417.851654</td>\n",
              "      <td>276.586334</td>\n",
              "      <td>13.710150</td>\n",
              "      <td>0.000000</td>\n",
              "      <td>0.000000</td>\n",
              "      <td>-1.000000</td>\n",
              "      <td>2</td>\n",
              "      <td>6</td>\n",
              "    </tr>\n",
              "    <tr>\n",
              "      <th>925</th>\n",
              "      <td>2038</td>\n",
              "      <td>5</td>\n",
              "      <td>7</td>\n",
              "      <td>0.040895</td>\n",
              "      <td>0.018913</td>\n",
              "      <td>0.007557</td>\n",
              "      <td>0.047653</td>\n",
              "      <td>1</td>\n",
              "      <td>394.588379</td>\n",
              "      <td>270.000000</td>\n",
              "      <td>13.805460</td>\n",
              "      <td>0.000000</td>\n",
              "      <td>0.000000</td>\n",
              "      <td>-1.000000</td>\n",
              "      <td>2</td>\n",
              "      <td>6</td>\n",
              "    </tr>\n",
              "  </tbody>\n",
              "</table>\n",
              "<p>926 rows × 16 columns</p>\n",
              "</div>\n",
              "      <button class=\"colab-df-convert\" onclick=\"convertToInteractive('df-98a09c93-58b2-4444-b852-9314f73a3aa5')\"\n",
              "              title=\"Convert this dataframe to an interactive table.\"\n",
              "              style=\"display:none;\">\n",
              "        \n",
              "  <svg xmlns=\"http://www.w3.org/2000/svg\" height=\"24px\"viewBox=\"0 0 24 24\"\n",
              "       width=\"24px\">\n",
              "    <path d=\"M0 0h24v24H0V0z\" fill=\"none\"/>\n",
              "    <path d=\"M18.56 5.44l.94 2.06.94-2.06 2.06-.94-2.06-.94-.94-2.06-.94 2.06-2.06.94zm-11 1L8.5 8.5l.94-2.06 2.06-.94-2.06-.94L8.5 2.5l-.94 2.06-2.06.94zm10 10l.94 2.06.94-2.06 2.06-.94-2.06-.94-.94-2.06-.94 2.06-2.06.94z\"/><path d=\"M17.41 7.96l-1.37-1.37c-.4-.4-.92-.59-1.43-.59-.52 0-1.04.2-1.43.59L10.3 9.45l-7.72 7.72c-.78.78-.78 2.05 0 2.83L4 21.41c.39.39.9.59 1.41.59.51 0 1.02-.2 1.41-.59l7.78-7.78 2.81-2.81c.8-.78.8-2.07 0-2.86zM5.41 20L4 18.59l7.72-7.72 1.47 1.35L5.41 20z\"/>\n",
              "  </svg>\n",
              "      </button>\n",
              "      \n",
              "  <style>\n",
              "    .colab-df-container {\n",
              "      display:flex;\n",
              "      flex-wrap:wrap;\n",
              "      gap: 12px;\n",
              "    }\n",
              "\n",
              "    .colab-df-convert {\n",
              "      background-color: #E8F0FE;\n",
              "      border: none;\n",
              "      border-radius: 50%;\n",
              "      cursor: pointer;\n",
              "      display: none;\n",
              "      fill: #1967D2;\n",
              "      height: 32px;\n",
              "      padding: 0 0 0 0;\n",
              "      width: 32px;\n",
              "    }\n",
              "\n",
              "    .colab-df-convert:hover {\n",
              "      background-color: #E2EBFA;\n",
              "      box-shadow: 0px 1px 2px rgba(60, 64, 67, 0.3), 0px 1px 3px 1px rgba(60, 64, 67, 0.15);\n",
              "      fill: #174EA6;\n",
              "    }\n",
              "\n",
              "    [theme=dark] .colab-df-convert {\n",
              "      background-color: #3B4455;\n",
              "      fill: #D2E3FC;\n",
              "    }\n",
              "\n",
              "    [theme=dark] .colab-df-convert:hover {\n",
              "      background-color: #434B5C;\n",
              "      box-shadow: 0px 1px 3px 1px rgba(0, 0, 0, 0.15);\n",
              "      filter: drop-shadow(0px 1px 2px rgba(0, 0, 0, 0.3));\n",
              "      fill: #FFFFFF;\n",
              "    }\n",
              "  </style>\n",
              "\n",
              "      <script>\n",
              "        const buttonEl =\n",
              "          document.querySelector('#df-98a09c93-58b2-4444-b852-9314f73a3aa5 button.colab-df-convert');\n",
              "        buttonEl.style.display =\n",
              "          google.colab.kernel.accessAllowed ? 'block' : 'none';\n",
              "\n",
              "        async function convertToInteractive(key) {\n",
              "          const element = document.querySelector('#df-98a09c93-58b2-4444-b852-9314f73a3aa5');\n",
              "          const dataTable =\n",
              "            await google.colab.kernel.invokeFunction('convertToInteractive',\n",
              "                                                     [key], {});\n",
              "          if (!dataTable) return;\n",
              "\n",
              "          const docLinkHtml = 'Like what you see? Visit the ' +\n",
              "            '<a target=\"_blank\" href=https://colab.research.google.com/notebooks/data_table.ipynb>data table notebook</a>'\n",
              "            + ' to learn more about interactive tables.';\n",
              "          element.innerHTML = '';\n",
              "          dataTable['output_type'] = 'display_data';\n",
              "          await google.colab.output.renderOutput(dataTable, element);\n",
              "          const docLink = document.createElement('div');\n",
              "          docLink.innerHTML = docLinkHtml;\n",
              "          element.appendChild(docLink);\n",
              "        }\n",
              "      </script>\n",
              "    </div>\n",
              "  </div>\n",
              "  "
            ]
          },
          "metadata": {},
          "execution_count": 132
        }
      ],
      "source": [
        "dataset.head(5000)"
      ]
    },
    {
      "cell_type": "code",
      "execution_count": null,
      "metadata": {
        "id": "qNHn8Ozq7_UJ"
      },
      "outputs": [],
      "source": [
        "#VH = len(dataset[dataset['VZ'] == 1])"
      ]
    },
    {
      "cell_type": "code",
      "execution_count": null,
      "metadata": {
        "id": "NSPVPQJmDcgT"
      },
      "outputs": [],
      "source": [
        "#H = len(dataset[dataset['VZ'] == 2])"
      ]
    },
    {
      "cell_type": "code",
      "execution_count": null,
      "metadata": {
        "id": "MFQPHrPcDfeD"
      },
      "outputs": [],
      "source": [
        "#M = len(dataset[dataset['VZ'] == 3])"
      ]
    },
    {
      "cell_type": "code",
      "execution_count": null,
      "metadata": {
        "id": "e8lAGAeKDniS"
      },
      "outputs": [],
      "source": [
        "#L = len(dataset[dataset['VZ'] == 4])"
      ]
    },
    {
      "cell_type": "code",
      "execution_count": null,
      "metadata": {
        "id": "FA8YbpbjDqlj"
      },
      "outputs": [],
      "source": [
        "#VL = len(dataset[dataset['VZ'] == 5])"
      ]
    },
    {
      "cell_type": "code",
      "execution_count": null,
      "metadata": {
        "id": "wTrFVOI0E5Hc"
      },
      "outputs": [],
      "source": [
        "#VH_indices = df[df.Class == 0].index"
      ]
    },
    {
      "cell_type": "code",
      "execution_count": null,
      "metadata": {
        "id": "R_FkhRVzETMw"
      },
      "outputs": [],
      "source": [
        "#random_indices = np.random.choice(VH,H,M,L,VL, replace=False)"
      ]
    },
    {
      "cell_type": "code",
      "execution_count": null,
      "metadata": {
        "colab": {
          "base_uri": "https://localhost:8080/",
          "height": 356
        },
        "id": "52kWRBeW22MJ",
        "outputId": "1c0e228a-5013-49c7-ec3d-3c54235f02b4"
      },
      "outputs": [
        {
          "output_type": "stream",
          "name": "stderr",
          "text": [
            "/usr/local/lib/python3.7/dist-packages/matplotlib/cbook/__init__.py:1376: VisibleDeprecationWarning: Creating an ndarray from ragged nested sequences (which is a list-or-tuple of lists-or-tuples-or ndarrays with different lengths or shapes) is deprecated. If you meant to do this, you must specify 'dtype=object' when creating the ndarray.\n",
            "  X = np.atleast_1d(X.T if isinstance(X, np.ndarray) else np.asarray(X))\n"
          ]
        },
        {
          "output_type": "display_data",
          "data": {
            "text/plain": [
              "<Figure size 432x288 with 1 Axes>"
            ],
            "image/png": "[encoded data removed]"
          },
          "metadata": {
            "needs_background": "light"
          }
        }
      ],
      "source": [
        "_ = dataset.boxplot('R', by='VZ')"
      ]
    },
    {
      "cell_type": "code",
      "execution_count": null,
      "metadata": {
        "id": "lO74nTGu2uP6"
      },
      "outputs": [],
      "source": [
        "observation_size = dataset.shape[0] "
      ]
    },
    {
      "cell_type": "code",
      "execution_count": null,
      "metadata": {
        "colab": {
          "base_uri": "https://localhost:8080/",
          "height": 206
        },
        "id": "QxE00jqbvsl7",
        "outputId": "ed25a372-569c-4a9d-f247-bd05bce55a4d"
      },
      "outputs": [
        {
          "output_type": "execute_result",
          "data": {
            "text/plain": [
              "    Sl  VZ  GW         M         R         C         B   E          BA  \\\n",
              "0   63   1   6  0.029163  0.000000  0.000888  0.014613   7   60.000000   \n",
              "1   72   1   6  0.024442  0.000000  0.001600  0.014356  10  108.166542   \n",
              "2   80   1   6  0.023546  0.000868  0.000888  0.015250   7   30.000000   \n",
              "3   96   1   2  0.025498  0.000614  0.004187  0.014212   6   94.868332   \n",
              "4  106   1   6  0.022431  0.001840  0.003106  0.017491   5  120.000000   \n",
              "\n",
              "            A        TWI       TPI        CR          AS  SO  L  \n",
              "0    0.000000   7.252788  0.222222  0.111111  281.309936   2  3  \n",
              "1    0.000000   7.811803 -0.666667 -0.333333  300.963745   2  4  \n",
              "2   30.000000  10.674983 -0.666667 -0.222222  341.565064   2  4  \n",
              "3   67.082039   7.436651  0.555555  0.222222  315.000000   2  5  \n",
              "4  174.928558  12.749857  0.000000  0.000000  315.000000   2  4  "
            ],
            "text/html": [
              "\n",
              "  <div id=\"df-1d724e37-fe5c-4036-8337-7973fadb72fb\">\n",
              "    <div class=\"colab-df-container\">\n",
              "      <div>\n",
              "<style scoped>\n",
              "    .dataframe tbody tr th:only-of-type {\n",
              "        vertical-align: middle;\n",
              "    }\n",
              "\n",
              "    .dataframe tbody tr th {\n",
              "        vertical-align: top;\n",
              "    }\n",
              "\n",
              "    .dataframe thead th {\n",
              "        text-align: right;\n",
              "    }\n",
              "</style>\n",
              "<table border=\"1\" class=\"dataframe\">\n",
              "  <thead>\n",
              "    <tr style=\"text-align: right;\">\n",
              "      <th></th>\n",
              "      <th>Sl</th>\n",
              "      <th>VZ</th>\n",
              "      <th>GW</th>\n",
              "      <th>M</th>\n",
              "      <th>R</th>\n",
              "      <th>C</th>\n",
              "      <th>B</th>\n",
              "      <th>E</th>\n",
              "      <th>BA</th>\n",
              "      <th>A</th>\n",
              "      <th>TWI</th>\n",
              "      <th>TPI</th>\n",
              "      <th>CR</th>\n",
              "      <th>AS</th>\n",
              "      <th>SO</th>\n",
              "      <th>L</th>\n",
              "    </tr>\n",
              "  </thead>\n",
              "  <tbody>\n",
              "    <tr>\n",
              "      <th>0</th>\n",
              "      <td>63</td>\n",
              "      <td>1</td>\n",
              "      <td>6</td>\n",
              "      <td>0.029163</td>\n",
              "      <td>0.000000</td>\n",
              "      <td>0.000888</td>\n",
              "      <td>0.014613</td>\n",
              "      <td>7</td>\n",
              "      <td>60.000000</td>\n",
              "      <td>0.000000</td>\n",
              "      <td>7.252788</td>\n",
              "      <td>0.222222</td>\n",
              "      <td>0.111111</td>\n",
              "      <td>281.309936</td>\n",
              "      <td>2</td>\n",
              "      <td>3</td>\n",
              "    </tr>\n",
              "    <tr>\n",
              "      <th>1</th>\n",
              "      <td>72</td>\n",
              "      <td>1</td>\n",
              "      <td>6</td>\n",
              "      <td>0.024442</td>\n",
              "      <td>0.000000</td>\n",
              "      <td>0.001600</td>\n",
              "      <td>0.014356</td>\n",
              "      <td>10</td>\n",
              "      <td>108.166542</td>\n",
              "      <td>0.000000</td>\n",
              "      <td>7.811803</td>\n",
              "      <td>-0.666667</td>\n",
              "      <td>-0.333333</td>\n",
              "      <td>300.963745</td>\n",
              "      <td>2</td>\n",
              "      <td>4</td>\n",
              "    </tr>\n",
              "    <tr>\n",
              "      <th>2</th>\n",
              "      <td>80</td>\n",
              "      <td>1</td>\n",
              "      <td>6</td>\n",
              "      <td>0.023546</td>\n",
              "      <td>0.000868</td>\n",
              "      <td>0.000888</td>\n",
              "      <td>0.015250</td>\n",
              "      <td>7</td>\n",
              "      <td>30.000000</td>\n",
              "      <td>30.000000</td>\n",
              "      <td>10.674983</td>\n",
              "      <td>-0.666667</td>\n",
              "      <td>-0.222222</td>\n",
              "      <td>341.565064</td>\n",
              "      <td>2</td>\n",
              "      <td>4</td>\n",
              "    </tr>\n",
              "    <tr>\n",
              "      <th>3</th>\n",
              "      <td>96</td>\n",
              "      <td>1</td>\n",
              "      <td>2</td>\n",
              "      <td>0.025498</td>\n",
              "      <td>0.000614</td>\n",
              "      <td>0.004187</td>\n",
              "      <td>0.014212</td>\n",
              "      <td>6</td>\n",
              "      <td>94.868332</td>\n",
              "      <td>67.082039</td>\n",
              "      <td>7.436651</td>\n",
              "      <td>0.555555</td>\n",
              "      <td>0.222222</td>\n",
              "      <td>315.000000</td>\n",
              "      <td>2</td>\n",
              "      <td>5</td>\n",
              "    </tr>\n",
              "    <tr>\n",
              "      <th>4</th>\n",
              "      <td>106</td>\n",
              "      <td>1</td>\n",
              "      <td>6</td>\n",
              "      <td>0.022431</td>\n",
              "      <td>0.001840</td>\n",
              "      <td>0.003106</td>\n",
              "      <td>0.017491</td>\n",
              "      <td>5</td>\n",
              "      <td>120.000000</td>\n",
              "      <td>174.928558</td>\n",
              "      <td>12.749857</td>\n",
              "      <td>0.000000</td>\n",
              "      <td>0.000000</td>\n",
              "      <td>315.000000</td>\n",
              "      <td>2</td>\n",
              "      <td>4</td>\n",
              "    </tr>\n",
              "  </tbody>\n",
              "</table>\n",
              "</div>\n",
              "      <button class=\"colab-df-convert\" onclick=\"convertToInteractive('df-1d724e37-fe5c-4036-8337-7973fadb72fb')\"\n",
              "              title=\"Convert this dataframe to an interactive table.\"\n",
              "              style=\"display:none;\">\n",
              "        \n",
              "  <svg xmlns=\"http://www.w3.org/2000/svg\" height=\"24px\"viewBox=\"0 0 24 24\"\n",
              "       width=\"24px\">\n",
              "    <path d=\"M0 0h24v24H0V0z\" fill=\"none\"/>\n",
              "    <path d=\"M18.56 5.44l.94 2.06.94-2.06 2.06-.94-2.06-.94-.94-2.06-.94 2.06-2.06.94zm-11 1L8.5 8.5l.94-2.06 2.06-.94-2.06-.94L8.5 2.5l-.94 2.06-2.06.94zm10 10l.94 2.06.94-2.06 2.06-.94-2.06-.94-.94-2.06-.94 2.06-2.06.94z\"/><path d=\"M17.41 7.96l-1.37-1.37c-.4-.4-.92-.59-1.43-.59-.52 0-1.04.2-1.43.59L10.3 9.45l-7.72 7.72c-.78.78-.78 2.05 0 2.83L4 21.41c.39.39.9.59 1.41.59.51 0 1.02-.2 1.41-.59l7.78-7.78 2.81-2.81c.8-.78.8-2.07 0-2.86zM5.41 20L4 18.59l7.72-7.72 1.47 1.35L5.41 20z\"/>\n",
              "  </svg>\n",
              "      </button>\n",
              "      \n",
              "  <style>\n",
              "    .colab-df-container {\n",
              "      display:flex;\n",
              "      flex-wrap:wrap;\n",
              "      gap: 12px;\n",
              "    }\n",
              "\n",
              "    .colab-df-convert {\n",
              "      background-color: #E8F0FE;\n",
              "      border: none;\n",
              "      border-radius: 50%;\n",
              "      cursor: pointer;\n",
              "      display: none;\n",
              "      fill: #1967D2;\n",
              "      height: 32px;\n",
              "      padding: 0 0 0 0;\n",
              "      width: 32px;\n",
              "    }\n",
              "\n",
              "    .colab-df-convert:hover {\n",
              "      background-color: #E2EBFA;\n",
              "      box-shadow: 0px 1px 2px rgba(60, 64, 67, 0.3), 0px 1px 3px 1px rgba(60, 64, 67, 0.15);\n",
              "      fill: #174EA6;\n",
              "    }\n",
              "\n",
              "    [theme=dark] .colab-df-convert {\n",
              "      background-color: #3B4455;\n",
              "      fill: #D2E3FC;\n",
              "    }\n",
              "\n",
              "    [theme=dark] .colab-df-convert:hover {\n",
              "      background-color: #434B5C;\n",
              "      box-shadow: 0px 1px 3px 1px rgba(0, 0, 0, 0.15);\n",
              "      filter: drop-shadow(0px 1px 2px rgba(0, 0, 0, 0.3));\n",
              "      fill: #FFFFFF;\n",
              "    }\n",
              "  </style>\n",
              "\n",
              "      <script>\n",
              "        const buttonEl =\n",
              "          document.querySelector('#df-1d724e37-fe5c-4036-8337-7973fadb72fb button.colab-df-convert');\n",
              "        buttonEl.style.display =\n",
              "          google.colab.kernel.accessAllowed ? 'block' : 'none';\n",
              "\n",
              "        async function convertToInteractive(key) {\n",
              "          const element = document.querySelector('#df-1d724e37-fe5c-4036-8337-7973fadb72fb');\n",
              "          const dataTable =\n",
              "            await google.colab.kernel.invokeFunction('convertToInteractive',\n",
              "                                                     [key], {});\n",
              "          if (!dataTable) return;\n",
              "\n",
              "          const docLinkHtml = 'Like what you see? Visit the ' +\n",
              "            '<a target=\"_blank\" href=https://colab.research.google.com/notebooks/data_table.ipynb>data table notebook</a>'\n",
              "            + ' to learn more about interactive tables.';\n",
              "          element.innerHTML = '';\n",
              "          dataTable['output_type'] = 'display_data';\n",
              "          await google.colab.output.renderOutput(dataTable, element);\n",
              "          const docLink = document.createElement('div');\n",
              "          docLink.innerHTML = docLinkHtml;\n",
              "          element.appendChild(docLink);\n",
              "        }\n",
              "      </script>\n",
              "    </div>\n",
              "  </div>\n",
              "  "
            ]
          },
          "metadata": {},
          "execution_count": 142
        }
      ],
      "source": [
        "dataset.head()"
      ]
    },
    {
      "cell_type": "code",
      "execution_count": null,
      "metadata": {
        "colab": {
          "base_uri": "https://localhost:8080/"
        },
        "id": "DnxlRArtvv9_",
        "outputId": "28abf7c6-cd58-469f-d839-eeff23f49558"
      },
      "outputs": [
        {
          "output_type": "execute_result",
          "data": {
            "text/plain": [
              "Index(['Sl', 'VZ', 'GW', 'M', 'R', 'C', 'B', 'E', 'BA', 'A', 'TWI', 'TPI',\n",
              "       'CR', 'AS', 'SO', 'L'],\n",
              "      dtype='object')"
            ]
          },
          "metadata": {},
          "execution_count": 143
        }
      ],
      "source": [
        "dataset.columns"
      ]
    },
    {
      "cell_type": "code",
      "execution_count": null,
      "metadata": {
        "colab": {
          "base_uri": "https://localhost:8080/"
        },
        "id": "aecdSKf3vyo-",
        "outputId": "4069b170-d539-4381-b2b8-3c77f8ce7cc8"
      },
      "outputs": [
        {
          "output_type": "stream",
          "name": "stdout",
          "text": [
            "<class 'pandas.core.frame.DataFrame'>\n",
            "RangeIndex: 926 entries, 0 to 925\n",
            "Data columns (total 16 columns):\n",
            " #   Column  Non-Null Count  Dtype  \n",
            "---  ------  --------------  -----  \n",
            " 0   Sl      926 non-null    int64  \n",
            " 1   VZ      926 non-null    int64  \n",
            " 2   GW      926 non-null    int64  \n",
            " 3   M       926 non-null    float64\n",
            " 4   R       926 non-null    float64\n",
            " 5   C       926 non-null    float64\n",
            " 6   B       926 non-null    float64\n",
            " 7   E       926 non-null    int64  \n",
            " 8   BA      926 non-null    float64\n",
            " 9   A       926 non-null    float64\n",
            " 10  TWI     926 non-null    float64\n",
            " 11  TPI     926 non-null    float64\n",
            " 12  CR      926 non-null    float64\n",
            " 13  AS      926 non-null    float64\n",
            " 14  SO      926 non-null    int64  \n",
            " 15  L       926 non-null    int64  \n",
            "dtypes: float64(10), int64(6)\n",
            "memory usage: 115.9 KB\n"
          ]
        }
      ],
      "source": [
        "dataset.info()"
      ]
    },
    {
      "cell_type": "code",
      "execution_count": null,
      "metadata": {
        "colab": {
          "base_uri": "https://localhost:8080/"
        },
        "id": "b8ev8mrrv9jW",
        "outputId": "780e9136-fe57-41ee-ab97-4332ee4a7ef5"
      },
      "outputs": [
        {
          "output_type": "execute_result",
          "data": {
            "text/plain": [
              "Sl     0\n",
              "VZ     0\n",
              "GW     0\n",
              "M      0\n",
              "R      0\n",
              "C      0\n",
              "B      0\n",
              "E      0\n",
              "BA     0\n",
              "A      0\n",
              "TWI    0\n",
              "TPI    0\n",
              "CR     0\n",
              "AS     0\n",
              "SO     0\n",
              "L      0\n",
              "dtype: int64"
            ]
          },
          "metadata": {},
          "execution_count": 145
        }
      ],
      "source": [
        "dataset.isnull().sum()"
      ]
    },
    {
      "cell_type": "code",
      "execution_count": null,
      "metadata": {
        "id": "hqEHEraGv0oe"
      },
      "outputs": [],
      "source": [
        "dataset.dropna(inplace = True)"
      ]
    },
    {
      "cell_type": "code",
      "execution_count": null,
      "metadata": {
        "colab": {
          "base_uri": "https://localhost:8080/"
        },
        "id": "43hEuwYDv7A4",
        "outputId": "f3b227b5-c913-4fc0-cdb3-b456b9e62a4f"
      },
      "outputs": [
        {
          "output_type": "execute_result",
          "data": {
            "text/plain": [
              "Sl     0\n",
              "VZ     0\n",
              "GW     0\n",
              "M      0\n",
              "R      0\n",
              "C      0\n",
              "B      0\n",
              "E      0\n",
              "BA     0\n",
              "A      0\n",
              "TWI    0\n",
              "TPI    0\n",
              "CR     0\n",
              "AS     0\n",
              "SO     0\n",
              "L      0\n",
              "dtype: int64"
            ]
          },
          "metadata": {},
          "execution_count": 147
        }
      ],
      "source": [
        "dataset.isnull().sum()"
      ]
    },
    {
      "cell_type": "code",
      "execution_count": null,
      "metadata": {
        "colab": {
          "base_uri": "https://localhost:8080/"
        },
        "id": "dAa7HytAv8sW",
        "outputId": "ff0c5628-86d7-4948-86a5-f26b3089b790"
      },
      "outputs": [
        {
          "output_type": "execute_result",
          "data": {
            "text/plain": [
              "array([1, 2, 3, 4, 5])"
            ]
          },
          "metadata": {},
          "execution_count": 148
        }
      ],
      "source": [
        "dataset['VZ'].unique()"
      ]
    },
    {
      "cell_type": "code",
      "execution_count": null,
      "metadata": {
        "colab": {
          "base_uri": "https://localhost:8080/"
        },
        "id": "58N1EcX7wSan",
        "outputId": "cef6279d-331f-4b3e-c964-043f1c01751a"
      },
      "outputs": [
        {
          "output_type": "execute_result",
          "data": {
            "text/plain": [
              "1    198\n",
              "2    189\n",
              "3    184\n",
              "5    182\n",
              "4    173\n",
              "Name: VZ, dtype: int64"
            ]
          },
          "metadata": {},
          "execution_count": 149
        }
      ],
      "source": [
        "dataset['VZ'].value_counts()"
      ]
    },
    {
      "cell_type": "code",
      "execution_count": null,
      "metadata": {
        "colab": {
          "base_uri": "https://localhost:8080/",
          "height": 279
        },
        "id": "H5GLu1QJwizf",
        "outputId": "a972c4bd-3343-428d-ecb1-84bafb9f7a3b"
      },
      "outputs": [
        {
          "output_type": "execute_result",
          "data": {
            "text/plain": [
              "<matplotlib.axes._subplots.AxesSubplot at 0x7f7e7ddc8f10>"
            ]
          },
          "metadata": {},
          "execution_count": 150
        },
        {
          "output_type": "display_data",
          "data": {
            "text/plain": [
              "<Figure size 432x288 with 1 Axes>"
            ],
            "image/png": "[encoded data removed]"
          },
          "metadata": {
            "needs_background": "light"
          }
        }
      ],
      "source": [
        "dataset['VZ'].value_counts().plot.bar()"
      ]
    },
    {
      "cell_type": "code",
      "execution_count": null,
      "metadata": {
        "colab": {
          "base_uri": "https://localhost:8080/",
          "height": 595
        },
        "id": "pcg6k9_bwgOS",
        "outputId": "5de0ae89-af8a-4b01-a995-d52655b32656"
      },
      "outputs": [
        {
          "output_type": "execute_result",
          "data": {
            "text/plain": [
              "           Sl        VZ        GW         M         R         C         B  \\\n",
              "Sl   1.000000 -0.436778  0.275720 -0.291189 -0.364601 -0.419221 -0.206426   \n",
              "VZ  -0.436778  1.000000 -0.134953  0.588496  0.563009  0.336780  0.377477   \n",
              "GW   0.275720 -0.134953  1.000000  0.066686 -0.270603 -0.164886  0.051966   \n",
              "M   -0.291189  0.588496  0.066686  1.000000  0.388859  0.232716  0.444368   \n",
              "R   -0.364601  0.563009 -0.270603  0.388859  1.000000  0.119507  0.284671   \n",
              "C   -0.419221  0.336780 -0.164886  0.232716  0.119507  1.000000 -0.044334   \n",
              "B   -0.206426  0.377477  0.051966  0.444368  0.284671 -0.044334  1.000000   \n",
              "E    0.178042 -0.486794  0.177053 -0.437845 -0.367127 -0.246692 -0.505860   \n",
              "BA  -0.325673  0.886721 -0.115399  0.493735  0.483599  0.262246  0.248741   \n",
              "A   -0.503400  0.888748 -0.201237  0.507744  0.542539  0.421138  0.228909   \n",
              "TWI -0.286379  0.545853 -0.120539  0.488108  0.406264  0.256956  0.339831   \n",
              "TPI -0.021043  0.074096 -0.044001  0.072015  0.081905  0.040226  0.024330   \n",
              "CR  -0.022629  0.046839  0.012035  0.026730  0.071349  0.020915  0.013037   \n",
              "AS   0.376689 -0.702357  0.225615 -0.538966 -0.526499 -0.303335 -0.439078   \n",
              "SO   0.187120  0.032162  0.082072 -0.005999  0.045495 -0.298323  0.155780   \n",
              "L   -0.048237  0.110637 -0.030267  0.250239  0.259227  0.025401  0.340184   \n",
              "\n",
              "            E        BA         A       TWI       TPI        CR        AS  \\\n",
              "Sl   0.178042 -0.325673 -0.503400 -0.286379 -0.021043 -0.022629  0.376689   \n",
              "VZ  -0.486794  0.886721  0.888748  0.545853  0.074096  0.046839 -0.702357   \n",
              "GW   0.177053 -0.115399 -0.201237 -0.120539 -0.044001  0.012035  0.225615   \n",
              "M   -0.437845  0.493735  0.507744  0.488108  0.072015  0.026730 -0.538966   \n",
              "R   -0.367127  0.483599  0.542539  0.406264  0.081905  0.071349 -0.526499   \n",
              "C   -0.246692  0.262246  0.421138  0.256956  0.040226  0.020915 -0.303335   \n",
              "B   -0.505860  0.248741  0.228909  0.339831  0.024330  0.013037 -0.439078   \n",
              "E    1.000000 -0.379472 -0.414555 -0.607747 -0.023410  0.005758  0.674385   \n",
              "BA  -0.379472  1.000000  0.885263  0.440151  0.057131  0.033326 -0.539473   \n",
              "A   -0.414555  0.885263  1.000000  0.471948  0.054008  0.036393 -0.601274   \n",
              "TWI -0.607747  0.440151  0.471948  1.000000 -0.119314 -0.139280 -0.660794   \n",
              "TPI -0.023410  0.057131  0.054008 -0.119314  1.000000  0.753271 -0.118757   \n",
              "CR   0.005758  0.033326  0.036393 -0.139280  0.753271  1.000000 -0.081749   \n",
              "AS   0.674385 -0.539473 -0.601274 -0.660794 -0.118757 -0.081749  1.000000   \n",
              "SO   0.001891  0.081506  0.027110 -0.057694 -0.010532 -0.004800  0.054972   \n",
              "L   -0.248538  0.090801  0.126096  0.178065  0.004896  0.009255 -0.191075   \n",
              "\n",
              "           SO         L  \n",
              "Sl   0.187120 -0.048237  \n",
              "VZ   0.032162  0.110637  \n",
              "GW   0.082072 -0.030267  \n",
              "M   -0.005999  0.250239  \n",
              "R    0.045495  0.259227  \n",
              "C   -0.298323  0.025401  \n",
              "B    0.155780  0.340184  \n",
              "E    0.001891 -0.248538  \n",
              "BA   0.081506  0.090801  \n",
              "A    0.027110  0.126096  \n",
              "TWI -0.057694  0.178065  \n",
              "TPI -0.010532  0.004896  \n",
              "CR  -0.004800  0.009255  \n",
              "AS   0.054972 -0.191075  \n",
              "SO   1.000000  0.197365  \n",
              "L    0.197365  1.000000  "
            ],
            "text/html": [
              "\n",
              "  <div id=\"df-3fe1f6a1-e9f0-4126-a8a2-b1d5b45ebb8e\">\n",
              "    <div class=\"colab-df-container\">\n",
              "      <div>\n",
              "<style scoped>\n",
              "    .dataframe tbody tr th:only-of-type {\n",
              "        vertical-align: middle;\n",
              "    }\n",
              "\n",
              "    .dataframe tbody tr th {\n",
              "        vertical-align: top;\n",
              "    }\n",
              "\n",
              "    .dataframe thead th {\n",
              "        text-align: right;\n",
              "    }\n",
              "</style>\n",
              "<table border=\"1\" class=\"dataframe\">\n",
              "  <thead>\n",
              "    <tr style=\"text-align: right;\">\n",
              "      <th></th>\n",
              "      <th>Sl</th>\n",
              "      <th>VZ</th>\n",
              "      <th>GW</th>\n",
              "      <th>M</th>\n",
              "      <th>R</th>\n",
              "      <th>C</th>\n",
              "      <th>B</th>\n",
              "      <th>E</th>\n",
              "      <th>BA</th>\n",
              "      <th>A</th>\n",
              "      <th>TWI</th>\n",
              "      <th>TPI</th>\n",
              "      <th>CR</th>\n",
              "      <th>AS</th>\n",
              "      <th>SO</th>\n",
              "      <th>L</th>\n",
              "    </tr>\n",
              "  </thead>\n",
              "  <tbody>\n",
              "    <tr>\n",
              "      <th>Sl</th>\n",
              "      <td>1.000000</td>\n",
              "      <td>-0.436778</td>\n",
              "      <td>0.275720</td>\n",
              "      <td>-0.291189</td>\n",
              "      <td>-0.364601</td>\n",
              "      <td>-0.419221</td>\n",
              "      <td>-0.206426</td>\n",
              "      <td>0.178042</td>\n",
              "      <td>-0.325673</td>\n",
              "      <td>-0.503400</td>\n",
              "      <td>-0.286379</td>\n",
              "      <td>-0.021043</td>\n",
              "      <td>-0.022629</td>\n",
              "      <td>0.376689</td>\n",
              "      <td>0.187120</td>\n",
              "      <td>-0.048237</td>\n",
              "    </tr>\n",
              "    <tr>\n",
              "      <th>VZ</th>\n",
              "      <td>-0.436778</td>\n",
              "      <td>1.000000</td>\n",
              "      <td>-0.134953</td>\n",
              "      <td>0.588496</td>\n",
              "      <td>0.563009</td>\n",
              "      <td>0.336780</td>\n",
              "      <td>0.377477</td>\n",
              "      <td>-0.486794</td>\n",
              "      <td>0.886721</td>\n",
              "      <td>0.888748</td>\n",
              "      <td>0.545853</td>\n",
              "      <td>0.074096</td>\n",
              "      <td>0.046839</td>\n",
              "      <td>-0.702357</td>\n",
              "      <td>0.032162</td>\n",
              "      <td>0.110637</td>\n",
              "    </tr>\n",
              "    <tr>\n",
              "      <th>GW</th>\n",
              "      <td>0.275720</td>\n",
              "      <td>-0.134953</td>\n",
              "      <td>1.000000</td>\n",
              "      <td>0.066686</td>\n",
              "      <td>-0.270603</td>\n",
              "      <td>-0.164886</td>\n",
              "      <td>0.051966</td>\n",
              "      <td>0.177053</td>\n",
              "      <td>-0.115399</td>\n",
              "      <td>-0.201237</td>\n",
              "      <td>-0.120539</td>\n",
              "      <td>-0.044001</td>\n",
              "      <td>0.012035</td>\n",
              "      <td>0.225615</td>\n",
              "      <td>0.082072</td>\n",
              "      <td>-0.030267</td>\n",
              "    </tr>\n",
              "    <tr>\n",
              "      <th>M</th>\n",
              "      <td>-0.291189</td>\n",
              "      <td>0.588496</td>\n",
              "      <td>0.066686</td>\n",
              "      <td>1.000000</td>\n",
              "      <td>0.388859</td>\n",
              "      <td>0.232716</td>\n",
              "      <td>0.444368</td>\n",
              "      <td>-0.437845</td>\n",
              "      <td>0.493735</td>\n",
              "      <td>0.507744</td>\n",
              "      <td>0.488108</td>\n",
              "      <td>0.072015</td>\n",
              "      <td>0.026730</td>\n",
              "      <td>-0.538966</td>\n",
              "      <td>-0.005999</td>\n",
              "      <td>0.250239</td>\n",
              "    </tr>\n",
              "    <tr>\n",
              "      <th>R</th>\n",
              "      <td>-0.364601</td>\n",
              "      <td>0.563009</td>\n",
              "      <td>-0.270603</td>\n",
              "      <td>0.388859</td>\n",
              "      <td>1.000000</td>\n",
              "      <td>0.119507</td>\n",
              "      <td>0.284671</td>\n",
              "      <td>-0.367127</td>\n",
              "      <td>0.483599</td>\n",
              "      <td>0.542539</td>\n",
              "      <td>0.406264</td>\n",
              "      <td>0.081905</td>\n",
              "      <td>0.071349</td>\n",
              "      <td>-0.526499</td>\n",
              "      <td>0.045495</td>\n",
              "      <td>0.259227</td>\n",
              "    </tr>\n",
              "    <tr>\n",
              "      <th>C</th>\n",
              "      <td>-0.419221</td>\n",
              "      <td>0.336780</td>\n",
              "      <td>-0.164886</td>\n",
              "      <td>0.232716</td>\n",
              "      <td>0.119507</td>\n",
              "      <td>1.000000</td>\n",
              "      <td>-0.044334</td>\n",
              "      <td>-0.246692</td>\n",
              "      <td>0.262246</td>\n",
              "      <td>0.421138</td>\n",
              "      <td>0.256956</td>\n",
              "      <td>0.040226</td>\n",
              "      <td>0.020915</td>\n",
              "      <td>-0.303335</td>\n",
              "      <td>-0.298323</td>\n",
              "      <td>0.025401</td>\n",
              "    </tr>\n",
              "    <tr>\n",
              "      <th>B</th>\n",
              "      <td>-0.206426</td>\n",
              "      <td>0.377477</td>\n",
              "      <td>0.051966</td>\n",
              "      <td>0.444368</td>\n",
              "      <td>0.284671</td>\n",
              "      <td>-0.044334</td>\n",
              "      <td>1.000000</td>\n",
              "      <td>-0.505860</td>\n",
              "      <td>0.248741</td>\n",
              "      <td>0.228909</td>\n",
              "      <td>0.339831</td>\n",
              "      <td>0.024330</td>\n",
              "      <td>0.013037</td>\n",
              "      <td>-0.439078</td>\n",
              "      <td>0.155780</td>\n",
              "      <td>0.340184</td>\n",
              "    </tr>\n",
              "    <tr>\n",
              "      <th>E</th>\n",
              "      <td>0.178042</td>\n",
              "      <td>-0.486794</td>\n",
              "      <td>0.177053</td>\n",
              "      <td>-0.437845</td>\n",
              "      <td>-0.367127</td>\n",
              "      <td>-0.246692</td>\n",
              "      <td>-0.505860</td>\n",
              "      <td>1.000000</td>\n",
              "      <td>-0.379472</td>\n",
              "      <td>-0.414555</td>\n",
              "      <td>-0.607747</td>\n",
              "      <td>-0.023410</td>\n",
              "      <td>0.005758</td>\n",
              "      <td>0.674385</td>\n",
              "      <td>0.001891</td>\n",
              "      <td>-0.248538</td>\n",
              "    </tr>\n",
              "    <tr>\n",
              "      <th>BA</th>\n",
              "      <td>-0.325673</td>\n",
              "      <td>0.886721</td>\n",
              "      <td>-0.115399</td>\n",
              "      <td>0.493735</td>\n",
              "      <td>0.483599</td>\n",
              "      <td>0.262246</td>\n",
              "      <td>0.248741</td>\n",
              "      <td>-0.379472</td>\n",
              "      <td>1.000000</td>\n",
              "      <td>0.885263</td>\n",
              "      <td>0.440151</td>\n",
              "      <td>0.057131</td>\n",
              "      <td>0.033326</td>\n",
              "      <td>-0.539473</td>\n",
              "      <td>0.081506</td>\n",
              "      <td>0.090801</td>\n",
              "    </tr>\n",
              "    <tr>\n",
              "      <th>A</th>\n",
              "      <td>-0.503400</td>\n",
              "      <td>0.888748</td>\n",
              "      <td>-0.201237</td>\n",
              "      <td>0.507744</td>\n",
              "      <td>0.542539</td>\n",
              "      <td>0.421138</td>\n",
              "      <td>0.228909</td>\n",
              "      <td>-0.414555</td>\n",
              "      <td>0.885263</td>\n",
              "      <td>1.000000</td>\n",
              "      <td>0.471948</td>\n",
              "      <td>0.054008</td>\n",
              "      <td>0.036393</td>\n",
              "      <td>-0.601274</td>\n",
              "      <td>0.027110</td>\n",
              "      <td>0.126096</td>\n",
              "    </tr>\n",
              "    <tr>\n",
              "      <th>TWI</th>\n",
              "      <td>-0.286379</td>\n",
              "      <td>0.545853</td>\n",
              "      <td>-0.120539</td>\n",
              "      <td>0.488108</td>\n",
              "      <td>0.406264</td>\n",
              "      <td>0.256956</td>\n",
              "      <td>0.339831</td>\n",
              "      <td>-0.607747</td>\n",
              "      <td>0.440151</td>\n",
              "      <td>0.471948</td>\n",
              "      <td>1.000000</td>\n",
              "      <td>-0.119314</td>\n",
              "      <td>-0.139280</td>\n",
              "      <td>-0.660794</td>\n",
              "      <td>-0.057694</td>\n",
              "      <td>0.178065</td>\n",
              "    </tr>\n",
              "    <tr>\n",
              "      <th>TPI</th>\n",
              "      <td>-0.021043</td>\n",
              "      <td>0.074096</td>\n",
              "      <td>-0.044001</td>\n",
              "      <td>0.072015</td>\n",
              "      <td>0.081905</td>\n",
              "      <td>0.040226</td>\n",
              "      <td>0.024330</td>\n",
              "      <td>-0.023410</td>\n",
              "      <td>0.057131</td>\n",
              "      <td>0.054008</td>\n",
              "      <td>-0.119314</td>\n",
              "      <td>1.000000</td>\n",
              "      <td>0.753271</td>\n",
              "      <td>-0.118757</td>\n",
              "      <td>-0.010532</td>\n",
              "      <td>0.004896</td>\n",
              "    </tr>\n",
              "    <tr>\n",
              "      <th>CR</th>\n",
              "      <td>-0.022629</td>\n",
              "      <td>0.046839</td>\n",
              "      <td>0.012035</td>\n",
              "      <td>0.026730</td>\n",
              "      <td>0.071349</td>\n",
              "      <td>0.020915</td>\n",
              "      <td>0.013037</td>\n",
              "      <td>0.005758</td>\n",
              "      <td>0.033326</td>\n",
              "      <td>0.036393</td>\n",
              "      <td>-0.139280</td>\n",
              "      <td>0.753271</td>\n",
              "      <td>1.000000</td>\n",
              "      <td>-0.081749</td>\n",
              "      <td>-0.004800</td>\n",
              "      <td>0.009255</td>\n",
              "    </tr>\n",
              "    <tr>\n",
              "      <th>AS</th>\n",
              "      <td>0.376689</td>\n",
              "      <td>-0.702357</td>\n",
              "      <td>0.225615</td>\n",
              "      <td>-0.538966</td>\n",
              "      <td>-0.526499</td>\n",
              "      <td>-0.303335</td>\n",
              "      <td>-0.439078</td>\n",
              "      <td>0.674385</td>\n",
              "      <td>-0.539473</td>\n",
              "      <td>-0.601274</td>\n",
              "      <td>-0.660794</td>\n",
              "      <td>-0.118757</td>\n",
              "      <td>-0.081749</td>\n",
              "      <td>1.000000</td>\n",
              "      <td>0.054972</td>\n",
              "      <td>-0.191075</td>\n",
              "    </tr>\n",
              "    <tr>\n",
              "      <th>SO</th>\n",
              "      <td>0.187120</td>\n",
              "      <td>0.032162</td>\n",
              "      <td>0.082072</td>\n",
              "      <td>-0.005999</td>\n",
              "      <td>0.045495</td>\n",
              "      <td>-0.298323</td>\n",
              "      <td>0.155780</td>\n",
              "      <td>0.001891</td>\n",
              "      <td>0.081506</td>\n",
              "      <td>0.027110</td>\n",
              "      <td>-0.057694</td>\n",
              "      <td>-0.010532</td>\n",
              "      <td>-0.004800</td>\n",
              "      <td>0.054972</td>\n",
              "      <td>1.000000</td>\n",
              "      <td>0.197365</td>\n",
              "    </tr>\n",
              "    <tr>\n",
              "      <th>L</th>\n",
              "      <td>-0.048237</td>\n",
              "      <td>0.110637</td>\n",
              "      <td>-0.030267</td>\n",
              "      <td>0.250239</td>\n",
              "      <td>0.259227</td>\n",
              "      <td>0.025401</td>\n",
              "      <td>0.340184</td>\n",
              "      <td>-0.248538</td>\n",
              "      <td>0.090801</td>\n",
              "      <td>0.126096</td>\n",
              "      <td>0.178065</td>\n",
              "      <td>0.004896</td>\n",
              "      <td>0.009255</td>\n",
              "      <td>-0.191075</td>\n",
              "      <td>0.197365</td>\n",
              "      <td>1.000000</td>\n",
              "    </tr>\n",
              "  </tbody>\n",
              "</table>\n",
              "</div>\n",
              "      <button class=\"colab-df-convert\" onclick=\"convertToInteractive('df-3fe1f6a1-e9f0-4126-a8a2-b1d5b45ebb8e')\"\n",
              "              title=\"Convert this dataframe to an interactive table.\"\n",
              "              style=\"display:none;\">\n",
              "        \n",
              "  <svg xmlns=\"http://www.w3.org/2000/svg\" height=\"24px\"viewBox=\"0 0 24 24\"\n",
              "       width=\"24px\">\n",
              "    <path d=\"M0 0h24v24H0V0z\" fill=\"none\"/>\n",
              "    <path d=\"M18.56 5.44l.94 2.06.94-2.06 2.06-.94-2.06-.94-.94-2.06-.94 2.06-2.06.94zm-11 1L8.5 8.5l.94-2.06 2.06-.94-2.06-.94L8.5 2.5l-.94 2.06-2.06.94zm10 10l.94 2.06.94-2.06 2.06-.94-2.06-.94-.94-2.06-.94 2.06-2.06.94z\"/><path d=\"M17.41 7.96l-1.37-1.37c-.4-.4-.92-.59-1.43-.59-.52 0-1.04.2-1.43.59L10.3 9.45l-7.72 7.72c-.78.78-.78 2.05 0 2.83L4 21.41c.39.39.9.59 1.41.59.51 0 1.02-.2 1.41-.59l7.78-7.78 2.81-2.81c.8-.78.8-2.07 0-2.86zM5.41 20L4 18.59l7.72-7.72 1.47 1.35L5.41 20z\"/>\n",
              "  </svg>\n",
              "      </button>\n",
              "      \n",
              "  <style>\n",
              "    .colab-df-container {\n",
              "      display:flex;\n",
              "      flex-wrap:wrap;\n",
              "      gap: 12px;\n",
              "    }\n",
              "\n",
              "    .colab-df-convert {\n",
              "      background-color: #E8F0FE;\n",
              "      border: none;\n",
              "      border-radius: 50%;\n",
              "      cursor: pointer;\n",
              "      display: none;\n",
              "      fill: #1967D2;\n",
              "      height: 32px;\n",
              "      padding: 0 0 0 0;\n",
              "      width: 32px;\n",
              "    }\n",
              "\n",
              "    .colab-df-convert:hover {\n",
              "      background-color: #E2EBFA;\n",
              "      box-shadow: 0px 1px 2px rgba(60, 64, 67, 0.3), 0px 1px 3px 1px rgba(60, 64, 67, 0.15);\n",
              "      fill: #174EA6;\n",
              "    }\n",
              "\n",
              "    [theme=dark] .colab-df-convert {\n",
              "      background-color: #3B4455;\n",
              "      fill: #D2E3FC;\n",
              "    }\n",
              "\n",
              "    [theme=dark] .colab-df-convert:hover {\n",
              "      background-color: #434B5C;\n",
              "      box-shadow: 0px 1px 3px 1px rgba(0, 0, 0, 0.15);\n",
              "      filter: drop-shadow(0px 1px 2px rgba(0, 0, 0, 0.3));\n",
              "      fill: #FFFFFF;\n",
              "    }\n",
              "  </style>\n",
              "\n",
              "      <script>\n",
              "        const buttonEl =\n",
              "          document.querySelector('#df-3fe1f6a1-e9f0-4126-a8a2-b1d5b45ebb8e button.colab-df-convert');\n",
              "        buttonEl.style.display =\n",
              "          google.colab.kernel.accessAllowed ? 'block' : 'none';\n",
              "\n",
              "        async function convertToInteractive(key) {\n",
              "          const element = document.querySelector('#df-3fe1f6a1-e9f0-4126-a8a2-b1d5b45ebb8e');\n",
              "          const dataTable =\n",
              "            await google.colab.kernel.invokeFunction('convertToInteractive',\n",
              "                                                     [key], {});\n",
              "          if (!dataTable) return;\n",
              "\n",
              "          const docLinkHtml = 'Like what you see? Visit the ' +\n",
              "            '<a target=\"_blank\" href=https://colab.research.google.com/notebooks/data_table.ipynb>data table notebook</a>'\n",
              "            + ' to learn more about interactive tables.';\n",
              "          element.innerHTML = '';\n",
              "          dataTable['output_type'] = 'display_data';\n",
              "          await google.colab.output.renderOutput(dataTable, element);\n",
              "          const docLink = document.createElement('div');\n",
              "          docLink.innerHTML = docLinkHtml;\n",
              "          element.appendChild(docLink);\n",
              "        }\n",
              "      </script>\n",
              "    </div>\n",
              "  </div>\n",
              "  "
            ]
          },
          "metadata": {},
          "execution_count": 151
        }
      ],
      "source": [
        "dataset.corr()"
      ]
    },
    {
      "cell_type": "code",
      "execution_count": null,
      "metadata": {
        "colab": {
          "base_uri": "https://localhost:8080/",
          "height": 295
        },
        "id": "MlPRHOASwvJv",
        "outputId": "c996bb65-46b1-4664-ce29-f42ad75ec1d6"
      },
      "outputs": [
        {
          "output_type": "execute_result",
          "data": {
            "text/plain": [
              "<matplotlib.axes._subplots.AxesSubplot at 0x7f7e7ddbf490>"
            ]
          },
          "metadata": {},
          "execution_count": 152
        },
        {
          "output_type": "display_data",
          "data": {
            "text/plain": [
              "<Figure size 432x288 with 2 Axes>"
            ],
            "image/png": "[encoded data removed]"
          },
          "metadata": {
            "needs_background": "light"
          }
        }
      ],
      "source": [
        "sns.heatmap(dataset.corr(),cmap='coolwarm')"
      ]
    },
    {
      "cell_type": "code",
      "execution_count": null,
      "metadata": {
        "colab": {
          "base_uri": "https://localhost:8080/",
          "height": 295
        },
        "id": "AFy8lWi105Pv",
        "outputId": "aae53172-b42a-4e60-d3da-31d7b9af56e0"
      },
      "outputs": [
        {
          "output_type": "execute_result",
          "data": {
            "text/plain": [
              "<matplotlib.axes._subplots.AxesSubplot at 0x7f7e7dd01850>"
            ]
          },
          "metadata": {},
          "execution_count": 153
        },
        {
          "output_type": "display_data",
          "data": {
            "text/plain": [
              "<Figure size 432x288 with 2 Axes>"
            ],
            "image/png": "[encoded data removed]"
          },
          "metadata": {
            "needs_background": "light"
          }
        }
      ],
      "source": [
        "sns.heatmap(dataset.corr(),cmap='coolwarm')"
      ]
    },
    {
      "cell_type": "code",
      "execution_count": null,
      "metadata": {
        "id": "ElVU3soSw1aw"
      },
      "outputs": [],
      "source": [
        "X = dataset.iloc[:,2:]\n",
        "Y = dataset.VZ"
      ]
    },
    {
      "cell_type": "code",
      "execution_count": null,
      "metadata": {
        "id": "KHV0Snvv0BlK"
      },
      "outputs": [],
      "source": [
        "feature_cols = ['Sl', 'VZ', 'GW', 'M', 'R', 'C', 'B', 'E', 'BA', 'A', 'TWI', 'TPI','CR', 'AS', 'SO', 'L']\n",
        "#X = dataset[feature_cols] # Features\n",
        "#Y = dataset.VZ # Target variable"
      ]
    },
    {
      "cell_type": "code",
      "execution_count": null,
      "metadata": {
        "id": "67Ezbz8h5hC9"
      },
      "outputs": [],
      "source": [
        "#df = dataset.pivot(columns= feature_cols , index='VZ')\n",
        "#display(df)"
      ]
    },
    {
      "cell_type": "code",
      "execution_count": null,
      "metadata": {
        "colab": {
          "base_uri": "https://localhost:8080/"
        },
        "id": "gOUdJZuTw3Ap",
        "outputId": "bc7ebcbb-03f0-4eca-ab1e-127745d84915"
      },
      "outputs": [
        {
          "output_type": "stream",
          "name": "stdout",
          "text": [
            "<class 'pandas.core.frame.DataFrame'>\n",
            "Int64Index: 926 entries, 0 to 925\n",
            "Data columns (total 14 columns):\n",
            " #   Column  Non-Null Count  Dtype  \n",
            "---  ------  --------------  -----  \n",
            " 0   GW      926 non-null    int64  \n",
            " 1   M       926 non-null    float64\n",
            " 2   R       926 non-null    float64\n",
            " 3   C       926 non-null    float64\n",
            " 4   B       926 non-null    float64\n",
            " 5   E       926 non-null    int64  \n",
            " 6   BA      926 non-null    float64\n",
            " 7   A       926 non-null    float64\n",
            " 8   TWI     926 non-null    float64\n",
            " 9   TPI     926 non-null    float64\n",
            " 10  CR      926 non-null    float64\n",
            " 11  AS      926 non-null    float64\n",
            " 12  SO      926 non-null    int64  \n",
            " 13  L       926 non-null    int64  \n",
            "dtypes: float64(10), int64(4)\n",
            "memory usage: 108.5 KB\n"
          ]
        }
      ],
      "source": [
        "X.info()"
      ]
    },
    {
      "cell_type": "code",
      "execution_count": null,
      "metadata": {
        "id": "nqNUYpuXw3ie"
      },
      "outputs": [],
      "source": [
        "from sklearn.model_selection import train_test_split\n",
        "X_train, X_test, y_train, y_test = train_test_split(X, Y, test_size=0.2, random_state=0)"
      ]
    },
    {
      "cell_type": "code",
      "execution_count": null,
      "metadata": {
        "id": "b2dFY_zX66eN"
      },
      "outputs": [],
      "source": [
        "#from sklearn.preprocessing import MinMaxScaler\n",
        "#min_max_scaler = MinMaxScaler()\n",
        "##X_train = min_max_scaler.fit_transform(X_train)\n",
        "#X_test = min_max_scaler.fit_transform(X_test)"
      ]
    },
    {
      "cell_type": "markdown",
      "source": [
        "**Decision Tree**"
      ],
      "metadata": {
        "id": "ns4qn1tw7cLU"
      }
    },
    {
      "cell_type": "code",
      "execution_count": null,
      "metadata": {
        "colab": {
          "base_uri": "https://localhost:8080/"
        },
        "id": "PlmDHg8SxDMQ",
        "outputId": "1bf407bb-33ca-4509-dc53-6a03d61766ca"
      },
      "outputs": [
        {
          "output_type": "stream",
          "name": "stdout",
          "text": [
            "Test set accuracy: 0.78\n"
          ]
        }
      ],
      "source": [
        "from sklearn.tree import DecisionTreeClassifier\n",
        "from sklearn.model_selection import train_test_split\n",
        "from sklearn.metrics import accuracy_score\n",
        "dt = DecisionTreeClassifier(max_depth=6, random_state=1)\n",
        "# Predict test set labels\n",
        "dt.fit(X_train, y_train)\n",
        "DT_pred = dt.predict(X_test)\n",
        "\n",
        "# Compute test set accuracy\n",
        "acc = accuracy_score(y_test, DT_pred)\n",
        "print(\"Test set accuracy: {:.2f}\".format(acc))"
      ]
    },
    {
      "cell_type": "code",
      "execution_count": null,
      "metadata": {
        "colab": {
          "base_uri": "https://localhost:8080/"
        },
        "id": "LRoMQzCGxFa_",
        "outputId": "04df1903-f4e4-41c4-992a-c55b5039a841"
      },
      "outputs": [
        {
          "output_type": "stream",
          "name": "stdout",
          "text": [
            "              precision    recall  f1-score   support\n",
            "\n",
            "           1       0.94      1.00      0.97        30\n",
            "           2       0.76      0.73      0.74        44\n",
            "           3       0.62      0.58      0.60        36\n",
            "           4       0.67      0.85      0.75        33\n",
            "           5       0.94      0.79      0.86        43\n",
            "\n",
            "    accuracy                           0.78       186\n",
            "   macro avg       0.79      0.79      0.78       186\n",
            "weighted avg       0.79      0.78      0.78       186\n",
            "\n"
          ]
        }
      ],
      "source": [
        "print(classification_report(y_test, DT_pred))"
      ]
    },
    {
      "cell_type": "markdown",
      "source": [
        "**Naive Bayes**"
      ],
      "metadata": {
        "id": "5OP3Eg057frA"
      }
    },
    {
      "cell_type": "code",
      "execution_count": null,
      "metadata": {
        "colab": {
          "base_uri": "https://localhost:8080/"
        },
        "id": "V-U19XO6xLpH",
        "outputId": "3f2f110b-0bf1-4e87-ecac-c3db10fc47b1"
      },
      "outputs": [
        {
          "output_type": "stream",
          "name": "stdout",
          "text": [
            "0.6612903225806451\n"
          ]
        }
      ],
      "source": [
        "from sklearn.naive_bayes import GaussianNB\n",
        "clf_NB = GaussianNB()\n",
        "clf_NB.fit(X_train, y_train)\n",
        "NB_pred = clf_NB.predict(X_test)\n",
        "NB_acc = accuracy_score(y_test, NB_pred)\n",
        "print(NB_acc)"
      ]
    },
    {
      "cell_type": "markdown",
      "source": [
        "**KNN**"
      ],
      "metadata": {
        "id": "rAtFLPs17iAQ"
      }
    },
    {
      "cell_type": "code",
      "execution_count": null,
      "metadata": {
        "colab": {
          "base_uri": "https://localhost:8080/"
        },
        "id": "6C7fPjfaxPw_",
        "outputId": "f29371c9-d9bc-400b-8428-e28274ee18f1"
      },
      "outputs": [
        {
          "output_type": "stream",
          "name": "stdout",
          "text": [
            "0.7903225806451613\n"
          ]
        }
      ],
      "source": [
        "from sklearn.neighbors import KNeighborsClassifier\n",
        "classifier = KNeighborsClassifier(n_neighbors=5)\n",
        "classifier.fit(X_train, y_train)\n",
        "KNN_pred = classifier.predict(X_test)\n",
        "KNN_acc = accuracy_score(y_test, KNN_pred)\n",
        "print(KNN_acc)"
      ]
    },
    {
      "cell_type": "markdown",
      "source": [
        "**Multilayer Perceptron**"
      ],
      "metadata": {
        "id": "lkVjjywi7j6j"
      }
    },
    {
      "cell_type": "code",
      "execution_count": null,
      "metadata": {
        "colab": {
          "base_uri": "https://localhost:8080/"
        },
        "id": "NCljBOtYxZRO",
        "outputId": "da7bd5c6-93a6-4322-fc88-b21fc3da40e4"
      },
      "outputs": [
        {
          "output_type": "stream",
          "name": "stdout",
          "text": [
            "0.7311827956989247\n"
          ]
        }
      ],
      "source": [
        "from sklearn.neural_network import MLPClassifier\n",
        "from sklearn.metrics import accuracy_score\n",
        "nnc = MLPClassifier(hidden_layer_sizes=(9),activation=\"relu\",max_iter=1000)\n",
        "nnc.fit(X_train, y_train)\n",
        "nnc_pred =nnc.predict(X_test)\n",
        "nnc_acc=accuracy_score(y_test, nnc_pred)\n",
        "print(nnc_acc)"
      ]
    },
    {
      "cell_type": "markdown",
      "source": [
        "**Random Forest**"
      ],
      "metadata": {
        "id": "vmDmmE9K7nM_"
      }
    },
    {
      "cell_type": "code",
      "execution_count": null,
      "metadata": {
        "colab": {
          "base_uri": "https://localhost:8080/"
        },
        "id": "OFWSB_duxfjm",
        "outputId": "24766c28-6525-464e-ac7a-eb669b3bf97c"
      },
      "outputs": [
        {
          "output_type": "stream",
          "name": "stdout",
          "text": [
            "0.8440860215053764\n"
          ]
        }
      ],
      "source": [
        "from sklearn.ensemble import RandomForestClassifier\n",
        "from sklearn.metrics import accuracy_score\n",
        "from sklearn.metrics import accuracy_score\n",
        "randomf = RandomForestClassifier(n_estimators=100)\n",
        "randomf.fit(X_train, y_train)\n",
        "rf_pred = randomf.predict(X_test)\n",
        "rf_acc=accuracy_score(y_test, rf_pred)\n",
        "print(rf_acc)"
      ]
    },
    {
      "cell_type": "markdown",
      "source": [
        "**Gradient Boost**"
      ],
      "metadata": {
        "id": "iwf5ki6C7q1Q"
      }
    },
    {
      "cell_type": "code",
      "execution_count": null,
      "metadata": {
        "colab": {
          "base_uri": "https://localhost:8080/"
        },
        "id": "NFWc6Wd7xj8v",
        "outputId": "987799c4-43b7-4b67-c43b-02eddc1454b6"
      },
      "outputs": [
        {
          "output_type": "stream",
          "name": "stdout",
          "text": [
            "0.8440860215053764\n"
          ]
        }
      ],
      "source": [
        "from sklearn.ensemble import GradientBoostingClassifier\n",
        "from sklearn.tree import DecisionTreeClassifier\n",
        "import joblib\n",
        "from  sklearn.utils import parallel_backend \n",
        "gboost = GradientBoostingClassifier(learning_rate=.1, n_estimators=500,max_depth=5 )\n",
        "gboost.fit(X_train, y_train)\n",
        "gboost_pred = gboost.predict(X_test)\n",
        "from sklearn.metrics import accuracy_score\n",
        "gboost_acc=accuracy_score(y_test, gboost_pred)\n",
        "print(gboost_acc)"
      ]
    },
    {
      "cell_type": "markdown",
      "source": [
        "**Xtreme Gradient Boost**"
      ],
      "metadata": {
        "id": "NRaL1EZV7s_p"
      }
    },
    {
      "cell_type": "code",
      "execution_count": null,
      "metadata": {
        "colab": {
          "base_uri": "https://localhost:8080/"
        },
        "id": "60JSfvmKx656",
        "outputId": "3273c833-aa0c-4be1-ed8e-f67c78d10fcf"
      },
      "outputs": [
        {
          "output_type": "stream",
          "name": "stdout",
          "text": [
            "0.8387096774193549\n"
          ]
        }
      ],
      "source": [
        "import xgboost as xgb\n",
        "xgbd = xgb.XGBClassifier(max_depth=10, n_estimators=5000 , learning_rate=.5, n_jobs=-1)\n",
        "xgbd.fit(X_train, y_train)\n",
        "xgb_pred = xgbd.predict(X_test)\n",
        "xgb_acc=accuracy_score(y_test, xgb_pred)\n",
        "print(xgb_acc)"
      ]
    },
    {
      "cell_type": "markdown",
      "source": [
        "**Stacking : ANN-KNN-RF (Final estimator: RF)**"
      ],
      "metadata": {
        "id": "nhpwdOCW7wLI"
      }
    },
    {
      "cell_type": "code",
      "execution_count": null,
      "metadata": {
        "colab": {
          "base_uri": "https://localhost:8080/"
        },
        "id": "vucZUyFNyPfI",
        "outputId": "fa4dc983-a9ad-4fa3-dbc8-2ff4e4569aae"
      },
      "outputs": [
        {
          "output_type": "stream",
          "name": "stdout",
          "text": [
            "0.8440860215053764\n"
          ]
        }
      ],
      "source": [
        "from sklearn.neural_network import MLPClassifier\n",
        "nnc = MLPClassifier(hidden_layer_sizes=(9),activation=\"relu\",max_iter=1000)\n",
        "from sklearn.ensemble import RandomForestClassifier\n",
        "from sklearn.tree import DecisionTreeClassifier\n",
        "randomf = RandomForestClassifier(n_jobs=-1)\n",
        "from sklearn.neighbors import KNeighborsClassifier\n",
        "knn = KNeighborsClassifier(n_neighbors=5)\n",
        "from sklearn.model_selection import GridSearchCV\n",
        "estimators = [('rf', randomf),('neural', nnc),\n",
        "        ('knn',knn)\n",
        "        ]\n",
        "from sklearn.ensemble import StackingClassifier\n",
        "final_estimator = {'final_estimator':[randomf,knn,nnc,None]}\n",
        "from sklearn.metrics import confusion_matrix\n",
        "from sklearn.preprocessing import LabelBinarizer\n",
        "from sklearn.model_selection import train_test_split\n",
        "newgsearchrandom =  StackingClassifier(estimators=estimators, n_jobs=-1,final_estimator=randomf)\n",
        "newgsearchrandom.fit(X_train, y_train)\n",
        "from sklearn.metrics import accuracy_score\n",
        "newgsearchrandom_pred = newgsearchrandom.predict(X_test)\n",
        "newgsearchrandom_acc=accuracy_score(y_test, newgsearchrandom_pred)\n",
        "print(newgsearchrandom_acc)"
      ]
    },
    {
      "cell_type": "markdown",
      "source": [
        "**Stacking : ANN-KNN-RF (Final estimator: ANN)**"
      ],
      "metadata": {
        "id": "En8MEv4f8Cvf"
      }
    },
    {
      "cell_type": "code",
      "execution_count": null,
      "metadata": {
        "colab": {
          "base_uri": "https://localhost:8080/"
        },
        "id": "EbQgtIyUyj9o",
        "outputId": "f431b383-bb24-4d51-ccd4-15878ba3caf6"
      },
      "outputs": [
        {
          "output_type": "stream",
          "name": "stdout",
          "text": [
            "0.8440860215053764\n"
          ]
        }
      ],
      "source": [
        "newgsearchnnc =  StackingClassifier(estimators=estimators, n_jobs=-1,final_estimator=nnc)\n",
        "newgsearchnnc.fit(X_train, y_train)\n",
        "newgsearchnnc_pred = newgsearchnnc.predict(X_test)\n",
        "newgsearchnnc_acc=accuracy_score(y_test, newgsearchnnc_pred)\n",
        "print(newgsearchnnc_acc)"
      ]
    },
    {
      "cell_type": "markdown",
      "source": [
        "**Stacking : ANN-KNN-RF (Final estimator: KNN)**"
      ],
      "metadata": {
        "id": "dKvMW71S80q4"
      }
    },
    {
      "cell_type": "code",
      "source": [
        "newgsearchknn =  StackingClassifier(estimators=estimators, n_jobs=-1,final_estimator=knn)\n",
        "newgsearchknn.fit(X_train, y_train)\n",
        "newgsearchknn_pred = newgsearchknn.predict(X_test)\n",
        "newgsearchknn_acc=accuracy_score(y_test, newgsearchknn_pred)\n",
        "print(newgsearchknn_acc)"
      ],
      "metadata": {
        "colab": {
          "base_uri": "https://localhost:8080/"
        },
        "id": "RDXdxjxz8s5_",
        "outputId": "9d148664-e327-40ef-b9f8-8776d7c427f8"
      },
      "execution_count": null,
      "outputs": [
        {
          "output_type": "stream",
          "name": "stdout",
          "text": [
            "0.8440860215053764\n"
          ]
        }
      ]
    },
    {
      "cell_type": "markdown",
      "source": [
        "**Linear SVM**"
      ],
      "metadata": {
        "id": "9wplk1Jd8GtX"
      }
    },
    {
      "cell_type": "code",
      "execution_count": null,
      "metadata": {
        "colab": {
          "base_uri": "https://localhost:8080/"
        },
        "id": "GW3NUBiDypyr",
        "outputId": "d5eb4ee2-d6ad-4881-fb1a-89741afea12d"
      },
      "outputs": [
        {
          "output_type": "stream",
          "name": "stdout",
          "text": [
            "0.3870967741935484\n"
          ]
        },
        {
          "output_type": "stream",
          "name": "stderr",
          "text": [
            "/usr/local/lib/python3.7/dist-packages/sklearn/svm/_base.py:1208: ConvergenceWarning: Liblinear failed to converge, increase the number of iterations.\n",
            "  ConvergenceWarning,\n"
          ]
        }
      ],
      "source": [
        "from sklearn.svm import LinearSVC\n",
        "svc = LinearSVC(C=10, class_weight='balanced')\n",
        "svc.fit(X_train, y_train)\n",
        "SVM_pred = svc.predict(X_test)\n",
        "SVM_acc = accuracy_score(y_test, SVM_pred)\n",
        "print(SVM_acc)"
      ]
    },
    {
      "cell_type": "markdown",
      "source": [
        "**SVM : RBF kernel**"
      ],
      "metadata": {
        "id": "QzdfM2TS8Jzv"
      }
    },
    {
      "cell_type": "code",
      "execution_count": null,
      "metadata": {
        "colab": {
          "base_uri": "https://localhost:8080/"
        },
        "id": "3XwNv1CBy0P6",
        "outputId": "e4586a2a-f662-4197-e14b-28efe9582ca5"
      },
      "outputs": [
        {
          "output_type": "stream",
          "name": "stdout",
          "text": [
            "0.8172043010752689\n"
          ]
        }
      ],
      "source": [
        "from sklearn.svm import SVC\n",
        "svc_new = SVC(kernel ='rbf', class_weight='balanced')\n",
        "svc_new.fit(X_train, y_train)\n",
        "SVM_newpred = svc_new.predict(X_test)\n",
        "SVMnew_acc = accuracy_score(y_test, SVM_newpred)\n",
        "print(SVMnew_acc)"
      ]
    },
    {
      "cell_type": "markdown",
      "source": [
        "**Ada Boost**"
      ],
      "metadata": {
        "id": "jEJkDval8brY"
      }
    },
    {
      "cell_type": "code",
      "execution_count": null,
      "metadata": {
        "colab": {
          "base_uri": "https://localhost:8080/"
        },
        "id": "2i8-wQUny5WK",
        "outputId": "ba172027-1d12-4004-d108-96f425765fec"
      },
      "outputs": [
        {
          "output_type": "stream",
          "name": "stdout",
          "text": [
            "0.8548387096774194\n"
          ]
        }
      ],
      "source": [
        "from sklearn.ensemble import RandomForestClassifier\n",
        "from sklearn.tree import DecisionTreeClassifier\n",
        "randomf = RandomForestClassifier(n_jobs=-1)\n",
        "dtree = DecisionTreeClassifier( criterion='entropy')\n",
        "from sklearn.ensemble import AdaBoostClassifier\n",
        "ab = AdaBoostClassifier(randomf, n_estimators=500000, learning_rate=.5)\n",
        "ab.fit(X_train, y_train)\n",
        "ab_pred = ab.predict(X_test)\n",
        "ab_acc=accuracy_score(y_test, ab_pred)\n",
        "print(ab_acc)"
      ]
    },
    {
      "cell_type": "markdown",
      "source": [
        "**Stochastic Gradient Descent**"
      ],
      "metadata": {
        "id": "zjZchaXp_RQ3"
      }
    },
    {
      "cell_type": "code",
      "source": [
        "from sklearn.linear_model import SGDClassifier\n",
        "sgd = SGDClassifier(loss=\"hinge\", penalty=\"l2\", max_iter=5)\n",
        "sgd.fit(X_train, y_train)\n",
        "sgd_pred = sgd.predict(X_test)\n",
        "sgd_acc=accuracy_score(y_test, sgd_pred)\n",
        "print(sgd_acc)"
      ],
      "metadata": {
        "colab": {
          "base_uri": "https://localhost:8080/"
        },
        "id": "BNNpJBYq-yW7",
        "outputId": "6b1b8717-c25d-450a-e105-574c4a273e5e"
      },
      "execution_count": null,
      "outputs": [
        {
          "output_type": "stream",
          "name": "stdout",
          "text": [
            "0.3924731182795699\n"
          ]
        },
        {
          "output_type": "stream",
          "name": "stderr",
          "text": [
            "/usr/local/lib/python3.7/dist-packages/sklearn/linear_model/_stochastic_gradient.py:700: ConvergenceWarning: Maximum number of iteration reached before convergence. Consider increasing max_iter to improve the fit.\n",
            "  ConvergenceWarning,\n"
          ]
        }
      ]
    },
    {
      "cell_type": "markdown",
      "source": [
        "**Feature Selection**"
      ],
      "metadata": {
        "id": "J1sBuK9XB05o"
      }
    },
    {
      "cell_type": "markdown",
      "source": [
        "**Feature selection using SelectFromModel**"
      ],
      "metadata": {
        "id": "iTqT1a2oEnHR"
      }
    },
    {
      "cell_type": "code",
      "source": [
        "from sklearn.feature_selection import SelectFromModel\n",
        "lsvc = LinearSVC(C=0.01, penalty=\"l1\", dual=False).fit(X, Y)\n",
        "model = SelectFromModel(lsvc, prefit=True)\n",
        "X_new = model.transform(X)\n",
        "X_new.shape"
      ],
      "metadata": {
        "colab": {
          "base_uri": "https://localhost:8080/"
        },
        "id": "G3o537wmA9MP",
        "outputId": "8f6c5733-e9ba-4d6a-e327-4eed45eb6bb5"
      },
      "execution_count": null,
      "outputs": [
        {
          "output_type": "stream",
          "name": "stderr",
          "text": [
            "/usr/local/lib/python3.7/dist-packages/sklearn/base.py:444: UserWarning: X has feature names, but SelectFromModel was fitted without feature names\n",
            "  f\"X has feature names, but {self.__class__.__name__} was fitted without\"\n"
          ]
        },
        {
          "output_type": "execute_result",
          "data": {
            "text/plain": [
              "(926, 6)"
            ]
          },
          "metadata": {},
          "execution_count": 175
        }
      ]
    },
    {
      "cell_type": "markdown",
      "source": [
        "**Tree-based feature selection**"
      ],
      "metadata": {
        "id": "_tI24j7iEc9i"
      }
    },
    {
      "cell_type": "code",
      "source": [
        "from sklearn.ensemble import ExtraTreesClassifier\n",
        "from sklearn.feature_selection import SelectFromModel\n",
        "clf = ExtraTreesClassifier(n_estimators=50)\n",
        "clf = clf.fit(X, Y)\n",
        "clf.feature_importances_  \n",
        "model = SelectFromModel(clf, prefit=True)\n",
        "X_new = model.transform(X)\n",
        "X_new.shape  "
      ],
      "metadata": {
        "colab": {
          "base_uri": "https://localhost:8080/"
        },
        "id": "9w5zK45aBdXc",
        "outputId": "8529e448-f5dd-4229-a946-f206383f5a53"
      },
      "execution_count": null,
      "outputs": [
        {
          "output_type": "stream",
          "name": "stderr",
          "text": [
            "/usr/local/lib/python3.7/dist-packages/sklearn/base.py:444: UserWarning: X has feature names, but SelectFromModel was fitted without feature names\n",
            "  f\"X has feature names, but {self.__class__.__name__} was fitted without\"\n"
          ]
        },
        {
          "output_type": "execute_result",
          "data": {
            "text/plain": [
              "(926, 4)"
            ]
          },
          "metadata": {},
          "execution_count": 176
        }
      ]
    },
    {
      "cell_type": "markdown",
      "source": [
        "**Sequential Feature Selection**"
      ],
      "metadata": {
        "id": "fZZz5RNBEWDP"
      }
    },
    {
      "cell_type": "code",
      "source": [
        "from sklearn.feature_selection import SequentialFeatureSelector\n",
        "from sklearn.neighbors import KNeighborsClassifier\n",
        "sfs = SequentialFeatureSelector(knn, n_features_to_select=3)\n",
        "sfs.fit(X, Y)\n",
        "SequentialFeatureSelector(estimator=KNeighborsClassifier(n_neighbors=3),n_features_to_select=3)\n",
        "sfs.get_support()\n",
        "sfs.transform(X).shape"
      ],
      "metadata": {
        "colab": {
          "base_uri": "https://localhost:8080/"
        },
        "id": "NeeAmmZXBwYm",
        "outputId": "8e0f9072-71ed-4c93-aa69-8adfe19310fb"
      },
      "execution_count": null,
      "outputs": [
        {
          "output_type": "execute_result",
          "data": {
            "text/plain": [
              "(926, 3)"
            ]
          },
          "metadata": {},
          "execution_count": 177
        }
      ]
    },
    {
      "cell_type": "markdown",
      "source": [
        "**Feature selection as part of a pipeline**"
      ],
      "metadata": {
        "id": "cN_7bED-EOAf"
      }
    },
    {
      "cell_type": "code",
      "source": [
        "from sklearn.svm import SVC\n",
        "from sklearn.preprocessing import StandardScaler\n",
        "from sklearn.datasets import make_classification\n",
        "from sklearn.pipeline import Pipeline\n",
        "pipe = Pipeline([('scaler', StandardScaler()), ('svc', SVC())])\n",
        "# The pipeline can be used as any other estimator\n",
        "# and avoids leaking the test set into the train set\n",
        "pipe.fit(X_train, y_train)\n",
        "Pipeline(steps=[('scaler', StandardScaler()), ('svc', SVC())])\n",
        "pipe.score(X_test, y_test)"
      ],
      "metadata": {
        "colab": {
          "base_uri": "https://localhost:8080/"
        },
        "id": "xFuJtNocCXgn",
        "outputId": "e91b40bf-65ab-44c1-d547-3dd71cca8aeb"
      },
      "execution_count": null,
      "outputs": [
        {
          "output_type": "execute_result",
          "data": {
            "text/plain": [
              "0.8118279569892473"
            ]
          },
          "metadata": {},
          "execution_count": 178
        }
      ]
    },
    {
      "cell_type": "code",
      "source": [
        "from sklearn.svm import LinearSVC\n",
        "from sklearn.feature_selection import SelectFromModel"
      ],
      "metadata": {
        "id": "j4_sjEloDCHI"
      },
      "execution_count": null,
      "outputs": []
    },
    {
      "cell_type": "code",
      "source": [
        "X.shape"
      ],
      "metadata": {
        "colab": {
          "base_uri": "https://localhost:8080/"
        },
        "id": "hHt0VHAXEAIg",
        "outputId": "d8c5133e-55e2-42c3-d71a-99862cf275f6"
      },
      "execution_count": null,
      "outputs": [
        {
          "output_type": "execute_result",
          "data": {
            "text/plain": [
              "(926, 14)"
            ]
          },
          "metadata": {},
          "execution_count": 180
        }
      ]
    },
    {
      "cell_type": "code",
      "source": [
        "lsvc = LinearSVC(C=0.01, penalty=\"l1\", dual=False).fit(X, Y)\n",
        "model = SelectFromModel(lsvc, prefit=True)\n",
        "X_new = model.transform(X)\n",
        "X_new.shape"
      ],
      "metadata": {
        "colab": {
          "base_uri": "https://localhost:8080/"
        },
        "id": "hz_2SiZREBwH",
        "outputId": "946a9614-9cee-4b0b-f61e-5b88e0bedf5e"
      },
      "execution_count": null,
      "outputs": [
        {
          "output_type": "stream",
          "name": "stderr",
          "text": [
            "/usr/local/lib/python3.7/dist-packages/sklearn/base.py:444: UserWarning: X has feature names, but SelectFromModel was fitted without feature names\n",
            "  f\"X has feature names, but {self.__class__.__name__} was fitted without\"\n"
          ]
        },
        {
          "output_type": "execute_result",
          "data": {
            "text/plain": [
              "(926, 6)"
            ]
          },
          "metadata": {},
          "execution_count": 181
        }
      ]
    },
    {
      "cell_type": "markdown",
      "source": [
        "**Removing features with low variance**"
      ],
      "metadata": {
        "id": "T7xkvhJME51o"
      }
    },
    {
      "cell_type": "code",
      "source": [
        "from sklearn.feature_selection import VarianceThreshold\n",
        "sel = VarianceThreshold(threshold=(.8 * (1 - .8)))\n",
        "sel.fit_transform(X)"
      ],
      "metadata": {
        "colab": {
          "base_uri": "https://localhost:8080/"
        },
        "id": "Q32RHGFGEKM7",
        "outputId": "f2e88a80-8739-4c2a-e41b-ec5daab7941f"
      },
      "execution_count": null,
      "outputs": [
        {
          "output_type": "execute_result",
          "data": {
            "text/plain": [
              "array([[ 6.00000000e+00,  7.00000000e+00,  6.00000000e+01, ...,\n",
              "         2.22222300e-01,  2.81309936e+02,  3.00000000e+00],\n",
              "       [ 6.00000000e+00,  1.00000000e+01,  1.08166542e+02, ...,\n",
              "        -6.66667000e-01,  3.00963745e+02,  4.00000000e+00],\n",
              "       [ 6.00000000e+00,  7.00000000e+00,  3.00000000e+01, ...,\n",
              "        -6.66667000e-01,  3.41565064e+02,  4.00000000e+00],\n",
              "       ...,\n",
              "       [ 7.00000000e+00,  1.00000000e+00,  4.24264069e+02, ...,\n",
              "         0.00000000e+00, -1.00000000e+00,  6.00000000e+00],\n",
              "       [ 7.00000000e+00,  1.00000000e+00,  4.17851654e+02, ...,\n",
              "         0.00000000e+00, -1.00000000e+00,  6.00000000e+00],\n",
              "       [ 7.00000000e+00,  1.00000000e+00,  3.94588379e+02, ...,\n",
              "         0.00000000e+00, -1.00000000e+00,  6.00000000e+00]])"
            ]
          },
          "metadata": {},
          "execution_count": 182
        }
      ]
    },
    {
      "cell_type": "code",
      "source": [
        "# pearson's correlation feature selection for numeric input and numeric output\n",
        "from sklearn.datasets import make_regression\n",
        "from sklearn.feature_selection import SelectKBest\n",
        "from sklearn.feature_selection import f_regression\n",
        "# generate dataset\n",
        "# define feature selection\n",
        "fs = SelectKBest(score_func=f_regression, k=10)\n",
        "# apply feature selection\n",
        "X_selected = fs.fit_transform(X, Y)\n",
        "print(X_selected.shape)"
      ],
      "metadata": {
        "colab": {
          "base_uri": "https://localhost:8080/"
        },
        "id": "OFkMGxB4II1L",
        "outputId": "b21b5ce3-33f6-4503-afa8-3f3e4a9c217e"
      },
      "execution_count": null,
      "outputs": [
        {
          "output_type": "stream",
          "name": "stdout",
          "text": [
            "(926, 10)\n"
          ]
        }
      ]
    },
    {
      "cell_type": "code",
      "source": [
        "# ANOVA feature selection for numeric input and categorical output\n",
        "from sklearn.datasets import make_classification\n",
        "from sklearn.feature_selection import SelectKBest\n",
        "from sklearn.feature_selection import f_classif\n",
        "# generate dataset\n",
        "# define feature selection\n",
        "fs = SelectKBest(score_func=f_classif, k=2)\n",
        "# apply feature selection\n",
        "X_selected = fs.fit_transform(X, Y)\n",
        "print(X_selected.shape)"
      ],
      "metadata": {
        "colab": {
          "base_uri": "https://localhost:8080/"
        },
        "id": "0wo0z-sZJQ6L",
        "outputId": "e7ef7ead-33ff-41ac-fdab-5936ecbca20d"
      },
      "execution_count": null,
      "outputs": [
        {
          "output_type": "stream",
          "name": "stdout",
          "text": [
            "(926, 2)\n"
          ]
        }
      ]
    },
    {
      "cell_type": "code",
      "source": [
        "from sklearn.pipeline import Pipeline\n",
        "from sklearn.feature_selection import SelectPercentile, chi2\n",
        "from sklearn.preprocessing import StandardScaler\n",
        "from sklearn.svm import SVC\n",
        "\n",
        "# Create a feature-selection transform, a scaler and an instance of SVM that we\n",
        "# combine together to have a full-blown estimator\n",
        "\n",
        "clf = Pipeline(\n",
        "    [\n",
        "        (\"anova\", SelectPercentile(chi2)),\n",
        "        (\"scaler\", StandardScaler()),\n",
        "        (\"svc\", SVC(gamma=\"auto\")),\n",
        "    ]\n",
        ")"
      ],
      "metadata": {
        "id": "VMwpGZJvKv8X"
      },
      "execution_count": null,
      "outputs": []
    },
    {
      "cell_type": "code",
      "source": [
        "import matplotlib.pyplot as plt\n",
        "from sklearn.model_selection import cross_val_score\n",
        "\n",
        "score_means = list()\n",
        "score_stds = list()\n",
        "percentiles = (1, 3, 6, 10, 15, 20, 30, 40, 60, 80, 100)\n",
        "\n",
        "for percentile in percentiles:\n",
        "    clf.set_params(anova__percentile=percentile)\n",
        "    this_scores = cross_val_score(clf, X, Y)\n",
        "    score_means.append(this_scores.mean())\n",
        "    score_stds.append(this_scores.std())\n",
        "\n",
        "plt.errorbar(percentiles, score_means, np.array(score_stds))\n",
        "plt.title(\"Performance of the SVM-Anova varying the percentile of features selected\")\n",
        "plt.xticks(np.linspace(0, 100, 11, endpoint=True))\n",
        "plt.xlabel(\"Percentile\")\n",
        "plt.ylabel(\"Accuracy Score\")\n",
        "plt.axis(\"tight\")\n",
        "plt.show()"
      ],
      "metadata": {
        "colab": {
          "base_uri": "https://localhost:8080/",
          "height": 1000
        },
        "id": "nznJ7RClK_EH",
        "outputId": "ac651d77-63f6-46aa-f452-1e0c44b2dd90"
      },
      "execution_count": null,
      "outputs": [
        {
          "output_type": "stream",
          "name": "stderr",
          "text": [
            "/usr/local/lib/python3.7/dist-packages/sklearn/model_selection/_validation.py:372: FitFailedWarning: \n",
            "5 fits failed out of a total of 5.\n",
            "The score on these train-test partitions for these parameters will be set to nan.\n",
            "If these failures are not expected, you can try to debug them by setting error_score='raise'.\n",
            "\n",
            "Below are more details about the failures:\n",
            "--------------------------------------------------------------------------------\n",
            "5 fits failed with the following error:\n",
            "Traceback (most recent call last):\n",
            "  File \"/usr/local/lib/python3.7/dist-packages/sklearn/model_selection/_validation.py\", line 680, in _fit_and_score\n",
            "    estimator.fit(X_train, y_train, **fit_params)\n",
            "  File \"/usr/local/lib/python3.7/dist-packages/sklearn/pipeline.py\", line 390, in fit\n",
            "    Xt = self._fit(X, y, **fit_params_steps)\n",
            "  File \"/usr/local/lib/python3.7/dist-packages/sklearn/pipeline.py\", line 355, in _fit\n",
            "    **fit_params_steps[name],\n",
            "  File \"/usr/local/lib/python3.7/dist-packages/joblib/memory.py\", line 349, in __call__\n",
            "    return self.func(*args, **kwargs)\n",
            "  File \"/usr/local/lib/python3.7/dist-packages/sklearn/pipeline.py\", line 893, in _fit_transform_one\n",
            "    res = transformer.fit_transform(X, y, **fit_params)\n",
            "  File \"/usr/local/lib/python3.7/dist-packages/sklearn/base.py\", line 855, in fit_transform\n",
            "    return self.fit(X, y, **fit_params).transform(X)\n",
            "  File \"/usr/local/lib/python3.7/dist-packages/sklearn/feature_selection/_univariate_selection.py\", line 408, in fit\n",
            "    score_func_ret = self.score_func(X, y)\n",
            "  File \"/usr/local/lib/python3.7/dist-packages/sklearn/feature_selection/_univariate_selection.py\", line 215, in chi2\n",
            "    raise ValueError(\"Input X must be non-negative.\")\n",
            "ValueError: Input X must be non-negative.\n",
            "\n",
            "  warnings.warn(some_fits_failed_message, FitFailedWarning)\n",
            "/usr/local/lib/python3.7/dist-packages/sklearn/model_selection/_validation.py:372: FitFailedWarning: \n",
            "5 fits failed out of a total of 5.\n",
            "The score on these train-test partitions for these parameters will be set to nan.\n",
            "If these failures are not expected, you can try to debug them by setting error_score='raise'.\n",
            "\n",
            "Below are more details about the failures:\n",
            "--------------------------------------------------------------------------------\n",
            "5 fits failed with the following error:\n",
            "Traceback (most recent call last):\n",
            "  File \"/usr/local/lib/python3.7/dist-packages/sklearn/model_selection/_validation.py\", line 680, in _fit_and_score\n",
            "    estimator.fit(X_train, y_train, **fit_params)\n",
            "  File \"/usr/local/lib/python3.7/dist-packages/sklearn/pipeline.py\", line 390, in fit\n",
            "    Xt = self._fit(X, y, **fit_params_steps)\n",
            "  File \"/usr/local/lib/python3.7/dist-packages/sklearn/pipeline.py\", line 355, in _fit\n",
            "    **fit_params_steps[name],\n",
            "  File \"/usr/local/lib/python3.7/dist-packages/joblib/memory.py\", line 349, in __call__\n",
            "    return self.func(*args, **kwargs)\n",
            "  File \"/usr/local/lib/python3.7/dist-packages/sklearn/pipeline.py\", line 893, in _fit_transform_one\n",
            "    res = transformer.fit_transform(X, y, **fit_params)\n",
            "  File \"/usr/local/lib/python3.7/dist-packages/sklearn/base.py\", line 855, in fit_transform\n",
            "    return self.fit(X, y, **fit_params).transform(X)\n",
            "  File \"/usr/local/lib/python3.7/dist-packages/sklearn/feature_selection/_univariate_selection.py\", line 408, in fit\n",
            "    score_func_ret = self.score_func(X, y)\n",
            "  File \"/usr/local/lib/python3.7/dist-packages/sklearn/feature_selection/_univariate_selection.py\", line 215, in chi2\n",
            "    raise ValueError(\"Input X must be non-negative.\")\n",
            "ValueError: Input X must be non-negative.\n",
            "\n",
            "  warnings.warn(some_fits_failed_message, FitFailedWarning)\n",
            "/usr/local/lib/python3.7/dist-packages/sklearn/model_selection/_validation.py:372: FitFailedWarning: \n",
            "5 fits failed out of a total of 5.\n",
            "The score on these train-test partitions for these parameters will be set to nan.\n",
            "If these failures are not expected, you can try to debug them by setting error_score='raise'.\n",
            "\n",
            "Below are more details about the failures:\n",
            "--------------------------------------------------------------------------------\n",
            "5 fits failed with the following error:\n",
            "Traceback (most recent call last):\n",
            "  File \"/usr/local/lib/python3.7/dist-packages/sklearn/model_selection/_validation.py\", line 680, in _fit_and_score\n",
            "    estimator.fit(X_train, y_train, **fit_params)\n",
            "  File \"/usr/local/lib/python3.7/dist-packages/sklearn/pipeline.py\", line 390, in fit\n",
            "    Xt = self._fit(X, y, **fit_params_steps)\n",
            "  File \"/usr/local/lib/python3.7/dist-packages/sklearn/pipeline.py\", line 355, in _fit\n",
            "    **fit_params_steps[name],\n",
            "  File \"/usr/local/lib/python3.7/dist-packages/joblib/memory.py\", line 349, in __call__\n",
            "    return self.func(*args, **kwargs)\n",
            "  File \"/usr/local/lib/python3.7/dist-packages/sklearn/pipeline.py\", line 893, in _fit_transform_one\n",
            "    res = transformer.fit_transform(X, y, **fit_params)\n",
            "  File \"/usr/local/lib/python3.7/dist-packages/sklearn/base.py\", line 855, in fit_transform\n",
            "    return self.fit(X, y, **fit_params).transform(X)\n",
            "  File \"/usr/local/lib/python3.7/dist-packages/sklearn/feature_selection/_univariate_selection.py\", line 408, in fit\n",
            "    score_func_ret = self.score_func(X, y)\n",
            "  File \"/usr/local/lib/python3.7/dist-packages/sklearn/feature_selection/_univariate_selection.py\", line 215, in chi2\n",
            "    raise ValueError(\"Input X must be non-negative.\")\n",
            "ValueError: Input X must be non-negative.\n",
            "\n",
            "  warnings.warn(some_fits_failed_message, FitFailedWarning)\n",
            "/usr/local/lib/python3.7/dist-packages/sklearn/model_selection/_validation.py:372: FitFailedWarning: \n",
            "5 fits failed out of a total of 5.\n",
            "The score on these train-test partitions for these parameters will be set to nan.\n",
            "If these failures are not expected, you can try to debug them by setting error_score='raise'.\n",
            "\n",
            "Below are more details about the failures:\n",
            "--------------------------------------------------------------------------------\n",
            "5 fits failed with the following error:\n",
            "Traceback (most recent call last):\n",
            "  File \"/usr/local/lib/python3.7/dist-packages/sklearn/model_selection/_validation.py\", line 680, in _fit_and_score\n",
            "    estimator.fit(X_train, y_train, **fit_params)\n",
            "  File \"/usr/local/lib/python3.7/dist-packages/sklearn/pipeline.py\", line 390, in fit\n",
            "    Xt = self._fit(X, y, **fit_params_steps)\n",
            "  File \"/usr/local/lib/python3.7/dist-packages/sklearn/pipeline.py\", line 355, in _fit\n",
            "    **fit_params_steps[name],\n",
            "  File \"/usr/local/lib/python3.7/dist-packages/joblib/memory.py\", line 349, in __call__\n",
            "    return self.func(*args, **kwargs)\n",
            "  File \"/usr/local/lib/python3.7/dist-packages/sklearn/pipeline.py\", line 893, in _fit_transform_one\n",
            "    res = transformer.fit_transform(X, y, **fit_params)\n",
            "  File \"/usr/local/lib/python3.7/dist-packages/sklearn/base.py\", line 855, in fit_transform\n",
            "    return self.fit(X, y, **fit_params).transform(X)\n",
            "  File \"/usr/local/lib/python3.7/dist-packages/sklearn/feature_selection/_univariate_selection.py\", line 408, in fit\n",
            "    score_func_ret = self.score_func(X, y)\n",
            "  File \"/usr/local/lib/python3.7/dist-packages/sklearn/feature_selection/_univariate_selection.py\", line 215, in chi2\n",
            "    raise ValueError(\"Input X must be non-negative.\")\n",
            "ValueError: Input X must be non-negative.\n",
            "\n",
            "  warnings.warn(some_fits_failed_message, FitFailedWarning)\n",
            "/usr/local/lib/python3.7/dist-packages/sklearn/model_selection/_validation.py:372: FitFailedWarning: \n",
            "5 fits failed out of a total of 5.\n",
            "The score on these train-test partitions for these parameters will be set to nan.\n",
            "If these failures are not expected, you can try to debug them by setting error_score='raise'.\n",
            "\n",
            "Below are more details about the failures:\n",
            "--------------------------------------------------------------------------------\n",
            "5 fits failed with the following error:\n",
            "Traceback (most recent call last):\n",
            "  File \"/usr/local/lib/python3.7/dist-packages/sklearn/model_selection/_validation.py\", line 680, in _fit_and_score\n",
            "    estimator.fit(X_train, y_train, **fit_params)\n",
            "  File \"/usr/local/lib/python3.7/dist-packages/sklearn/pipeline.py\", line 390, in fit\n",
            "    Xt = self._fit(X, y, **fit_params_steps)\n",
            "  File \"/usr/local/lib/python3.7/dist-packages/sklearn/pipeline.py\", line 355, in _fit\n",
            "    **fit_params_steps[name],\n",
            "  File \"/usr/local/lib/python3.7/dist-packages/joblib/memory.py\", line 349, in __call__\n",
            "    return self.func(*args, **kwargs)\n",
            "  File \"/usr/local/lib/python3.7/dist-packages/sklearn/pipeline.py\", line 893, in _fit_transform_one\n",
            "    res = transformer.fit_transform(X, y, **fit_params)\n",
            "  File \"/usr/local/lib/python3.7/dist-packages/sklearn/base.py\", line 855, in fit_transform\n",
            "    return self.fit(X, y, **fit_params).transform(X)\n",
            "  File \"/usr/local/lib/python3.7/dist-packages/sklearn/feature_selection/_univariate_selection.py\", line 408, in fit\n",
            "    score_func_ret = self.score_func(X, y)\n",
            "  File \"/usr/local/lib/python3.7/dist-packages/sklearn/feature_selection/_univariate_selection.py\", line 215, in chi2\n",
            "    raise ValueError(\"Input X must be non-negative.\")\n",
            "ValueError: Input X must be non-negative.\n",
            "\n",
            "  warnings.warn(some_fits_failed_message, FitFailedWarning)\n",
            "/usr/local/lib/python3.7/dist-packages/sklearn/model_selection/_validation.py:372: FitFailedWarning: \n",
            "5 fits failed out of a total of 5.\n",
            "The score on these train-test partitions for these parameters will be set to nan.\n",
            "If these failures are not expected, you can try to debug them by setting error_score='raise'.\n",
            "\n",
            "Below are more details about the failures:\n",
            "--------------------------------------------------------------------------------\n",
            "5 fits failed with the following error:\n",
            "Traceback (most recent call last):\n",
            "  File \"/usr/local/lib/python3.7/dist-packages/sklearn/model_selection/_validation.py\", line 680, in _fit_and_score\n",
            "    estimator.fit(X_train, y_train, **fit_params)\n",
            "  File \"/usr/local/lib/python3.7/dist-packages/sklearn/pipeline.py\", line 390, in fit\n",
            "    Xt = self._fit(X, y, **fit_params_steps)\n",
            "  File \"/usr/local/lib/python3.7/dist-packages/sklearn/pipeline.py\", line 355, in _fit\n",
            "    **fit_params_steps[name],\n",
            "  File \"/usr/local/lib/python3.7/dist-packages/joblib/memory.py\", line 349, in __call__\n",
            "    return self.func(*args, **kwargs)\n",
            "  File \"/usr/local/lib/python3.7/dist-packages/sklearn/pipeline.py\", line 893, in _fit_transform_one\n",
            "    res = transformer.fit_transform(X, y, **fit_params)\n",
            "  File \"/usr/local/lib/python3.7/dist-packages/sklearn/base.py\", line 855, in fit_transform\n",
            "    return self.fit(X, y, **fit_params).transform(X)\n",
            "  File \"/usr/local/lib/python3.7/dist-packages/sklearn/feature_selection/_univariate_selection.py\", line 408, in fit\n",
            "    score_func_ret = self.score_func(X, y)\n",
            "  File \"/usr/local/lib/python3.7/dist-packages/sklearn/feature_selection/_univariate_selection.py\", line 215, in chi2\n",
            "    raise ValueError(\"Input X must be non-negative.\")\n",
            "ValueError: Input X must be non-negative.\n",
            "\n",
            "  warnings.warn(some_fits_failed_message, FitFailedWarning)\n",
            "/usr/local/lib/python3.7/dist-packages/sklearn/model_selection/_validation.py:372: FitFailedWarning: \n",
            "5 fits failed out of a total of 5.\n",
            "The score on these train-test partitions for these parameters will be set to nan.\n",
            "If these failures are not expected, you can try to debug them by setting error_score='raise'.\n",
            "\n",
            "Below are more details about the failures:\n",
            "--------------------------------------------------------------------------------\n",
            "5 fits failed with the following error:\n",
            "Traceback (most recent call last):\n",
            "  File \"/usr/local/lib/python3.7/dist-packages/sklearn/model_selection/_validation.py\", line 680, in _fit_and_score\n",
            "    estimator.fit(X_train, y_train, **fit_params)\n",
            "  File \"/usr/local/lib/python3.7/dist-packages/sklearn/pipeline.py\", line 390, in fit\n",
            "    Xt = self._fit(X, y, **fit_params_steps)\n",
            "  File \"/usr/local/lib/python3.7/dist-packages/sklearn/pipeline.py\", line 355, in _fit\n",
            "    **fit_params_steps[name],\n",
            "  File \"/usr/local/lib/python3.7/dist-packages/joblib/memory.py\", line 349, in __call__\n",
            "    return self.func(*args, **kwargs)\n",
            "  File \"/usr/local/lib/python3.7/dist-packages/sklearn/pipeline.py\", line 893, in _fit_transform_one\n",
            "    res = transformer.fit_transform(X, y, **fit_params)\n",
            "  File \"/usr/local/lib/python3.7/dist-packages/sklearn/base.py\", line 855, in fit_transform\n",
            "    return self.fit(X, y, **fit_params).transform(X)\n",
            "  File \"/usr/local/lib/python3.7/dist-packages/sklearn/feature_selection/_univariate_selection.py\", line 408, in fit\n",
            "    score_func_ret = self.score_func(X, y)\n",
            "  File \"/usr/local/lib/python3.7/dist-packages/sklearn/feature_selection/_univariate_selection.py\", line 215, in chi2\n",
            "    raise ValueError(\"Input X must be non-negative.\")\n",
            "ValueError: Input X must be non-negative.\n",
            "\n",
            "  warnings.warn(some_fits_failed_message, FitFailedWarning)\n",
            "/usr/local/lib/python3.7/dist-packages/sklearn/model_selection/_validation.py:372: FitFailedWarning: \n",
            "5 fits failed out of a total of 5.\n",
            "The score on these train-test partitions for these parameters will be set to nan.\n",
            "If these failures are not expected, you can try to debug them by setting error_score='raise'.\n",
            "\n",
            "Below are more details about the failures:\n",
            "--------------------------------------------------------------------------------\n",
            "5 fits failed with the following error:\n",
            "Traceback (most recent call last):\n",
            "  File \"/usr/local/lib/python3.7/dist-packages/sklearn/model_selection/_validation.py\", line 680, in _fit_and_score\n",
            "    estimator.fit(X_train, y_train, **fit_params)\n",
            "  File \"/usr/local/lib/python3.7/dist-packages/sklearn/pipeline.py\", line 390, in fit\n",
            "    Xt = self._fit(X, y, **fit_params_steps)\n",
            "  File \"/usr/local/lib/python3.7/dist-packages/sklearn/pipeline.py\", line 355, in _fit\n",
            "    **fit_params_steps[name],\n",
            "  File \"/usr/local/lib/python3.7/dist-packages/joblib/memory.py\", line 349, in __call__\n",
            "    return self.func(*args, **kwargs)\n",
            "  File \"/usr/local/lib/python3.7/dist-packages/sklearn/pipeline.py\", line 893, in _fit_transform_one\n",
            "    res = transformer.fit_transform(X, y, **fit_params)\n",
            "  File \"/usr/local/lib/python3.7/dist-packages/sklearn/base.py\", line 855, in fit_transform\n",
            "    return self.fit(X, y, **fit_params).transform(X)\n",
            "  File \"/usr/local/lib/python3.7/dist-packages/sklearn/feature_selection/_univariate_selection.py\", line 408, in fit\n",
            "    score_func_ret = self.score_func(X, y)\n",
            "  File \"/usr/local/lib/python3.7/dist-packages/sklearn/feature_selection/_univariate_selection.py\", line 215, in chi2\n",
            "    raise ValueError(\"Input X must be non-negative.\")\n",
            "ValueError: Input X must be non-negative.\n",
            "\n",
            "  warnings.warn(some_fits_failed_message, FitFailedWarning)\n",
            "/usr/local/lib/python3.7/dist-packages/sklearn/model_selection/_validation.py:372: FitFailedWarning: \n",
            "5 fits failed out of a total of 5.\n",
            "The score on these train-test partitions for these parameters will be set to nan.\n",
            "If these failures are not expected, you can try to debug them by setting error_score='raise'.\n",
            "\n",
            "Below are more details about the failures:\n",
            "--------------------------------------------------------------------------------\n",
            "5 fits failed with the following error:\n",
            "Traceback (most recent call last):\n",
            "  File \"/usr/local/lib/python3.7/dist-packages/sklearn/model_selection/_validation.py\", line 680, in _fit_and_score\n",
            "    estimator.fit(X_train, y_train, **fit_params)\n",
            "  File \"/usr/local/lib/python3.7/dist-packages/sklearn/pipeline.py\", line 390, in fit\n",
            "    Xt = self._fit(X, y, **fit_params_steps)\n",
            "  File \"/usr/local/lib/python3.7/dist-packages/sklearn/pipeline.py\", line 355, in _fit\n",
            "    **fit_params_steps[name],\n",
            "  File \"/usr/local/lib/python3.7/dist-packages/joblib/memory.py\", line 349, in __call__\n",
            "    return self.func(*args, **kwargs)\n",
            "  File \"/usr/local/lib/python3.7/dist-packages/sklearn/pipeline.py\", line 893, in _fit_transform_one\n",
            "    res = transformer.fit_transform(X, y, **fit_params)\n",
            "  File \"/usr/local/lib/python3.7/dist-packages/sklearn/base.py\", line 855, in fit_transform\n",
            "    return self.fit(X, y, **fit_params).transform(X)\n",
            "  File \"/usr/local/lib/python3.7/dist-packages/sklearn/feature_selection/_univariate_selection.py\", line 408, in fit\n",
            "    score_func_ret = self.score_func(X, y)\n",
            "  File \"/usr/local/lib/python3.7/dist-packages/sklearn/feature_selection/_univariate_selection.py\", line 215, in chi2\n",
            "    raise ValueError(\"Input X must be non-negative.\")\n",
            "ValueError: Input X must be non-negative.\n",
            "\n",
            "  warnings.warn(some_fits_failed_message, FitFailedWarning)\n",
            "/usr/local/lib/python3.7/dist-packages/sklearn/model_selection/_validation.py:372: FitFailedWarning: \n",
            "5 fits failed out of a total of 5.\n",
            "The score on these train-test partitions for these parameters will be set to nan.\n",
            "If these failures are not expected, you can try to debug them by setting error_score='raise'.\n",
            "\n",
            "Below are more details about the failures:\n",
            "--------------------------------------------------------------------------------\n",
            "5 fits failed with the following error:\n",
            "Traceback (most recent call last):\n",
            "  File \"/usr/local/lib/python3.7/dist-packages/sklearn/model_selection/_validation.py\", line 680, in _fit_and_score\n",
            "    estimator.fit(X_train, y_train, **fit_params)\n",
            "  File \"/usr/local/lib/python3.7/dist-packages/sklearn/pipeline.py\", line 390, in fit\n",
            "    Xt = self._fit(X, y, **fit_params_steps)\n",
            "  File \"/usr/local/lib/python3.7/dist-packages/sklearn/pipeline.py\", line 355, in _fit\n",
            "    **fit_params_steps[name],\n",
            "  File \"/usr/local/lib/python3.7/dist-packages/joblib/memory.py\", line 349, in __call__\n",
            "    return self.func(*args, **kwargs)\n",
            "  File \"/usr/local/lib/python3.7/dist-packages/sklearn/pipeline.py\", line 893, in _fit_transform_one\n",
            "    res = transformer.fit_transform(X, y, **fit_params)\n",
            "  File \"/usr/local/lib/python3.7/dist-packages/sklearn/base.py\", line 855, in fit_transform\n",
            "    return self.fit(X, y, **fit_params).transform(X)\n",
            "  File \"/usr/local/lib/python3.7/dist-packages/sklearn/feature_selection/_univariate_selection.py\", line 408, in fit\n",
            "    score_func_ret = self.score_func(X, y)\n",
            "  File \"/usr/local/lib/python3.7/dist-packages/sklearn/feature_selection/_univariate_selection.py\", line 215, in chi2\n",
            "    raise ValueError(\"Input X must be non-negative.\")\n",
            "ValueError: Input X must be non-negative.\n",
            "\n",
            "  warnings.warn(some_fits_failed_message, FitFailedWarning)\n",
            "/usr/local/lib/python3.7/dist-packages/sklearn/model_selection/_validation.py:372: FitFailedWarning: \n",
            "5 fits failed out of a total of 5.\n",
            "The score on these train-test partitions for these parameters will be set to nan.\n",
            "If these failures are not expected, you can try to debug them by setting error_score='raise'.\n",
            "\n",
            "Below are more details about the failures:\n",
            "--------------------------------------------------------------------------------\n",
            "5 fits failed with the following error:\n",
            "Traceback (most recent call last):\n",
            "  File \"/usr/local/lib/python3.7/dist-packages/sklearn/model_selection/_validation.py\", line 680, in _fit_and_score\n",
            "    estimator.fit(X_train, y_train, **fit_params)\n",
            "  File \"/usr/local/lib/python3.7/dist-packages/sklearn/pipeline.py\", line 390, in fit\n",
            "    Xt = self._fit(X, y, **fit_params_steps)\n",
            "  File \"/usr/local/lib/python3.7/dist-packages/sklearn/pipeline.py\", line 355, in _fit\n",
            "    **fit_params_steps[name],\n",
            "  File \"/usr/local/lib/python3.7/dist-packages/joblib/memory.py\", line 349, in __call__\n",
            "    return self.func(*args, **kwargs)\n",
            "  File \"/usr/local/lib/python3.7/dist-packages/sklearn/pipeline.py\", line 893, in _fit_transform_one\n",
            "    res = transformer.fit_transform(X, y, **fit_params)\n",
            "  File \"/usr/local/lib/python3.7/dist-packages/sklearn/base.py\", line 855, in fit_transform\n",
            "    return self.fit(X, y, **fit_params).transform(X)\n",
            "  File \"/usr/local/lib/python3.7/dist-packages/sklearn/feature_selection/_univariate_selection.py\", line 408, in fit\n",
            "    score_func_ret = self.score_func(X, y)\n",
            "  File \"/usr/local/lib/python3.7/dist-packages/sklearn/feature_selection/_univariate_selection.py\", line 215, in chi2\n",
            "    raise ValueError(\"Input X must be non-negative.\")\n",
            "ValueError: Input X must be non-negative.\n",
            "\n",
            "  warnings.warn(some_fits_failed_message, FitFailedWarning)\n"
          ]
        },
        {
          "output_type": "display_data",
          "data": {
            "text/plain": [
              "<Figure size 432x288 with 1 Axes>"
            ],
            "image/png": "[encoded data removed]"
          },
          "metadata": {
            "needs_background": "light"
          }
        }
      ]
    },
    {
      "cell_type": "code",
      "source": [
        "dataset.var()"
      ],
      "metadata": {
        "colab": {
          "base_uri": "https://localhost:8080/"
        },
        "id": "AHsFMp2DLWZp",
        "outputId": "3393ba32-6eb2-4683-b8dd-53ae967b58de"
      },
      "execution_count": null,
      "outputs": [
        {
          "output_type": "execute_result",
          "data": {
            "text/plain": [
              "Sl     936303.885513\n",
              "VZ          2.031905\n",
              "GW          2.968879\n",
              "M           0.000097\n",
              "R           0.000039\n",
              "C           0.000012\n",
              "B           0.000145\n",
              "E           3.343450\n",
              "BA      26975.710701\n",
              "A       37977.632132\n",
              "TWI         5.682391\n",
              "TPI         0.299084\n",
              "CR          0.028944\n",
              "AS      13507.805311\n",
              "SO          0.020119\n",
              "L           1.033323\n",
              "dtype: float64"
            ]
          },
          "metadata": {},
          "execution_count": 187
        }
      ]
    },
    {
      "cell_type": "code",
      "source": [
        "pip install qiskit"
      ],
      "metadata": {
        "colab": {
          "base_uri": "https://localhost:8080/"
        },
        "id": "VEUl0EdOuXWt",
        "outputId": "976dd2e2-b34a-4b4d-a936-674338c24af9"
      },
      "execution_count": null,
      "outputs": [
        {
          "output_type": "stream",
          "name": "stdout",
          "text": [
            "Looking in indexes: https://pypi.org/simple, https://us-python.pkg.dev/colab-wheels/public/simple/\n",
            "Requirement already satisfied: qiskit in /usr/local/lib/python3.7/dist-packages (0.38.0)\n",
            "Requirement already satisfied: qiskit-aer==0.11.0 in /usr/local/lib/python3.7/dist-packages (from qiskit) (0.11.0)\n",
            "Requirement already satisfied: qiskit-terra==0.21.2 in /usr/local/lib/python3.7/dist-packages (from qiskit) (0.21.2)\n",
            "Requirement already satisfied: qiskit-ibmq-provider==0.19.2 in /usr/local/lib/python3.7/dist-packages (from qiskit) (0.19.2)\n",
            "Requirement already satisfied: numpy>=1.16.3 in /usr/local/lib/python3.7/dist-packages (from qiskit-aer==0.11.0->qiskit) (1.21.6)\n",
            "Requirement already satisfied: scipy>=1.0 in /usr/local/lib/python3.7/dist-packages (from qiskit-aer==0.11.0->qiskit) (1.7.3)\n",
            "Requirement already satisfied: python-dateutil>=2.8.0 in /usr/local/lib/python3.7/dist-packages (from qiskit-ibmq-provider==0.19.2->qiskit) (2.8.2)\n",
            "Requirement already satisfied: urllib3>=1.21.1 in /usr/local/lib/python3.7/dist-packages (from qiskit-ibmq-provider==0.19.2->qiskit) (1.24.3)\n",
            "Requirement already satisfied: requests-ntlm>=1.1.0 in /usr/local/lib/python3.7/dist-packages (from qiskit-ibmq-provider==0.19.2->qiskit) (1.1.0)\n",
            "Requirement already satisfied: websockets>=10.0 in /usr/local/lib/python3.7/dist-packages (from qiskit-ibmq-provider==0.19.2->qiskit) (10.3)\n",
            "Requirement already satisfied: requests>=2.19 in /usr/local/lib/python3.7/dist-packages (from qiskit-ibmq-provider==0.19.2->qiskit) (2.23.0)\n",
            "Requirement already satisfied: websocket-client>=1.0.1 in /usr/local/lib/python3.7/dist-packages (from qiskit-ibmq-provider==0.19.2->qiskit) (1.4.1)\n",
            "Requirement already satisfied: psutil>=5 in /usr/local/lib/python3.7/dist-packages (from qiskit-terra==0.21.2->qiskit) (5.4.8)\n",
            "Requirement already satisfied: typing-extensions in /usr/local/lib/python3.7/dist-packages (from qiskit-terra==0.21.2->qiskit) (4.1.1)\n",
            "Requirement already satisfied: tweedledum<2.0,>=1.1 in /usr/local/lib/python3.7/dist-packages (from qiskit-terra==0.21.2->qiskit) (1.1.1)\n",
            "Requirement already satisfied: shared-memory38 in /usr/local/lib/python3.7/dist-packages (from qiskit-terra==0.21.2->qiskit) (0.1.2)\n",
            "Requirement already satisfied: symengine>=0.9 in /usr/local/lib/python3.7/dist-packages (from qiskit-terra==0.21.2->qiskit) (0.9.2)\n",
            "Requirement already satisfied: sympy>=1.3 in /usr/local/lib/python3.7/dist-packages (from qiskit-terra==0.21.2->qiskit) (1.7.1)\n",
            "Requirement already satisfied: dill>=0.3 in /usr/local/lib/python3.7/dist-packages (from qiskit-terra==0.21.2->qiskit) (0.3.5.1)\n",
            "Requirement already satisfied: stevedore>=3.0.0 in /usr/local/lib/python3.7/dist-packages (from qiskit-terra==0.21.2->qiskit) (3.5.0)\n",
            "Requirement already satisfied: ply>=3.10 in /usr/local/lib/python3.7/dist-packages (from qiskit-terra==0.21.2->qiskit) (3.11)\n",
            "Requirement already satisfied: retworkx>=0.11.0 in /usr/local/lib/python3.7/dist-packages (from qiskit-terra==0.21.2->qiskit) (0.11.0)\n",
            "Requirement already satisfied: six>=1.5 in /usr/local/lib/python3.7/dist-packages (from python-dateutil>=2.8.0->qiskit-ibmq-provider==0.19.2->qiskit) (1.15.0)\n",
            "Requirement already satisfied: idna<3,>=2.5 in /usr/local/lib/python3.7/dist-packages (from requests>=2.19->qiskit-ibmq-provider==0.19.2->qiskit) (2.10)\n",
            "Requirement already satisfied: chardet<4,>=3.0.2 in /usr/local/lib/python3.7/dist-packages (from requests>=2.19->qiskit-ibmq-provider==0.19.2->qiskit) (3.0.4)\n",
            "Requirement already satisfied: certifi>=2017.4.17 in /usr/local/lib/python3.7/dist-packages (from requests>=2.19->qiskit-ibmq-provider==0.19.2->qiskit) (2022.6.15)\n",
            "Requirement already satisfied: cryptography>=1.3 in /usr/local/lib/python3.7/dist-packages (from requests-ntlm>=1.1.0->qiskit-ibmq-provider==0.19.2->qiskit) (38.0.1)\n",
            "Requirement already satisfied: ntlm-auth>=1.0.2 in /usr/local/lib/python3.7/dist-packages (from requests-ntlm>=1.1.0->qiskit-ibmq-provider==0.19.2->qiskit) (1.5.0)\n",
            "Requirement already satisfied: cffi>=1.12 in /usr/local/lib/python3.7/dist-packages (from cryptography>=1.3->requests-ntlm>=1.1.0->qiskit-ibmq-provider==0.19.2->qiskit) (1.15.1)\n",
            "Requirement already satisfied: pycparser in /usr/local/lib/python3.7/dist-packages (from cffi>=1.12->cryptography>=1.3->requests-ntlm>=1.1.0->qiskit-ibmq-provider==0.19.2->qiskit) (2.21)\n",
            "Requirement already satisfied: pbr!=2.1.0,>=2.0.0 in /usr/local/lib/python3.7/dist-packages (from stevedore>=3.0.0->qiskit-terra==0.21.2->qiskit) (5.10.0)\n",
            "Requirement already satisfied: importlib-metadata>=1.7.0 in /usr/local/lib/python3.7/dist-packages (from stevedore>=3.0.0->qiskit-terra==0.21.2->qiskit) (4.12.0)\n",
            "Requirement already satisfied: zipp>=0.5 in /usr/local/lib/python3.7/dist-packages (from importlib-metadata>=1.7.0->stevedore>=3.0.0->qiskit-terra==0.21.2->qiskit) (3.8.1)\n",
            "Requirement already satisfied: mpmath>=0.19 in /usr/local/lib/python3.7/dist-packages (from sympy>=1.3->qiskit-terra==0.21.2->qiskit) (1.2.1)\n"
          ]
        }
      ]
    },
    {
      "cell_type": "code",
      "source": [
        "import warnings\n",
        "from typing import Optional\n",
        "from qiskit.utils.algorithm_globals import algorithm_globals\n",
        "from sklearn.svm import SVC"
      ],
      "metadata": {
        "id": "s1gh6iZnuVBM"
      },
      "execution_count": null,
      "outputs": []
    },
    {
      "cell_type": "code",
      "source": [
        "import numpy as np\n",
        "from qiskit import QuantumCircuit, ClassicalRegister, QuantumRegister\n",
        "from qiskit import execute"
      ],
      "metadata": {
        "id": "0BUp7vwBEXmG"
      },
      "execution_count": null,
      "outputs": []
    },
    {
      "cell_type": "code",
      "source": [
        "import numpy as np\n",
        "from qiskit import QuantumCircuit\n",
        "from qiskit.circuit import ParameterVector\n",
        "from qiskit.providers.aer import AerSimulator\n",
        "\n",
        "from qiskit_machine_learning.algorithms import QSVC\n",
        "from qiskit_machine_learning.kernels import QuantumKernel\n",
        "\n",
        "if __name__ == '__main__':\n",
        "    qc = QuantumCircuit(2)\n",
        "    params = ParameterVector(\"x\", 2)\n",
        "    qc.ry(params[0], 0)\n",
        "    qc.rx(params[1], 1)\n",
        "    qk = QuantumKernel(qc, quantum_instance=AerSimulator())\n",
        "\n",
        "    features = np.random.random(20)\n",
        "    features = 2 * features - 1\n",
        "    features = features.reshape(-1, 2)\n",
        "    labels = np.sign(features[:, 0] * features[:, 1])\n",
        "\n",
        "    qsvc = QSVC(quantum_kernel=qk)\n",
        "    qsvc.fit(features, labels)\n",
        "    score = qsvc.score(features, labels)\n",
        "    print(score)"
      ],
      "metadata": {
        "id": "nZlDbS0XFlw_",
        "outputId": "c0e68587-cd99-4642-d387-012ffa7079be",
        "colab": {
          "base_uri": "https://localhost:8080/",
          "height": 374
        }
      },
      "execution_count": null,
      "outputs": [
        {
          "output_type": "error",
          "ename": "ModuleNotFoundError",
          "evalue": "ignored",
          "traceback": [
            "\u001b[0;31m---------------------------------------------------------------------------\u001b[0m",
            "\u001b[0;31mModuleNotFoundError\u001b[0m                       Traceback (most recent call last)",
            "\u001b[0;32m<ipython-input-193-b48ed0afae96>\u001b[0m in \u001b[0;36m<module>\u001b[0;34m\u001b[0m\n\u001b[1;32m      4\u001b[0m \u001b[0;32mfrom\u001b[0m \u001b[0mqiskit\u001b[0m\u001b[0;34m.\u001b[0m\u001b[0mproviders\u001b[0m\u001b[0;34m.\u001b[0m\u001b[0maer\u001b[0m \u001b[0;32mimport\u001b[0m \u001b[0mAerSimulator\u001b[0m\u001b[0;34m\u001b[0m\u001b[0;34m\u001b[0m\u001b[0m\n\u001b[1;32m      5\u001b[0m \u001b[0;34m\u001b[0m\u001b[0m\n\u001b[0;32m----> 6\u001b[0;31m \u001b[0;32mfrom\u001b[0m \u001b[0mqiskit_machine_learning\u001b[0m\u001b[0;34m.\u001b[0m\u001b[0malgorithms\u001b[0m \u001b[0;32mimport\u001b[0m \u001b[0mQSVC\u001b[0m\u001b[0;34m\u001b[0m\u001b[0;34m\u001b[0m\u001b[0m\n\u001b[0m\u001b[1;32m      7\u001b[0m \u001b[0;32mfrom\u001b[0m \u001b[0mqiskit_machine_learning\u001b[0m\u001b[0;34m.\u001b[0m\u001b[0mkernels\u001b[0m \u001b[0;32mimport\u001b[0m \u001b[0mQuantumKernel\u001b[0m\u001b[0;34m\u001b[0m\u001b[0;34m\u001b[0m\u001b[0m\n\u001b[1;32m      8\u001b[0m \u001b[0;34m\u001b[0m\u001b[0m\n",
            "\u001b[0;31mModuleNotFoundError\u001b[0m: No module named 'qiskit_machine_learning'",
            "",
            "\u001b[0;31m---------------------------------------------------------------------------\u001b[0;32m\nNOTE: If your import is failing due to a missing package, you can\nmanually install dependencies using either !pip or !apt.\n\nTo view examples of installing some common dependencies, click the\n\"Open Examples\" button below.\n\u001b[0;31m---------------------------------------------------------------------------\u001b[0m\n"
          ],
          "errorDetails": {
            "actions": [
              {
                "action": "open_url",
                "actionText": "Open Examples",
                "url": "/notebooks/snippets/importing_libraries.ipynb"
              }
            ]
          }
        }
      ]
    },
    {
      "cell_type": "code",
      "source": [
        "#from qiskit_machine_learning.algorithms.serializable_model import SerializableModelMixin\n",
        "#rom qiskit_machine_learning.exceptions import QiskitMachineLearningWarning\n",
        "#from qiskit_machine_learning.kernels.quantum_kernel import QuantumKernel"
      ],
      "metadata": {
        "id": "MlhqAc8YEPlB"
      },
      "execution_count": null,
      "outputs": []
    },
    {
      "cell_type": "code",
      "source": [
        "qsvc = QSVC(quantum_kernel=qkernel)\n",
        "qsvc.fit(X_train, y_train)\n",
        "qsvc.predict(X_test)"
      ],
      "metadata": {
        "id": "NGC2oc0at6Kh"
      },
      "execution_count": null,
      "outputs": []
    }
  ],
  "metadata": {
    "colab": {
      "provenance": []
    },
    "kernelspec": {
      "display_name": "Python 3",
      "name": "python3"
    },
    "language_info": {
      "name": "python"
    }
  },
  "nbformat": 4,
  "nbformat_minor": 0
}
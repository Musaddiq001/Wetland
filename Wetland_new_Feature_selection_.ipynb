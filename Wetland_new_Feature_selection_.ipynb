{
  "nbformat": 4,
  "nbformat_minor": 0,
  "metadata": {
    "colab": {
      "provenance": []
    },
    "kernelspec": {
      "name": "python3",
      "display_name": "Python 3"
    },
    "language_info": {
      "name": "python"
    }
  },
  "cells": [
    {
      "cell_type": "code",
      "execution_count": null,
      "metadata": {
        "id": "ofRYQRYNQm3G"
      },
      "outputs": [],
      "source": [
        "import numpy as np\n",
        "import matplotlib.pyplot as plt\n",
        "import pandas as pd\n",
        "from sklearn.metrics import classification_report\n",
        "from sklearn.metrics import accuracy_score"
      ]
    },
    {
      "cell_type": "code",
      "source": [
        "dataset.head()"
      ],
      "metadata": {
        "id": "oO30_NV8QzBg"
      },
      "execution_count": null,
      "outputs": []
    },
    {
      "cell_type": "code",
      "source": [
        "dataset = dataset.drop(columns = ['Sl no'])"
      ],
      "metadata": {
        "id": "_z05gVcy1lyU"
      },
      "execution_count": null,
      "outputs": []
    },
    {
      "cell_type": "code",
      "source": [
        "dataset.info()"
      ],
      "metadata": {
        "colab": {
          "base_uri": "https://localhost:8080/"
        },
        "id": "ppbbL-IEUVZQ",
        "outputId": "299c119d-8557-466a-cc51-ea8d089788fd"
      },
      "execution_count": null,
      "outputs": [
        {
          "output_type": "stream",
          "name": "stdout",
          "text": [
            "<class 'pandas.core.frame.DataFrame'>\n",
            "RangeIndex: 636 entries, 0 to 635\n",
            "Data columns (total 14 columns):\n",
            " #   Column  Non-Null Count  Dtype  \n",
            "---  ------  --------------  -----  \n",
            " 0   V       636 non-null    float64\n",
            " 1   S       636 non-null    float64\n",
            " 2   B       636 non-null    float64\n",
            " 3   A       636 non-null    float64\n",
            " 4   M       636 non-null    float64\n",
            " 5   BO      636 non-null    float64\n",
            " 6   C       636 non-null    float64\n",
            " 7   R       636 non-null    float64\n",
            " 8   D       636 non-null    int64  \n",
            " 9   SL      636 non-null    float64\n",
            " 10  P       636 non-null    float64\n",
            " 11  ST      636 non-null    int64  \n",
            " 12  GW      636 non-null    int64  \n",
            " 13  LW      636 non-null    int64  \n",
            "dtypes: float64(10), int64(4)\n",
            "memory usage: 69.7 KB\n"
          ]
        }
      ]
    },
    {
      "cell_type": "code",
      "source": [
        "X = dataset.iloc[:,:-1]\n",
        "Y = dataset.iloc[:,-1]"
      ],
      "metadata": {
        "id": "bMdhiGqLTT2R"
      },
      "execution_count": null,
      "outputs": []
    },
    {
      "cell_type": "code",
      "source": [
        "from sklearn.preprocessing import StandardScaler\n",
        "from sklearn.pipeline import make_pipeline\n",
        "from sklearn.model_selection import KFold\n",
        "from sklearn.neighbors import KNeighborsRegressor\n",
        "from sklearn.metrics import mean_squared_error, r2_score\n",
        "from sklearn.model_selection import cross_val_predict\n",
        "from sklearn.linear_model import LinearRegression\n",
        "from math import sqrt"
      ],
      "metadata": {
        "id": "0PQ7Bg7tQ73w"
      },
      "execution_count": null,
      "outputs": []
    },
    {
      "cell_type": "code",
      "source": [
        "cv = KFold(n_splits= 10, shuffle = False)\n",
        "classifier_pipeline = make_pipeline(StandardScaler(), KNeighborsRegressor(n_neighbors = 10))\n",
        "y_pred = cross_val_predict(classifier_pipeline, X,Y,cv=cv)\n",
        "print(\"RMSE: \" + str(round(sqrt(mean_squared_error(Y,y_pred)),2)))\n",
        "print(\"R_squared: \" + str(round(sqrt(r2_score(Y,y_pred)),2)))"
      ],
      "metadata": {
        "colab": {
          "base_uri": "https://localhost:8080/"
        },
        "id": "SsGVZwRjRG4V",
        "outputId": "cf3bb15e-0f6e-4f59-d19e-7d391f4efb7e"
      },
      "execution_count": null,
      "outputs": [
        {
          "output_type": "stream",
          "name": "stdout",
          "text": [
            "RMSE: 0.65\n",
            "R_squared: 0.25\n"
          ]
        }
      ]
    },
    {
      "cell_type": "code",
      "source": [
        "print(y_pred)"
      ],
      "metadata": {
        "id": "Jn5tPnh4aH3a",
        "outputId": "2729832d-a479-4fb2-ceb2-7f60229bbadb",
        "colab": {
          "base_uri": "https://localhost:8080/"
        }
      },
      "execution_count": null,
      "outputs": [
        {
          "output_type": "stream",
          "name": "stdout",
          "text": [
            "[1.6 1.9 1.3 1.6 1.8 1.9 2.  1.5 2.1 3.3 3.1 2.2 2.1 2.2 2.1 2.  2.1 2.\n",
            " 2.3 2.  2.2 2.  2.2 2.  1.9 2.  2.1 1.7 2.  1.3 2.6 2.1 2.5 1.8 1.7 1.7\n",
            " 1.7 1.7 2.9 1.7 1.8 2.2 2.2 1.8 1.9 2.3 2.2 2.1 1.9 2.1 1.9 2.1 1.9 2.1\n",
            " 2.  2.1 2.  1.9 2.  1.9 2.5 2.8 2.5 1.8 1.4 1.6 1.8 1.7 1.8 1.6 2.  2.3\n",
            " 1.9 2.  1.8 2.  2.2 2.4 2.  1.9 1.6 1.7 2.2 2.2 2.2 2.1 1.9 2.1 2.1 1.6\n",
            " 2.1 1.8 1.8 1.8 1.7 1.8 1.4 1.7 1.3 1.5 1.9 1.7 2.  2.  1.9 1.9 1.7 1.8\n",
            " 1.9 1.5 1.4 1.7 2.  2.1 2.1 2.2 2.  2.3 1.8 1.7 1.7 1.9 1.8 2.  1.6 1.5\n",
            " 1.5 1.2 1.6 1.9 1.7 1.9 2.1 1.9 2.  1.7 1.6 1.7 1.8 1.9 1.6 1.9 1.6 1.7\n",
            " 2.  2.  1.7 1.7 1.8 1.8 1.4 1.5 1.4 1.9 1.8 1.7 1.5 1.7 2.1 1.9 2.  2.5\n",
            " 1.6 1.5 1.8 1.8 2.  2.  2.3 2.2 1.4 1.4 1.9 2.  2.2 2.1 2.4 2.  2.7 2.\n",
            " 1.9 2.3 2.4 1.5 2.2 1.9 2.1 2.3 1.7 3.2 3.1 2.  1.7 1.9 1.7 1.9 1.8 1.6\n",
            " 1.8 2.1 2.1 2.1 2.1 1.9 2.  2.2 2.1 1.9 1.7 1.8 1.6 1.9 1.7 1.6 1.6 1.8\n",
            " 2.  1.9 1.6 2.9 3.1 2.9 2.1 1.9 1.5 2.1 1.5 2.1 2.  2.3 2.2 2.  2.2 2.\n",
            " 2.2 2.3 1.8 1.9 2.3 2.  1.5 1.8 1.8 1.8 1.9 1.9 1.8 1.9 2.  1.5 2.3 2.4\n",
            " 1.6 2.  1.9 1.8 2.  2.6 1.6 2.9 2.4 2.  1.9 1.7 2.  2.1 2.9 2.4 1.8 1.9\n",
            " 1.9 1.6 1.9 1.8 2.  1.8 2.  1.8 1.6 1.7 1.8 1.7 2.  1.5 2.3 1.8 1.7 3.2\n",
            " 2.5 1.7 2.5 2.6 2.  2.1 2.3 2.  1.9 2.  1.9 1.9 1.9 1.8 1.7 1.8 1.4 2.2\n",
            " 1.7 1.5 1.5 2.  1.9 1.7 1.9 2.  2.2 1.8 1.7 1.9 2.1 1.9 2.2 2.8 1.8 1.7\n",
            " 2.5 2.3 2.1 2.4 2.1 2.5 2.1 2.1 1.9 2.  1.9 1.8 2.5 1.6 2.2 2.2 2.  1.8\n",
            " 2.6 2.2 1.9 1.9 1.9 1.4 1.7 1.8 1.7 2.  1.7 1.4 1.7 2.1 2.1 2.  2.6 1.7\n",
            " 2.1 2.2 2.  1.8 1.6 1.7 2.1 1.8 2.  1.8 1.8 1.7 1.8 2.  1.6 1.8 2.2 2.\n",
            " 2.  1.7 2.  1.9 1.7 1.5 1.5 1.6 1.6 1.6 2.  2.3 1.8 2.  1.7 1.8 2.2 1.7\n",
            " 1.6 1.7 1.8 2.9 2.3 2.  2.  2.  1.7 1.7 2.  1.9 2.  1.8 1.9 1.9 2.  1.6\n",
            " 1.8 1.6 1.6 1.7 1.6 1.7 1.6 2.2 2.1 1.9 1.7 1.3 1.5 1.8 1.9 1.9 1.9 1.9\n",
            " 2.3 2.  2.  2.  2.7 2.5 2.2 2.  1.9 1.7 2.  2.2 1.4 2.  2.6 1.8 1.7 1.7\n",
            " 1.6 1.7 1.8 1.9 1.9 1.6 1.9 1.8 1.6 1.7 1.6 1.6 2.1 1.6 1.9 1.9 1.8 2.3\n",
            " 1.8 2.  2.2 1.8 1.7 1.7 1.7 1.6 1.8 1.9 1.8 1.9 1.7 1.9 1.9 1.7 2.2 1.8\n",
            " 2.  1.6 1.8 2.2 1.8 2.  1.5 2.2 2.2 2.1 2.1 2.6 3.1 2.  1.7 1.9 1.7 2.1\n",
            " 1.7 1.6 1.9 1.7 1.9 1.8 1.5 1.8 2.  2.  2.  1.8 1.9 1.8 1.8 2.  1.9 1.7\n",
            " 1.7 2.2 1.7 1.8 1.8 1.8 1.4 1.6 1.8 1.7 1.7 1.5 2.3 1.7 2.2 1.6 1.9 1.8\n",
            " 1.9 1.7 1.6 2.1 1.7 1.7 1.3 1.6 1.8 2.2 1.7 1.7 1.5 1.6 2.  2.1 1.5 2.\n",
            " 2.3 2.2 1.7 1.7 1.8 2.1 1.6 1.8 1.8 1.7 1.8 1.5 1.7 1.8 1.7 1.9 1.9 2.\n",
            " 2.  2.  2.  2.1 1.6 2.1 2.  1.8 1.8 1.9 1.9 1.8 2.2 2.3 1.8 1.7 1.9 1.7\n",
            " 1.5 2.  2.  2.2 1.8 1.9 2.  1.9 1.9 1.8 2.  2.1 1.8 1.9 2.  1.9 2.  1.7\n",
            " 1.8 2.  1.9 1.6 1.6 1.6 1.6 1.5 1.6 1.8 1.6 1.6 1.7 2.  1.6 1.4 2.  1.9\n",
            " 1.9 2.1 2.1 2.  2.  1.9]\n"
          ]
        }
      ]
    },
    {
      "cell_type": "markdown",
      "source": [
        "**Feature Variance**"
      ],
      "metadata": {
        "id": "jXp2s-twuwpM"
      }
    },
    {
      "cell_type": "code",
      "source": [
        "dataset.var()"
      ],
      "metadata": {
        "colab": {
          "base_uri": "https://localhost:8080/"
        },
        "id": "390BgpKTSFHR",
        "outputId": "77bc9dfc-df47-422f-afef-1dab5379c8e1"
      },
      "execution_count": null,
      "outputs": [
        {
          "output_type": "execute_result",
          "data": {
            "text/plain": [
              "V      37635.068672\n",
              "S     106481.463426\n",
              "B      16181.201715\n",
              "A       9383.367692\n",
              "M          0.000176\n",
              "BO         0.000162\n",
              "C          0.000020\n",
              "R          0.000051\n",
              "D          8.350109\n",
              "SL         0.346447\n",
              "P         81.533616\n",
              "ST         0.493379\n",
              "GW         3.358520\n",
              "LW         0.455049\n",
              "dtype: float64"
            ]
          },
          "metadata": {},
          "execution_count": 8
        }
      ]
    },
    {
      "cell_type": "code",
      "source": [
        "X = X.drop(columns = ['M','BO','C','R','SL','ST'])"
      ],
      "metadata": {
        "id": "2dTIEpNgUA0p"
      },
      "execution_count": null,
      "outputs": []
    },
    {
      "cell_type": "code",
      "source": [
        "print(\"RMSE: \" + str(round(sqrt(mean_squared_error(Y,y_pred)),2)))\n",
        "print(\"R_squared: \" + str(round(sqrt(r2_score(Y,y_pred)),2)))"
      ],
      "metadata": {
        "colab": {
          "base_uri": "https://localhost:8080/"
        },
        "id": "P18kVnceUcBf",
        "outputId": "e9e86b88-4403-4dc7-d314-c407d77426a4"
      },
      "execution_count": null,
      "outputs": [
        {
          "output_type": "stream",
          "name": "stdout",
          "text": [
            "RMSE: 0.65\n",
            "R_squared: 0.25\n"
          ]
        }
      ]
    },
    {
      "cell_type": "markdown",
      "source": [
        "**Filter features by correlation**"
      ],
      "metadata": {
        "id": "qwq5D72tu7VH"
      }
    },
    {
      "cell_type": "code",
      "source": [
        "import seaborn as sn\n",
        "import matplotlib.pyplot as plt"
      ],
      "metadata": {
        "id": "IXqk77A8TZGp"
      },
      "execution_count": null,
      "outputs": []
    },
    {
      "cell_type": "code",
      "source": [
        "fig_dims = (12,8)\n",
        "fig, ax = plt.subplots(figsize = fig_dims)\n",
        "sn.heatmap(dataset.corr(), ax= ax)\n",
        "plt.show()"
      ],
      "metadata": {
        "colab": {
          "base_uri": "https://localhost:8080/",
          "height": 487
        },
        "id": "Um8lBnj3vwrg",
        "outputId": "2b3d283d-4094-4531-ba36-dd28e0a55950"
      },
      "execution_count": null,
      "outputs": [
        {
          "output_type": "display_data",
          "data": {
            "text/plain": [
              "<Figure size 864x576 with 2 Axes>"
            ],
            "image/png": "[encoded data removed]"
          },
          "metadata": {
            "needs_background": "light"
          }
        }
      ]
    },
    {
      "cell_type": "code",
      "source": [
        "dataset.corr()[\"LW\"]"
      ],
      "metadata": {
        "colab": {
          "base_uri": "https://localhost:8080/"
        },
        "id": "CpXU6QhJv-pD",
        "outputId": "b9b8ade8-a9f7-42fb-b41a-e804ba337fc7"
      },
      "execution_count": null,
      "outputs": [
        {
          "output_type": "execute_result",
          "data": {
            "text/plain": [
              "V     0.242925\n",
              "S     0.060368\n",
              "B     0.238306\n",
              "A     0.349617\n",
              "M    -0.114296\n",
              "BO    0.136887\n",
              "C    -0.045181\n",
              "R     0.123031\n",
              "D    -0.091393\n",
              "SL   -0.056959\n",
              "P    -0.002229\n",
              "ST    0.042684\n",
              "GW   -0.042638\n",
              "LW    1.000000\n",
              "Name: LW, dtype: float64"
            ]
          },
          "metadata": {},
          "execution_count": 13
        }
      ]
    },
    {
      "cell_type": "code",
      "source": [
        "abs(dataset.corr()[\"LW\"][abs(dataset.corr()[\"LW\"])>0.5].drop(\"LW\")).index.tolist()"
      ],
      "metadata": {
        "colab": {
          "base_uri": "https://localhost:8080/"
        },
        "id": "o23amFDc16e2",
        "outputId": "72ea36af-d194-4c26-8d50-25970ad74b95"
      },
      "execution_count": null,
      "outputs": [
        {
          "output_type": "execute_result",
          "data": {
            "text/plain": [
              "[]"
            ]
          },
          "metadata": {},
          "execution_count": 14
        }
      ]
    },
    {
      "cell_type": "code",
      "source": [
        "vals = [0.1 , 0.2, 0.3, 0.4, 0.5, 0.6, 0.7]\n",
        "for val in vals:\n",
        "  features = abs(dataset.corr()[\"LW\"][abs(dataset.corr()[\"LW\"])>0.2].drop(\"LW\")).index.tolist()\n",
        "\n",
        "  X = dataset.drop(columns = 'LW')\n",
        "  X = X[features]\n",
        "\n",
        "  print(features)\n",
        "\n",
        "  y_pred = cross_val_predict(classifier_pipeline, X, Y, cv=cv)\n",
        "  print(\"RMSE: \" + str(round(sqrt(mean_squared_error(Y,y_pred)),2)))\n",
        "  print(\"R_squared: \" + str(round(sqrt(r2_score(Y,y_pred)),2)))\n"
      ],
      "metadata": {
        "colab": {
          "base_uri": "https://localhost:8080/"
        },
        "id": "5rNaOXUEk0zW",
        "outputId": "4e637e3a-2647-4935-cd12-8210eda9c7aa"
      },
      "execution_count": null,
      "outputs": [
        {
          "output_type": "stream",
          "name": "stdout",
          "text": [
            "['V', 'B', 'A']\n",
            "RMSE: 0.67\n",
            "R_squared: 0.12\n",
            "['V', 'B', 'A']\n",
            "RMSE: 0.67\n",
            "R_squared: 0.12\n",
            "['V', 'B', 'A']\n",
            "RMSE: 0.67\n",
            "R_squared: 0.12\n",
            "['V', 'B', 'A']\n",
            "RMSE: 0.67\n",
            "R_squared: 0.12\n",
            "['V', 'B', 'A']\n",
            "RMSE: 0.67\n",
            "R_squared: 0.12\n",
            "['V', 'B', 'A']\n",
            "RMSE: 0.67\n",
            "R_squared: 0.12\n",
            "['V', 'B', 'A']\n",
            "RMSE: 0.67\n",
            "R_squared: 0.12\n"
          ]
        }
      ]
    },
    {
      "cell_type": "code",
      "source": [
        "df = pd.read_csv('/content/drive/MyDrive/ML/MC.csv')\n",
        "df = df.drop(columns = ['Sl no'])\n",
        "X = df.drop(columns='LW')\n",
        "y = df.LW"
      ],
      "metadata": {
        "id": "U7B0JzAF4FuE"
      },
      "execution_count": null,
      "outputs": []
    },
    {
      "cell_type": "code",
      "source": [
        "df.info()"
      ],
      "metadata": {
        "colab": {
          "base_uri": "https://localhost:8080/"
        },
        "id": "691PsaXbpx6D",
        "outputId": "fc1dea1e-7ccc-4c18-aa45-0d75e99c1e98"
      },
      "execution_count": null,
      "outputs": [
        {
          "output_type": "stream",
          "name": "stdout",
          "text": [
            "<class 'pandas.core.frame.DataFrame'>\n",
            "RangeIndex: 636 entries, 0 to 635\n",
            "Data columns (total 14 columns):\n",
            " #   Column  Non-Null Count  Dtype  \n",
            "---  ------  --------------  -----  \n",
            " 0   V       636 non-null    float64\n",
            " 1   S       636 non-null    float64\n",
            " 2   B       636 non-null    float64\n",
            " 3   A       636 non-null    float64\n",
            " 4   M       636 non-null    float64\n",
            " 5   BO      636 non-null    float64\n",
            " 6   C       636 non-null    float64\n",
            " 7   R       636 non-null    float64\n",
            " 8   D       636 non-null    int64  \n",
            " 9   SL      636 non-null    float64\n",
            " 10  P       636 non-null    float64\n",
            " 11  ST      636 non-null    int64  \n",
            " 12  GW      636 non-null    int64  \n",
            " 13  LW      636 non-null    int64  \n",
            "dtypes: float64(10), int64(4)\n",
            "memory usage: 69.7 KB\n"
          ]
        }
      ]
    },
    {
      "cell_type": "code",
      "source": [
        "X"
      ],
      "metadata": {
        "colab": {
          "base_uri": "https://localhost:8080/",
          "height": 423
        },
        "id": "wklsMRtjpxyS",
        "outputId": "f522e630-c6ed-453b-cadc-9f71f549e739"
      },
      "execution_count": null,
      "outputs": [
        {
          "output_type": "execute_result",
          "data": {
            "text/plain": [
              "              V           S           B          A         M        BO  \\\n",
              "0    134.164002   30.000000    0.000000  30.000000  0.019974  0.001929   \n",
              "1    271.661987   30.000000    0.000000  30.000000  0.017091  0.004117   \n",
              "2     42.426399   60.000000   30.000000   0.000000  0.015338  0.005184   \n",
              "3    108.167000   94.868301   30.000000   0.000000  0.015114  0.008967   \n",
              "4     67.082001   60.000000   30.000000   0.000000  0.016481  0.013518   \n",
              "..          ...         ...         ...        ...       ...       ...   \n",
              "631    0.000000  804.984009   90.000000  60.000000  0.020994  0.000455   \n",
              "632    0.000000  349.856995   67.082001  30.000000  0.015972  0.001875   \n",
              "633   30.000000  212.132004  123.693001   0.000000  0.010997  0.001286   \n",
              "634   60.000000   30.000000    0.000000  30.000000  0.001639  0.002033   \n",
              "635   30.000000  424.264008    0.000000  67.082001  0.036031  0.000909   \n",
              "\n",
              "            C         R   D        SL    P  ST  GW  \n",
              "0    0.012552  0.003037   9  0.309161  0.0   1   6  \n",
              "1    0.011791  0.004424   9  1.605640  0.0   2   4  \n",
              "2    0.008571  0.007387   8  0.460710  0.0   1   5  \n",
              "3    0.004393  0.011278   9  0.460710  0.0   2   5  \n",
              "4    0.000992  0.013786  10  1.545440  0.0   2   5  \n",
              "..        ...       ...  ..       ...  ...  ..  ..  \n",
              "631  0.000444  0.003706   8  1.151530  0.0   3   3  \n",
              "632  0.002807  0.000434   8  0.341370  0.0   3   3  \n",
              "633  0.001331  0.001735   5  1.381420  0.0   3   7  \n",
              "634  0.001985  0.001735   7  0.460553  0.0   3   3  \n",
              "635  0.004210  0.000000   8  3.584130  0.0   1   7  \n",
              "\n",
              "[636 rows x 13 columns]"
            ],
            "text/html": [
              "\n",
              "  <div id=\"df-c6cea620-dd7e-43c8-8dd3-12622c4b88d0\">\n",
              "    <div class=\"colab-df-container\">\n",
              "      <div>\n",
              "<style scoped>\n",
              "    .dataframe tbody tr th:only-of-type {\n",
              "        vertical-align: middle;\n",
              "    }\n",
              "\n",
              "    .dataframe tbody tr th {\n",
              "        vertical-align: top;\n",
              "    }\n",
              "\n",
              "    .dataframe thead th {\n",
              "        text-align: right;\n",
              "    }\n",
              "</style>\n",
              "<table border=\"1\" class=\"dataframe\">\n",
              "  <thead>\n",
              "    <tr style=\"text-align: right;\">\n",
              "      <th></th>\n",
              "      <th>V</th>\n",
              "      <th>S</th>\n",
              "      <th>B</th>\n",
              "      <th>A</th>\n",
              "      <th>M</th>\n",
              "      <th>BO</th>\n",
              "      <th>C</th>\n",
              "      <th>R</th>\n",
              "      <th>D</th>\n",
              "      <th>SL</th>\n",
              "      <th>P</th>\n",
              "      <th>ST</th>\n",
              "      <th>GW</th>\n",
              "    </tr>\n",
              "  </thead>\n",
              "  <tbody>\n",
              "    <tr>\n",
              "      <th>0</th>\n",
              "      <td>134.164002</td>\n",
              "      <td>30.000000</td>\n",
              "      <td>0.000000</td>\n",
              "      <td>30.000000</td>\n",
              "      <td>0.019974</td>\n",
              "      <td>0.001929</td>\n",
              "      <td>0.012552</td>\n",
              "      <td>0.003037</td>\n",
              "      <td>9</td>\n",
              "      <td>0.309161</td>\n",
              "      <td>0.0</td>\n",
              "      <td>1</td>\n",
              "      <td>6</td>\n",
              "    </tr>\n",
              "    <tr>\n",
              "      <th>1</th>\n",
              "      <td>271.661987</td>\n",
              "      <td>30.000000</td>\n",
              "      <td>0.000000</td>\n",
              "      <td>30.000000</td>\n",
              "      <td>0.017091</td>\n",
              "      <td>0.004117</td>\n",
              "      <td>0.011791</td>\n",
              "      <td>0.004424</td>\n",
              "      <td>9</td>\n",
              "      <td>1.605640</td>\n",
              "      <td>0.0</td>\n",
              "      <td>2</td>\n",
              "      <td>4</td>\n",
              "    </tr>\n",
              "    <tr>\n",
              "      <th>2</th>\n",
              "      <td>42.426399</td>\n",
              "      <td>60.000000</td>\n",
              "      <td>30.000000</td>\n",
              "      <td>0.000000</td>\n",
              "      <td>0.015338</td>\n",
              "      <td>0.005184</td>\n",
              "      <td>0.008571</td>\n",
              "      <td>0.007387</td>\n",
              "      <td>8</td>\n",
              "      <td>0.460710</td>\n",
              "      <td>0.0</td>\n",
              "      <td>1</td>\n",
              "      <td>5</td>\n",
              "    </tr>\n",
              "    <tr>\n",
              "      <th>3</th>\n",
              "      <td>108.167000</td>\n",
              "      <td>94.868301</td>\n",
              "      <td>30.000000</td>\n",
              "      <td>0.000000</td>\n",
              "      <td>0.015114</td>\n",
              "      <td>0.008967</td>\n",
              "      <td>0.004393</td>\n",
              "      <td>0.011278</td>\n",
              "      <td>9</td>\n",
              "      <td>0.460710</td>\n",
              "      <td>0.0</td>\n",
              "      <td>2</td>\n",
              "      <td>5</td>\n",
              "    </tr>\n",
              "    <tr>\n",
              "      <th>4</th>\n",
              "      <td>67.082001</td>\n",
              "      <td>60.000000</td>\n",
              "      <td>30.000000</td>\n",
              "      <td>0.000000</td>\n",
              "      <td>0.016481</td>\n",
              "      <td>0.013518</td>\n",
              "      <td>0.000992</td>\n",
              "      <td>0.013786</td>\n",
              "      <td>10</td>\n",
              "      <td>1.545440</td>\n",
              "      <td>0.0</td>\n",
              "      <td>2</td>\n",
              "      <td>5</td>\n",
              "    </tr>\n",
              "    <tr>\n",
              "      <th>...</th>\n",
              "      <td>...</td>\n",
              "      <td>...</td>\n",
              "      <td>...</td>\n",
              "      <td>...</td>\n",
              "      <td>...</td>\n",
              "      <td>...</td>\n",
              "      <td>...</td>\n",
              "      <td>...</td>\n",
              "      <td>...</td>\n",
              "      <td>...</td>\n",
              "      <td>...</td>\n",
              "      <td>...</td>\n",
              "      <td>...</td>\n",
              "    </tr>\n",
              "    <tr>\n",
              "      <th>631</th>\n",
              "      <td>0.000000</td>\n",
              "      <td>804.984009</td>\n",
              "      <td>90.000000</td>\n",
              "      <td>60.000000</td>\n",
              "      <td>0.020994</td>\n",
              "      <td>0.000455</td>\n",
              "      <td>0.000444</td>\n",
              "      <td>0.003706</td>\n",
              "      <td>8</td>\n",
              "      <td>1.151530</td>\n",
              "      <td>0.0</td>\n",
              "      <td>3</td>\n",
              "      <td>3</td>\n",
              "    </tr>\n",
              "    <tr>\n",
              "      <th>632</th>\n",
              "      <td>0.000000</td>\n",
              "      <td>349.856995</td>\n",
              "      <td>67.082001</td>\n",
              "      <td>30.000000</td>\n",
              "      <td>0.015972</td>\n",
              "      <td>0.001875</td>\n",
              "      <td>0.002807</td>\n",
              "      <td>0.000434</td>\n",
              "      <td>8</td>\n",
              "      <td>0.341370</td>\n",
              "      <td>0.0</td>\n",
              "      <td>3</td>\n",
              "      <td>3</td>\n",
              "    </tr>\n",
              "    <tr>\n",
              "      <th>633</th>\n",
              "      <td>30.000000</td>\n",
              "      <td>212.132004</td>\n",
              "      <td>123.693001</td>\n",
              "      <td>0.000000</td>\n",
              "      <td>0.010997</td>\n",
              "      <td>0.001286</td>\n",
              "      <td>0.001331</td>\n",
              "      <td>0.001735</td>\n",
              "      <td>5</td>\n",
              "      <td>1.381420</td>\n",
              "      <td>0.0</td>\n",
              "      <td>3</td>\n",
              "      <td>7</td>\n",
              "    </tr>\n",
              "    <tr>\n",
              "      <th>634</th>\n",
              "      <td>60.000000</td>\n",
              "      <td>30.000000</td>\n",
              "      <td>0.000000</td>\n",
              "      <td>30.000000</td>\n",
              "      <td>0.001639</td>\n",
              "      <td>0.002033</td>\n",
              "      <td>0.001985</td>\n",
              "      <td>0.001735</td>\n",
              "      <td>7</td>\n",
              "      <td>0.460553</td>\n",
              "      <td>0.0</td>\n",
              "      <td>3</td>\n",
              "      <td>3</td>\n",
              "    </tr>\n",
              "    <tr>\n",
              "      <th>635</th>\n",
              "      <td>30.000000</td>\n",
              "      <td>424.264008</td>\n",
              "      <td>0.000000</td>\n",
              "      <td>67.082001</td>\n",
              "      <td>0.036031</td>\n",
              "      <td>0.000909</td>\n",
              "      <td>0.004210</td>\n",
              "      <td>0.000000</td>\n",
              "      <td>8</td>\n",
              "      <td>3.584130</td>\n",
              "      <td>0.0</td>\n",
              "      <td>1</td>\n",
              "      <td>7</td>\n",
              "    </tr>\n",
              "  </tbody>\n",
              "</table>\n",
              "<p>636 rows × 13 columns</p>\n",
              "</div>\n",
              "      <button class=\"colab-df-convert\" onclick=\"convertToInteractive('df-c6cea620-dd7e-43c8-8dd3-12622c4b88d0')\"\n",
              "              title=\"Convert this dataframe to an interactive table.\"\n",
              "              style=\"display:none;\">\n",
              "        \n",
              "  <svg xmlns=\"http://www.w3.org/2000/svg\" height=\"24px\"viewBox=\"0 0 24 24\"\n",
              "       width=\"24px\">\n",
              "    <path d=\"M0 0h24v24H0V0z\" fill=\"none\"/>\n",
              "    <path d=\"M18.56 5.44l.94 2.06.94-2.06 2.06-.94-2.06-.94-.94-2.06-.94 2.06-2.06.94zm-11 1L8.5 8.5l.94-2.06 2.06-.94-2.06-.94L8.5 2.5l-.94 2.06-2.06.94zm10 10l.94 2.06.94-2.06 2.06-.94-2.06-.94-.94-2.06-.94 2.06-2.06.94z\"/><path d=\"M17.41 7.96l-1.37-1.37c-.4-.4-.92-.59-1.43-.59-.52 0-1.04.2-1.43.59L10.3 9.45l-7.72 7.72c-.78.78-.78 2.05 0 2.83L4 21.41c.39.39.9.59 1.41.59.51 0 1.02-.2 1.41-.59l7.78-7.78 2.81-2.81c.8-.78.8-2.07 0-2.86zM5.41 20L4 18.59l7.72-7.72 1.47 1.35L5.41 20z\"/>\n",
              "  </svg>\n",
              "      </button>\n",
              "      \n",
              "  <style>\n",
              "    .colab-df-container {\n",
              "      display:flex;\n",
              "      flex-wrap:wrap;\n",
              "      gap: 12px;\n",
              "    }\n",
              "\n",
              "    .colab-df-convert {\n",
              "      background-color: #E8F0FE;\n",
              "      border: none;\n",
              "      border-radius: 50%;\n",
              "      cursor: pointer;\n",
              "      display: none;\n",
              "      fill: #1967D2;\n",
              "      height: 32px;\n",
              "      padding: 0 0 0 0;\n",
              "      width: 32px;\n",
              "    }\n",
              "\n",
              "    .colab-df-convert:hover {\n",
              "      background-color: #E2EBFA;\n",
              "      box-shadow: 0px 1px 2px rgba(60, 64, 67, 0.3), 0px 1px 3px 1px rgba(60, 64, 67, 0.15);\n",
              "      fill: #174EA6;\n",
              "    }\n",
              "\n",
              "    [theme=dark] .colab-df-convert {\n",
              "      background-color: #3B4455;\n",
              "      fill: #D2E3FC;\n",
              "    }\n",
              "\n",
              "    [theme=dark] .colab-df-convert:hover {\n",
              "      background-color: #434B5C;\n",
              "      box-shadow: 0px 1px 3px 1px rgba(0, 0, 0, 0.15);\n",
              "      filter: drop-shadow(0px 1px 2px rgba(0, 0, 0, 0.3));\n",
              "      fill: #FFFFFF;\n",
              "    }\n",
              "  </style>\n",
              "\n",
              "      <script>\n",
              "        const buttonEl =\n",
              "          document.querySelector('#df-c6cea620-dd7e-43c8-8dd3-12622c4b88d0 button.colab-df-convert');\n",
              "        buttonEl.style.display =\n",
              "          google.colab.kernel.accessAllowed ? 'block' : 'none';\n",
              "\n",
              "        async function convertToInteractive(key) {\n",
              "          const element = document.querySelector('#df-c6cea620-dd7e-43c8-8dd3-12622c4b88d0');\n",
              "          const dataTable =\n",
              "            await google.colab.kernel.invokeFunction('convertToInteractive',\n",
              "                                                     [key], {});\n",
              "          if (!dataTable) return;\n",
              "\n",
              "          const docLinkHtml = 'Like what you see? Visit the ' +\n",
              "            '<a target=\"_blank\" href=https://colab.research.google.com/notebooks/data_table.ipynb>data table notebook</a>'\n",
              "            + ' to learn more about interactive tables.';\n",
              "          element.innerHTML = '';\n",
              "          dataTable['output_type'] = 'display_data';\n",
              "          await google.colab.output.renderOutput(dataTable, element);\n",
              "          const docLink = document.createElement('div');\n",
              "          docLink.innerHTML = docLinkHtml;\n",
              "          element.appendChild(docLink);\n",
              "        }\n",
              "      </script>\n",
              "    </div>\n",
              "  </div>\n",
              "  "
            ]
          },
          "metadata": {},
          "execution_count": 18
        }
      ]
    },
    {
      "cell_type": "code",
      "source": [
        "y"
      ],
      "metadata": {
        "colab": {
          "base_uri": "https://localhost:8080/"
        },
        "id": "q7YNxNSbqFDe",
        "outputId": "e8fa3c65-317b-49b0-e5e4-1722dd25d0a0"
      },
      "execution_count": null,
      "outputs": [
        {
          "output_type": "execute_result",
          "data": {
            "text/plain": [
              "0      3\n",
              "1      2\n",
              "2      2\n",
              "3      1\n",
              "4      1\n",
              "      ..\n",
              "631    1\n",
              "632    2\n",
              "633    2\n",
              "634    2\n",
              "635    2\n",
              "Name: LW, Length: 636, dtype: int64"
            ]
          },
          "metadata": {},
          "execution_count": 19
        }
      ]
    },
    {
      "cell_type": "code",
      "source": [
        "!pip install mlxtend\n",
        "import joblib\n",
        "import sys\n",
        "sys.modules['sklearn.externals.joblib'] = joblib\n",
        "from mlxtend.feature_selection import SequentialFeatureSelector as SFS"
      ],
      "metadata": {
        "colab": {
          "base_uri": "https://localhost:8080/"
        },
        "id": "tgnEm0g6dsAS",
        "outputId": "ef95d3b5-1176-49b6-eaa6-aec70159c89e"
      },
      "execution_count": null,
      "outputs": [
        {
          "output_type": "stream",
          "name": "stdout",
          "text": [
            "Requirement already satisfied: mlxtend in /usr/local/lib/python3.7/dist-packages (0.14.0)\n",
            "Requirement already satisfied: scipy>=0.17 in /usr/local/lib/python3.7/dist-packages (from mlxtend) (1.4.1)\n",
            "Requirement already satisfied: pandas>=0.17.1 in /usr/local/lib/python3.7/dist-packages (from mlxtend) (1.3.5)\n",
            "Requirement already satisfied: matplotlib>=1.5.1 in /usr/local/lib/python3.7/dist-packages (from mlxtend) (3.2.2)\n",
            "Requirement already satisfied: scikit-learn>=0.18 in /usr/local/lib/python3.7/dist-packages (from mlxtend) (1.0.2)\n",
            "Requirement already satisfied: numpy>=1.10.4 in /usr/local/lib/python3.7/dist-packages (from mlxtend) (1.21.5)\n",
            "Requirement already satisfied: setuptools in /usr/local/lib/python3.7/dist-packages (from mlxtend) (57.4.0)\n",
            "Requirement already satisfied: cycler>=0.10 in /usr/local/lib/python3.7/dist-packages (from matplotlib>=1.5.1->mlxtend) (0.11.0)\n",
            "Requirement already satisfied: pyparsing!=2.0.4,!=2.1.2,!=2.1.6,>=2.0.1 in /usr/local/lib/python3.7/dist-packages (from matplotlib>=1.5.1->mlxtend) (3.0.7)\n",
            "Requirement already satisfied: python-dateutil>=2.1 in /usr/local/lib/python3.7/dist-packages (from matplotlib>=1.5.1->mlxtend) (2.8.2)\n",
            "Requirement already satisfied: kiwisolver>=1.0.1 in /usr/local/lib/python3.7/dist-packages (from matplotlib>=1.5.1->mlxtend) (1.3.2)\n",
            "Requirement already satisfied: pytz>=2017.3 in /usr/local/lib/python3.7/dist-packages (from pandas>=0.17.1->mlxtend) (2018.9)\n",
            "Requirement already satisfied: six>=1.5 in /usr/local/lib/python3.7/dist-packages (from python-dateutil>=2.1->matplotlib>=1.5.1->mlxtend) (1.15.0)\n",
            "Requirement already satisfied: joblib>=0.11 in /usr/local/lib/python3.7/dist-packages (from scikit-learn>=0.18->mlxtend) (1.1.0)\n",
            "Requirement already satisfied: threadpoolctl>=2.0.0 in /usr/local/lib/python3.7/dist-packages (from scikit-learn>=0.18->mlxtend) (3.1.0)\n"
          ]
        }
      ]
    },
    {
      "cell_type": "code",
      "source": [
        "from mlxtend.feature_selection import SequentialFeatureSelector as SFS\n",
        "from sklearn.linear_model import LinearRegression\n",
        "# Sequential Forward Selection(sfs)\n",
        "sfs = SFS(LinearRegression(),\n",
        "          k_features=13,\n",
        "          forward=True,\n",
        "          floating=False,\n",
        "          scoring = 'r2',\n",
        "          cv = 0)"
      ],
      "metadata": {
        "id": "kVB58w2ddNmV"
      },
      "execution_count": null,
      "outputs": []
    },
    {
      "cell_type": "code",
      "source": [
        "sfs.fit(X,y)"
      ],
      "metadata": {
        "colab": {
          "base_uri": "https://localhost:8080/"
        },
        "id": "wHZ51K2AdjmU",
        "outputId": "b9bd7e56-04c5-4a8e-9be3-0a5b9366c82c"
      },
      "execution_count": null,
      "outputs": [
        {
          "output_type": "execute_result",
          "data": {
            "text/plain": [
              "SequentialFeatureSelector(cv=0, estimator=LinearRegression(), k_features=13,\n",
              "                          scoring='r2')"
            ]
          },
          "metadata": {},
          "execution_count": 22
        }
      ]
    },
    {
      "cell_type": "code",
      "source": [
        "sfs.subsets_"
      ],
      "metadata": {
        "colab": {
          "base_uri": "https://localhost:8080/"
        },
        "id": "4iS9kFqhnPmG",
        "outputId": "50fe865f-8a9a-40b3-bf42-39c218be64f3"
      },
      "execution_count": null,
      "outputs": [
        {
          "output_type": "execute_result",
          "data": {
            "text/plain": [
              "{1: {'avg_score': 0.12223235646081987,\n",
              "  'cv_scores': array([0.12223236]),\n",
              "  'feature_idx': (3,),\n",
              "  'feature_names': ('A',)},\n",
              " 2: {'avg_score': 0.14334792828919873,\n",
              "  'cv_scores': array([0.14334793]),\n",
              "  'feature_idx': (3, 4),\n",
              "  'feature_names': ('A', 'M')},\n",
              " 3: {'avg_score': 0.15333903006397465,\n",
              "  'cv_scores': array([0.15333903]),\n",
              "  'feature_idx': (3, 4, 6),\n",
              "  'feature_names': ('A', 'M', 'C')},\n",
              " 4: {'avg_score': 0.16319221755217417,\n",
              "  'cv_scores': array([0.16319222]),\n",
              "  'feature_idx': (2, 3, 4, 6),\n",
              "  'feature_names': ('B', 'A', 'M', 'C')},\n",
              " 5: {'avg_score': 0.16731185270593796,\n",
              "  'cv_scores': array([0.16731185]),\n",
              "  'feature_idx': (2, 3, 4, 5, 6),\n",
              "  'feature_names': ('B', 'A', 'M', 'BO', 'C')},\n",
              " 6: {'avg_score': 0.17264402549819557,\n",
              "  'cv_scores': array([0.17264403]),\n",
              "  'feature_idx': (2, 3, 4, 5, 6, 8),\n",
              "  'feature_names': ('B', 'A', 'M', 'BO', 'C', 'D')},\n",
              " 7: {'avg_score': 0.17481667897485886,\n",
              "  'cv_scores': array([0.17481668]),\n",
              "  'feature_idx': (2, 3, 4, 5, 6, 7, 8),\n",
              "  'feature_names': ('B', 'A', 'M', 'BO', 'C', 'R', 'D')},\n",
              " 8: {'avg_score': 0.17713800415202885,\n",
              "  'cv_scores': array([0.177138]),\n",
              "  'feature_idx': (0, 2, 3, 4, 5, 6, 7, 8),\n",
              "  'feature_names': ('V', 'B', 'A', 'M', 'BO', 'C', 'R', 'D')},\n",
              " 9: {'avg_score': 0.17918858168109197,\n",
              "  'cv_scores': array([0.17918858]),\n",
              "  'feature_idx': (0, 2, 3, 4, 5, 6, 7, 8, 12),\n",
              "  'feature_names': ('V', 'B', 'A', 'M', 'BO', 'C', 'R', 'D', 'GW')},\n",
              " 10: {'avg_score': 0.18000377701723436,\n",
              "  'cv_scores': array([0.18000378]),\n",
              "  'feature_idx': (0, 2, 3, 4, 5, 6, 7, 8, 9, 12),\n",
              "  'feature_names': ('V', 'B', 'A', 'M', 'BO', 'C', 'R', 'D', 'SL', 'GW')},\n",
              " 11: {'avg_score': 0.18053116177142925,\n",
              "  'cv_scores': array([0.18053116]),\n",
              "  'feature_idx': (0, 2, 3, 4, 5, 6, 7, 8, 9, 11, 12),\n",
              "  'feature_names': ('V',\n",
              "   'B',\n",
              "   'A',\n",
              "   'M',\n",
              "   'BO',\n",
              "   'C',\n",
              "   'R',\n",
              "   'D',\n",
              "   'SL',\n",
              "   'ST',\n",
              "   'GW')},\n",
              " 12: {'avg_score': 0.18106512792434282,\n",
              "  'cv_scores': array([0.18106513]),\n",
              "  'feature_idx': (0, 1, 2, 3, 4, 5, 6, 7, 8, 9, 11, 12),\n",
              "  'feature_names': ('V',\n",
              "   'S',\n",
              "   'B',\n",
              "   'A',\n",
              "   'M',\n",
              "   'BO',\n",
              "   'C',\n",
              "   'R',\n",
              "   'D',\n",
              "   'SL',\n",
              "   'ST',\n",
              "   'GW')},\n",
              " 13: {'avg_score': 0.18125483574141632,\n",
              "  'cv_scores': array([0.18125484]),\n",
              "  'feature_idx': (0, 1, 2, 3, 4, 5, 6, 7, 8, 9, 10, 11, 12),\n",
              "  'feature_names': ('V',\n",
              "   'S',\n",
              "   'B',\n",
              "   'A',\n",
              "   'M',\n",
              "   'BO',\n",
              "   'C',\n",
              "   'R',\n",
              "   'D',\n",
              "   'SL',\n",
              "   'P',\n",
              "   'ST',\n",
              "   'GW')}}"
            ]
          },
          "metadata": {},
          "execution_count": 23
        }
      ]
    },
    {
      "cell_type": "code",
      "source": [
        "X = df.drop(columns='LW')[['V',\n",
        "   'S',\n",
        "   'B',\n",
        "   'A',\n",
        "   'M',\n",
        "   'BO',\n",
        "   'C',\n",
        "   'R',\n",
        "   'D',\n",
        "   'SL',\n",
        "   'P',\n",
        "   'ST',\n",
        "   'GW']]\n",
        "y = df.LW\n",
        "y_pred = cross_val_predict(classifier_pipeline, X,Y,cv=cv)\n",
        "print(\"RMSE: \" + str(round(sqrt(mean_squared_error(y,y_pred)),2)))\n",
        "print(\"R_squared: \" + str(round(sqrt(r2_score(y,y_pred)),2)))"
      ],
      "metadata": {
        "colab": {
          "base_uri": "https://localhost:8080/"
        },
        "id": "eEEv63CsvRXD",
        "outputId": "e1c32973-a4ab-4a91-83c5-44295500764d"
      },
      "execution_count": null,
      "outputs": [
        {
          "output_type": "stream",
          "name": "stdout",
          "text": [
            "RMSE: 0.65\n",
            "R_squared: 0.25\n"
          ]
        }
      ]
    },
    {
      "cell_type": "code",
      "source": [
        "sfs1 = SFS(classifier_pipeline,\n",
        "          k_features=13,\n",
        "          forward=True,\n",
        "          scoring = 'neg_mean_squared_error',\n",
        "          cv = cv)"
      ],
      "metadata": {
        "id": "_eAQSqQgnSp7"
      },
      "execution_count": null,
      "outputs": []
    },
    {
      "cell_type": "code",
      "source": [
        "sfs1.fit(X,y)"
      ],
      "metadata": {
        "colab": {
          "base_uri": "https://localhost:8080/"
        },
        "id": "FWQ7DQ6qnwoT",
        "outputId": "0c035dfa-3fe7-44ef-d17e-f06ebd5c055e"
      },
      "execution_count": null,
      "outputs": [
        {
          "output_type": "execute_result",
          "data": {
            "text/plain": [
              "SequentialFeatureSelector(cv=KFold(n_splits=10, random_state=None, shuffle=False),\n",
              "                          estimator=Pipeline(steps=[('standardscaler',\n",
              "                                                     StandardScaler()),\n",
              "                                                    ('kneighborsregressor',\n",
              "                                                     KNeighborsRegressor(n_neighbors=10))]),\n",
              "                          k_features=13, scoring='neg_mean_squared_error')"
            ]
          },
          "metadata": {},
          "execution_count": 26
        }
      ]
    },
    {
      "cell_type": "code",
      "source": [
        "sfs1.subsets_"
      ],
      "metadata": {
        "colab": {
          "base_uri": "https://localhost:8080/"
        },
        "id": "TgS-CsXbn3qE",
        "outputId": "ce8314ab-e3cc-44cd-aa0f-7c03912c7ab2"
      },
      "execution_count": null,
      "outputs": [
        {
          "output_type": "execute_result",
          "data": {
            "text/plain": [
              "{1: {'avg_score': -0.488482142857143,\n",
              "  'cv_scores': array([-0.61265625, -0.75671875, -0.564375  , -0.67609375, -0.2971875 ,\n",
              "         -0.42921875, -0.4647619 , -0.35761905, -0.31444444, -0.41174603]),\n",
              "  'feature_idx': (9,),\n",
              "  'feature_names': ('SL',)},\n",
              " 2: {'avg_score': -0.44344518849206355,\n",
              "  'cv_scores': array([-0.55890625, -0.6915625 , -0.4984375 , -0.56921875, -0.2596875 ,\n",
              "         -0.45171875, -0.36333333, -0.31952381, -0.27968254, -0.44238095]),\n",
              "  'feature_idx': (3, 9),\n",
              "  'feature_names': ('A', 'SL')},\n",
              " 3: {'avg_score': -0.4288544146825398,\n",
              "  'cv_scores': array([-0.55640625, -0.67      , -0.4325    , -0.4959375 , -0.26078125,\n",
              "         -0.44609375, -0.34206349, -0.35222222, -0.33063492, -0.40190476]),\n",
              "  'feature_idx': (3, 6, 9),\n",
              "  'feature_names': ('A', 'C', 'SL')},\n",
              " 4: {'avg_score': -0.42270014880952383,\n",
              "  'cv_scores': array([-0.506875  , -0.72171875, -0.46078125, -0.56046875, -0.2803125 ,\n",
              "         -0.39875   , -0.31222222, -0.32047619, -0.30857143, -0.3568254 ]),\n",
              "  'feature_idx': (3, 6, 9, 12),\n",
              "  'feature_names': ('A', 'C', 'SL', 'GW')},\n",
              " 5: {'avg_score': -0.4225875496031746,\n",
              "  'cv_scores': array([-0.50609375, -0.72359375, -0.4809375 , -0.54828125, -0.27953125,\n",
              "         -0.39140625, -0.3184127 , -0.31968254, -0.30301587, -0.35492063]),\n",
              "  'feature_idx': (3, 6, 9, 10, 12),\n",
              "  'feature_names': ('A', 'C', 'SL', 'P', 'GW')},\n",
              " 6: {'avg_score': -0.42641939484126984,\n",
              "  'cv_scores': array([-0.5003125 , -0.72734375, -0.48328125, -0.51625   , -0.3034375 ,\n",
              "         -0.37515625, -0.28857143, -0.32920635, -0.36079365, -0.37984127]),\n",
              "  'feature_idx': (3, 6, 9, 10, 11, 12),\n",
              "  'feature_names': ('A', 'C', 'SL', 'P', 'ST', 'GW')},\n",
              " 7: {'avg_score': -0.40981820436507943,\n",
              "  'cv_scores': array([-0.4296875 , -0.64828125, -0.4571875 , -0.505625  , -0.2546875 ,\n",
              "         -0.4490625 , -0.30396825, -0.33333333, -0.34746032, -0.36888889]),\n",
              "  'feature_idx': (3, 4, 6, 9, 10, 11, 12),\n",
              "  'feature_names': ('A', 'M', 'C', 'SL', 'P', 'ST', 'GW')},\n",
              " 8: {'avg_score': -0.404265625,\n",
              "  'cv_scores': array([-0.43078125, -0.671875  , -0.461875  , -0.500625  , -0.28453125,\n",
              "         -0.39296875, -0.32142857, -0.33206349, -0.29761905, -0.34888889]),\n",
              "  'feature_idx': (2, 3, 4, 6, 9, 10, 11, 12),\n",
              "  'feature_names': ('B', 'A', 'M', 'C', 'SL', 'P', 'ST', 'GW')},\n",
              " 9: {'avg_score': -0.4072673611111111,\n",
              "  'cv_scores': array([-0.44375   , -0.70921875, -0.44265625, -0.48890625, -0.26453125,\n",
              "         -0.3925    , -0.30079365, -0.31761905, -0.32412698, -0.38857143]),\n",
              "  'feature_idx': (1, 2, 3, 4, 6, 9, 10, 11, 12),\n",
              "  'feature_names': ('S', 'B', 'A', 'M', 'C', 'SL', 'P', 'ST', 'GW')},\n",
              " 10: {'avg_score': -0.4091703869047619,\n",
              "  'cv_scores': array([-0.41421875, -0.7234375 , -0.42875   , -0.50546875, -0.25234375,\n",
              "         -0.3884375 , -0.33253968, -0.32873016, -0.3231746 , -0.39460317]),\n",
              "  'feature_idx': (1, 2, 3, 4, 5, 6, 9, 10, 11, 12),\n",
              "  'feature_names': ('S', 'B', 'A', 'M', 'BO', 'C', 'SL', 'P', 'ST', 'GW')},\n",
              " 11: {'avg_score': -0.41250198412698413,\n",
              "  'cv_scores': array([-0.46015625, -0.69046875, -0.46390625, -0.4896875 , -0.249375  ,\n",
              "         -0.40015625, -0.33285714, -0.33126984, -0.31873016, -0.3884127 ]),\n",
              "  'feature_idx': (0, 1, 2, 3, 4, 5, 6, 9, 10, 11, 12),\n",
              "  'feature_names': ('V',\n",
              "   'S',\n",
              "   'B',\n",
              "   'A',\n",
              "   'M',\n",
              "   'BO',\n",
              "   'C',\n",
              "   'SL',\n",
              "   'P',\n",
              "   'ST',\n",
              "   'GW')},\n",
              " 12: {'avg_score': -0.4096852678571429,\n",
              "  'cv_scores': array([-0.46265625, -0.7140625 , -0.43640625, -0.50671875, -0.24640625,\n",
              "         -0.39203125, -0.32190476, -0.32952381, -0.29063492, -0.39650794]),\n",
              "  'feature_idx': (0, 1, 2, 3, 4, 5, 6, 8, 9, 10, 11, 12),\n",
              "  'feature_names': ('V',\n",
              "   'S',\n",
              "   'B',\n",
              "   'A',\n",
              "   'M',\n",
              "   'BO',\n",
              "   'C',\n",
              "   'D',\n",
              "   'SL',\n",
              "   'P',\n",
              "   'ST',\n",
              "   'GW')},\n",
              " 13: {'avg_score': -0.4246150793650794,\n",
              "  'cv_scores': array([-0.5228125 , -0.71625   , -0.50203125, -0.5153125 , -0.25984375,\n",
              "         -0.41625   , -0.32238095, -0.31698413, -0.30301587, -0.37126984]),\n",
              "  'feature_idx': (0, 1, 2, 3, 4, 5, 6, 7, 8, 9, 10, 11, 12),\n",
              "  'feature_names': ('V',\n",
              "   'S',\n",
              "   'B',\n",
              "   'A',\n",
              "   'M',\n",
              "   'BO',\n",
              "   'C',\n",
              "   'R',\n",
              "   'D',\n",
              "   'SL',\n",
              "   'P',\n",
              "   'ST',\n",
              "   'GW')}}"
            ]
          },
          "metadata": {},
          "execution_count": 27
        }
      ]
    },
    {
      "cell_type": "code",
      "source": [
        "X = df.drop(columns='LW')[['V',\n",
        "   'S',\n",
        "   'B',\n",
        "   'A',\n",
        "   'M',\n",
        "   'BO',\n",
        "   'C',\n",
        "   'D',\n",
        "   'SL',\n",
        "   'P',\n",
        "   'ST',\n",
        "   'GW']]\n",
        "y = df.LW\n",
        "y_pred = cross_val_predict(classifier_pipeline, X,Y,cv=cv)\n",
        "print(\"RMSE: \" + str(round(sqrt(mean_squared_error(y,y_pred)),2)))\n",
        "print(\"R_squared: \" + str(round(sqrt(r2_score(y,y_pred)),2)))"
      ],
      "metadata": {
        "colab": {
          "base_uri": "https://localhost:8080/"
        },
        "id": "P1_HqC1ozJtE",
        "outputId": "cf8bc8d0-6d2b-4754-98ea-afbf8310548c"
      },
      "execution_count": null,
      "outputs": [
        {
          "output_type": "stream",
          "name": "stdout",
          "text": [
            "RMSE: 0.64\n",
            "R_squared: 0.31\n"
          ]
        }
      ]
    },
    {
      "cell_type": "code",
      "source": [
        "sfs2 = SFS(classifier_pipeline,\n",
        "          k_features=13,\n",
        "          forward=False,\n",
        "          scoring = 'neg_mean_squared_error',\n",
        "          cv = cv)"
      ],
      "metadata": {
        "id": "TPpQp6TvqSYE"
      },
      "execution_count": null,
      "outputs": []
    },
    {
      "cell_type": "code",
      "source": [
        "sfs2.fit(X,y)"
      ],
      "metadata": {
        "colab": {
          "base_uri": "https://localhost:8080/",
          "height": 287
        },
        "id": "rZScxn-yqXQ9",
        "outputId": "4f7c57a6-cb4b-41d1-cb33-e63f4dc32f72"
      },
      "execution_count": null,
      "outputs": [
        {
          "output_type": "error",
          "ename": "AttributeError",
          "evalue": "ignored",
          "traceback": [
            "\u001b[0;31m---------------------------------------------------------------------------\u001b[0m",
            "\u001b[0;31mAttributeError\u001b[0m                            Traceback (most recent call last)",
            "\u001b[0;32m<ipython-input-30-9b4d5c1c43a2>\u001b[0m in \u001b[0;36m<module>\u001b[0;34m()\u001b[0m\n\u001b[0;32m----> 1\u001b[0;31m \u001b[0msfs2\u001b[0m\u001b[0;34m.\u001b[0m\u001b[0mfit\u001b[0m\u001b[0;34m(\u001b[0m\u001b[0mX\u001b[0m\u001b[0;34m,\u001b[0m\u001b[0my\u001b[0m\u001b[0;34m)\u001b[0m\u001b[0;34m\u001b[0m\u001b[0;34m\u001b[0m\u001b[0m\n\u001b[0m",
            "\u001b[0;32m/usr/local/lib/python3.7/dist-packages/mlxtend/feature_selection/sequential_feature_selector.py\u001b[0m in \u001b[0;36mfit\u001b[0;34m(self, X, y, custom_feature_names, **fit_params)\u001b[0m\n\u001b[1;32m    275\u001b[0m             raise AttributeError('k_features must be a positive integer'\n\u001b[1;32m    276\u001b[0m                                  \u001b[0;34m' between 1 and X.shape[1], got %s'\u001b[0m\u001b[0;34m\u001b[0m\u001b[0;34m\u001b[0m\u001b[0m\n\u001b[0;32m--> 277\u001b[0;31m                                  % (self.k_features, ))\n\u001b[0m\u001b[1;32m    278\u001b[0m \u001b[0;34m\u001b[0m\u001b[0m\n\u001b[1;32m    279\u001b[0m         \u001b[0;32mif\u001b[0m \u001b[0misinstance\u001b[0m\u001b[0;34m(\u001b[0m\u001b[0mself\u001b[0m\u001b[0;34m.\u001b[0m\u001b[0mk_features\u001b[0m\u001b[0;34m,\u001b[0m \u001b[0mtuple\u001b[0m\u001b[0;34m)\u001b[0m\u001b[0;34m:\u001b[0m\u001b[0;34m\u001b[0m\u001b[0;34m\u001b[0m\u001b[0m\n",
            "\u001b[0;31mAttributeError\u001b[0m: k_features must be a positive integer between 1 and X.shape[1], got 13"
          ]
        }
      ]
    },
    {
      "cell_type": "code",
      "source": [
        "sfs2.subsets_"
      ],
      "metadata": {
        "id": "NYrqRoBXqYID"
      },
      "execution_count": null,
      "outputs": []
    },
    {
      "cell_type": "code",
      "source": [
        "X = df.drop(columns='LW')[['V',\n",
        "   'S',\n",
        "   'B',\n",
        "   'A',\n",
        "   'M',\n",
        "   'BO',\n",
        "   'C',\n",
        "   'R',\n",
        "   'D',\n",
        "   'SL',\n",
        "   'P',\n",
        "   'ST',\n",
        "   'GW']]\n",
        "y = df.LW\n",
        "y_pred = cross_val_predict(classifier_pipeline, X,Y,cv=cv)\n",
        "print(\"RMSE: \" + str(round(sqrt(mean_squared_error(y,y_pred)),2)))\n",
        "print(\"R_squared: \" + str(round(sqrt(r2_score(y,y_pred)),2)))"
      ],
      "metadata": {
        "id": "gtTgw25aqa3k"
      },
      "execution_count": null,
      "outputs": []
    },
    {
      "cell_type": "code",
      "source": [
        "df[['V',\n",
        "   'S',\n",
        "   'B',\n",
        "   'A',\n",
        "   'M',\n",
        "   'BO',\n",
        "   'C',\n",
        "   'R',\n",
        "   'D',\n",
        "   'SL',\n",
        "   'P',\n",
        "   'ST',\n",
        "   'GW']].corr()"
      ],
      "metadata": {
        "id": "2u4W-r2c0X4x"
      },
      "execution_count": null,
      "outputs": []
    },
    {
      "cell_type": "code",
      "source": [
        "import numpy as np"
      ],
      "metadata": {
        "id": "vJDv4zkb0gHd"
      },
      "execution_count": null,
      "outputs": []
    },
    {
      "cell_type": "code",
      "source": [
        "df = df.drop(df[df['LW']==df['LW'].max()].index.tolist())"
      ],
      "metadata": {
        "id": "yymIDhOV0ppL"
      },
      "execution_count": null,
      "outputs": []
    },
    {
      "cell_type": "code",
      "source": [
        "sn.pairplot(df[['V',\n",
        "   'S',\n",
        "   'B',\n",
        "   'A',\n",
        "   'M',\n",
        "   'BO',\n",
        "   'C',\n",
        "   'R',\n",
        "   'D',\n",
        "   'SL',\n",
        "   'P',\n",
        "   'ST',\n",
        "   'GW']])"
      ],
      "metadata": {
        "id": "Kee8_Htn1E6M"
      },
      "execution_count": null,
      "outputs": []
    },
    {
      "cell_type": "code",
      "source": [],
      "metadata": {
        "id": "sraxvMOU1VK7"
      },
      "execution_count": null,
      "outputs": []
    }
  ]
}